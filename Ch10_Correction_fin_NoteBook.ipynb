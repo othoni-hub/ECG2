{
  "nbformat": 4,
  "nbformat_minor": 0,
  "metadata": {
    "colab": {
      "name": "Ch10-Correction_fin_NoteBook.ipynb",
      "provenance": [],
      "collapsed_sections": [],
      "authorship_tag": "ABX9TyMy5Ju/xGLpseFl1vfwyPFB",
      "include_colab_link": true
    },
    "kernelspec": {
      "name": "python3",
      "display_name": "Python 3"
    },
    "language_info": {
      "name": "python"
    }
  },
  "cells": [
    {
      "cell_type": "markdown",
      "metadata": {
        "id": "view-in-github",
        "colab_type": "text"
      },
      "source": [
        "<a href=\"https://colab.research.google.com/github/othoni-hub/ECG2/blob/main/Ch10_Correction_fin_NoteBook.ipynb\" target=\"_parent\"><img src=\"https://colab.research.google.com/assets/colab-badge.svg\" alt=\"Open In Colab\"/></a>"
      ]
    },
    {
      "cell_type": "markdown",
      "metadata": {
        "id": "9gRjJPolrmT_"
      },
      "source": [
        "# **CPGE-ECG2** \n"
      ]
    },
    {
      "cell_type": "markdown",
      "metadata": {
        "id": "Gprox7oVPE7W"
      },
      "source": [
        "\n",
        "\n",
        "## **Ch4 - Notebook : Variables Aléatoires à Densité**\n",
        "\n",
        "<img src=\"https://drive.google.com/uc?id=12Wo3LubGGT4qOvYFAuLP4CyCuwjKNVuk\" width=\"230\" height=\"150\" align = \"right\"/>\n",
        "\n",
        "## **Correction de la partie autonome du TP**\n",
        "\n",
        "\n",
        "\n",
        "\n",
        "**O.Thöni - Lycée Saint-Charles Sainte Croix - LE MANS**"
      ]
    },
    {
      "cell_type": "markdown",
      "source": [
        "## **TP à réaliser maintenant**\n",
        "Soit $a$ un réel positif.\n",
        "On considère une variable aléatoire X, dont la densité f est donnée par : \n",
        "\n",
        "$$f(t) = \\left\\{\\begin{matrix} 0 \\: , si \\: t<0 \\\\ \\frac{3t^2}{a^3}, si \\: 0\\leqslant t \\leqslant a \\\\ 0\\: , \\: si \\: t > a \\end{matrix}\\right.$$\n",
        "\n",
        "1. Calculer la fonction de répartition $F_X$ de $X$.\n",
        "2. Calculer, si possible, espérance et variance de X.\n",
        "3. Tracer sur un même graphique $f$ et $F_X$.\n",
        "4. Démontrer que $F_X$ est bijective de $[0,a]$ vers $[0,1]$ et calculer $F_X^{-1}$.\n",
        "5. Réaliser une simulation Python de $N$ tirages aléatoires selon la variable X, en utilisant le procédé d'inversion de la fonction de répartition.\n",
        "6. Réaliser l'histogramme de la simulation, l'intervalle $[0,a]$ partagé en $d$ subdivisions. \n",
        "7. Qu'observe-t-on ? Que se passe-t-il si on augmente la taille N de l'échantillon ?\n",
        "8. Calculer la moyenne de l'échantillon et comparer avec l'espérance théorique.\n",
        "9. Calculer la variance (stastistique) de l'échantillon et comparer avec la variance théorique. \n",
        "\n",
        "\n",
        "\n",
        "\n"
      ],
      "metadata": {
        "id": "A3f1WnE5un_E"
      }
    },
    {
      "cell_type": "markdown",
      "source": [
        "* **CORRECTION :**\n",
        "\n",
        "Pour les éléments de code, il suffit de reprendre et d'adapter les éléments des paragraphes précédents..."
      ],
      "metadata": {
        "id": "zgVDG8r75EWA"
      }
    },
    {
      "cell_type": "markdown",
      "source": [
        "## 1. Fonction de répartition.\n",
        "\n",
        "Par définition : \n",
        "\n",
        "$$\\forall x \\in \\mathbb{R}, F_X(x) = \\int_{-\\infty}^{+\\infty}f(t)dt$$\n",
        "\n",
        "donc \n",
        "* si $x \\leqslant 0$, \n",
        "$$F_X(x) = \\int_{-\\infty}^{x}f(t)dt = \\int_{-\\infty}^{x}0dt = 0$$\n",
        "\n",
        "* si $0 \\leqslant  x \\leqslant a$,\n",
        "$$F_X(x) = \\int_{-\\infty}^{x}f(t)dt = \\int_{-\\infty}^{0}0dt + \\int_{0}^{x}\\frac{3t^2}{a^3}dt= 0 + \\left [  \\frac{t^3}{a^3}\\right ]_0^x = \\frac{x^3}{a^3}$$\n",
        "\n",
        "* si $x>1$\n",
        "\n",
        "$$F_X(x) = \\int_{-\\infty}^{x}f(t)dt = \\int_{-\\infty}^{0}0dt + \\int_{0}^{a}\\frac{3t^2}{a^3}dt + \\int_{a}^{x}0dt= 0 + \\frac{a^3}{a^3}dt + 0 = 1$$\n",
        "\n",
        "## 2. Espérance et variance de X.\n",
        "\n",
        "* Si \n",
        "$$\\int_{-\\infty}^{+\\infty}t.f(t)dt$$ converge absolument, sa valeur sera $E(X)$.\n",
        "Or \n",
        "$$\\int_{-\\infty}^{+\\infty}t.f(t)dt = \\int_{0}^{a}t.f(t)dt$$ intégrale d'une fonction continue sur un intervalle borné, donc existe.\n",
        "Donc \n",
        "$$E(X) = \\int_{0}^{a}\\frac{3t^3}{a^3}dt = \\left [  \\frac{3t^4}{4a^3}\\right ]_0^a =\\frac{3a}{4}$$\n",
        "\n",
        "* De même, \n",
        "$$E(X^2) = \\int_{0}^{a}\\frac{3t^4}{a^3}dt = \\left [  \\frac{3t^5}{5a^3}\\right ]_0^a =\\frac{3a^2}{5}$$\n",
        "et par la formule de Koenig-Huygens, \n",
        "\n",
        "$$V(X) = E(X^2) - \\left [  E(X)\\right ]^2 = \\frac{3a^2}{5} - \\left (\\frac{3a}{4}\\right )^2 =\\frac{3a^2}{5} - \\frac{9a^2}{16} = \\frac{3a^2}{80}$$\n",
        "\n",
        "## 3. Représentations graphiques de la densité et de la fonction de répartition."
      ],
      "metadata": {
        "id": "JQbgFTtIxfH0"
      }
    },
    {
      "cell_type": "code",
      "source": [
        "import numpy as np\n",
        "import numpy.random as rd\n",
        "import matplotlib.pyplot as plt\n",
        "from math import log, exp, pi, sqrt"
      ],
      "metadata": {
        "id": "4q15UK8azYN-"
      },
      "execution_count": null,
      "outputs": []
    },
    {
      "cell_type": "code",
      "source": [
        "def centrax() :\n",
        "    '''Fonction cosmétique d'ajustement des axes graphiques'''\n",
        "    ax = plt.gca() # récupération du paramétrage des axes\n",
        "\n",
        "    ax.spines['left'].set_position('zero') # positionnement de l'axe des ordonnées à x = 0\n",
        "    ax.spines['right'].set_color('none')\n",
        "    ax.spines['bottom'].set_position('zero') # positionnement de l'axe des abscisses à y = 0\n",
        "    ax.spines['top'].set_color('none')\n",
        "\n",
        "    plt.legend()"
      ],
      "metadata": {
        "id": "w9qB0LOczk2V"
      },
      "execution_count": null,
      "outputs": []
    },
    {
      "cell_type": "code",
      "metadata": {
        "id": "IXS4ThFTx_ko"
      },
      "source": [
        "# densité\n",
        "def densite(xx, a):\n",
        "    y = [3*x**2/a**3 * (0 <= x <= a) for x in xx] # valeurs de la densité\n",
        "    return y\n",
        "\n",
        "# Fonction de répartition\n",
        "def fonction_repartition(xx, a):\n",
        "    r = [x**3/a**3 * (0 <= x <= a) + 1 * (x > a) for x in xx] # valeurs de la fonction de répartition\n",
        "    return r\n",
        "\n",
        "\n"
      ],
      "execution_count": null,
      "outputs": []
    },
    {
      "cell_type": "code",
      "source": [
        "def densite_fonction2repartition(a) :\n",
        "    # représentation graphique de la densité et de la fonction de répartition\n",
        "    xx = np.arange(-2, a + 2, 0.01)\n",
        "    y = densite(xx,a)\n",
        "    r = fonction_repartition(xx, a)\n",
        "\n",
        "    plt.plot(xx,y, 'b', linewidth = 1, label = 'densite') # Pour N grand, l'histogramme colle de mieux en mieux à la densité\n",
        "    plt.plot(xx,r, 'g', linewidth = 1, label = 'fonction de répartition')\n",
        "    centrax()\n",
        "\n",
        "a = 4\n",
        "densite_fonction2repartition(a)\n",
        "plt.title(\"Variable X\")\n",
        "plt.show()"
      ],
      "metadata": {
        "colab": {
          "base_uri": "https://localhost:8080/",
          "height": 271
        },
        "id": "MBabx52ey7BV",
        "outputId": "e6eb3c03-0c79-4d83-b4aa-6da05f446668"
      },
      "execution_count": null,
      "outputs": [
        {
          "output_type": "display_data",
          "data": {
            "text/plain": [
              "<Figure size 432x288 with 1 Axes>"
            ],
            "image/png": "[encoded data removed]"
          },
          "metadata": {
            "needs_background": "light"
          }
        }
      ]
    },
    {
      "cell_type": "markdown",
      "source": [
        "## 4. Réciproque de la fonction de répartition.\n",
        "\n",
        "$F_X$ étant une fonction de répartition, elle est continue sur $\\mathbb{R}$. De plus, elle est croissante sur $\\mathbb{R}$ et strictement croissante là où sa densité n'est pas nulle, c'est-à-dire sur $[0,a]$.\n",
        "Elle prend ses valeurs dans $[0,1]$.\n",
        "Donc $F_X$ réalise une **bijection** de $[0,a]$ vers $[0,1]$.\n",
        "\n",
        "Exprimons sa réciproque : \n",
        "$$\\forall x \\in [O,a], \\forall y \\in [0,1], y = F_X(x) \\Leftrightarrow y = \\frac{x^3}{a^3}  \\Leftrightarrow a^3.y = x^3  \\Leftrightarrow x = \\sqrt[3]{a^3.y} \\Leftrightarrow x = a. \\sqrt[3]{y}$$\n",
        "Donc (en remettant $x$ et $y$  \"à leur place\") :\n",
        "$$\\forall x \\in [0,1], F_X^{-1} (x) = a. \\sqrt[3]{x}$$\n",
        "\n",
        "## 5. Simulation Python de N tirages aléatoires selon la variable X.\n",
        "--> On effectue $N$ tirages selon la loi uniforme à densité sur $[0,1]$, \n",
        "--> On calcule les antécédents de ces valeurs par $F_X$, c'est-à-dire leurs images par $F_X^{-1}$."
      ],
      "metadata": {
        "id": "6Bz9m64pz5NQ"
      }
    },
    {
      "cell_type": "code",
      "source": [
        "def histogramme(echantillon) :\n",
        "    # Histogramme\n",
        "    plt.hist(echantillon, 20, color = 'red', alpha = 0.5, label = 'histogramme', density ='True', edgecolor = 'black', linewidth = 0.2)\n",
        "\n",
        "    plt.xlabel('Valeur aléatoire')\n",
        "    plt.ylabel(\"Densité d'apparition\")\n",
        "    plt.title('Histogramme')\n",
        "\n",
        "    centrax()"
      ],
      "metadata": {
        "id": "QpZe4Ih81NDB"
      },
      "execution_count": null,
      "outputs": []
    },
    {
      "cell_type": "code",
      "source": [
        "# Réciproque de la fonction de répartition\n",
        "def inverse_repartition(y,a):\n",
        "    x = a * y**(1/3)\n",
        "    return x"
      ],
      "metadata": {
        "id": "PR6Edwfrzewo"
      },
      "execution_count": null,
      "outputs": []
    },
    {
      "cell_type": "code",
      "source": [
        "# échantillon fabriqué par inversion de la fonction de répartition\n",
        "N = 5000\n",
        "U = []\n",
        "echantillon = []\n",
        "for k in range(N):\n",
        "    U = rd.random()\n",
        "    x = inverse_repartition(U,a)\n",
        "    echantillon.append(x)"
      ],
      "metadata": {
        "id": "YKr-NcXF1g0Q"
      },
      "execution_count": null,
      "outputs": []
    },
    {
      "cell_type": "code",
      "source": [
        "def graphique_inversion(a):\n",
        "    # illustration de l'inversion de la fonction de répartition\n",
        "    # Une bille lancée au hasard, horizontalement entre 0 et 1 vient frapper la courbe de la fonction de répartiton\n",
        "    # et tombe verticalement. L'histogramme obtenu après un grand nombre de lancers redessine la densité, d'où son nom...\n",
        "    U = []\n",
        "    for k in range(50):\n",
        "        U = rd.random()\n",
        "        x = inverse_repartition(U,a)\n",
        "        plt.plot([0,x],[U,U],'k', linewidth = 0.2 , label = '', color = 'black')\n",
        "        plt.plot([x,x],[U,0],'k', linewidth = 0.2 , label = '', color = 'black')\n",
        "\n",
        "    #plt.legend()\n",
        "    centrax()\n",
        "\n",
        "a = 4\n",
        "\n",
        "plt.figure(figsize = (12,8))\n",
        "\n",
        "histogramme(echantillon)\n",
        "\n",
        "densite_fonction2repartition(a)\n",
        "graphique_inversion(a)\n",
        "plt.show()"
      ],
      "metadata": {
        "colab": {
          "base_uri": "https://localhost:8080/",
          "height": 513
        },
        "id": "SsDt__HL00Hs",
        "outputId": "8720974e-4837-430b-e2bd-91dc3c5f9f20"
      },
      "execution_count": null,
      "outputs": [
        {
          "output_type": "display_data",
          "data": {
            "text/plain": [
              "<Figure size 864x576 with 1 Axes>"
            ],
            "image/png": "[encoded data removed]"
          },
          "metadata": {
            "needs_background": "light"
          }
        }
      ]
    },
    {
      "cell_type": "markdown",
      "source": [
        "## 7. Si on augmente la taille N de l'échantillon ?\n",
        "\n",
        "L'histogramme obtenu semble s'ajuster à la fonction de densité, et ce d'autant mieux que $N$ est grand.\n",
        "\n",
        "## 8. et 9. Moyenne et Variance de l'échantillon (statistique) et comparaison avec les valeurs théoriques (probabilités)."
      ],
      "metadata": {
        "id": "nVRb_3Kl2nW7"
      }
    },
    {
      "cell_type": "code",
      "source": [
        "esperance = 3*a/4 # Calculée au 2°)\n",
        "var = 3*a**2/80\n",
        "ecart_type = sqrt(var)\n",
        "\n",
        "\n",
        "#print(echantillon)\n",
        "print(\"Moyenne de l'échantillon :\",np.mean(echantillon))\n",
        "print('Espérance théorique :',esperance)\n",
        "\n",
        "print(\"Variance de l'échantillon :\",np.var(echantillon))\n",
        "print(\"Variance théorique : \", var)"
      ],
      "metadata": {
        "colab": {
          "base_uri": "https://localhost:8080/"
        },
        "id": "6QXwkQig2t3S",
        "outputId": "c8e68175-84c1-4271-a867-85837b3392e9"
      },
      "execution_count": null,
      "outputs": [
        {
          "output_type": "stream",
          "name": "stdout",
          "text": [
            "Moyenne de l'échantillon : 3.0176356864002445\n",
            "Espérance théorique : 3.0\n",
            "Variance de l'échantillon : 0.6001497175332994\n",
            "Variance théorique :  0.6\n"
          ]
        }
      ]
    },
    {
      "cell_type": "code",
      "source": [
        ""
      ],
      "metadata": {
        "id": "EMiXpHu646Pg"
      },
      "execution_count": null,
      "outputs": []
    }
  ]
}