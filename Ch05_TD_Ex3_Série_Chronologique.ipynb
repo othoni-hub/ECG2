{
  "nbformat": 4,
  "nbformat_minor": 0,
  "metadata": {
    "colab": {
      "name": "Ch05-TD-Ex3-Série Chronologique.ipynb",
      "provenance": [],
      "authorship_tag": "ABX9TyOc8+yNmaesCfeFDhjBCbjQ",
      "include_colab_link": true
    },
    "kernelspec": {
      "name": "python3",
      "display_name": "Python 3"
    },
    "language_info": {
      "name": "python"
    },
    "widgets": {
      "application/vnd.jupyter.widget-state+json": {
        "47724c1c52ed490daba7c476eba90442": {
          "model_module": "@jupyter-widgets/controls",
          "model_name": "VBoxModel",
          "model_module_version": "1.5.0",
          "state": {
            "_dom_classes": [
              "widget-interact"
            ],
            "_model_module": "@jupyter-widgets/controls",
            "_model_module_version": "1.5.0",
            "_model_name": "VBoxModel",
            "_view_count": null,
            "_view_module": "@jupyter-widgets/controls",
            "_view_module_version": "1.5.0",
            "_view_name": "VBoxView",
            "box_style": "",
            "children": [
              "IPY_MODEL_88d91b0ce83443de9d2bed675d9ac1bc",
              "IPY_MODEL_e6238adcd66e430387e58e0845c0a508",
              "IPY_MODEL_6a65e84d670a4eba8de8e2d6622d67fe",
              "IPY_MODEL_c037c2cc3bba462085934bcbf4a25868"
            ],
            "layout": "IPY_MODEL_8b0e35fe0fe94e9694838355eb5c4c28"
          }
        },
        "88d91b0ce83443de9d2bed675d9ac1bc": {
          "model_module": "@jupyter-widgets/controls",
          "model_name": "FloatSliderModel",
          "model_module_version": "1.5.0",
          "state": {
            "_dom_classes": [],
            "_model_module": "@jupyter-widgets/controls",
            "_model_module_version": "1.5.0",
            "_model_name": "FloatSliderModel",
            "_view_count": null,
            "_view_module": "@jupyter-widgets/controls",
            "_view_module_version": "1.5.0",
            "_view_name": "FloatSliderView",
            "continuous_update": true,
            "description": "alpha",
            "description_tooltip": null,
            "disabled": false,
            "layout": "IPY_MODEL_1b74f8c3d9a54070b217af0200ab67ab",
            "max": 5,
            "min": 1,
            "orientation": "horizontal",
            "readout": true,
            "readout_format": ".2f",
            "step": 0.5,
            "style": "IPY_MODEL_820baeec771049d69eb6901f8f2f9c6b",
            "value": 3
          }
        },
        "e6238adcd66e430387e58e0845c0a508": {
          "model_module": "@jupyter-widgets/controls",
          "model_name": "FloatSliderModel",
          "model_module_version": "1.5.0",
          "state": {
            "_dom_classes": [],
            "_model_module": "@jupyter-widgets/controls",
            "_model_module_version": "1.5.0",
            "_model_name": "FloatSliderModel",
            "_view_count": null,
            "_view_module": "@jupyter-widgets/controls",
            "_view_module_version": "1.5.0",
            "_view_name": "FloatSliderView",
            "continuous_update": true,
            "description": "omega",
            "description_tooltip": null,
            "disabled": false,
            "layout": "IPY_MODEL_087ed9bc2e9044fb85b36c25f030be75",
            "max": 10,
            "min": 1,
            "orientation": "horizontal",
            "readout": true,
            "readout_format": ".2f",
            "step": 0.05,
            "style": "IPY_MODEL_90d1fe8718274909a0403aa02e9c23ac",
            "value": 5
          }
        },
        "6a65e84d670a4eba8de8e2d6622d67fe": {
          "model_module": "@jupyter-widgets/controls",
          "model_name": "FloatSliderModel",
          "model_module_version": "1.5.0",
          "state": {
            "_dom_classes": [],
            "_model_module": "@jupyter-widgets/controls",
            "_model_module_version": "1.5.0",
            "_model_name": "FloatSliderModel",
            "_view_count": null,
            "_view_module": "@jupyter-widgets/controls",
            "_view_module_version": "1.5.0",
            "_view_name": "FloatSliderView",
            "continuous_update": true,
            "description": "phi",
            "description_tooltip": null,
            "disabled": false,
            "layout": "IPY_MODEL_5f682a885f6848fa983d6be4531d6a2e",
            "max": 6,
            "min": -6,
            "orientation": "horizontal",
            "readout": true,
            "readout_format": ".2f",
            "step": 0.05,
            "style": "IPY_MODEL_385521222e204203928b6f6d41e439fa",
            "value": 0
          }
        },
        "c037c2cc3bba462085934bcbf4a25868": {
          "model_module": "@jupyter-widgets/output",
          "model_name": "OutputModel",
          "model_module_version": "1.0.0",
          "state": {
            "_dom_classes": [],
            "_model_module": "@jupyter-widgets/output",
            "_model_module_version": "1.0.0",
            "_model_name": "OutputModel",
            "_view_count": null,
            "_view_module": "@jupyter-widgets/output",
            "_view_module_version": "1.0.0",
            "_view_name": "OutputView",
            "layout": "IPY_MODEL_917d9e067fe54695b75cc21c46051e8e",
            "msg_id": "",
            "outputs": [
              {
                "output_type": "display_data",
                "data": {
                  "text/plain": "<Figure size 432x288 with 1 Axes>",
                  "image/png": "iVBORw0KGgoAAAANSUhEUgAAAZMAAAEYCAYAAACZaxt6AAAABHNCSVQICAgIfAhkiAAAAAlwSFlzAAALEgAACxIB0t1+/AAAADh0RVh0U29mdHdhcmUAbWF0cGxvdGxpYiB2ZXJzaW9uMy4yLjIsIGh0dHA6Ly9tYXRwbG90bGliLm9yZy+WH4yJAAAgAElEQVR4nO3dd7wcVd3H8c8v9ZJeSQ9JSAgpQIAIwoMSBAR9VIqIgAoIGERBkR5C772oiEZBEBHwoQtIN0GlhARCSJUOgYQ00iAJSe7v+ePMhc3N7t69d2Z29l6/79drX7s7Mztzzs7u/OaUOWPujoiISBzNsk6AiIg0fgomIiISm4KJiIjEpmAiIiKxKZiIiEhsCiYiIhKbgkkKzKzKzE41s9ZZp0VEpBwUTNLxK+A9d1+bdUJERMpBwSQF7v4jd78zqfWZmZvZ4AZ+9ktmNjeptNSxrbfNbK9ybCtNjT0fZjbRzI4p8zYb/ButNGY2IMpPiyLLjDWze83Mypm2SqZgkqDoILTazFblPH5d5jRs9Kd293+6+9BypqEhmsrByMw6mNl1ZvZutP/fiN53y1nmSDN71cw+MbMFZnajmXXKmX+EmU01sxVmNs/Mrih2YKs0ZnaLmR1Z4rKNMnC7+wRgEnBR1mmpFAomyfumu7fLeRyfdYKkPMysFfAUMALYF+gA7AIsAXaKljkZuBw4FegIfBHYAngi+jxAG+BEoBuwM7AncErZMiIlcffr3X18sWUa00lAbO6uR0IP4G1grzzTWwPLgJE507oDq4HNo/c/Al4HlgIPAr1zlnVgcPR6InBMzrwjgX9Fr5+Jlv0YWAV8FxgDzMtZfli0jmXATOBbOfNuAW4AHgZWAi8AWxbJ7w+AdwgHy/G5+Y/WdVHOshulo9Z68qW7M/AQsAj4KHrdt9B3DZwH/Dl6/V3gLaBD9P5rwAKgewPy0Qw4A3gjmv9XoEuB9RwDfAi0KzC/Q5S/g2tNbxfl86gCnzsJ+FuR/bA3MAdYDvyacMZ8TDRvS+DpKO2LgduBTrW+x1OA6dHn7wKqonndou99GeF3+U+gWYE05P5GbwGOrGv7wG1ANeF/sAo4DRgQreuHwHvRvv8x8IUojcuAX+dstxlwVrT/FgJ/AjpG86qAP0fbXga8CPTI+R9dCkwGVgAP1OzXnDQcAbwbpXt8rW3m/ib+D+hW67NHR599Jpp+FDA7ys9jwBZZH6+SfqhkUgYeGuLvBQ7NmXwwMMndF5rZVwg/7IOBXoQ/Rr3bXNz9y9HL7TyUiu7KnW9mLYG/AY8DmwMnALebWW412CHA+YSD+evAxfm2ZWbDgRsJB+LeQFegb33TXCTdzYA/Es7a+xMOOCVVGUaffxb4pZl1BW4iHFwXNSAfJwD7A7tH8z8iBNx89gIedfdVBebvSjjA3VsrvauARwhBIZ8vEwL/JqLqs3sJB9RuhAPc/+QuQvht9SacSPQjBN5cBxNKUgOBbQknKAAnA/MIJz49gDMJB8qi3P1Id7+lru27+w8IB9ya0vwVOavZGRhCODG4jhDk9yKU+g42s92j5Y6MHnsAgwiBueZ3cgSh9NePsF9/TPgd1TiccJDvBawHflkrK7sBQwklw3PMbFg0/QTgwGibfQhB+MZan909yu8+ZrYf4bs7kPBd/hO4Y5MvrrHLOpo1pQfhLG8V4Syo5vGjaN5ewBs5y/4bODx6fRNwRc68dsA6YED0vqSSSe1lo/djiEoEwJcIZ+jNcubfAZwXvb4F+EPOvK8Dcwrk9Rzgzpz3bYFPaUDJJF+688wfBXxU67vOWzKJ3nciHKheBX5XZL115WM2sGfO/F7RvmmRZ11PAJcV2db3gQUF5l0GPJFn+lGEA3q3Ap87HHg+571Fyx9TYPn9gZdrfY/fz3l/BfDb6PUFhDP2gvul1P1Xx/Zz9+OAaF19cqYtAb6b8/4e4MTo9VPAT3LmDa3ZP9F39yywbZ50TMzdV8DwaL83z0lDbkl4MnBIzm9i75x5vXO2WfPZQTnz/w4cnfO+GfAJTax0opJJ8vZ39045j99H0/8BtDGznc1sAOHgeF80rzehNAJ8dqa6hHDWk6TehC7L1TnT3qm1nQU5rz8hBLaC66p54+4fE9KcCDNrY2a/M7N3zGwFoSqsk5k1L+Xz7r6MUP0wEri6yKJ15WML4D4zW2ZmywgHkg2EM/XalhCCTSGLgW4F6tF7RfM/Y2b7E87qv+bui/N8Jl/6Pfe9mfUwszvN7P3oe/wzoQSTq9A+v5JQOn3czN40szOK5C2vErefz4c5r1fneV+Txo3+O9HrFoT9cxuhSulOM/sg6sjQMmfZ92p9rmWttBX6XrYAfmtmc8xsDqEabzkb/yZy170FcH3Ob2gpIegn/f/OlIJJmbj7BkJ9+6HR4yF3XxnN/oDwgwPAzNoSiuXv51nVx4QG2ho965GMD4B+Zpa73/sX2E5d5hOqD4Bw8CekOYl0QqhiGQrs7O4dCFU9EP6Eda7fzEYRzkzvYNPqi1x15eM9wsE89wShyt3zfWdPEqo12hbY1nPAWkJ1R25a2xHadZ7KmbYv8HtCFdCr9Ui/5b4HLiGcKW8TfY/f5/PvsCh3X+nuJ7v7IOBbwElmtmcpn63H9uPeUGmj/w7h97we+NDd17n7+e4+nFDF+A1CSa5Gv1qfW0etgF7Ae4Q2oa1zHt1q/Sa81vLH1voNbebuz5aezcqnYFJefyHUAX8vel3jDuCHZjYqumr+EuAFd387zzqmAQdGZ+6DCQ19uT4k1B3n8wLhDOs0M2tpZmOAb9KA9hngbuAbZrZb1AvpAjb+PU0Dvm5mXcysJ6F3UjG1092ecAa6zMy6AOfWWn4acEiUj9HAQTUzzKym4fVMQkNuHzP7SQPz8VvgYjPbIlp396gOPJ/bCAeOe8xsazNrZmZdzexMM/u6uy8ntEf9ysz2jdI+gHCSMS/6PFEb2u3At919coFt1XgYGGFmB0Ylnp+xcWBtT6h6XW5mfQi9yEpiZt8ws8FRgFpOKJFV1/Gx2urafrHfaynuAH5hZgOjoHwJcJe7rzezPcxsm6g0u4IQLHLT/30zGx6dQFwA3B2d9NXlt8AlZjYQ6vxN1Cw/zsxGRMt3NLPv1DunFU7BJHl/s42vM6mpysLdXyCcUfcm1KPWTH8SOJtQFzyf0APmkALrv5ZQt/shcCvhoJPrPODWqEh9cO4Md/+UEDy+RjgD+w2h3WZOfTPp7jOBnxKC4nxCw/S8nEVuA14h1Ik/TuglVEztdF8HbBal83ng0VrLn034nj4iHKBzg/OlhOq8Gz10fvg+cJGZDWlAPq4n9K573MxWRmnZOV8Gom3tRehZ9QThADaZUHXyQrTMFYQgd1U0/wVCANrTPx8x4WxCw/EjOb+jv5NHVP31HUKbyxJCo/W/cxY5H9iBEAweplbjfx2GEEpbqwilqt+4+z/q8flStn8pcFa03xvS/flmwm/tGUIPvjWEBnIIQfVuwvc8m9DL7bacz95GaNtbQOgY8bMSt3k9oYr60bp+EwDufh+hO/idUVXfDMJ/sEmxqEFIROS/hplNJHTY+EPWaWkqVDIREZHYMgsmZtbPzP5hZrPMbKaZ/Tya3sXMnjCz16LnzlmlUURESpNZNZeZ9QJ6uftLZtYemErog34ksNTdL4u6InZ299MzSaSIiJQks5KJu89395ei1ysJDWR9gP0IDctEz/tnk0IRESlVRTTAR90jnyFcYPauu3eKphvhqudOeT4zFhgL0LZt2x233nrrsqVXRKQpmDp16mJ3757EujIPJlHf8EnAxe5+r5ktyw0eZvaRuxdtNxk9erRPmTIl7aSKiDQpZjbV3Ucnsa5Me3NFQxvcA9zu7jX9zz+M2lNq2lUWZpU+EREpTZa9uYwwwOFsd78mZ9aDhNE+iZ4fKHfaRESkfrK8ccv/EIb9ftXMpkXTziRcyftXMzuaMPjawQU+LyIiFSKzYOLu/6LwgHP1HUxOROS/2rp165g3bx5r1qzZZF5VVRV9+/alZcuWeT6ZjP+eW0qKiDRh8+bNo3379gwYMIDQihC4O0uWLGHevHkMHDgwte1rOBURkSZgzZo1dO3adaNAAmBmdO3aNW+JJUkKJiIiTUTtQFLX9CQpmIiISGwKJiIiEpuCiYhIE1FoRJNyjHSiYCIi0gRUVVWxZMmSTQJHTW+uqqqqVLevrsEiIk1A3759mTdvHosWLdpkXs11JmlSMBERaQJatmyZ6nUkdVE1l4iIxKZgIiIisSmYiIhIbAomIiISm4KJiIjEpmAiIiKxKZiIiEhsCiYiIhKbgomIiMSWaTAxs5vNbKGZzciZdp6ZvW9m06LH17NMo4iI1C3rksktwL55pl/r7qOixyNlTpOIiNRTpsHE3Z8BlmaZBhERiS/rkkkhx5vZ9KgarHPWiRERkeIqMZjcCGwJjALmA1fnW8jMxprZFDObkm/IZRERKZ+KCybu/qG7b3D3auD3wE4Flpvg7qPdfXT37t3Lm0gREdlIxQUTM+uV8/YAYEahZUVEpDJkenMsM7sDGAN0M7N5wLnAGDMbBTjwNnBsZgkUEZGSZBpM3P3QPJNvKntCREQkloqr5hIRkcZHwURERGJTMBERkdgUTEREJDYFExERiU3BREREYlMwERGR2BRMREQkNgUTERGJTcFERERiUzAREZHYFExERCQ2BRMREYlNwURERGJTMBERkdgUTEREJDYFExERiU3BREREYss0mJjZzWa20Mxm5EzrYmZPmNlr0XPnLNMoIiJ1y7pkcguwb61pZwBPufsQ4KnovYiIVLBMg4m7PwMsrTV5P+DW6PWtwP5lTZSIiNRb1iWTfHq4+/zo9QKgR5aJERGRulViMPmMuzvg+eaZ2Vgzm2JmUxYtWlTmlImISK5KDCYfmlkvgOh5Yb6F3H2Cu49299Hdu3cvawJFRGRjlRhMHgSOiF4fATyQYVpERKQEWXcNvgN4DhhqZvPM7GjgMmBvM3sN2Ct6LyIiFaxFlht390MLzNqzrAkREZFYKrGaS0REGhkFExERiU3BREREYlMwERGR2BRMREQkNgUTERGJTcFERERiUzAREZHYFExERCQ2BRMREYlNwURERGJTMBERkdgUTEREJDYFExERia3oEPRm1hc4BPgS0BtYDcwAHgb+7u7VqadQREQqXsFgYmZ/BPoADwGXE26fWwVsBewLjDezM9z9mXIkVEREKlexksnV7j4jz/QZwL1m1gron06yRESkMSkYTAoEktz5nwKvJ54iERFpdOq8ba+ZfQO4ENgiWt4Ad/cOaSbMzN4GVgIbgPXuPjrN7YmISMOVcg/464ADgVfd3VNOT217uPviMm9TRETqqZSuwe8BMzIIJCIi0kiUUjI5DXjEzCYBa2smuvs1qaUq2gTwuJk58Dt3n5Dy9kREpIFKCSYXA6sI3YJbpZucjezm7u+b2ebAE2Y2J7cbspmNBcYC9O+vTmUiIlkqJZj0dveRqaekFnd/P3peaGb3ATsBz+TMnwBMABg9erSq4EREMlRKm8kjZvbV1FOSw8zamln7mtfAVwnXt4iISAUqpWRyHHCKmX0KrIumpd01uAdwn5lBSONf3P3RFLcnIiIx1BlM3L19ORJSa5tvAtuVe7siImkaMyY8T5yYZSrSUUrJBDM7ENiN0MPqn+5+f6qpEomhKf9hRSpVKVfA/wYYDNwRTfqxme3t7j9NNWUiIk1EzQnOpEkbv29KJzyllEy+AgyruWjRzG4FZqaaqow1xR3dVOXuq/+GP6xIpSolmLxOGB34neh9PzTAo4ikoKmeANTkp6nmD0oLJu2B2WY2OXr/BWCKmT0I4O7fSitx5fbfcmbbFPJVbF81hfyJNDalBJNzUk9FBerYZhljBj1Oq+Zr4N3NoHV36P4laNY866Rl69Pl8OE/YMNq8PWwWS/YfAw0K6kvR9O1bgUsfh4+XQbrlkG7QdD9y9C8nINGVKB1K2HZDFg9D1YvgI7Dodsu0KLNRos11RO52vn4LD8b1sLK/8Dy2bD6A+g0ErrsCK06lz+RCSmla/AkM+tJuALdgRfdfUHqKcvAxInA+49w+3X/ZNWnnTj2vH2hZXtY/wmnHv8+2/cez2FHdISBR0Cb3lknt95i/WEX/gs+eBhatINe+4TvxZrDx+/Aq+cBBoOOhPZbJpzq/IpVG9TOT6oHpuWz4J07wVpCjz2gU19o2RFWzIWZl0D1Whh4OHQcltgmG8WBdvV8eOMmqF4P3XaGDsNg891h+UyYc20IuFscypgDd8g6peW1biW8/jv49CPoPAo6DmO/sV9hQJeZXH/OzfDJPOj3bdh8t6xTWm+l9OY6hlA6eZpwL5NfmdkF7n5z2okrq7VLYdbl0H03fv/ipQAcm3OS8OK8kbw4bx8Ou3ApzP0ldNoG+n87o8SWLvaBZ8MamHkZdNgKtr1o05JZ+8HQc89wpjXnGmjdDbY8BsIFp01X9QaYc3UIqsPHQYvNNp7fpg/0/Eo4mP7n1yEQb/Wzpl9ScYfXfhMOmkOOg9ZdN55ftXkIutUb4M2b+eGO9/N/r/6Chx4Pf7ZGEShLkO/Ebe8htzH+hNdg8Fho0/ezZZevhVfm7w7Ddgevhnf+Ci+dDENPhLb9yp72hrK6RpY3s7nAru6+JHrfFXjW3YeWIX0lGT16tE+ZMqXBn//Jwc/x5YH3csgF46B1l43m1f5R7L57eJ54+0Ow+DkYcdamB5IKku/PWfIfdvkseO23MOwUaFviYJqLnw9n6tucm3mRveC+mxhzxasXwMyLYfCPodOI0j6z4jWYex2MPCtUDTZAavlJyvqPYfq54cy6+y5FF63Jy4ypizn3wPN5bumJfLDy81JtxeSpgXL3VTPbwB9OvIhZC7/IlX/eJ+8yUGt/blgDr5wFA74HXbZPLZ1mNjWpGw+WUtG9hHDHwxoro2lNw4cTGdX7OX77whUc0roeZ9N9vgGdt4eXT4Xtr6y4gFLfKq1N5n80PQSFHa6tXztRty9Ch63hlfGw7YWbBOe4Mj9zXfV2qKYZdRm0aFv65zoMCb+TaadHwXmLkj5WSn4z/04A1iwK1Z31DJZLVnXjpNuv4U8nj+ep1w/lD/dseuCsiPzVU01av7b3So4efRYHnXEcdNy69BU0r4Ltr4BZl8GaBdD7a6mkM0mldg1+wcweILSZ7AdMN7OToCz3NUnNKd97nEFdXuWnvx4HFK9/z/uDbtMHRpwJ004LB4rmVammtxQ16Symzj/lslfhnTtgu4vBShkLtJZWnWC7S+CVM2HbCzat6iiTxLtjfvJ+CCTbX9mw6qoWbWD7q2DaGaEKqMNW9fp4ofyUss9T9enyEEhGXQ4t25X0kY3T3pJDL7uMQ2dcBItWQ/dd00lnyjb5nW1Yy9idxnHL1HM5qGP3TZav8/dpzcLx5fUJMO9v0PebSSc5UaUEkzeiR40Houeyj9mVqEXPsmXX6dw1/ZR462nTG4afDi+fFg4UFVInXuqBtHYJ5vD95rDv0Ns57PJLGhZIarTqCKMuDQfOUZeHtoUYMu/ts/rDcJbY0EBSo3nrsI6XTwkHiqrN8y5WSn4z/04A1n8SnTRcWHIgycuawcizQ4m2anNoP7gy8tdQXg2vnMkBZ57KAW03DST1MngszLoSFveAbjslk74UlNKb6/xyJKSsPn4X5t3PcddfznFW2o+06A+4TV8Y+nOYeVE4E89AoT9efXRq8xH7jfgNNzx3LYfFCSQ1WnaAbc6D6WfDDtfEC04xxD74bFgDMy4I1Q5JlD6btQidGaadDjtcXe91VkyJxKvDwX/kWQ2uztxo35jBtueHxudtzgWyKdGWovjIC86RO57PkWf/sKTqzJJ+n8NOgVeiNt32g+uf4HJw97wP4PfANgXmtQWOAr5X6PPlfOy4445eqn32XOX3nvkT9/WrP5u2++7hEdsHj7m/cUsCK6q/mjyE7jT1z9MeY9b73eNOcF+7NPnELX3ZfeZliawqsX1Vqupq95fPcF/1TvLrXvWu+0unhm14/ryVkt+yfyc1Zl7hvvSV5Ne7dpn75J+6r1/r7hnmr4jcNNX+7136o5v9F4c+mfxGN3zq/uLx4ftJCDDFEzoOFyuZ3ACcbWbbEG5MtYhw694hQAfgZuD21KJcAxSqS/4s8rvzw9HncNtLZ3NAztlgYsXmXl8N3YYXPx8aossobvvA90ZdyoOzfsy30+iB1XkUrHoT3r0b+h9U8scqolrjzZvDfi21N1t9tO0H/Q4KXYeHnpD8+tP0wd9Dm2HnbUv+SMn7s1VHGHYyzLo0KqFUjrpGXhjc9WXO+MVHMOyHyW+8WUsYeW5USr6q4rrfFwwm7j4NONjM2gGjgV7AamC2u88tU/oSM2YM/O/Wf+C+p7/Nc6/1TORAlXcdW50Q6sPbDYaqbg1feTnNe5CjTxrO0f2Gp7eNfgfCjItCUGk3qMGrKWtgWfwCrF8drotIS7eduPacKcxdNJlJk0J9eO7vqpT8lj3YrnoLFj0L212Y3jbaDQzXcs17kIkTG8eITe1aLWPfrW6Bra9NbyNV3ULX69cnwJBj09tOA5TSZrIKmJh+Uhpu7tzwB6w5W+jUKTwvXx6ex4yBTxe+SpttVvLcayn3FDGDkeeE3i07XJPq2UMpV3/X6ZP3Yclk2O6iZBJVzLDT4KWTYMdrw1lWARXR8LpuRejRtkN6B4bP2zyO4/hdfsEdmw1lxeqOqW0vEdXrYPZV4bddogbvz34HwvRzoPN2JXelTluxWo+HLr0glBzSbhvsvissnQpLpkDXRC4RSUTBYGJmHYBxQF/g7+7+l5x5v3H3n5QhfYlo3fwTfrb/BA686Dr+79UwLYkSScE/R6uO0P87YTiJwcc0fENpq94QrvofdVl5tte8VeioMOsKGDm+PNtsqBkXh95WZahKmDjRYM1ZbPALuPH5q8L7mFILwLOvhqE/C73SymHEmfDSKbDjdZU9/tubt4QRMRK+rqqgrY6HqSeGa7ri9KJLULG980fgNeAe4Cgz+zZwmLuvBVJvEDCzfYHrgebAH9y94BFv6ND8o8XWvH/smkthyLjyDtLYfVdY9O9wFXnH+NVHqdy34z+/DkOf1Bp0L1UdhoSzzAVPhWFY8ijHcN1F1/3OXaFqq0C33bjby7//ujGq1zfZe8ifgR8ktt1ELfwXVHWHDqUNflFnG2YpmlfBVj+FudeHdpSMFBywEcLoBmsWwJYptJMUYgYjxoV2pe0uLt92iygWTLZ095rBp+43s/HA02aWegWmmTUndADYG5gHvGhmD7r7rPqua+d+j4ThCKKBGZM4MJX859j6F+HsYYdrKub6k88sfTmc6RVoQE21amnA90K7UpcdwwWOleTjd8NIrtueV/ZNX3fHGHj1gjB4ZgOrdVKrIly3At67p2D1Vqq/l47DYOHEjap1KqJzBoRqv7nXh6rbctusJ3T5QsVc0FgsmLQ2s2buXg3g7heb2fvAM0Da5aqdgNfd/U0AM7uTcOV90WBS+4c18bElMGsS9Ls8nVTWpVkL2PrEMCDgiHENWkUq9+3YsAbe/GOoOsiCWai+mHkpbF9436RZIsl7sPXq0B4wKrnfS7333/DTwhA9O16f2XU5ec28pORqv1QC2uBjw4lZxxFlHbqozrzMuS70xCvSBpiqfvvDtHFhZOYES9INUSyY/I1wy94naya4+y1mtgD4Vcrp6gO8l/N+HrBzvdbgHg5WI89KMl0bKenP0X5wGEk3g+7CBc26MlQZ5DlYla3xu3XXMCT5e/dCvwMr40zz9d+F4eKzHGeteRUMOgpeuzFU79RTKlWE8x6AbruGKq5a8v1epk2DUaMS2G4uawbDT+OW0y/nlqnnVcZV8UteDBfmlljtl5oRZ4aOCil3+KlLsa7BpxWY/ijhWpNMmdlYYCxA//55rgF4507ovW9lVKNseUw4q+q0bb3bJ+pz346SLHwmVKFUQu+YPl8PI6N22xXoWZZNFvw+V8wNw6Yn3DumQfuvy/bhBmTLZpY+KnFa1iwMJ0KjLi35I6NGpXTHyzZ9eXfZUHbs8yST2CuhlRZXcP+tXw1v3ZZd6T5Xy/bQ74CQnkGHZ5aMot0jzGwkcBpQ04I8E7jK3V9NOV3vE+41X6NvNO0z7j4BmABhCPqNPv3xe+HgMODQlJNZIrMwftesy8NwEVlZtwLeu69ot85yNH7n+trJZ3D0F85i0qRrAcvmTLN6XeiMUI/urqkb+jN46Rew/dUNam9L5PtzD/eyKdJ+VO7fyzl/OARePpW5i0az6tNO2ZVkZ18Bw06tnKrIzb8MH06K1d4WV8Fvwsz2A+4jXGNyVPSYBNwbzUvTi8AQMxtoZq2AQ4AHS/qkV4cdPfz0NNNXf216h4uwPni0pMXHjNl47KVSL2AraualZevuWqrV69vx9Bvf5ajdy3uvtY2+zznXhq6WKdZ713v/NWsRulHPuTqlFJXgrdug77dCVU4DJPKbrS3qxXRYPUpK9VX7vwe18rLg6XBRcqXduGr4qaHrdmjmLrtiJZMLgL3d/e2cadPN7GnCyMEP5P1UAtx9vZkdDzxG6Bp8s7vPLOnDr90Ig35YcfcXAcJQIi+fHnox5al/TtV790L33UrebrnO+MJ2dmHCzyexpsNr3P5gmWtQFz0HrbokWu+d2Fl6+8GhUXXRs+Ufln3lG/DJe3mrTRKrcm2o1l057MQxHLb+bqD04XkSsXYJfPBIGPm50jSvgi2Pgv/ckMnwPMXKaC1qBRIAommpd11w90fcfSt339LdS+tIvezVcPvYLhV8X+kRZ4aeMQXucFlzVjRpUnjkO0uqt9XzYelL0Od/Y64oPXdNP5mDtrk+VDmVy7qV8O5dsOXR5dtmfQ06Ct79a7hnSLlUrwultWGnlm+b9dX7a+H//vE7ia2yzv+ee7iYdeRZFVW630jnUaHqbenUsm+6WDBZb2abtGyb2RbA+vSS1EDrVoXxaob+POuUFNeqYxgm4o2byrO96g1Rt86GdU1OS+0/6lP/aMkBp/88tCuVy8yLw/3bEzowpHIiYBbu8zHjwoInIImrqfar1VaTSv7iGDEu9EysLtPh6M0/hobuSrn1P14AABN+SURBVOjUU8yQ4+DNP4VjYhkVq+Y6F3jSzC4BasLcaOAMoMIaJAh/thHjy3uVey0lV29s/qVw5rB0aqjyypF4g+acq8OPqz63mM1KhyHQfit4/+H0S1Fv3go994bNeqS7nSS07gp99w8jGKddilrwZKhaq88tZrPSvCpU58y+CkacEXt1Rf97y2fB2kWhGqnS1dyhcebF9eqFF1exrsH3m9lbwMlATQXcTOBgd3+lHIkr2dolYZjwzcrTvTQRQ38WBj1sNwjSGPYdYP7jsFmfRIZzSUqd17FscTC8cnborJDGsO8Qrv5fuwQGHZE3bQ0N4Kn2bNp8tzAg50fT6zXse718/G5oXB51Sd7Z5e65VZIOQ8PN6eY/Ho4Bafh0WWiL3aECugGXarMe0HMveOOPZRvmpVhvrirgA3c/3N13jB6HAx9E8yqHNSs4zlM5NKj4b82i0YXPz9v7InZPmI/fhQ8nwsDvxVjJxspWrTFyfKjuWr86+XV/uiwMyrf1iYmtsmzfy9Cfh9LJmoUN+njRdG5YE77zbc5paOqyM/D73HLVs/xgv2TujLHRf8+rYfq5sM35mdZ6NEjPPaF6TRhTrQyKtZn8EvhSnum7ARkMRFNEWmf2aWvdBQb9kJtOujjZg9GnH4WReSvsxkLw+R91993DI2/QbF4VqixfOTO0+SRlw9pwkeQ2Gw8TnnRbQCpdYiEczLa9KJyAbFiT3HrdwwFz+Okl3UI4tfzFcNtLZ7H/iBtg7dJ6fa7OfT37qlC1WK7RgJM2+MfwwUPh5DJlxdpMdnT3sbUnuvt9ZlaGm180HrGK/52349UFS9l/+A1A/YfP2MSGNaGaaLuLEhsmvGxDrORq0zv8iWdelExQrN4QgtPwUxM7MGTyvbRsFxqeXxkfuqeWcNFc8fHIPNSt9z8ovWrFFH2etxZMnXwBzewsbnjuGp58OoGBVd+4KQzxnla1YjmYhVLVSyfBthemGhSLBZNi435UyGWfjdvnf4Q9OGinxaw4+g6efuPQhh+MqtfDtDPDGWYF9Thp8HUJnUaGKp0518PWMXrpucOM80M32zxXB1dkW0AxbfrCgO+H8ZjiVr/MvQ66fwm6fqHgIo3le1n+SSfueuUUjvviKbD+8qLXmtV5IvDmn8LFmn0bx10ei2reGra7JJxMpRhQigWThWa2k7tPzp1oZl8g3A9eaonzZ7t78ncYte1tfGvYb8GPrX931XUrQhXOVscnfmVupgfbnl8BPAzNPvKs+g9fseHTcM/sPt9IfJyrTL+XLttDs1Yw7TTY7tKiQ67kTac7zL42nHn32D3lxKandt7ufGgAfHJ6GHl51GUNu3HU238JIxD0/05CqawArTqGnl3TxsG2F4QeggkrFkxOBf5qZrewcdfgwwnDm0gJih1oav8Rxv/+B2GAv+nnhKqdUu8s9/F7MOuycJZaQfedT6waqOeeYeTll08NNwIqoV4fgDWLQvvCsJNKuu98pZ95b6LTCNjqBHj55LDvSz3jXLcytJFscQh026ngYplU4yWhTZ/QkWDaaTDslLz7Pm+A3bAWpl8aLvzrt3+ZEltGLTuEgLLwX2GQ1YQV6xo82cx2IlTkHxlNngns7O4N604iQB1/yh57hO68L/0Ctji0+DAa1evgjZth9fuww9WlH2QbKNODSOftoNWJoRqvxx6hpFGo9ObVYUDLxc+Gbq4NHFuqVJl+L+0GwDbnheuJOmwdqr8KfC8TJxKGZnnljtCTsNxD+qRok31QtTnscG24ALNl+9AQXaw6cMVcmPurKPgMSDGlGWvZIZVAAmBex1W1ZrZ57eBhZkPdPZl+eAkYPXq0T5kyJetkbKT2Wd3uUU1CyUNzezW8+3/h2oIee4ZGwM36gG+AFbNh8QvhedBRmQ5TXkpeEj+j/eAxmP936LoTdNsF2g4I38vH78CSF8Id+fodEC4OTVhFn50vejb8ZtoPCRdkth8cfkdrF4XAuujfYbj/vvvXq52lovNciqUvw9u3Q1UP6PPNcEGmV8P6j+HDp2HRv0LpZctjsrvJVUbMbKq7J3LfhVLqUf5pZme7+1+jjZ8MHM3nw9JLiaZN+7wLKtTxJ7VmsMV3od+3wwHyg0fgk/fD9A7DoMcYGHxMWdJdcXrvA732hhVzwrU0H78F1iI0rnfeDgYclshmGt1BtPuu4fHJvHAl+1t/CgfHqu7QeXvY/qqNSi2NLn/19Hn+tg9tTGsWwwcPwzt/AWsOzduEk5FRV1TuWFuNSCnBZAwwwcy+A/QAZhNuqytF5KuTbdC1C81aQPf/CY8KUp/69FQOVtYsXNlfpqv7G1X7QZu+MOjIBn008xGB01TVjTFHhVEPmkyeKkidwcTd55vZo8A4oBo4w93LO4JYE9HouqA2QFPIW77AkcqtaDPSqAJjAzT1/FWqOoOJmT0JfACMJNz98CYze8bdT0k7cU1BU/0BFwqMmY4im6LUbkVbIepVBdsINfX8VYJSqrl+7e73R6+XmdmuhFKKNFBT/AE3pbPBpl6CTKwKtkI19fxVqlKque6v9X49cGFqKZJGpamXSGpraoGlxn9jAJVklVLNtRKo6T/cinCXxVXu3jHNhEnj0hT/rE0hD8Uof5KkUkom7Wtem5kB+wFfTDNRIpKNpn4Abur5y1K9Bjry4H5gn5TSg5mdZ2bvm9m06JHO5ZqSikocnlxE0ldKNdeBOW+bEcbnSvBmCnld6+5XpbwNERFJSCm9ub6Z83o98DahqktERAQorc2kPDcQ3tjxZnY4MAU42d0/qr2AmY0FxgL079/4buojItKUlDLQYxVhLK4RwGfD0rr7UQ3eaLgQsmeeWeOB54HFhB5kFwK96tpWJQ70KCJS6co90ONtwBxCo/sFwPcI43M1mLvvVcpyZvZ74KE42xIRkfQV7M1lZjWBZrC7nw187O63Av8L7JxWgsysV87bA4AZaW1LRESSUaxkMhnYAVgXvV9mZiOBBcDmKabpCjMbRajmehs4NsVtiYhIAkqp5ppgZp2Bs4AHgXbA2WklyN1/kNa6RUQkHcWCyeZmdlL0uqZH1w3Rc9v0kiQiIo1NsWDSnFAKyXcLsuJdwERE5L9KsWAy390vKFtKRESk0So2NpduiiwiIiUpFkz2LFsqRESkUSsYTNx9aTkTIiIijVe9hqAXERHJR8FERERiUzAREZHYFExERCQ2BRMREYlNwURERGJTMBERkdgUTEREJDYFExERiU3BREREYlMwERGR2BRMREQktkyCiZl9x8xmmlm1mY2uNW+cmb1uZnPNbJ8s0iciIvVTyj3g0zADOBD4Xe5EMxsOHAKMAHoDT5rZVu6+ofxJFBGRUmVSMnH32e4+N8+s/YA73X2tu78FvA7sVN7UiYhIfVVam0kf4L2c9/OiaZsws7FmNsXMpixatKgsiRMRkfxSq+YysyeBnnlmjXf3B+Ku390nABMARo8e7XHXJyIiDZdaMHH3vRrwsfeBfjnv+0bTRESkglVaNdeDwCFm1trMBgJDgMkZp0lEROqQVdfgA8xsHrAL8LCZPQbg7jOBvwKzgEeBn6onl4hI5cuka7C73wfcV2DexcDF5U2RiIjEUWnVXCIi0ggpmIiISGwKJiIiEpuCiYiIxKZgIiIisSmYiIhIbAomIiISm4KJiIjEpmAiIiKxKZiIiEhsCiYiIhKbgomIiMSmYCIiIrEpmIiISGwKJiIiEpuCiYiIxKZgIiIisSmYiIhIbFndA/47ZjbTzKrNbHTO9AFmttrMpkWP32aRPhERqZ9M7gEPzAAOBH6XZ94b7j6qzOkREZEYMgkm7j4bwMyy2LyIiCSsEttMBprZy2Y2ycy+lHViRESkbqmVTMzsSaBnnlnj3f2BAh+bD/R39yVmtiNwv5mNcPcVedY/FhgL0L9//6SSLSIiDZBaMHH3vRrwmbXA2uj1VDN7A9gKmJJn2QnABIDRo0d7vNSKiEgcFVXNZWbdzax59HoQMAR4M9tUiYhIXbLqGnyAmc0DdgEeNrPHollfBqab2TTgbuDH7r40izSKiEjpsurNdR9wX57p9wD3lD9FIiISR0VVc4mISOOkYCIiIrEpmIiISGwKJiIiEpuCiYiIxKZgIiIisSmYiIhIbAomIiISm4KJiIjEpmAiIiKxKZiIiEhsCiYiIhKbgomIiMSmYCIiIrEpmIiISGwKJiIiEpuCiYiIxKZgIiIisWV1D/grzWyOmU03s/vMrFPOvHFm9rqZzTWzfbJIn4iI1E9WJZMngJHuvi3wH2AcgJkNBw4BRgD7Ar8xs+YZpVFEREqUSTBx98fdfX309nmgb/R6P+BOd1/r7m8BrwM7ZZFGEREpXSW0mRwF/D163Qd4L2fevGiaiIhUsBZprdjMngR65pk13t0fiJYZD6wHbm/A+scCY6O3a81sRkPT2gh0AxZnnYgUKX+NW1POX1POG8DQpFaUWjBx972KzTezI4FvAHu6u0eT3wf65SzWN5qWb/0TgAnRuqa4++i4aa5Uyl/jpvw1Xk05bxDyl9S6surNtS9wGvAtd/8kZ9aDwCFm1trMBgJDgMlZpFFEREqXWsmkDr8GWgNPmBnA8+7+Y3efaWZ/BWYRqr9+6u4bMkqjiIiUKJNg4u6Di8y7GLi4nqucEC9FFU/5a9yUv8arKecNEsyffd5cISIi0jCV0DVYREQauYoNJmbWz8z+YWazzGymmf08mt7FzJ4ws9ei587RdDOzX0ZDsUw3sx1y1nVFtI7Z0TKWVb6i9CSZt8vNbEb0+G5WecrVgPxtbWbPmdlaMzul1rr2jYbWed3MzsgiP7UlnL+bzWxhJXVtTyp/hdaTpQTzVmVmk83slWg952eVp1xJ/jaj+c3N7GUze6jOjbt7RT6AXsAO0ev2hGFXhgNXAGdE088ALo9ef51w8aMBXwReiKbvCvwbaB49ngPGNJG8/S9haJoWQFvgRaBDI9x3mwNfILSVnZKznubAG8AgoBXwCjC8qeQvmvdlYAdgRtb5SmH/5V1PE8mbAe2i1y2BF4AvNpV9l7O+k4C/AA/Vte2KLZm4+3x3fyl6vRKYTbgafj/g1mixW4H9o9f7AX/y4Hmgk5n1AhyoIhyMWhN2/Idly0geCeZtOPCMu69394+B6YQxzTJV3/y5+0J3fxFYV2tVOwGvu/ub7v4pcGe0jkwlmD/c/RlgaTnSXaqk8ldkPZlJMG/u7quity2jR+YN0En+Ns2sL+GE9Q+lbLtig0kuMxsAbE+I/j3cfX40awHQI3qddygWd38O+AcwP3o85u6zy5DsksTJG+FMfV8za2Nm3YA92Piiz8yVmL9CKn54nZj5q3hJ5a/WeipC3LxFVUDTgIXAE+5eMXmDRPbddYTrAatL2V7FBxMzawfcA5zo7ity53kohxU9GzCzwcAwwtX0fYCvmNmXUkpuvcTNm7s/DjwCPAvcQajCq5jrcuLmr9Ipf6Xlr9h6spJE3tx9g7uPIhxbdjKzkakktgESOG5+A1jo7lNL3WZFBxMza0n4Qm5393ujyR9GVTxEzwuj6YWGYjmAcFHkqqhY+ndgl3Kkv5iE8oa7X+zuo9x9b0I97n/Kkf661DN/hZQ8vE65JZS/ipVU/gqsJ1NJ7zt3X0ao/ci8ihkSy9//AN8ys7cJ1ctfMbM/F/tAxQYTMzPgJmC2u1+TM+tB4Ijo9RHAAznTD7fgi8DyqFj3LrC7mbWIvuTdCfWImUkqb1Exu2u0zm2BbYHHy5KJIhqQv0JeBIaY2UAza0W4182DSae3vhLMX0VKKn9F1pOZBPPW3aKb+pnZZsDewJzkU1w/SeXP3ce5e193H0D43z3t7t8vuvG6WuizegC7EYpi04Fp0ePrQFfgKeA14Emgi3/eu+IGQu+fV4HR0fTmwO8IAWQWcE0TyltVlKdZhPvCjMo6bw3MX09Ce8gKYFn0ukM07+uE0tYbhBGnm1r+7iC05a2Lph/dVPJXaD1NJG/bAi9H65kBnJP1fkv6t5mzzjGU0JtLV8CLiEhsFVvNJSIijYeCiYiIxKZgIiIisSmYiIhIbAomIhkxs2NrBtwTaewUTERKZGb7m5mb2dYJrOsc4CN3/yiBpIlkTl2DRUpkZncBvQkXcJ2bdXpEKolKJiIliMY62g04mnBFMGY2xswmmtndZjbHzG6PrkDGzN42s/PN7CUze7WmNGNmbS3cw2RydJ+I/aLpzc3sSjN70cI9a47NKKsiDaJgIlKa/YBH3f0/wBIz2zGavj1wIuF2AIMIYxrVWOzuOwA3AjU3HhpPKNnsRBjl+Uoza0sIUsvd/QuE+0v8yMwGpp0pkaQomIiU5lDCgHdEz4dGrye7+zx3ryYMXTEg5zM1g+xNzZn+VeCMaOjyiYQhcfpH0w+Ppr9AGP5iSBoZEUlDi6wTIFLpzKwL8BVgGzNzwnhvDjwMrM1ZdAMb/6fW5pluwLfdfW6tbRhwgrs/lnwORNKnkolI3Q4CbnP3Ldx9gLv3A94CGnJfnMeAE3LaVrbPmX5cNLI1ZrZVVP0l0igomIjU7VDgvlrT7uHzqq76uJBwi9fpZjYzeg/h1qizgJfMbAZhpGvVHEijoa7BIiISm0omIiISm4KJiIjEpmAiIiKxKZiIiEhsCiYiIhKbgomIiMSmYCIiIrEpmIiISGz/Dx7I1ie2IpLrAAAAAElFTkSuQmCC\n"
                },
                "metadata": {
                  "needs_background": "light"
                }
              }
            ]
          }
        },
        "8b0e35fe0fe94e9694838355eb5c4c28": {
          "model_module": "@jupyter-widgets/base",
          "model_name": "LayoutModel",
          "model_module_version": "1.2.0",
          "state": {
            "_model_module": "@jupyter-widgets/base",
            "_model_module_version": "1.2.0",
            "_model_name": "LayoutModel",
            "_view_count": null,
            "_view_module": "@jupyter-widgets/base",
            "_view_module_version": "1.2.0",
            "_view_name": "LayoutView",
            "align_content": null,
            "align_items": null,
            "align_self": null,
            "border": null,
            "bottom": null,
            "display": null,
            "flex": null,
            "flex_flow": null,
            "grid_area": null,
            "grid_auto_columns": null,
            "grid_auto_flow": null,
            "grid_auto_rows": null,
            "grid_column": null,
            "grid_gap": null,
            "grid_row": null,
            "grid_template_areas": null,
            "grid_template_columns": null,
            "grid_template_rows": null,
            "height": null,
            "justify_content": null,
            "justify_items": null,
            "left": null,
            "margin": null,
            "max_height": null,
            "max_width": null,
            "min_height": null,
            "min_width": null,
            "object_fit": null,
            "object_position": null,
            "order": null,
            "overflow": null,
            "overflow_x": null,
            "overflow_y": null,
            "padding": null,
            "right": null,
            "top": null,
            "visibility": null,
            "width": null
          }
        },
        "1b74f8c3d9a54070b217af0200ab67ab": {
          "model_module": "@jupyter-widgets/base",
          "model_name": "LayoutModel",
          "model_module_version": "1.2.0",
          "state": {
            "_model_module": "@jupyter-widgets/base",
            "_model_module_version": "1.2.0",
            "_model_name": "LayoutModel",
            "_view_count": null,
            "_view_module": "@jupyter-widgets/base",
            "_view_module_version": "1.2.0",
            "_view_name": "LayoutView",
            "align_content": null,
            "align_items": null,
            "align_self": null,
            "border": null,
            "bottom": null,
            "display": null,
            "flex": null,
            "flex_flow": null,
            "grid_area": null,
            "grid_auto_columns": null,
            "grid_auto_flow": null,
            "grid_auto_rows": null,
            "grid_column": null,
            "grid_gap": null,
            "grid_row": null,
            "grid_template_areas": null,
            "grid_template_columns": null,
            "grid_template_rows": null,
            "height": null,
            "justify_content": null,
            "justify_items": null,
            "left": null,
            "margin": null,
            "max_height": null,
            "max_width": null,
            "min_height": null,
            "min_width": null,
            "object_fit": null,
            "object_position": null,
            "order": null,
            "overflow": null,
            "overflow_x": null,
            "overflow_y": null,
            "padding": null,
            "right": null,
            "top": null,
            "visibility": null,
            "width": null
          }
        },
        "820baeec771049d69eb6901f8f2f9c6b": {
          "model_module": "@jupyter-widgets/controls",
          "model_name": "SliderStyleModel",
          "model_module_version": "1.5.0",
          "state": {
            "_model_module": "@jupyter-widgets/controls",
            "_model_module_version": "1.5.0",
            "_model_name": "SliderStyleModel",
            "_view_count": null,
            "_view_module": "@jupyter-widgets/base",
            "_view_module_version": "1.2.0",
            "_view_name": "StyleView",
            "description_width": "",
            "handle_color": null
          }
        },
        "087ed9bc2e9044fb85b36c25f030be75": {
          "model_module": "@jupyter-widgets/base",
          "model_name": "LayoutModel",
          "model_module_version": "1.2.0",
          "state": {
            "_model_module": "@jupyter-widgets/base",
            "_model_module_version": "1.2.0",
            "_model_name": "LayoutModel",
            "_view_count": null,
            "_view_module": "@jupyter-widgets/base",
            "_view_module_version": "1.2.0",
            "_view_name": "LayoutView",
            "align_content": null,
            "align_items": null,
            "align_self": null,
            "border": null,
            "bottom": null,
            "display": null,
            "flex": null,
            "flex_flow": null,
            "grid_area": null,
            "grid_auto_columns": null,
            "grid_auto_flow": null,
            "grid_auto_rows": null,
            "grid_column": null,
            "grid_gap": null,
            "grid_row": null,
            "grid_template_areas": null,
            "grid_template_columns": null,
            "grid_template_rows": null,
            "height": null,
            "justify_content": null,
            "justify_items": null,
            "left": null,
            "margin": null,
            "max_height": null,
            "max_width": null,
            "min_height": null,
            "min_width": null,
            "object_fit": null,
            "object_position": null,
            "order": null,
            "overflow": null,
            "overflow_x": null,
            "overflow_y": null,
            "padding": null,
            "right": null,
            "top": null,
            "visibility": null,
            "width": null
          }
        },
        "90d1fe8718274909a0403aa02e9c23ac": {
          "model_module": "@jupyter-widgets/controls",
          "model_name": "SliderStyleModel",
          "model_module_version": "1.5.0",
          "state": {
            "_model_module": "@jupyter-widgets/controls",
            "_model_module_version": "1.5.0",
            "_model_name": "SliderStyleModel",
            "_view_count": null,
            "_view_module": "@jupyter-widgets/base",
            "_view_module_version": "1.2.0",
            "_view_name": "StyleView",
            "description_width": "",
            "handle_color": null
          }
        },
        "5f682a885f6848fa983d6be4531d6a2e": {
          "model_module": "@jupyter-widgets/base",
          "model_name": "LayoutModel",
          "model_module_version": "1.2.0",
          "state": {
            "_model_module": "@jupyter-widgets/base",
            "_model_module_version": "1.2.0",
            "_model_name": "LayoutModel",
            "_view_count": null,
            "_view_module": "@jupyter-widgets/base",
            "_view_module_version": "1.2.0",
            "_view_name": "LayoutView",
            "align_content": null,
            "align_items": null,
            "align_self": null,
            "border": null,
            "bottom": null,
            "display": null,
            "flex": null,
            "flex_flow": null,
            "grid_area": null,
            "grid_auto_columns": null,
            "grid_auto_flow": null,
            "grid_auto_rows": null,
            "grid_column": null,
            "grid_gap": null,
            "grid_row": null,
            "grid_template_areas": null,
            "grid_template_columns": null,
            "grid_template_rows": null,
            "height": null,
            "justify_content": null,
            "justify_items": null,
            "left": null,
            "margin": null,
            "max_height": null,
            "max_width": null,
            "min_height": null,
            "min_width": null,
            "object_fit": null,
            "object_position": null,
            "order": null,
            "overflow": null,
            "overflow_x": null,
            "overflow_y": null,
            "padding": null,
            "right": null,
            "top": null,
            "visibility": null,
            "width": null
          }
        },
        "385521222e204203928b6f6d41e439fa": {
          "model_module": "@jupyter-widgets/controls",
          "model_name": "SliderStyleModel",
          "model_module_version": "1.5.0",
          "state": {
            "_model_module": "@jupyter-widgets/controls",
            "_model_module_version": "1.5.0",
            "_model_name": "SliderStyleModel",
            "_view_count": null,
            "_view_module": "@jupyter-widgets/base",
            "_view_module_version": "1.2.0",
            "_view_name": "StyleView",
            "description_width": "",
            "handle_color": null
          }
        },
        "917d9e067fe54695b75cc21c46051e8e": {
          "model_module": "@jupyter-widgets/base",
          "model_name": "LayoutModel",
          "model_module_version": "1.2.0",
          "state": {
            "_model_module": "@jupyter-widgets/base",
            "_model_module_version": "1.2.0",
            "_model_name": "LayoutModel",
            "_view_count": null,
            "_view_module": "@jupyter-widgets/base",
            "_view_module_version": "1.2.0",
            "_view_name": "LayoutView",
            "align_content": null,
            "align_items": null,
            "align_self": null,
            "border": null,
            "bottom": null,
            "display": null,
            "flex": null,
            "flex_flow": null,
            "grid_area": null,
            "grid_auto_columns": null,
            "grid_auto_flow": null,
            "grid_auto_rows": null,
            "grid_column": null,
            "grid_gap": null,
            "grid_row": null,
            "grid_template_areas": null,
            "grid_template_columns": null,
            "grid_template_rows": null,
            "height": null,
            "justify_content": null,
            "justify_items": null,
            "left": null,
            "margin": null,
            "max_height": null,
            "max_width": null,
            "min_height": null,
            "min_width": null,
            "object_fit": null,
            "object_position": null,
            "order": null,
            "overflow": null,
            "overflow_x": null,
            "overflow_y": null,
            "padding": null,
            "right": null,
            "top": null,
            "visibility": null,
            "width": null
          }
        }
      }
    }
  },
  "cells": [
    {
      "cell_type": "markdown",
      "metadata": {
        "id": "view-in-github",
        "colab_type": "text"
      },
      "source": [
        "<a href=\"https://colab.research.google.com/github/othoni-hub/ECG2/blob/main/Ch05_TD_Ex3_S%C3%A9rie_Chronologique.ipynb\" target=\"_parent\"><img src=\"https://colab.research.google.com/assets/colab-badge.svg\" alt=\"Open In Colab\"/></a>"
      ]
    },
    {
      "cell_type": "markdown",
      "metadata": {
        "id": "9gRjJPolrmT_"
      },
      "source": [
        "# **CPGE-ECG2** \n"
      ]
    },
    {
      "cell_type": "markdown",
      "metadata": {
        "id": "Gprox7oVPE7W"
      },
      "source": [
        "\n",
        "\n",
        "## **Ch5 - Notebook : Statistiques bivariées :** \n",
        "## **Exercice 3 \"Série chronologique, lissage par moyennes mobiles\"**\n",
        "\n",
        "<img src=\"https://drive.google.com/uc?id=12Wo3LubGGT4qOvYFAuLP4CyCuwjKNVuk\" width=\"230\" height=\"150\" align = \"right\"/>\n",
        "\n",
        "\n",
        "\n",
        "\n",
        "**O.Thöni - Lycée Saint-Charles Sainte Croix - LE MANS**"
      ]
    },
    {
      "cell_type": "markdown",
      "source": [
        "## **Étude d'une série chronologique.**\n",
        "\n"
      ],
      "metadata": {
        "id": "z-uv2jTIfNEh"
      }
    },
    {
      "cell_type": "markdown",
      "source": [
        "Les données sont importées depuis un fichier csv et stockées dans un dataFrame Pandas"
      ],
      "metadata": {
        "id": "YjDd1xQ7jcbg"
      }
    },
    {
      "cell_type": "code",
      "source": [
        "import pandas as pd\n",
        "import numpy as np\n",
        "import matplotlib.pyplot as plt"
      ],
      "metadata": {
        "id": "HqazpGmchJxI"
      },
      "execution_count": 1,
      "outputs": []
    },
    {
      "cell_type": "code",
      "source": [
        "url = \"https://raw.githubusercontent.com/othoni-hub/ECG2/main/co2_court.csv\"\n",
        "# attention : import depuis Github : copier le \"raw-github-link\"\n",
        "df = pd.read_csv(url, sep = \",\", encoding='utf-8') # le fichier importé est un fichier .csv, séparateur virgule, converti en DataFrame Pandas\n",
        "df.tail()"
      ],
      "metadata": {
        "colab": {
          "base_uri": "https://localhost:8080/",
          "height": 206
        },
        "id": "USLN2zXfZ5OU",
        "outputId": "b428d0ba-e809-4678-f970-99d8564ddf3f"
      },
      "execution_count": 2,
      "outputs": [
        {
          "output_type": "execute_result",
          "data": {
            "text/plain": [
              "    année  num_mois  date_decimale  Moyenne_mois  Moyenne_interpolee  \\\n",
              "61   2013         2       2013.125        396.79              396.79   \n",
              "62   2013         3       2013.208        397.31              397.31   \n",
              "63   2013         4       2013.292        398.40              398.40   \n",
              "64   2013         5       2013.375        399.73              399.73   \n",
              "65   2013         6       2013.458        398.58              398.58   \n",
              "\n",
              "    Tendance  nb_jours_mois  \n",
              "61    395.89             27  \n",
              "62    395.82             30  \n",
              "63    395.73             27  \n",
              "64    396.50             31  \n",
              "65    396.29             27  "
            ],
            "text/html": [
              "\n",
              "  <div id=\"df-ec3c7a54-82cb-4a3e-942e-4075ee737ae2\">\n",
              "    <div class=\"colab-df-container\">\n",
              "      <div>\n",
              "<style scoped>\n",
              "    .dataframe tbody tr th:only-of-type {\n",
              "        vertical-align: middle;\n",
              "    }\n",
              "\n",
              "    .dataframe tbody tr th {\n",
              "        vertical-align: top;\n",
              "    }\n",
              "\n",
              "    .dataframe thead th {\n",
              "        text-align: right;\n",
              "    }\n",
              "</style>\n",
              "<table border=\"1\" class=\"dataframe\">\n",
              "  <thead>\n",
              "    <tr style=\"text-align: right;\">\n",
              "      <th></th>\n",
              "      <th>année</th>\n",
              "      <th>num_mois</th>\n",
              "      <th>date_decimale</th>\n",
              "      <th>Moyenne_mois</th>\n",
              "      <th>Moyenne_interpolee</th>\n",
              "      <th>Tendance</th>\n",
              "      <th>nb_jours_mois</th>\n",
              "    </tr>\n",
              "  </thead>\n",
              "  <tbody>\n",
              "    <tr>\n",
              "      <th>61</th>\n",
              "      <td>2013</td>\n",
              "      <td>2</td>\n",
              "      <td>2013.125</td>\n",
              "      <td>396.79</td>\n",
              "      <td>396.79</td>\n",
              "      <td>395.89</td>\n",
              "      <td>27</td>\n",
              "    </tr>\n",
              "    <tr>\n",
              "      <th>62</th>\n",
              "      <td>2013</td>\n",
              "      <td>3</td>\n",
              "      <td>2013.208</td>\n",
              "      <td>397.31</td>\n",
              "      <td>397.31</td>\n",
              "      <td>395.82</td>\n",
              "      <td>30</td>\n",
              "    </tr>\n",
              "    <tr>\n",
              "      <th>63</th>\n",
              "      <td>2013</td>\n",
              "      <td>4</td>\n",
              "      <td>2013.292</td>\n",
              "      <td>398.40</td>\n",
              "      <td>398.40</td>\n",
              "      <td>395.73</td>\n",
              "      <td>27</td>\n",
              "    </tr>\n",
              "    <tr>\n",
              "      <th>64</th>\n",
              "      <td>2013</td>\n",
              "      <td>5</td>\n",
              "      <td>2013.375</td>\n",
              "      <td>399.73</td>\n",
              "      <td>399.73</td>\n",
              "      <td>396.50</td>\n",
              "      <td>31</td>\n",
              "    </tr>\n",
              "    <tr>\n",
              "      <th>65</th>\n",
              "      <td>2013</td>\n",
              "      <td>6</td>\n",
              "      <td>2013.458</td>\n",
              "      <td>398.58</td>\n",
              "      <td>398.58</td>\n",
              "      <td>396.29</td>\n",
              "      <td>27</td>\n",
              "    </tr>\n",
              "  </tbody>\n",
              "</table>\n",
              "</div>\n",
              "      <button class=\"colab-df-convert\" onclick=\"convertToInteractive('df-ec3c7a54-82cb-4a3e-942e-4075ee737ae2')\"\n",
              "              title=\"Convert this dataframe to an interactive table.\"\n",
              "              style=\"display:none;\">\n",
              "        \n",
              "  <svg xmlns=\"http://www.w3.org/2000/svg\" height=\"24px\"viewBox=\"0 0 24 24\"\n",
              "       width=\"24px\">\n",
              "    <path d=\"M0 0h24v24H0V0z\" fill=\"none\"/>\n",
              "    <path d=\"M18.56 5.44l.94 2.06.94-2.06 2.06-.94-2.06-.94-.94-2.06-.94 2.06-2.06.94zm-11 1L8.5 8.5l.94-2.06 2.06-.94-2.06-.94L8.5 2.5l-.94 2.06-2.06.94zm10 10l.94 2.06.94-2.06 2.06-.94-2.06-.94-.94-2.06-.94 2.06-2.06.94z\"/><path d=\"M17.41 7.96l-1.37-1.37c-.4-.4-.92-.59-1.43-.59-.52 0-1.04.2-1.43.59L10.3 9.45l-7.72 7.72c-.78.78-.78 2.05 0 2.83L4 21.41c.39.39.9.59 1.41.59.51 0 1.02-.2 1.41-.59l7.78-7.78 2.81-2.81c.8-.78.8-2.07 0-2.86zM5.41 20L4 18.59l7.72-7.72 1.47 1.35L5.41 20z\"/>\n",
              "  </svg>\n",
              "      </button>\n",
              "      \n",
              "  <style>\n",
              "    .colab-df-container {\n",
              "      display:flex;\n",
              "      flex-wrap:wrap;\n",
              "      gap: 12px;\n",
              "    }\n",
              "\n",
              "    .colab-df-convert {\n",
              "      background-color: #E8F0FE;\n",
              "      border: none;\n",
              "      border-radius: 50%;\n",
              "      cursor: pointer;\n",
              "      display: none;\n",
              "      fill: #1967D2;\n",
              "      height: 32px;\n",
              "      padding: 0 0 0 0;\n",
              "      width: 32px;\n",
              "    }\n",
              "\n",
              "    .colab-df-convert:hover {\n",
              "      background-color: #E2EBFA;\n",
              "      box-shadow: 0px 1px 2px rgba(60, 64, 67, 0.3), 0px 1px 3px 1px rgba(60, 64, 67, 0.15);\n",
              "      fill: #174EA6;\n",
              "    }\n",
              "\n",
              "    [theme=dark] .colab-df-convert {\n",
              "      background-color: #3B4455;\n",
              "      fill: #D2E3FC;\n",
              "    }\n",
              "\n",
              "    [theme=dark] .colab-df-convert:hover {\n",
              "      background-color: #434B5C;\n",
              "      box-shadow: 0px 1px 3px 1px rgba(0, 0, 0, 0.15);\n",
              "      filter: drop-shadow(0px 1px 2px rgba(0, 0, 0, 0.3));\n",
              "      fill: #FFFFFF;\n",
              "    }\n",
              "  </style>\n",
              "\n",
              "      <script>\n",
              "        const buttonEl =\n",
              "          document.querySelector('#df-ec3c7a54-82cb-4a3e-942e-4075ee737ae2 button.colab-df-convert');\n",
              "        buttonEl.style.display =\n",
              "          google.colab.kernel.accessAllowed ? 'block' : 'none';\n",
              "\n",
              "        async function convertToInteractive(key) {\n",
              "          const element = document.querySelector('#df-ec3c7a54-82cb-4a3e-942e-4075ee737ae2');\n",
              "          const dataTable =\n",
              "            await google.colab.kernel.invokeFunction('convertToInteractive',\n",
              "                                                     [key], {});\n",
              "          if (!dataTable) return;\n",
              "\n",
              "          const docLinkHtml = 'Like what you see? Visit the ' +\n",
              "            '<a target=\"_blank\" href=https://colab.research.google.com/notebooks/data_table.ipynb>data table notebook</a>'\n",
              "            + ' to learn more about interactive tables.';\n",
              "          element.innerHTML = '';\n",
              "          dataTable['output_type'] = 'display_data';\n",
              "          await google.colab.output.renderOutput(dataTable, element);\n",
              "          const docLink = document.createElement('div');\n",
              "          docLink.innerHTML = docLinkHtml;\n",
              "          element.appendChild(docLink);\n",
              "        }\n",
              "      </script>\n",
              "    </div>\n",
              "  </div>\n",
              "  "
            ]
          },
          "metadata": {},
          "execution_count": 2
        }
      ]
    },
    {
      "cell_type": "code",
      "source": [
        "df.describe()"
      ],
      "metadata": {
        "colab": {
          "base_uri": "https://localhost:8080/",
          "height": 300
        },
        "id": "m5jko3q9t3bL",
        "outputId": "5ce3e65f-0152-47d3-a23a-ce313b0fe1fd"
      },
      "execution_count": 3,
      "outputs": [
        {
          "output_type": "execute_result",
          "data": {
            "text/plain": [
              "             année   num_mois  date_decimale  Moyenne_mois  \\\n",
              "count    66.000000  66.000000      66.000000     66.000000   \n",
              "mean   2010.272727   6.227273    2010.750000    390.381970   \n",
              "std       1.612885   3.467633       1.599684      4.064522   \n",
              "min    2008.000000   1.000000    2008.042000    382.990000   \n",
              "25%    2009.000000   3.000000    2009.395750    387.227500   \n",
              "50%    2010.000000   6.000000    2010.750000    390.190000   \n",
              "75%    2012.000000   9.000000    2012.104250    393.100000   \n",
              "max    2013.000000  12.000000    2013.458000    399.730000   \n",
              "\n",
              "       Moyenne_interpolee    Tendance  nb_jours_mois  \n",
              "count           66.000000   66.000000      66.000000  \n",
              "mean           390.381970  390.217576      28.727273  \n",
              "std              4.064522    3.414565       3.061148  \n",
              "min            382.990000  384.400000      10.000000  \n",
              "25%            387.227500  387.202500      28.000000  \n",
              "50%            390.190000  390.325000      29.500000  \n",
              "75%            393.100000  392.797500      30.000000  \n",
              "max            399.730000  396.500000      31.000000  "
            ],
            "text/html": [
              "\n",
              "  <div id=\"df-ad0ce9d6-35b6-4b55-a265-b24737417be8\">\n",
              "    <div class=\"colab-df-container\">\n",
              "      <div>\n",
              "<style scoped>\n",
              "    .dataframe tbody tr th:only-of-type {\n",
              "        vertical-align: middle;\n",
              "    }\n",
              "\n",
              "    .dataframe tbody tr th {\n",
              "        vertical-align: top;\n",
              "    }\n",
              "\n",
              "    .dataframe thead th {\n",
              "        text-align: right;\n",
              "    }\n",
              "</style>\n",
              "<table border=\"1\" class=\"dataframe\">\n",
              "  <thead>\n",
              "    <tr style=\"text-align: right;\">\n",
              "      <th></th>\n",
              "      <th>année</th>\n",
              "      <th>num_mois</th>\n",
              "      <th>date_decimale</th>\n",
              "      <th>Moyenne_mois</th>\n",
              "      <th>Moyenne_interpolee</th>\n",
              "      <th>Tendance</th>\n",
              "      <th>nb_jours_mois</th>\n",
              "    </tr>\n",
              "  </thead>\n",
              "  <tbody>\n",
              "    <tr>\n",
              "      <th>count</th>\n",
              "      <td>66.000000</td>\n",
              "      <td>66.000000</td>\n",
              "      <td>66.000000</td>\n",
              "      <td>66.000000</td>\n",
              "      <td>66.000000</td>\n",
              "      <td>66.000000</td>\n",
              "      <td>66.000000</td>\n",
              "    </tr>\n",
              "    <tr>\n",
              "      <th>mean</th>\n",
              "      <td>2010.272727</td>\n",
              "      <td>6.227273</td>\n",
              "      <td>2010.750000</td>\n",
              "      <td>390.381970</td>\n",
              "      <td>390.381970</td>\n",
              "      <td>390.217576</td>\n",
              "      <td>28.727273</td>\n",
              "    </tr>\n",
              "    <tr>\n",
              "      <th>std</th>\n",
              "      <td>1.612885</td>\n",
              "      <td>3.467633</td>\n",
              "      <td>1.599684</td>\n",
              "      <td>4.064522</td>\n",
              "      <td>4.064522</td>\n",
              "      <td>3.414565</td>\n",
              "      <td>3.061148</td>\n",
              "    </tr>\n",
              "    <tr>\n",
              "      <th>min</th>\n",
              "      <td>2008.000000</td>\n",
              "      <td>1.000000</td>\n",
              "      <td>2008.042000</td>\n",
              "      <td>382.990000</td>\n",
              "      <td>382.990000</td>\n",
              "      <td>384.400000</td>\n",
              "      <td>10.000000</td>\n",
              "    </tr>\n",
              "    <tr>\n",
              "      <th>25%</th>\n",
              "      <td>2009.000000</td>\n",
              "      <td>3.000000</td>\n",
              "      <td>2009.395750</td>\n",
              "      <td>387.227500</td>\n",
              "      <td>387.227500</td>\n",
              "      <td>387.202500</td>\n",
              "      <td>28.000000</td>\n",
              "    </tr>\n",
              "    <tr>\n",
              "      <th>50%</th>\n",
              "      <td>2010.000000</td>\n",
              "      <td>6.000000</td>\n",
              "      <td>2010.750000</td>\n",
              "      <td>390.190000</td>\n",
              "      <td>390.190000</td>\n",
              "      <td>390.325000</td>\n",
              "      <td>29.500000</td>\n",
              "    </tr>\n",
              "    <tr>\n",
              "      <th>75%</th>\n",
              "      <td>2012.000000</td>\n",
              "      <td>9.000000</td>\n",
              "      <td>2012.104250</td>\n",
              "      <td>393.100000</td>\n",
              "      <td>393.100000</td>\n",
              "      <td>392.797500</td>\n",
              "      <td>30.000000</td>\n",
              "    </tr>\n",
              "    <tr>\n",
              "      <th>max</th>\n",
              "      <td>2013.000000</td>\n",
              "      <td>12.000000</td>\n",
              "      <td>2013.458000</td>\n",
              "      <td>399.730000</td>\n",
              "      <td>399.730000</td>\n",
              "      <td>396.500000</td>\n",
              "      <td>31.000000</td>\n",
              "    </tr>\n",
              "  </tbody>\n",
              "</table>\n",
              "</div>\n",
              "      <button class=\"colab-df-convert\" onclick=\"convertToInteractive('df-ad0ce9d6-35b6-4b55-a265-b24737417be8')\"\n",
              "              title=\"Convert this dataframe to an interactive table.\"\n",
              "              style=\"display:none;\">\n",
              "        \n",
              "  <svg xmlns=\"http://www.w3.org/2000/svg\" height=\"24px\"viewBox=\"0 0 24 24\"\n",
              "       width=\"24px\">\n",
              "    <path d=\"M0 0h24v24H0V0z\" fill=\"none\"/>\n",
              "    <path d=\"M18.56 5.44l.94 2.06.94-2.06 2.06-.94-2.06-.94-.94-2.06-.94 2.06-2.06.94zm-11 1L8.5 8.5l.94-2.06 2.06-.94-2.06-.94L8.5 2.5l-.94 2.06-2.06.94zm10 10l.94 2.06.94-2.06 2.06-.94-2.06-.94-.94-2.06-.94 2.06-2.06.94z\"/><path d=\"M17.41 7.96l-1.37-1.37c-.4-.4-.92-.59-1.43-.59-.52 0-1.04.2-1.43.59L10.3 9.45l-7.72 7.72c-.78.78-.78 2.05 0 2.83L4 21.41c.39.39.9.59 1.41.59.51 0 1.02-.2 1.41-.59l7.78-7.78 2.81-2.81c.8-.78.8-2.07 0-2.86zM5.41 20L4 18.59l7.72-7.72 1.47 1.35L5.41 20z\"/>\n",
              "  </svg>\n",
              "      </button>\n",
              "      \n",
              "  <style>\n",
              "    .colab-df-container {\n",
              "      display:flex;\n",
              "      flex-wrap:wrap;\n",
              "      gap: 12px;\n",
              "    }\n",
              "\n",
              "    .colab-df-convert {\n",
              "      background-color: #E8F0FE;\n",
              "      border: none;\n",
              "      border-radius: 50%;\n",
              "      cursor: pointer;\n",
              "      display: none;\n",
              "      fill: #1967D2;\n",
              "      height: 32px;\n",
              "      padding: 0 0 0 0;\n",
              "      width: 32px;\n",
              "    }\n",
              "\n",
              "    .colab-df-convert:hover {\n",
              "      background-color: #E2EBFA;\n",
              "      box-shadow: 0px 1px 2px rgba(60, 64, 67, 0.3), 0px 1px 3px 1px rgba(60, 64, 67, 0.15);\n",
              "      fill: #174EA6;\n",
              "    }\n",
              "\n",
              "    [theme=dark] .colab-df-convert {\n",
              "      background-color: #3B4455;\n",
              "      fill: #D2E3FC;\n",
              "    }\n",
              "\n",
              "    [theme=dark] .colab-df-convert:hover {\n",
              "      background-color: #434B5C;\n",
              "      box-shadow: 0px 1px 3px 1px rgba(0, 0, 0, 0.15);\n",
              "      filter: drop-shadow(0px 1px 2px rgba(0, 0, 0, 0.3));\n",
              "      fill: #FFFFFF;\n",
              "    }\n",
              "  </style>\n",
              "\n",
              "      <script>\n",
              "        const buttonEl =\n",
              "          document.querySelector('#df-ad0ce9d6-35b6-4b55-a265-b24737417be8 button.colab-df-convert');\n",
              "        buttonEl.style.display =\n",
              "          google.colab.kernel.accessAllowed ? 'block' : 'none';\n",
              "\n",
              "        async function convertToInteractive(key) {\n",
              "          const element = document.querySelector('#df-ad0ce9d6-35b6-4b55-a265-b24737417be8');\n",
              "          const dataTable =\n",
              "            await google.colab.kernel.invokeFunction('convertToInteractive',\n",
              "                                                     [key], {});\n",
              "          if (!dataTable) return;\n",
              "\n",
              "          const docLinkHtml = 'Like what you see? Visit the ' +\n",
              "            '<a target=\"_blank\" href=https://colab.research.google.com/notebooks/data_table.ipynb>data table notebook</a>'\n",
              "            + ' to learn more about interactive tables.';\n",
              "          element.innerHTML = '';\n",
              "          dataTable['output_type'] = 'display_data';\n",
              "          await google.colab.output.renderOutput(dataTable, element);\n",
              "          const docLink = document.createElement('div');\n",
              "          docLink.innerHTML = docLinkHtml;\n",
              "          element.appendChild(docLink);\n",
              "        }\n",
              "      </script>\n",
              "    </div>\n",
              "  </div>\n",
              "  "
            ]
          },
          "metadata": {},
          "execution_count": 3
        }
      ]
    },
    {
      "cell_type": "code",
      "source": [
        "Dates = list(df['date_decimale'])\n",
        "TauxCO2 = list(df['Moyenne_mois'])"
      ],
      "metadata": {
        "id": "hkBIb3UUqi9b"
      },
      "execution_count": 4,
      "outputs": []
    },
    {
      "cell_type": "code",
      "source": [
        "x_bar = np.mean(Dates)\n",
        "y_bar = np.mean(TauxCO2)"
      ],
      "metadata": {
        "id": "0KDv0VSEtUbr"
      },
      "execution_count": 5,
      "outputs": []
    },
    {
      "cell_type": "markdown",
      "source": [
        "* **Représentation graphique**\n",
        "\n",
        "En statistiques, on commence toujours par se donner une image des données."
      ],
      "metadata": {
        "id": "FgCPYhcvx4ez"
      }
    },
    {
      "cell_type": "code",
      "source": [
        "def centrax(xmin, xmax, ymin, ymax, titre, legende = [], axe_x = \"\", axe_y = \"\"):\n",
        "    '''Cette procédure ajuste les paramètres graphiques : fenêtre (xmin, xmax, ymin, ymax), titre, légende (vide par défaut)'''\n",
        "    # ajustement des paramètres des axes (centrage, couleur, etc.)\n",
        "    ax = plt.gca()\n",
        "    ax.legend(legende, loc = 'best')\n",
        "    \n",
        "\n",
        "    plt.xlim(xmin,xmax)   \n",
        "    plt.ylim(ymin,ymax)         # fenêtre d'affichage\n",
        "    plt.title(titre)            # titre du graphique au format LaTeX (encadré par des $)\n",
        "    plt.xlabel(axe_x)           # nom des axes\n",
        "    plt.ylabel(axe_y)\n",
        "\n",
        "    plt.show()"
      ],
      "metadata": {
        "id": "GhCIx0xKn5Tu"
      },
      "execution_count": 6,
      "outputs": []
    },
    {
      "cell_type": "code",
      "source": [
        "# paramètres graphiques\n",
        "xmin = np.floor(min(Dates))\n",
        "xmax = np.floor(max(Dates))+1\n",
        "ymin = np.floor(min(TauxCO2))\n",
        "ymax = np.floor(max(TauxCO2))+1\n",
        "titre = \"Évolution du taux de CO2 dans l'atmosphère\"\n",
        "axe_x = \"Année\"\n",
        "axe_y = \"TauxCO2(ppm)\""
      ],
      "metadata": {
        "id": "UBhpUdIXhJ1t"
      },
      "execution_count": 7,
      "outputs": []
    },
    {
      "cell_type": "code",
      "source": [
        "plt.scatter(Dates,TauxCO2 , marker ='+',color = 'red')  # représentation graphique du nuage de points \n",
        "plt.plot(Dates,TauxCO2 ,color = 'red', linewidth = 0.5)                  \n",
        "plt.scatter(x_bar,y_bar,marker = \"v\", color = \"blue\")   # placement du point moyen\n",
        "legende=['Données mesurées','Données mesurées','Point moyen']\n",
        "centrax(xmin, xmax, ymin, ymax, titre, legende, axe_x, axe_y)"
      ],
      "metadata": {
        "colab": {
          "base_uri": "https://localhost:8080/",
          "height": 297
        },
        "id": "VKKMIKdGavv6",
        "outputId": "88253ef4-dd57-4563-f7eb-fee44c87b56e"
      },
      "execution_count": 8,
      "outputs": [
        {
          "output_type": "display_data",
          "data": {
            "text/plain": [
              "<Figure size 432x288 with 1 Axes>"
            ],
            "image/png": "[encoded data removed]"
          },
          "metadata": {
            "needs_background": "light"
          }
        }
      ]
    },
    {
      "cell_type": "markdown",
      "source": [
        "On observe qu'au cours d'une même année, le taux de CO2 atmosphérique augment dès la fin de l'été, sur toute la période de chauffage des bâtiments, puis diminue à nouveau à partir d'avril.\n",
        "\n",
        "Par contre, ce qui est (devrait être) plus inquiétant, c'est la hausse globale d'une année sur l'autre !!!"
      ],
      "metadata": {
        "id": "ZnKxrNAQDpWD"
      }
    },
    {
      "cell_type": "markdown",
      "source": [
        "## **Lissage par moyennes mobiles**\n",
        "\n",
        "Les **\"moyennes mobiles\"** ou **\"moyennes glissantes\"** permettent de corriger les variations saisonnières : on remplace chaque valeur d'un mois donné par les moyennes des 3, 6 ou 12 mois contigus."
      ],
      "metadata": {
        "id": "Cv2OPz9Gyjm9"
      }
    },
    {
      "cell_type": "code",
      "source": [
        "def moyennes_glissantes(periode) :\n",
        "    colors = {3 :'black',6 :'green', 9 : 'blue', 12 :'purple'}\n",
        "    moyennes_glissantes_periode = [np.mean(TauxCO2[k : k + periode]) for k in range(0,len(Dates)-periode)]\n",
        "\n",
        "    plt.scatter(Dates,TauxCO2 , marker ='+',color = 'red')  # représentation graphique du nuage de points \n",
        "    plt.plot(Dates,TauxCO2 ,color = 'red', linewidth = 0.5)                  \n",
        "    plt.scatter(x_bar,y_bar,marker = \"v\", color = \"blue\")   # placement du point moyen\n",
        "    nb_valeurs = len(Dates)-periode\n",
        "    date_basse = int(periode/2)\n",
        "    date_haute = date_basse + nb_valeurs\n",
        "    plt.plot(Dates[date_basse : date_haute], moyennes_glissantes_periode, color = colors[periode], linewidth = 0.5)\n",
        "    legende=['Données mesurées','Moyennes glissantes sur '+ str(periode) +' mois','Données mesurées','Point moyen']\n",
        "    centrax(xmin, xmax, ymin, ymax, titre, legende, axe_x, axe_y)"
      ],
      "metadata": {
        "id": "ajF9tp_yAN-P"
      },
      "execution_count": 9,
      "outputs": []
    },
    {
      "cell_type": "code",
      "source": [
        "moyennes_glissantes(3)"
      ],
      "metadata": {
        "colab": {
          "base_uri": "https://localhost:8080/",
          "height": 297
        },
        "id": "aMUDtGxK1yxS",
        "outputId": "4b01f4bf-e553-4f21-efe0-8f7a85f612e9"
      },
      "execution_count": 10,
      "outputs": [
        {
          "output_type": "display_data",
          "data": {
            "text/plain": [
              "<Figure size 432x288 with 1 Axes>"
            ],
            "image/png": "[encoded data removed]"
          },
          "metadata": {
            "needs_background": "light"
          }
        }
      ]
    },
    {
      "cell_type": "code",
      "source": [
        "moyennes_glissantes(6)"
      ],
      "metadata": {
        "colab": {
          "base_uri": "https://localhost:8080/",
          "height": 297
        },
        "id": "NrTfz9VdCu-K",
        "outputId": "2be72e7e-6b76-4a44-bb68-069c4096e771"
      },
      "execution_count": 11,
      "outputs": [
        {
          "output_type": "display_data",
          "data": {
            "text/plain": [
              "<Figure size 432x288 with 1 Axes>"
            ],
            "image/png": "[encoded data removed]"
          },
          "metadata": {
            "needs_background": "light"
          }
        }
      ]
    },
    {
      "cell_type": "code",
      "source": [
        "moyennes_glissantes(9)"
      ],
      "metadata": {
        "colab": {
          "base_uri": "https://localhost:8080/",
          "height": 297
        },
        "id": "MokFHAI5CwX1",
        "outputId": "0ffbe41d-defb-456b-eb3b-cb54a02260ac"
      },
      "execution_count": 12,
      "outputs": [
        {
          "output_type": "display_data",
          "data": {
            "text/plain": [
              "<Figure size 432x288 with 1 Axes>"
            ],
            "image/png": "[encoded data removed]"
          },
          "metadata": {
            "needs_background": "light"
          }
        }
      ]
    },
    {
      "cell_type": "code",
      "source": [
        "moyennes_glissantes(12)"
      ],
      "metadata": {
        "id": "FYErtX416KSa",
        "colab": {
          "base_uri": "https://localhost:8080/",
          "height": 297
        },
        "outputId": "1c52da4d-6ed5-485d-cf8f-d57fba64b5d7"
      },
      "execution_count": 13,
      "outputs": [
        {
          "output_type": "display_data",
          "data": {
            "text/plain": [
              "<Figure size 432x288 with 1 Axes>"
            ],
            "image/png": "[encoded data removed]"
          },
          "metadata": {
            "needs_background": "light"
          }
        }
      ]
    },
    {
      "cell_type": "markdown",
      "source": [
        "## **Régression linéaire**\n",
        "\n",
        "Calculons et représentons la droite d'ajustement du nuage de points de cette série chronologique."
      ],
      "metadata": {
        "id": "PV3UvC-kdKkb"
      }
    },
    {
      "cell_type": "code",
      "source": [
        "def droite(xx,a,b) :\n",
        "    '''Cette fonction reçoit un vecteur d'abscisse, un coefficient directeur a et une ordonnée à l'origine b\n",
        "    et trace la droite y = ax + b'''\n",
        "    yy = [a*x + b for x in xx]\n",
        "    plt.plot(xx,yy,color  ='blue', linewidth = 0.5)"
      ],
      "metadata": {
        "id": "OhlMVJtLEJNo"
      },
      "execution_count": 14,
      "outputs": []
    },
    {
      "cell_type": "code",
      "source": [
        "def covariance_empirique(x,y) :\n",
        "    '''Cette fonction reçoit deux listes x et y, de même taille, \n",
        "    et renvoie la covariance de ces deux listes\n",
        "    Remarque : si x = y, on obtient la variance de x.'''\n",
        "    xbar = np.mean(x)\n",
        "    ybar = np.mean(y)\n",
        "    n = len(x)\n",
        "\n",
        "    s_XY = 1/n * sum([(x[k] - xbar)*(y[k] - ybar) for k in range(n)])\n",
        "    return s_XY"
      ],
      "metadata": {
        "id": "-oHPMfg0wMU1"
      },
      "execution_count": 15,
      "outputs": []
    },
    {
      "cell_type": "code",
      "source": [
        "s_XY = covariance_empirique(Dates, TauxCO2)\n",
        "s_XY"
      ],
      "metadata": {
        "colab": {
          "base_uri": "https://localhost:8080/"
        },
        "id": "kD0ocPzFFyiX",
        "outputId": "f28d5bc9-0137-42c7-c8e0-25bc3123a019"
      },
      "execution_count": 16,
      "outputs": [
        {
          "output_type": "execute_result",
          "data": {
            "text/plain": [
              "5.403136515151526"
            ]
          },
          "metadata": {},
          "execution_count": 16
        }
      ]
    },
    {
      "cell_type": "code",
      "source": [
        "def coeff_droite_regression(x,y):\n",
        "    '''Cette fonction reçoit deux listes x et y de même taille,\n",
        "    et renvoie les coefficients de la droite d'ajustemennt de y en x'''\n",
        "    xbar = np.mean(x)\n",
        "    ybar = np.mean(y)\n",
        "\n",
        "    # pente\n",
        "    a = covariance_empirique(x, y) / covariance_empirique(x, x)\n",
        "    # ordonnée à l'origine\n",
        "    b = ybar - a * xbar\n",
        "    return a, b"
      ],
      "metadata": {
        "id": "jPCsqQ-TGMn8"
      },
      "execution_count": 17,
      "outputs": []
    },
    {
      "cell_type": "code",
      "source": [
        "a,b = coeff_droite_regression(Dates, TauxCO2)\n",
        "print('Équation de la droite de régression de Y en X : y=' + str(a) + '.x + ' + str(b))"
      ],
      "metadata": {
        "colab": {
          "base_uri": "https://localhost:8080/"
        },
        "id": "nHPZWySHG9xU",
        "outputId": "43894c0e-702d-4eb8-91b6-9e043d99c12c"
      },
      "execution_count": 18,
      "outputs": [
        {
          "output_type": "stream",
          "name": "stdout",
          "text": [
            "Équation de la droite de régression de Y en X : y=2.1439166095117073.x + -3920.4983528786956\n"
          ]
        }
      ]
    },
    {
      "cell_type": "code",
      "source": [
        "def y_ajuste(xx,a,b):\n",
        "    '''Cette fonction reçoit une liste xx, les coeeficients caractéristiques de la droite de régression\n",
        "    et renvoie la liste des ordonnées ajustées sur cette droite'''\n",
        "    yy = [a*x + b for x in xx]\n",
        "    return yy"
      ],
      "metadata": {
        "id": "wbnylyjjpqUb"
      },
      "execution_count": 19,
      "outputs": []
    },
    {
      "cell_type": "markdown",
      "source": [
        "* On calcule les taux ajustés, débarrassés des variations saisonnières."
      ],
      "metadata": {
        "id": "YWK5X-3Xt0a-"
      }
    },
    {
      "cell_type": "code",
      "source": [
        "taux_ajustes = y_ajuste(Dates,a,b)\n"
      ],
      "metadata": {
        "id": "WE23-kv0H3ZO"
      },
      "execution_count": 20,
      "outputs": []
    },
    {
      "cell_type": "markdown",
      "source": [
        "**Représentation graphique**"
      ],
      "metadata": {
        "id": "9baucCK3HV68"
      }
    },
    {
      "cell_type": "code",
      "source": [
        "plt.scatter(Dates,TauxCO2 , marker ='+',color = 'red')  # représentation graphique du nuage de points \n",
        "plt.plot(Dates,TauxCO2 ,color = 'red', linewidth = 0.5)                  \n",
        "plt.scatter(x_bar,y_bar,marker = \"v\", color = \"blue\")   # placement du point moyen\n",
        "\n",
        "droite(Dates, a, b)\n",
        "\n",
        "legende=['Données mesurées','Droite de regression','Données mesurées','Point moyen']\n",
        "centrax(xmin, xmax, ymin, ymax, titre, legende, axe_x, axe_y)"
      ],
      "metadata": {
        "colab": {
          "base_uri": "https://localhost:8080/",
          "height": 297
        },
        "id": "PpB3Ml-He5OA",
        "outputId": "df87160a-1ceb-406a-a209-d6d20d0cfe96"
      },
      "execution_count": 21,
      "outputs": [
        {
          "output_type": "display_data",
          "data": {
            "text/plain": [
              "<Figure size 432x288 with 1 Axes>"
            ],
            "image/png": "[encoded data removed]"
          },
          "metadata": {
            "needs_background": "light"
          }
        }
      ]
    },
    {
      "cell_type": "markdown",
      "source": [
        "### **Variations saisonnières**\n",
        "\n",
        "On peut également visualiser uniquement les variations saisonnières : il suffit de faire la différence entre les données réelles et les valeurs ajustées.\n",
        "\n",
        "On parle alors de ***série des données corrigées des variations saisonnières***"
      ],
      "metadata": {
        "id": "leKdgWov70Bn"
      }
    },
    {
      "cell_type": "code",
      "source": [
        "variations_saisonnieres = [TauxCO2[k] - taux_ajustes[k] for k in range(len(TauxCO2))]\n",
        "ymin = -20\n",
        "ymax = 20\n",
        "\n",
        "plt.scatter(Dates,variations_saisonnieres , marker ='+',color = 'blue')  # représentation graphique du nuage de points  des variations saisonnieres \n",
        "plt.plot(Dates,variations_saisonnieres ,color = 'blue', linewidth = 0.5)  \n",
        "\n",
        "legende=['variations saisonnières','variations saisonnières']\n",
        "centrax(xmin, xmax, ymin, ymax, titre, legende, axe_x, axe_y)"
      ],
      "metadata": {
        "colab": {
          "base_uri": "https://localhost:8080/",
          "height": 297
        },
        "id": "xF87ukM-8EBS",
        "outputId": "020288ea-047f-4f87-e19e-96bd859a3091"
      },
      "execution_count": 22,
      "outputs": [
        {
          "output_type": "display_data",
          "data": {
            "text/plain": [
              "<Figure size 432x288 with 1 Axes>"
            ],
            "image/png": "[encoded data removed]"
          },
          "metadata": {
            "needs_background": "light"
          }
        }
      ]
    },
    {
      "cell_type": "markdown",
      "source": [
        "Il pourrait être amusant de regarder ce qui se passe quand on gomme à nouveau ces variations saisonnières...\n",
        "\n",
        "Il ne restera qu'une variation résiduelle, due peut-être à des évenements particuliers ponctuels, météorologiques, par exemple, ou même tout simplement au hasard.\n",
        "\n",
        "L'ajustement n'est clairement pas linéaire, la courbe des variations saisonnières ressemblerait plus à une sinusoïde, c'est-à-dire une fonction de la forme $r(x) = \\alpha . \\sin \\left ( \\omega  x + \\phi \\right )$.\n",
        "\n",
        "Cherchons un ajustement avec trois petits curseurs..."
      ],
      "metadata": {
        "id": "Gawe4OZ5_J1P"
      }
    },
    {
      "cell_type": "markdown",
      "source": [
        "## **graphique interactif**\n",
        "\n"
      ],
      "metadata": {
        "id": "MWZZo8DfeOZT"
      }
    },
    {
      "cell_type": "code",
      "source": [
        "from ipywidgets import interact\n",
        "from IPython.display import display\n",
        "from math import sin, pi\n",
        "\n",
        "import matplotlib.pyplot as plt\n",
        "import numpy as np\n",
        "%matplotlib inline"
      ],
      "metadata": {
        "id": "5c-nwCzzeWpw"
      },
      "execution_count": 23,
      "outputs": []
    },
    {
      "cell_type": "markdown",
      "source": [
        "Intéragir sur les curseurs pour faire coller au mieux, au jugé, la sinusoïde avec le nuage de points."
      ],
      "metadata": {
        "id": "3vzL_0x2p9Pj"
      }
    },
    {
      "cell_type": "code",
      "source": [
        "\n",
        "def graph_interactif(alpha, omega, phi):\n",
        "    plt.scatter(Dates,variations_saisonnieres , marker ='+',color = 'blue')  # représentation graphique du nuage de points  des variations saisonnieres\n",
        "\n",
        "    xx = np.arange(xmin , xmax , 0.05)\n",
        "    yy = [alpha*sin(omega*(x+phi)) for x in xx]  \n",
        "    plt.plot(xx,yy, color = 'orange', linewidth = 0.5)\n",
        "    centrax(xmin, xmax, ymin, ymax, titre, \"\", axe_x, axe_y)\n",
        "interact(graph_interactif, alpha = (1, 5, 0.5), omega = (1,10, 0.05), phi = (-6, 6,0.05))"
      ],
      "metadata": {
        "colab": {
          "base_uri": "https://localhost:8080/",
          "height": 410,
          "referenced_widgets": [
            "47724c1c52ed490daba7c476eba90442",
            "88d91b0ce83443de9d2bed675d9ac1bc",
            "e6238adcd66e430387e58e0845c0a508",
            "6a65e84d670a4eba8de8e2d6622d67fe",
            "c037c2cc3bba462085934bcbf4a25868",
            "8b0e35fe0fe94e9694838355eb5c4c28",
            "1b74f8c3d9a54070b217af0200ab67ab",
            "820baeec771049d69eb6901f8f2f9c6b",
            "087ed9bc2e9044fb85b36c25f030be75",
            "90d1fe8718274909a0403aa02e9c23ac",
            "5f682a885f6848fa983d6be4531d6a2e",
            "385521222e204203928b6f6d41e439fa",
            "917d9e067fe54695b75cc21c46051e8e"
          ]
        },
        "id": "53od6g6ZebxV",
        "outputId": "606d5813-7673-45a7-9943-278e4c3d656e"
      },
      "execution_count": 24,
      "outputs": [
        {
          "output_type": "display_data",
          "data": {
            "text/plain": [
              "interactive(children=(FloatSlider(value=3.0, description='alpha', max=5.0, min=1.0, step=0.5), FloatSlider(val…"
            ],
            "application/vnd.jupyter.widget-view+json": {
              "version_major": 2,
              "version_minor": 0,
              "model_id": "47724c1c52ed490daba7c476eba90442"
            }
          },
          "metadata": {}
        },
        {
          "output_type": "execute_result",
          "data": {
            "text/plain": [
              "<function __main__.graph_interactif>"
            ]
          },
          "metadata": {},
          "execution_count": 24
        }
      ]
    },
    {
      "cell_type": "markdown",
      "source": [
        "Avec $r(x) = 3.5  \\sin \\left ( 6.35  x + 1.55 \\right )$, on n'est pas mal !\n",
        "\n",
        "Et voilà donc nos variations résiduelles :"
      ],
      "metadata": {
        "id": "-ssJc8xUF4-6"
      }
    },
    {
      "cell_type": "code",
      "source": [
        "alpha = 3.5\n",
        "omega = 6.35\n",
        "phi = 1.55\n",
        "\n",
        "variations_saisonnieres_ajustees = [alpha*sin(omega*(x+phi)) for x in Dates]  \n",
        "variations_residuelles = [variations_saisonnieres[k] - variations_saisonnieres_ajustees[k] for k in range(len(Dates))]\n",
        "\n",
        "plt.plot(Dates,variations_residuelles ,color = 'purple', linewidth = 0.5)  \n",
        "\n",
        "legende=['variations résiduelles']\n",
        "centrax(xmin, xmax, ymin, ymax, titre, legende, axe_x, axe_y)"
      ],
      "metadata": {
        "colab": {
          "base_uri": "https://localhost:8080/",
          "height": 297
        },
        "id": "BIUQfEoECikH",
        "outputId": "549894a6-7538-4cf5-e046-495c9f9cd826"
      },
      "execution_count": 25,
      "outputs": [
        {
          "output_type": "display_data",
          "data": {
            "text/plain": [
              "<Figure size 432x288 with 1 Axes>"
            ],
            "image/png": "[encoded data removed]"
          },
          "metadata": {
            "needs_background": "light"
          }
        }
      ]
    },
    {
      "cell_type": "code",
      "source": [
        ""
      ],
      "metadata": {
        "id": "N_SpOofwG-DG"
      },
      "execution_count": 25,
      "outputs": []
    }
  ]
}