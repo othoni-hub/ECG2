{
  "nbformat": 4,
  "nbformat_minor": 0,
  "metadata": {
    "colab": {
      "name": "Ch05-StatistiquesBivariees.ipynb",
      "provenance": [],
      "collapsed_sections": [],
      "authorship_tag": "ABX9TyMwrKFeHsnWb9AvCk0tgB2n",
      "include_colab_link": true
    },
    "kernelspec": {
      "name": "python3",
      "display_name": "Python 3"
    },
    "language_info": {
      "name": "python"
    }
  },
  "cells": [
    {
      "cell_type": "markdown",
      "metadata": {
        "id": "view-in-github",
        "colab_type": "text"
      },
      "source": [
        "<a href=\"https://colab.research.google.com/github/othoni-hub/ECG2/blob/main/Ch05_StatistiquesBivariees.ipynb\" target=\"_parent\"><img src=\"https://colab.research.google.com/assets/colab-badge.svg\" alt=\"Open In Colab\"/></a>"
      ]
    },
    {
      "cell_type": "markdown",
      "metadata": {
        "id": "9gRjJPolrmT_"
      },
      "source": [
        "# **CPGE-ECG2** \n"
      ]
    },
    {
      "cell_type": "markdown",
      "metadata": {
        "id": "Gprox7oVPE7W"
      },
      "source": [
        "\n",
        "\n",
        "## **Ch4 - Notebook : Statistiques bivariées**\n",
        "\n",
        "<img src=\"https://drive.google.com/uc?id=12Wo3LubGGT4qOvYFAuLP4CyCuwjKNVuk\" width=\"230\" height=\"150\" align = \"right\"/>\n",
        "\n",
        "\n",
        "\n",
        "\n",
        "**O.Thöni - Lycée Saint-Charles Sainte Croix - LE MANS**"
      ]
    },
    {
      "cell_type": "markdown",
      "source": [
        "## **1<sup>er</sup> exemple : chauffage central**\n",
        "\n"
      ],
      "metadata": {
        "id": "z-uv2jTIfNEh"
      }
    },
    {
      "cell_type": "markdown",
      "source": [
        "Les données sont saisies grâce à un dictionnaire, pour figurer la relation entre la clé (température) et la valeur (volume de fuel constaté)"
      ],
      "metadata": {
        "id": "YjDd1xQ7jcbg"
      }
    },
    {
      "cell_type": "code",
      "source": [
        "serie = {-6 : 40, -4 : 36, 0 : 35, 5 : 23, 10 : 16}\n",
        "serie"
      ],
      "metadata": {
        "colab": {
          "base_uri": "https://localhost:8080/"
        },
        "id": "8aFkmOG5fJjl",
        "outputId": "664de286-8ed2-4061-be20-f322c33e3270"
      },
      "execution_count": null,
      "outputs": [
        {
          "output_type": "execute_result",
          "data": {
            "text/plain": [
              "{-6: 40, -4: 36, 0: 35, 5: 23, 10: 16}"
            ]
          },
          "metadata": {},
          "execution_count": 105
        }
      ]
    },
    {
      "cell_type": "markdown",
      "source": [
        "On sépare la série **\"explicative\"** : les températures..."
      ],
      "metadata": {
        "id": "HY2nM70WjsNR"
      }
    },
    {
      "cell_type": "code",
      "source": [
        "temperatures = list(serie.keys())\n",
        "temperatures"
      ],
      "metadata": {
        "colab": {
          "base_uri": "https://localhost:8080/"
        },
        "id": "z-vUPiY0gKed",
        "outputId": "45dbb9b1-4c1c-4949-8f9a-43e12d6ae5e7"
      },
      "execution_count": null,
      "outputs": [
        {
          "output_type": "execute_result",
          "data": {
            "text/plain": [
              "[-6, -4, 0, 5, 10]"
            ]
          },
          "metadata": {},
          "execution_count": 106
        }
      ]
    },
    {
      "cell_type": "markdown",
      "source": [
        "... et la série **\"expliquée\"** : les volumes de fuel consommés"
      ],
      "metadata": {
        "id": "Qz-cLIGOj4If"
      }
    },
    {
      "cell_type": "code",
      "source": [
        "volumes_fuel = list(serie.values())\n",
        "volumes_fuel"
      ],
      "metadata": {
        "colab": {
          "base_uri": "https://localhost:8080/"
        },
        "id": "CjfzU3jdgcpw",
        "outputId": "34f43f8f-7055-4121-9438-158e61ad94d3"
      },
      "execution_count": null,
      "outputs": [
        {
          "output_type": "execute_result",
          "data": {
            "text/plain": [
              "[40, 36, 35, 23, 16]"
            ]
          },
          "metadata": {},
          "execution_count": 107
        }
      ]
    },
    {
      "cell_type": "markdown",
      "source": [
        "### **Calcul du point moyen**"
      ],
      "metadata": {
        "id": "q-0_5eGAzg1i"
      }
    },
    {
      "cell_type": "code",
      "source": [
        "x_bar = np.mean(temperatures)\n",
        "x_bar"
      ],
      "metadata": {
        "colab": {
          "base_uri": "https://localhost:8080/"
        },
        "id": "fyWeQSkGzrhO",
        "outputId": "51ae2051-e412-4cb1-d36d-7d1d2676e356"
      },
      "execution_count": null,
      "outputs": [
        {
          "output_type": "execute_result",
          "data": {
            "text/plain": [
              "1.0"
            ]
          },
          "metadata": {},
          "execution_count": 108
        }
      ]
    },
    {
      "cell_type": "code",
      "source": [
        "y_bar = np.mean(volumes_fuel)\n",
        "y_bar"
      ],
      "metadata": {
        "colab": {
          "base_uri": "https://localhost:8080/"
        },
        "id": "f80CS4QS0BRz",
        "outputId": "3a092052-7cea-477d-cb52-f84cd61f12ca"
      },
      "execution_count": null,
      "outputs": [
        {
          "output_type": "execute_result",
          "data": {
            "text/plain": [
              "30.0"
            ]
          },
          "metadata": {},
          "execution_count": 109
        }
      ]
    },
    {
      "cell_type": "markdown",
      "source": [
        "### **visualisation du nuage de points**"
      ],
      "metadata": {
        "id": "EZ1rjHn7hFw5"
      }
    },
    {
      "cell_type": "code",
      "metadata": {
        "id": "mfJHevMZg7MK"
      },
      "source": [
        "# import des bibiliothèques nécessaires\n",
        "import matplotlib.pyplot as plt     # matplotlib.pyplot permet de réaliser des graphiques\n",
        "import numpy as np                  # numpy est utile ici pour générer des listes régulières de nombres réels dans un intervalle donné\n"
      ],
      "execution_count": null,
      "outputs": []
    },
    {
      "cell_type": "code",
      "source": [
        "def centrax(xmin, xmax, ymin, ymax, titre, legende = []):\n",
        "    '''Cette procédure ajuste les paramètres graphiques : fenêtre (xmin, xmax, ymin, ymax), titre, légende (vide par défaut)'''\n",
        "    # ajustement des paramètres des axes (centrage, couleur, etc.)\n",
        "    ax = plt.gca()\n",
        "    ax.spines['left'].set_position('zero')\n",
        "    ax.spines['right'].set_color('none')\n",
        "    ax.spines['bottom'].set_position('zero')\n",
        "    ax.spines['top'].set_color('none')\n",
        "    ax.legend(legende)\n",
        "\n",
        "    plt.xlim(xmin,xmax)   \n",
        "    plt.ylim(ymin,ymax)       # fenêtre d'affichage\n",
        "    plt.title(titre) # titre du graphique au format LaTeX (encadré par des $)\n",
        "    plt.show()"
      ],
      "metadata": {
        "id": "GhCIx0xKn5Tu"
      },
      "execution_count": null,
      "outputs": []
    },
    {
      "cell_type": "code",
      "source": [
        "# paramètres graphiques\n",
        "xmin = -10\n",
        "xmax = 15\n",
        "ymin = -2\n",
        "ymax = 50\n",
        "titre = 'Volume de fuel consommé selon la température constatée'\n",
        "\n"
      ],
      "metadata": {
        "id": "UBhpUdIXhJ1t"
      },
      "execution_count": null,
      "outputs": []
    },
    {
      "cell_type": "code",
      "source": [
        "plt.scatter(temperatures,volumes_fuel,marker ='+',color = 'red') # représentation graphique du nuage de points\n",
        "plt.scatter(x_bar,y_bar,marker = \"v\", color = \"blue\")\n",
        "legende=['nuage de points', 'point moyen']\n",
        "centrax(xmin, xmax, ymin, ymax, titre, legende)"
      ],
      "metadata": {
        "colab": {
          "base_uri": "https://localhost:8080/",
          "height": 273
        },
        "id": "nebhyKVxpGbW",
        "outputId": "4f21d769-d3c8-44fc-d9d6-e96e98aa02c9"
      },
      "execution_count": null,
      "outputs": [
        {
          "output_type": "display_data",
          "data": {
            "text/plain": [
              "<Figure size 432x288 with 1 Axes>"
            ],
            "image/png": "[encoded data removed]"
          },
          "metadata": {
            "needs_background": "light"
          }
        }
      ]
    },
    {
      "cell_type": "markdown",
      "source": [
        "On constate que le nuage de points est plutôt rectiligne, ce qui justifie l'emploi d'un ajustement **linéaire**, par la méthode des moindres carrés."
      ],
      "metadata": {
        "id": "xsdKSrMKkoLk"
      }
    },
    {
      "cell_type": "code",
      "source": [
        "def droite(xx,a,b) :\n",
        "    '''Cette fonction reçoit un vecteur d'abscisse, un coefficient directeur a et une ordonnée à l'origine b\n",
        "    et trace la droite y = ax + b'''\n",
        "    yy = [a*x + b for x in xx]\n",
        "    plt.plot(xx,yy,color  ='blue', linewidth = 0.5)"
      ],
      "metadata": {
        "id": "GXs0sNghlWTp"
      },
      "execution_count": null,
      "outputs": []
    },
    {
      "cell_type": "markdown",
      "source": [
        "**ajustement \"au doigt mouillé\"**\n",
        "\n",
        "* On fixe \"au pifomètre\" une équation de droite d'ajustement"
      ],
      "metadata": {
        "id": "QELFQDwMtXsY"
      }
    },
    {
      "cell_type": "code",
      "source": [
        "xx = [xmin,xmax]\n",
        "a = -2.5\n",
        "b = 30\n",
        "\n",
        "plt.scatter(temperatures,volumes_fuel,marker ='+',color = 'red')\n",
        "plt.scatter(x_bar,y_bar,marker = \"v\", color = \"blue\")\n",
        "droite(xx,a,b)\n",
        "\n",
        "legende=[\"droite d'ajustement\",'nuage de points', 'point moyen']\n",
        "centrax(xmin, xmax, ymin, ymax, titre, legende)"
      ],
      "metadata": {
        "colab": {
          "base_uri": "https://localhost:8080/",
          "height": 273
        },
        "id": "iEYixQOapoL4",
        "outputId": "26431cec-b258-46eb-b00e-d506b76f8bad"
      },
      "execution_count": null,
      "outputs": [
        {
          "output_type": "display_data",
          "data": {
            "text/plain": [
              "<Figure size 432x288 with 1 Axes>"
            ],
            "image/png": "[encoded data removed]"
          },
          "metadata": {
            "needs_background": "light"
          }
        }
      ]
    },
    {
      "cell_type": "markdown",
      "source": [
        "* On calcule les volumes de fuel ajustés, c'est-à-dire si l'on remplace le volume réel constaté par l'ordonnée du point de la droite ayant la même abscisse."
      ],
      "metadata": {
        "id": "YWK5X-3Xt0a-"
      }
    },
    {
      "cell_type": "code",
      "source": [
        "def y_ajuste(xx,a,b):\n",
        "    '''Cette fonction reçoit une liste xx, les coeeficients caractéristiques de la droite de régression\n",
        "    et renvoie la liste des ordonnées ajustées sur cette droite'''\n",
        "    yy = [a*x + b for x in xx]\n",
        "    return yy"
      ],
      "metadata": {
        "id": "wbnylyjjpqUb"
      },
      "execution_count": null,
      "outputs": []
    },
    {
      "cell_type": "code",
      "source": [
        "volumes_ajustes = y_ajuste(temperatures,a,b)\n",
        "volumes_ajustes"
      ],
      "metadata": {
        "colab": {
          "base_uri": "https://localhost:8080/"
        },
        "id": "4GpUY7yMr_Zx",
        "outputId": "9a66dd22-b590-4caf-c0e6-6774555eb49c"
      },
      "execution_count": null,
      "outputs": [
        {
          "output_type": "execute_result",
          "data": {
            "text/plain": [
              "[45.0, 40.0, 30.0, 17.5, 5.0]"
            ]
          },
          "metadata": {},
          "execution_count": 117
        }
      ]
    },
    {
      "cell_type": "code",
      "source": [
        "plt.scatter(temperatures,volumes_fuel,marker ='+',color = 'red')        # nuage de points\n",
        "droite(xx,a,b)                                                          # droite d'ajustement\n",
        "plt.scatter(x_bar,y_bar,marker = \"v\", color = \"blue\")                   # point moyen du nuage\n",
        "plt.scatter(temperatures,volumes_ajustes,marker ='o',color = 'green')   # volumes ajustés sur la droite\n",
        "\n",
        "legende=[\"droite d'ajustement\",'nuage de points','point moyen', 'volumes ajustés']\n",
        "centrax(xmin, xmax, ymin, ymax, titre, legende)"
      ],
      "metadata": {
        "colab": {
          "base_uri": "https://localhost:8080/",
          "height": 273
        },
        "id": "zh7-jBbXsNq5",
        "outputId": "a6cd9b63-99e7-4d85-948d-dea7bb5f1e19"
      },
      "execution_count": null,
      "outputs": [
        {
          "output_type": "display_data",
          "data": {
            "text/plain": [
              "<Figure size 432x288 with 1 Axes>"
            ],
            "image/png": "[encoded data removed]"
          },
          "metadata": {
            "needs_background": "light"
          }
        }
      ]
    },
    {
      "cell_type": "markdown",
      "source": [
        "* On calcule les **\"résidus\"** verticaux, c'est-à-dire la somme des carrés des distances entre les volumes réels constatés et les volumes ajustés."
      ],
      "metadata": {
        "id": "4N8VrBQXuIcA"
      }
    },
    {
      "cell_type": "code",
      "source": [
        "def residus(y_reels,y_ajustes) : \n",
        "    '''Cette fonction reçoit deux listes : y_reels et y_ajustes, \n",
        "    et renvoie le \"résidu\" d'ajustement de la 1ère par la 2nde'''\n",
        "    res = sum([(y_reels[k] - y_ajustes[k])**2 for k in range(len(y_reels))])\n",
        "    return res"
      ],
      "metadata": {
        "id": "vR9udhvctKnx"
      },
      "execution_count": null,
      "outputs": []
    },
    {
      "cell_type": "code",
      "source": [
        "residus(volumes_fuel,volumes_ajustes)"
      ],
      "metadata": {
        "colab": {
          "base_uri": "https://localhost:8080/"
        },
        "id": "3BxmuXQ3vQvZ",
        "outputId": "ff436feb-807b-43f7-fcd0-93d0c3e15c90"
      },
      "execution_count": null,
      "outputs": [
        {
          "output_type": "execute_result",
          "data": {
            "text/plain": [
              "217.25"
            ]
          },
          "metadata": {},
          "execution_count": 120
        }
      ]
    },
    {
      "cell_type": "markdown",
      "source": [
        "* on peut visualiser ces résidus"
      ],
      "metadata": {
        "id": "lrtTwCjRvwqs"
      }
    },
    {
      "cell_type": "code",
      "source": [
        "plt.scatter(temperatures,volumes_fuel,marker ='+',color = 'red')        # nuage de points\n",
        "droite(xx,a,b)                                                          # droite d'ajustement\n",
        "plt.scatter(x_bar,y_bar,marker = \"v\", color = \"blue\")                   # point moyen du nuage\n",
        "plt.scatter(temperatures,volumes_ajustes,marker ='o',color = 'green')   # volumes ajustés sur la droite\n",
        "plt.plot([temperatures, temperatures],[volumes_fuel,volumes_ajustes], color = \"black\", linewidth = 0.3)\n",
        "\n",
        "centrax(xmin, xmax, ymin, ymax, titre)"
      ],
      "metadata": {
        "colab": {
          "base_uri": "https://localhost:8080/",
          "height": 273
        },
        "id": "-Svo8OHAvcza",
        "outputId": "4834f26e-2291-4b4f-9f6e-645218f5bf3a"
      },
      "execution_count": null,
      "outputs": [
        {
          "output_type": "display_data",
          "data": {
            "text/plain": [
              "<Figure size 432x288 with 1 Axes>"
            ],
            "image/png": "[encoded data removed]"
          },
          "metadata": {
            "needs_background": "light"
          }
        }
      ]
    },
    {
      "cell_type": "markdown",
      "source": [
        "## **Calcul de la droite d'ajustement linéaire, droite de régression du volume de fuel en la température**\n",
        "\n",
        "**rappels**\n",
        "* **covariance empirique :** \n",
        "\n",
        "$s_{XY} = \\frac{1}{n} \\sum_{i = 1}^{n} \\left ( x_i - \\bar{x}\\right)\\left ( xy_i - \\bar{y}\\right)$\n",
        "\n",
        "* **coefficient directeur de la droite e Y en X :**\n",
        "\n",
        "$ a = \\frac{s_{XY}}{\\sigma^2(X)}$\n",
        "\n",
        "* **ordonnée à l'origine de la droite de régression de Y en X**\n",
        "\n",
        "$ b = \\bar{y} - a . \\bar{x}$\n",
        "\n",
        "* **équation de la droite de régression de Y en X :**\n",
        "\n",
        "$y = a . x + b$"
      ],
      "metadata": {
        "id": "xENNSgcnyvDY"
      }
    },
    {
      "cell_type": "code",
      "source": [
        "def covariance_empirique(x,y) :\n",
        "    '''Cette fonction reçoit deux listes x et y, de même taille, \n",
        "    et renvoie la covariance de ces deux listes\n",
        "    Remarque : si x = y, on obtient la variance de x.'''\n",
        "    xbar = np.mean(x)\n",
        "    ybar = np.mean(y)\n",
        "    n = len(x)\n",
        "\n",
        "    s_XY = 1/n * sum([(x[k] - xbar)*(y[k] - ybar) for k in range(n)])\n",
        "    return s_XY"
      ],
      "metadata": {
        "id": "-oHPMfg0wMU1"
      },
      "execution_count": null,
      "outputs": []
    },
    {
      "cell_type": "code",
      "source": [
        "s_XY = covariance_empirique(temperatures, volumes_fuel)\n",
        "s_XY"
      ],
      "metadata": {
        "colab": {
          "base_uri": "https://localhost:8080/"
        },
        "id": "kD0ocPzFFyiX",
        "outputId": "e45c7a8f-53b0-4923-c08c-628c78bf408b"
      },
      "execution_count": null,
      "outputs": [
        {
          "output_type": "execute_result",
          "data": {
            "text/plain": [
              "-51.800000000000004"
            ]
          },
          "metadata": {},
          "execution_count": 127
        }
      ]
    },
    {
      "cell_type": "code",
      "source": [
        "def coeff_droite_regression(x,y):\n",
        "    '''Cette fonction reçoit deux listes x et y de même taille,\n",
        "    et renvoie les coefficients de la droite d'ajustemennt de y en x'''\n",
        "    xbar = np.mean(x)\n",
        "    ybar = np.mean(y)\n",
        "\n",
        "    # pente\n",
        "    a = covariance_empirique(temperatures, volumes_fuel) / covariance_empirique(temperatures, temperatures)\n",
        "    # ordonnée à l'origine\n",
        "    b = ybar - a * xbar\n",
        "    return a, b"
      ],
      "metadata": {
        "id": "jPCsqQ-TGMn8"
      },
      "execution_count": null,
      "outputs": []
    },
    {
      "cell_type": "code",
      "source": [
        "a,b = coeff_droite_regression(temperatures, volumes_fuel)\n",
        "print('Équation de la droite de régression de Y en X : y=' + str(a) + '.x + ' + str(b))"
      ],
      "metadata": {
        "colab": {
          "base_uri": "https://localhost:8080/"
        },
        "id": "nHPZWySHG9xU",
        "outputId": "21000171-d3f5-4b33-d071-092fb5f5c380"
      },
      "execution_count": null,
      "outputs": [
        {
          "output_type": "stream",
          "name": "stdout",
          "text": [
            "Équation de la droite de régression de Y en X : y=-1.5058139534883723.x + 31.50581395348837\n"
          ]
        }
      ]
    },
    {
      "cell_type": "markdown",
      "source": [
        "**Représentation graphique**"
      ],
      "metadata": {
        "id": "9baucCK3HV68"
      }
    },
    {
      "cell_type": "code",
      "source": [
        "volumes_ajustes = y_ajuste(temperatures,a,b)\n",
        "volumes_ajustes"
      ],
      "metadata": {
        "colab": {
          "base_uri": "https://localhost:8080/"
        },
        "id": "WE23-kv0H3ZO",
        "outputId": "1612567e-6f50-4d19-d644-1f31786abc22"
      },
      "execution_count": null,
      "outputs": [
        {
          "output_type": "execute_result",
          "data": {
            "text/plain": [
              "[40.5406976744186,\n",
              " 37.52906976744186,\n",
              " 31.50581395348837,\n",
              " 23.97674418604651,\n",
              " 16.44767441860465]"
            ]
          },
          "metadata": {},
          "execution_count": 134
        }
      ]
    },
    {
      "cell_type": "code",
      "source": [
        "plt.scatter(temperatures,volumes_fuel,marker ='+',color = 'red')        # nuage de points\n",
        "droite(xx,a,b)                                                          # droite d'ajustement\n",
        "plt.scatter(x_bar,y_bar,marker = \"v\", color = \"blue\")                   # point moyen du nuage\n",
        "plt.scatter(temperatures,volumes_ajustes,marker ='o',color = 'green')   # volumes ajustés sur la droite\n",
        "\n",
        "legende=[\"droite d'ajustement\",'nuage de points','point moyen', 'volumes ajustés']\n",
        "centrax(xmin, xmax, ymin, ymax, titre, legende)"
      ],
      "metadata": {
        "colab": {
          "base_uri": "https://localhost:8080/",
          "height": 273
        },
        "id": "at6uSsdhHgxg",
        "outputId": "cd32e521-f248-4338-df92-6af50e410247"
      },
      "execution_count": null,
      "outputs": [
        {
          "output_type": "display_data",
          "data": {
            "text/plain": [
              "<Figure size 432x288 with 1 Axes>"
            ],
            "image/png": "[encoded data removed]"
          },
          "metadata": {
            "needs_background": "light"
          }
        }
      ]
    },
    {
      "cell_type": "markdown",
      "source": [
        "On observe que la droite de régression de Y en X passe bien par le point moyen !"
      ],
      "metadata": {
        "id": "DKS8dLEFHjyt"
      }
    },
    {
      "cell_type": "code",
      "source": [
        "residus(volumes_fuel,volumes_ajustes)"
      ],
      "metadata": {
        "colab": {
          "base_uri": "https://localhost:8080/"
        },
        "id": "EJhARkYkHiCI",
        "outputId": "9815ffc0-7043-48ab-a382-b44f1082e46e"
      },
      "execution_count": null,
      "outputs": [
        {
          "output_type": "execute_result",
          "data": {
            "text/plain": [
              "15.994186046511633"
            ]
          },
          "metadata": {},
          "execution_count": 136
        }
      ]
    },
    {
      "cell_type": "markdown",
      "source": [
        "On a optimisé ces résidus."
      ],
      "metadata": {
        "id": "Ov2-fKhaILBt"
      }
    },
    {
      "cell_type": "markdown",
      "source": [
        "### **Interpolation et extrapolations linéaires**\n",
        "\n",
        "* Par interpolation, indiquer la consommation à prévoir pour une température extérieure de 8°C. \n",
        "\n"
      ],
      "metadata": {
        "id": "9BkhUhLzISN_"
      }
    },
    {
      "cell_type": "code",
      "source": [
        "x = 8\n",
        "y = a*x + b\n",
        "print(\"S'il fait \" + str(x) + \"°C, la consommation de fuel à prévoir est de : \" + str(np.round(y*10)/10) + ' L.')"
      ],
      "metadata": {
        "colab": {
          "base_uri": "https://localhost:8080/"
        },
        "id": "nVkPoHGQItNZ",
        "outputId": "a6b1ded5-47e8-4bb7-8e25-0a052ba8b861"
      },
      "execution_count": null,
      "outputs": [
        {
          "output_type": "stream",
          "name": "stdout",
          "text": [
            "S'il fait 8°C, la consommation de fuel à prévoir est de : 19.5 L.\n"
          ]
        }
      ]
    },
    {
      "cell_type": "markdown",
      "source": [
        "* Par extrapolation, calculer quelle consommation prévoir lorsqu'il fait -10°C. "
      ],
      "metadata": {
        "id": "r4HtpvYjIn6F"
      }
    },
    {
      "cell_type": "code",
      "source": [
        "x = -10\n",
        "y = a*x + b\n",
        "print(\"S'il fait \" + str(x) + \"°C, la consommation de fuel à prévoir est de : \" + str(np.round(y*10)/10) + ' L.')"
      ],
      "metadata": {
        "colab": {
          "base_uri": "https://localhost:8080/"
        },
        "id": "evT7WhWyHvtH",
        "outputId": "3fac9ee2-1701-4b42-a6d3-3e7df30fb294"
      },
      "execution_count": null,
      "outputs": [
        {
          "output_type": "stream",
          "name": "stdout",
          "text": [
            "S'il fait -10°C, la consommation de fuel à prévoir est de : 46.6 L.\n"
          ]
        }
      ]
    },
    {
      "cell_type": "code",
      "source": [
        ""
      ],
      "metadata": {
        "id": "N00UqRTYJLAG"
      },
      "execution_count": null,
      "outputs": []
    }
  ]
}