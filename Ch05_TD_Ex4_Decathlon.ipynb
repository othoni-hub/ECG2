{
  "nbformat": 4,
  "nbformat_minor": 0,
  "metadata": {
    "colab": {
      "name": "Ch05-TD-Ex4-Decathlon.ipynb",
      "provenance": [],
      "authorship_tag": "ABX9TyMvp039/g3LDsZpdgGfmXUV",
      "include_colab_link": true
    },
    "kernelspec": {
      "name": "python3",
      "display_name": "Python 3"
    },
    "language_info": {
      "name": "python"
    }
  },
  "cells": [
    {
      "cell_type": "markdown",
      "metadata": {
        "id": "view-in-github",
        "colab_type": "text"
      },
      "source": [
        "<a href=\"https://colab.research.google.com/github/othoni-hub/ECG2/blob/main/Ch05_TD_Ex4_Decathlon.ipynb\" target=\"_parent\"><img src=\"https://colab.research.google.com/assets/colab-badge.svg\" alt=\"Open In Colab\"/></a>"
      ]
    },
    {
      "cell_type": "markdown",
      "metadata": {
        "id": "9gRjJPolrmT_"
      },
      "source": [
        "# **CPGE-ECG2** \n"
      ]
    },
    {
      "cell_type": "markdown",
      "metadata": {
        "id": "Gprox7oVPE7W"
      },
      "source": [
        "\n",
        "\n",
        "## **Ch5 - Notebook : Statistiques bivariées :** \n",
        "## **Exercice 4 \"Analyse multivariée : Décathlon\"**\n",
        "\n",
        "<img src=\"https://drive.google.com/uc?id=12Wo3LubGGT4qOvYFAuLP4CyCuwjKNVuk\" width=\"230\" height=\"150\" align = \"right\"/>\n",
        "\n",
        "\n",
        "\n",
        "\n",
        "**O.Thöni - Lycée Saint-Charles Sainte Croix - LE MANS**"
      ]
    },
    {
      "cell_type": "markdown",
      "source": [
        "## **Étude des variables deux à deux dans une étude multivariée.**\n",
        "\n"
      ],
      "metadata": {
        "id": "z-uv2jTIfNEh"
      }
    },
    {
      "cell_type": "markdown",
      "source": [
        "Les données sont importées depuis un fichier csv et stockées dans un dataFrame Pandas.\n",
        "\n",
        "Elles récapitulent les performances aux 10 épreuves et le score final de 34 athlètes aux épreuves du décathlon des JO 1988.\n",
        "\n",
        "**nomenclature :** (C : course, S : saut, L : lancer)\n",
        "* C100 : course du 100 m\n",
        "* Slong : saut en longueur\n",
        "* Lpoids : lancer du poids\n",
        "* Shaut : saut en hauteur\n",
        "* C400 : course du 400 m\n",
        "* C110 : course du 110 m haies\n",
        "* Ldisque : lancer du disque\n",
        "* Sperche : saut à la perche\n",
        "* Ljave : lancer de javelot\n",
        "* C1500 : course du 1500 m\n",
        "* score"
      ],
      "metadata": {
        "id": "YjDd1xQ7jcbg"
      }
    },
    {
      "cell_type": "code",
      "source": [
        "import pandas as pd\n",
        "import numpy as np\n",
        "import matplotlib.pyplot as plt\n",
        "import seaborn as sns # module de graphiques avancés"
      ],
      "metadata": {
        "id": "HqazpGmchJxI"
      },
      "execution_count": 1,
      "outputs": []
    },
    {
      "cell_type": "code",
      "source": [
        "url = \"https://raw.githubusercontent.com/othoni-hub/ECG2/main/decathlon.csv\"\n",
        "# attention : import depuis Github : copier le \"raw-github-link\"\n",
        "df = pd.read_csv(url, sep = \" \", encoding='utf-8') # le fichier importé est un fichier .csv, séparateur virgule, converti en DataFrame Pandas\n",
        "df.tail()"
      ],
      "metadata": {
        "colab": {
          "base_uri": "https://localhost:8080/",
          "height": 206
        },
        "id": "USLN2zXfZ5OU",
        "outputId": "fd791487-35d0-4ff1-9e70-5e6c727bcbf1"
      },
      "execution_count": 2,
      "outputs": [
        {
          "output_type": "execute_result",
          "data": {
            "text/plain": [
              "     C100  Slong  Lpoids  Shaut   C400   C110  Ldisq  Sperch  Ljave   C1500  \\\n",
              "29  11.51   7.01   14.17   1.94  51.16  15.18  45.84     4.6  56.28  303.17   \n",
              "30  11.52   7.36   13.93   1.94  49.99  15.64  38.82     4.6  67.04  266.42   \n",
              "31  11.57   7.00   16.60   1.94  49.84  15.00  46.66     4.9  60.20  286.04   \n",
              "32  11.57   7.19   10.27   1.91  50.71  16.20  34.36     4.1  54.94  269.98   \n",
              "33  12.12   5.83    9.71   1.70  52.32  17.05  27.10     2.6  39.10  281.24   \n",
              "\n",
              "    Score  \n",
              "29   7422  \n",
              "30   7753  \n",
              "31   7860  \n",
              "32   6907  \n",
              "33   5339  "
            ],
            "text/html": [
              "\n",
              "  <div id=\"df-59e09e1b-67d1-4c62-b5e3-7441774db1da\">\n",
              "    <div class=\"colab-df-container\">\n",
              "      <div>\n",
              "<style scoped>\n",
              "    .dataframe tbody tr th:only-of-type {\n",
              "        vertical-align: middle;\n",
              "    }\n",
              "\n",
              "    .dataframe tbody tr th {\n",
              "        vertical-align: top;\n",
              "    }\n",
              "\n",
              "    .dataframe thead th {\n",
              "        text-align: right;\n",
              "    }\n",
              "</style>\n",
              "<table border=\"1\" class=\"dataframe\">\n",
              "  <thead>\n",
              "    <tr style=\"text-align: right;\">\n",
              "      <th></th>\n",
              "      <th>C100</th>\n",
              "      <th>Slong</th>\n",
              "      <th>Lpoids</th>\n",
              "      <th>Shaut</th>\n",
              "      <th>C400</th>\n",
              "      <th>C110</th>\n",
              "      <th>Ldisq</th>\n",
              "      <th>Sperch</th>\n",
              "      <th>Ljave</th>\n",
              "      <th>C1500</th>\n",
              "      <th>Score</th>\n",
              "    </tr>\n",
              "  </thead>\n",
              "  <tbody>\n",
              "    <tr>\n",
              "      <th>29</th>\n",
              "      <td>11.51</td>\n",
              "      <td>7.01</td>\n",
              "      <td>14.17</td>\n",
              "      <td>1.94</td>\n",
              "      <td>51.16</td>\n",
              "      <td>15.18</td>\n",
              "      <td>45.84</td>\n",
              "      <td>4.6</td>\n",
              "      <td>56.28</td>\n",
              "      <td>303.17</td>\n",
              "      <td>7422</td>\n",
              "    </tr>\n",
              "    <tr>\n",
              "      <th>30</th>\n",
              "      <td>11.52</td>\n",
              "      <td>7.36</td>\n",
              "      <td>13.93</td>\n",
              "      <td>1.94</td>\n",
              "      <td>49.99</td>\n",
              "      <td>15.64</td>\n",
              "      <td>38.82</td>\n",
              "      <td>4.6</td>\n",
              "      <td>67.04</td>\n",
              "      <td>266.42</td>\n",
              "      <td>7753</td>\n",
              "    </tr>\n",
              "    <tr>\n",
              "      <th>31</th>\n",
              "      <td>11.57</td>\n",
              "      <td>7.00</td>\n",
              "      <td>16.60</td>\n",
              "      <td>1.94</td>\n",
              "      <td>49.84</td>\n",
              "      <td>15.00</td>\n",
              "      <td>46.66</td>\n",
              "      <td>4.9</td>\n",
              "      <td>60.20</td>\n",
              "      <td>286.04</td>\n",
              "      <td>7860</td>\n",
              "    </tr>\n",
              "    <tr>\n",
              "      <th>32</th>\n",
              "      <td>11.57</td>\n",
              "      <td>7.19</td>\n",
              "      <td>10.27</td>\n",
              "      <td>1.91</td>\n",
              "      <td>50.71</td>\n",
              "      <td>16.20</td>\n",
              "      <td>34.36</td>\n",
              "      <td>4.1</td>\n",
              "      <td>54.94</td>\n",
              "      <td>269.98</td>\n",
              "      <td>6907</td>\n",
              "    </tr>\n",
              "    <tr>\n",
              "      <th>33</th>\n",
              "      <td>12.12</td>\n",
              "      <td>5.83</td>\n",
              "      <td>9.71</td>\n",
              "      <td>1.70</td>\n",
              "      <td>52.32</td>\n",
              "      <td>17.05</td>\n",
              "      <td>27.10</td>\n",
              "      <td>2.6</td>\n",
              "      <td>39.10</td>\n",
              "      <td>281.24</td>\n",
              "      <td>5339</td>\n",
              "    </tr>\n",
              "  </tbody>\n",
              "</table>\n",
              "</div>\n",
              "      <button class=\"colab-df-convert\" onclick=\"convertToInteractive('df-59e09e1b-67d1-4c62-b5e3-7441774db1da')\"\n",
              "              title=\"Convert this dataframe to an interactive table.\"\n",
              "              style=\"display:none;\">\n",
              "        \n",
              "  <svg xmlns=\"http://www.w3.org/2000/svg\" height=\"24px\"viewBox=\"0 0 24 24\"\n",
              "       width=\"24px\">\n",
              "    <path d=\"M0 0h24v24H0V0z\" fill=\"none\"/>\n",
              "    <path d=\"M18.56 5.44l.94 2.06.94-2.06 2.06-.94-2.06-.94-.94-2.06-.94 2.06-2.06.94zm-11 1L8.5 8.5l.94-2.06 2.06-.94-2.06-.94L8.5 2.5l-.94 2.06-2.06.94zm10 10l.94 2.06.94-2.06 2.06-.94-2.06-.94-.94-2.06-.94 2.06-2.06.94z\"/><path d=\"M17.41 7.96l-1.37-1.37c-.4-.4-.92-.59-1.43-.59-.52 0-1.04.2-1.43.59L10.3 9.45l-7.72 7.72c-.78.78-.78 2.05 0 2.83L4 21.41c.39.39.9.59 1.41.59.51 0 1.02-.2 1.41-.59l7.78-7.78 2.81-2.81c.8-.78.8-2.07 0-2.86zM5.41 20L4 18.59l7.72-7.72 1.47 1.35L5.41 20z\"/>\n",
              "  </svg>\n",
              "      </button>\n",
              "      \n",
              "  <style>\n",
              "    .colab-df-container {\n",
              "      display:flex;\n",
              "      flex-wrap:wrap;\n",
              "      gap: 12px;\n",
              "    }\n",
              "\n",
              "    .colab-df-convert {\n",
              "      background-color: #E8F0FE;\n",
              "      border: none;\n",
              "      border-radius: 50%;\n",
              "      cursor: pointer;\n",
              "      display: none;\n",
              "      fill: #1967D2;\n",
              "      height: 32px;\n",
              "      padding: 0 0 0 0;\n",
              "      width: 32px;\n",
              "    }\n",
              "\n",
              "    .colab-df-convert:hover {\n",
              "      background-color: #E2EBFA;\n",
              "      box-shadow: 0px 1px 2px rgba(60, 64, 67, 0.3), 0px 1px 3px 1px rgba(60, 64, 67, 0.15);\n",
              "      fill: #174EA6;\n",
              "    }\n",
              "\n",
              "    [theme=dark] .colab-df-convert {\n",
              "      background-color: #3B4455;\n",
              "      fill: #D2E3FC;\n",
              "    }\n",
              "\n",
              "    [theme=dark] .colab-df-convert:hover {\n",
              "      background-color: #434B5C;\n",
              "      box-shadow: 0px 1px 3px 1px rgba(0, 0, 0, 0.15);\n",
              "      filter: drop-shadow(0px 1px 2px rgba(0, 0, 0, 0.3));\n",
              "      fill: #FFFFFF;\n",
              "    }\n",
              "  </style>\n",
              "\n",
              "      <script>\n",
              "        const buttonEl =\n",
              "          document.querySelector('#df-59e09e1b-67d1-4c62-b5e3-7441774db1da button.colab-df-convert');\n",
              "        buttonEl.style.display =\n",
              "          google.colab.kernel.accessAllowed ? 'block' : 'none';\n",
              "\n",
              "        async function convertToInteractive(key) {\n",
              "          const element = document.querySelector('#df-59e09e1b-67d1-4c62-b5e3-7441774db1da');\n",
              "          const dataTable =\n",
              "            await google.colab.kernel.invokeFunction('convertToInteractive',\n",
              "                                                     [key], {});\n",
              "          if (!dataTable) return;\n",
              "\n",
              "          const docLinkHtml = 'Like what you see? Visit the ' +\n",
              "            '<a target=\"_blank\" href=https://colab.research.google.com/notebooks/data_table.ipynb>data table notebook</a>'\n",
              "            + ' to learn more about interactive tables.';\n",
              "          element.innerHTML = '';\n",
              "          dataTable['output_type'] = 'display_data';\n",
              "          await google.colab.output.renderOutput(dataTable, element);\n",
              "          const docLink = document.createElement('div');\n",
              "          docLink.innerHTML = docLinkHtml;\n",
              "          element.appendChild(docLink);\n",
              "        }\n",
              "      </script>\n",
              "    </div>\n",
              "  </div>\n",
              "  "
            ]
          },
          "metadata": {},
          "execution_count": 2
        }
      ]
    },
    {
      "cell_type": "markdown",
      "source": [
        "* **Tri du Dataframe par ordre décroissant des scores**\n"
      ],
      "metadata": {
        "id": "Y2_0ShiNOfgu"
      }
    },
    {
      "cell_type": "code",
      "source": [
        "df.sort_values(by = 'Score')\n",
        "df.head()"
      ],
      "metadata": {
        "colab": {
          "base_uri": "https://localhost:8080/",
          "height": 206
        },
        "id": "8W-TxN-QOk0J",
        "outputId": "eb0cecb6-b5d3-4538-b8d3-c90b2d14a879"
      },
      "execution_count": 3,
      "outputs": [
        {
          "output_type": "execute_result",
          "data": {
            "text/plain": [
              "    C100  Slong  Lpoids  Shaut   C400   C110  Ldisq  Sperch  Ljave   C1500  \\\n",
              "0  10.62   7.38   15.02   2.03  49.06  14.72  44.80     4.9  64.04  285.11   \n",
              "1  10.83   7.72   13.58   2.12  48.34  14.18  43.06     4.9  52.18  274.07   \n",
              "2  10.87   7.45   14.97   1.97  47.71  14.46  44.36     5.1  61.76  273.02   \n",
              "3  10.89   7.07   15.84   1.79  49.68  15.38  45.32     4.9  60.48  277.84   \n",
              "4  10.94   7.45   15.34   1.97  49.94  14.25  41.86     4.8  66.64  295.89   \n",
              "\n",
              "   Score  \n",
              "0   8306  \n",
              "1   8272  \n",
              "2   8399  \n",
              "3   7781  \n",
              "4   8143  "
            ],
            "text/html": [
              "\n",
              "  <div id=\"df-9bd15c52-8cd5-4939-8ad0-7f6c404bb062\">\n",
              "    <div class=\"colab-df-container\">\n",
              "      <div>\n",
              "<style scoped>\n",
              "    .dataframe tbody tr th:only-of-type {\n",
              "        vertical-align: middle;\n",
              "    }\n",
              "\n",
              "    .dataframe tbody tr th {\n",
              "        vertical-align: top;\n",
              "    }\n",
              "\n",
              "    .dataframe thead th {\n",
              "        text-align: right;\n",
              "    }\n",
              "</style>\n",
              "<table border=\"1\" class=\"dataframe\">\n",
              "  <thead>\n",
              "    <tr style=\"text-align: right;\">\n",
              "      <th></th>\n",
              "      <th>C100</th>\n",
              "      <th>Slong</th>\n",
              "      <th>Lpoids</th>\n",
              "      <th>Shaut</th>\n",
              "      <th>C400</th>\n",
              "      <th>C110</th>\n",
              "      <th>Ldisq</th>\n",
              "      <th>Sperch</th>\n",
              "      <th>Ljave</th>\n",
              "      <th>C1500</th>\n",
              "      <th>Score</th>\n",
              "    </tr>\n",
              "  </thead>\n",
              "  <tbody>\n",
              "    <tr>\n",
              "      <th>0</th>\n",
              "      <td>10.62</td>\n",
              "      <td>7.38</td>\n",
              "      <td>15.02</td>\n",
              "      <td>2.03</td>\n",
              "      <td>49.06</td>\n",
              "      <td>14.72</td>\n",
              "      <td>44.80</td>\n",
              "      <td>4.9</td>\n",
              "      <td>64.04</td>\n",
              "      <td>285.11</td>\n",
              "      <td>8306</td>\n",
              "    </tr>\n",
              "    <tr>\n",
              "      <th>1</th>\n",
              "      <td>10.83</td>\n",
              "      <td>7.72</td>\n",
              "      <td>13.58</td>\n",
              "      <td>2.12</td>\n",
              "      <td>48.34</td>\n",
              "      <td>14.18</td>\n",
              "      <td>43.06</td>\n",
              "      <td>4.9</td>\n",
              "      <td>52.18</td>\n",
              "      <td>274.07</td>\n",
              "      <td>8272</td>\n",
              "    </tr>\n",
              "    <tr>\n",
              "      <th>2</th>\n",
              "      <td>10.87</td>\n",
              "      <td>7.45</td>\n",
              "      <td>14.97</td>\n",
              "      <td>1.97</td>\n",
              "      <td>47.71</td>\n",
              "      <td>14.46</td>\n",
              "      <td>44.36</td>\n",
              "      <td>5.1</td>\n",
              "      <td>61.76</td>\n",
              "      <td>273.02</td>\n",
              "      <td>8399</td>\n",
              "    </tr>\n",
              "    <tr>\n",
              "      <th>3</th>\n",
              "      <td>10.89</td>\n",
              "      <td>7.07</td>\n",
              "      <td>15.84</td>\n",
              "      <td>1.79</td>\n",
              "      <td>49.68</td>\n",
              "      <td>15.38</td>\n",
              "      <td>45.32</td>\n",
              "      <td>4.9</td>\n",
              "      <td>60.48</td>\n",
              "      <td>277.84</td>\n",
              "      <td>7781</td>\n",
              "    </tr>\n",
              "    <tr>\n",
              "      <th>4</th>\n",
              "      <td>10.94</td>\n",
              "      <td>7.45</td>\n",
              "      <td>15.34</td>\n",
              "      <td>1.97</td>\n",
              "      <td>49.94</td>\n",
              "      <td>14.25</td>\n",
              "      <td>41.86</td>\n",
              "      <td>4.8</td>\n",
              "      <td>66.64</td>\n",
              "      <td>295.89</td>\n",
              "      <td>8143</td>\n",
              "    </tr>\n",
              "  </tbody>\n",
              "</table>\n",
              "</div>\n",
              "      <button class=\"colab-df-convert\" onclick=\"convertToInteractive('df-9bd15c52-8cd5-4939-8ad0-7f6c404bb062')\"\n",
              "              title=\"Convert this dataframe to an interactive table.\"\n",
              "              style=\"display:none;\">\n",
              "        \n",
              "  <svg xmlns=\"http://www.w3.org/2000/svg\" height=\"24px\"viewBox=\"0 0 24 24\"\n",
              "       width=\"24px\">\n",
              "    <path d=\"M0 0h24v24H0V0z\" fill=\"none\"/>\n",
              "    <path d=\"M18.56 5.44l.94 2.06.94-2.06 2.06-.94-2.06-.94-.94-2.06-.94 2.06-2.06.94zm-11 1L8.5 8.5l.94-2.06 2.06-.94-2.06-.94L8.5 2.5l-.94 2.06-2.06.94zm10 10l.94 2.06.94-2.06 2.06-.94-2.06-.94-.94-2.06-.94 2.06-2.06.94z\"/><path d=\"M17.41 7.96l-1.37-1.37c-.4-.4-.92-.59-1.43-.59-.52 0-1.04.2-1.43.59L10.3 9.45l-7.72 7.72c-.78.78-.78 2.05 0 2.83L4 21.41c.39.39.9.59 1.41.59.51 0 1.02-.2 1.41-.59l7.78-7.78 2.81-2.81c.8-.78.8-2.07 0-2.86zM5.41 20L4 18.59l7.72-7.72 1.47 1.35L5.41 20z\"/>\n",
              "  </svg>\n",
              "      </button>\n",
              "      \n",
              "  <style>\n",
              "    .colab-df-container {\n",
              "      display:flex;\n",
              "      flex-wrap:wrap;\n",
              "      gap: 12px;\n",
              "    }\n",
              "\n",
              "    .colab-df-convert {\n",
              "      background-color: #E8F0FE;\n",
              "      border: none;\n",
              "      border-radius: 50%;\n",
              "      cursor: pointer;\n",
              "      display: none;\n",
              "      fill: #1967D2;\n",
              "      height: 32px;\n",
              "      padding: 0 0 0 0;\n",
              "      width: 32px;\n",
              "    }\n",
              "\n",
              "    .colab-df-convert:hover {\n",
              "      background-color: #E2EBFA;\n",
              "      box-shadow: 0px 1px 2px rgba(60, 64, 67, 0.3), 0px 1px 3px 1px rgba(60, 64, 67, 0.15);\n",
              "      fill: #174EA6;\n",
              "    }\n",
              "\n",
              "    [theme=dark] .colab-df-convert {\n",
              "      background-color: #3B4455;\n",
              "      fill: #D2E3FC;\n",
              "    }\n",
              "\n",
              "    [theme=dark] .colab-df-convert:hover {\n",
              "      background-color: #434B5C;\n",
              "      box-shadow: 0px 1px 3px 1px rgba(0, 0, 0, 0.15);\n",
              "      filter: drop-shadow(0px 1px 2px rgba(0, 0, 0, 0.3));\n",
              "      fill: #FFFFFF;\n",
              "    }\n",
              "  </style>\n",
              "\n",
              "      <script>\n",
              "        const buttonEl =\n",
              "          document.querySelector('#df-9bd15c52-8cd5-4939-8ad0-7f6c404bb062 button.colab-df-convert');\n",
              "        buttonEl.style.display =\n",
              "          google.colab.kernel.accessAllowed ? 'block' : 'none';\n",
              "\n",
              "        async function convertToInteractive(key) {\n",
              "          const element = document.querySelector('#df-9bd15c52-8cd5-4939-8ad0-7f6c404bb062');\n",
              "          const dataTable =\n",
              "            await google.colab.kernel.invokeFunction('convertToInteractive',\n",
              "                                                     [key], {});\n",
              "          if (!dataTable) return;\n",
              "\n",
              "          const docLinkHtml = 'Like what you see? Visit the ' +\n",
              "            '<a target=\"_blank\" href=https://colab.research.google.com/notebooks/data_table.ipynb>data table notebook</a>'\n",
              "            + ' to learn more about interactive tables.';\n",
              "          element.innerHTML = '';\n",
              "          dataTable['output_type'] = 'display_data';\n",
              "          await google.colab.output.renderOutput(dataTable, element);\n",
              "          const docLink = document.createElement('div');\n",
              "          docLink.innerHTML = docLinkHtml;\n",
              "          element.appendChild(docLink);\n",
              "        }\n",
              "      </script>\n",
              "    </div>\n",
              "  </div>\n",
              "  "
            ]
          },
          "metadata": {},
          "execution_count": 3
        }
      ]
    },
    {
      "cell_type": "markdown",
      "source": [
        "### **descripteurs** "
      ],
      "metadata": {
        "id": "Mj0Pc0pP9n7l"
      }
    },
    {
      "cell_type": "code",
      "source": [
        "moyennes = df.mean()\n",
        "moyennes"
      ],
      "metadata": {
        "colab": {
          "base_uri": "https://localhost:8080/"
        },
        "id": "kseZPIpDELt4",
        "outputId": "badb7d4c-08ce-4002-99f4-00edea7738c3"
      },
      "execution_count": 4,
      "outputs": [
        {
          "output_type": "execute_result",
          "data": {
            "text/plain": [
              "C100        11.223529\n",
              "Slong        7.095000\n",
              "Lpoids      13.850882\n",
              "Shaut        1.974412\n",
              "C400        49.366176\n",
              "C110        15.107647\n",
              "Ldisq       41.905294\n",
              "Sperch       4.676471\n",
              "Ljave       58.840588\n",
              "C1500      276.191471\n",
              "Score     7782.852941\n",
              "dtype: float64"
            ]
          },
          "metadata": {},
          "execution_count": 4
        }
      ]
    },
    {
      "cell_type": "code",
      "source": [
        "ecarts_types = df.std()\n",
        "ecarts_types"
      ],
      "metadata": {
        "colab": {
          "base_uri": "https://localhost:8080/"
        },
        "id": "QHR52IpBHmJq",
        "outputId": "1c955665-7ed7-49d1-886d-a9ee08f569b6"
      },
      "execution_count": 5,
      "outputs": [
        {
          "output_type": "execute_result",
          "data": {
            "text/plain": [
              "C100        0.287232\n",
              "Slong       0.373868\n",
              "Lpoids      1.501927\n",
              "Shaut       0.104481\n",
              "C400        1.175546\n",
              "C110        0.605655\n",
              "Ldisq       4.500711\n",
              "Sperch      0.493017\n",
              "Ljave       6.438736\n",
              "C1500      13.478133\n",
              "Score     594.582723\n",
              "dtype: float64"
            ]
          },
          "metadata": {},
          "execution_count": 5
        }
      ]
    },
    {
      "cell_type": "code",
      "source": [
        "ecarts_types[2]"
      ],
      "metadata": {
        "colab": {
          "base_uri": "https://localhost:8080/"
        },
        "id": "klZw6aKhK1yC",
        "outputId": "a2411fbb-9ed4-41a7-b28e-f807ec1c4a60"
      },
      "execution_count": 6,
      "outputs": [
        {
          "output_type": "execute_result",
          "data": {
            "text/plain": [
              "1.5019267779575045"
            ]
          },
          "metadata": {},
          "execution_count": 6
        }
      ]
    },
    {
      "cell_type": "code",
      "source": [
        "df.describe()"
      ],
      "metadata": {
        "colab": {
          "base_uri": "https://localhost:8080/",
          "height": 300
        },
        "id": "m5jko3q9t3bL",
        "outputId": "8ff837a3-98bf-4b51-abbe-f5a0bf8fc5d1"
      },
      "execution_count": 7,
      "outputs": [
        {
          "output_type": "execute_result",
          "data": {
            "text/plain": [
              "            C100      Slong     Lpoids      Shaut       C400       C110  \\\n",
              "count  34.000000  34.000000  34.000000  34.000000  34.000000  34.000000   \n",
              "mean   11.223529   7.095000  13.850882   1.974412  49.366176  15.107647   \n",
              "std     0.287232   0.373868   1.501927   0.104481   1.175546   0.605655   \n",
              "min    10.620000   5.830000   9.710000   1.700000  47.440000  14.180000   \n",
              "25%    11.022500   6.985000  12.992500   1.940000  48.347500  14.730000   \n",
              "50%    11.180000   7.085000  14.050000   1.970000  49.210000  15.000000   \n",
              "75%    11.452500   7.367500  14.857500   2.030000  49.987500  15.387500   \n",
              "max    12.120000   7.720000  16.600000   2.270000  52.320000  17.050000   \n",
              "\n",
              "           Ldisq     Sperch      Ljave       C1500        Score  \n",
              "count  34.000000  34.000000  34.000000   34.000000    34.000000  \n",
              "mean   41.905294   4.676471  58.840588  276.191471  7782.852941  \n",
              "std     4.500711   0.493017   6.438736   13.478133   594.582723  \n",
              "min    27.100000   2.600000  39.100000  256.640000  5339.000000  \n",
              "25%    38.885000   4.525000  55.060000  266.685000  7532.500000  \n",
              "50%    42.090000   4.700000  58.660000  272.370000  7864.500000  \n",
              "75%    44.690000   4.900000  63.750000  285.922500  8176.750000  \n",
              "max    50.660000   5.700000  72.600000  303.170000  8488.000000  "
            ],
            "text/html": [
              "\n",
              "  <div id=\"df-2a78a164-edd8-4951-979d-0ba6d94fcc5b\">\n",
              "    <div class=\"colab-df-container\">\n",
              "      <div>\n",
              "<style scoped>\n",
              "    .dataframe tbody tr th:only-of-type {\n",
              "        vertical-align: middle;\n",
              "    }\n",
              "\n",
              "    .dataframe tbody tr th {\n",
              "        vertical-align: top;\n",
              "    }\n",
              "\n",
              "    .dataframe thead th {\n",
              "        text-align: right;\n",
              "    }\n",
              "</style>\n",
              "<table border=\"1\" class=\"dataframe\">\n",
              "  <thead>\n",
              "    <tr style=\"text-align: right;\">\n",
              "      <th></th>\n",
              "      <th>C100</th>\n",
              "      <th>Slong</th>\n",
              "      <th>Lpoids</th>\n",
              "      <th>Shaut</th>\n",
              "      <th>C400</th>\n",
              "      <th>C110</th>\n",
              "      <th>Ldisq</th>\n",
              "      <th>Sperch</th>\n",
              "      <th>Ljave</th>\n",
              "      <th>C1500</th>\n",
              "      <th>Score</th>\n",
              "    </tr>\n",
              "  </thead>\n",
              "  <tbody>\n",
              "    <tr>\n",
              "      <th>count</th>\n",
              "      <td>34.000000</td>\n",
              "      <td>34.000000</td>\n",
              "      <td>34.000000</td>\n",
              "      <td>34.000000</td>\n",
              "      <td>34.000000</td>\n",
              "      <td>34.000000</td>\n",
              "      <td>34.000000</td>\n",
              "      <td>34.000000</td>\n",
              "      <td>34.000000</td>\n",
              "      <td>34.000000</td>\n",
              "      <td>34.000000</td>\n",
              "    </tr>\n",
              "    <tr>\n",
              "      <th>mean</th>\n",
              "      <td>11.223529</td>\n",
              "      <td>7.095000</td>\n",
              "      <td>13.850882</td>\n",
              "      <td>1.974412</td>\n",
              "      <td>49.366176</td>\n",
              "      <td>15.107647</td>\n",
              "      <td>41.905294</td>\n",
              "      <td>4.676471</td>\n",
              "      <td>58.840588</td>\n",
              "      <td>276.191471</td>\n",
              "      <td>7782.852941</td>\n",
              "    </tr>\n",
              "    <tr>\n",
              "      <th>std</th>\n",
              "      <td>0.287232</td>\n",
              "      <td>0.373868</td>\n",
              "      <td>1.501927</td>\n",
              "      <td>0.104481</td>\n",
              "      <td>1.175546</td>\n",
              "      <td>0.605655</td>\n",
              "      <td>4.500711</td>\n",
              "      <td>0.493017</td>\n",
              "      <td>6.438736</td>\n",
              "      <td>13.478133</td>\n",
              "      <td>594.582723</td>\n",
              "    </tr>\n",
              "    <tr>\n",
              "      <th>min</th>\n",
              "      <td>10.620000</td>\n",
              "      <td>5.830000</td>\n",
              "      <td>9.710000</td>\n",
              "      <td>1.700000</td>\n",
              "      <td>47.440000</td>\n",
              "      <td>14.180000</td>\n",
              "      <td>27.100000</td>\n",
              "      <td>2.600000</td>\n",
              "      <td>39.100000</td>\n",
              "      <td>256.640000</td>\n",
              "      <td>5339.000000</td>\n",
              "    </tr>\n",
              "    <tr>\n",
              "      <th>25%</th>\n",
              "      <td>11.022500</td>\n",
              "      <td>6.985000</td>\n",
              "      <td>12.992500</td>\n",
              "      <td>1.940000</td>\n",
              "      <td>48.347500</td>\n",
              "      <td>14.730000</td>\n",
              "      <td>38.885000</td>\n",
              "      <td>4.525000</td>\n",
              "      <td>55.060000</td>\n",
              "      <td>266.685000</td>\n",
              "      <td>7532.500000</td>\n",
              "    </tr>\n",
              "    <tr>\n",
              "      <th>50%</th>\n",
              "      <td>11.180000</td>\n",
              "      <td>7.085000</td>\n",
              "      <td>14.050000</td>\n",
              "      <td>1.970000</td>\n",
              "      <td>49.210000</td>\n",
              "      <td>15.000000</td>\n",
              "      <td>42.090000</td>\n",
              "      <td>4.700000</td>\n",
              "      <td>58.660000</td>\n",
              "      <td>272.370000</td>\n",
              "      <td>7864.500000</td>\n",
              "    </tr>\n",
              "    <tr>\n",
              "      <th>75%</th>\n",
              "      <td>11.452500</td>\n",
              "      <td>7.367500</td>\n",
              "      <td>14.857500</td>\n",
              "      <td>2.030000</td>\n",
              "      <td>49.987500</td>\n",
              "      <td>15.387500</td>\n",
              "      <td>44.690000</td>\n",
              "      <td>4.900000</td>\n",
              "      <td>63.750000</td>\n",
              "      <td>285.922500</td>\n",
              "      <td>8176.750000</td>\n",
              "    </tr>\n",
              "    <tr>\n",
              "      <th>max</th>\n",
              "      <td>12.120000</td>\n",
              "      <td>7.720000</td>\n",
              "      <td>16.600000</td>\n",
              "      <td>2.270000</td>\n",
              "      <td>52.320000</td>\n",
              "      <td>17.050000</td>\n",
              "      <td>50.660000</td>\n",
              "      <td>5.700000</td>\n",
              "      <td>72.600000</td>\n",
              "      <td>303.170000</td>\n",
              "      <td>8488.000000</td>\n",
              "    </tr>\n",
              "  </tbody>\n",
              "</table>\n",
              "</div>\n",
              "      <button class=\"colab-df-convert\" onclick=\"convertToInteractive('df-2a78a164-edd8-4951-979d-0ba6d94fcc5b')\"\n",
              "              title=\"Convert this dataframe to an interactive table.\"\n",
              "              style=\"display:none;\">\n",
              "        \n",
              "  <svg xmlns=\"http://www.w3.org/2000/svg\" height=\"24px\"viewBox=\"0 0 24 24\"\n",
              "       width=\"24px\">\n",
              "    <path d=\"M0 0h24v24H0V0z\" fill=\"none\"/>\n",
              "    <path d=\"M18.56 5.44l.94 2.06.94-2.06 2.06-.94-2.06-.94-.94-2.06-.94 2.06-2.06.94zm-11 1L8.5 8.5l.94-2.06 2.06-.94-2.06-.94L8.5 2.5l-.94 2.06-2.06.94zm10 10l.94 2.06.94-2.06 2.06-.94-2.06-.94-.94-2.06-.94 2.06-2.06.94z\"/><path d=\"M17.41 7.96l-1.37-1.37c-.4-.4-.92-.59-1.43-.59-.52 0-1.04.2-1.43.59L10.3 9.45l-7.72 7.72c-.78.78-.78 2.05 0 2.83L4 21.41c.39.39.9.59 1.41.59.51 0 1.02-.2 1.41-.59l7.78-7.78 2.81-2.81c.8-.78.8-2.07 0-2.86zM5.41 20L4 18.59l7.72-7.72 1.47 1.35L5.41 20z\"/>\n",
              "  </svg>\n",
              "      </button>\n",
              "      \n",
              "  <style>\n",
              "    .colab-df-container {\n",
              "      display:flex;\n",
              "      flex-wrap:wrap;\n",
              "      gap: 12px;\n",
              "    }\n",
              "\n",
              "    .colab-df-convert {\n",
              "      background-color: #E8F0FE;\n",
              "      border: none;\n",
              "      border-radius: 50%;\n",
              "      cursor: pointer;\n",
              "      display: none;\n",
              "      fill: #1967D2;\n",
              "      height: 32px;\n",
              "      padding: 0 0 0 0;\n",
              "      width: 32px;\n",
              "    }\n",
              "\n",
              "    .colab-df-convert:hover {\n",
              "      background-color: #E2EBFA;\n",
              "      box-shadow: 0px 1px 2px rgba(60, 64, 67, 0.3), 0px 1px 3px 1px rgba(60, 64, 67, 0.15);\n",
              "      fill: #174EA6;\n",
              "    }\n",
              "\n",
              "    [theme=dark] .colab-df-convert {\n",
              "      background-color: #3B4455;\n",
              "      fill: #D2E3FC;\n",
              "    }\n",
              "\n",
              "    [theme=dark] .colab-df-convert:hover {\n",
              "      background-color: #434B5C;\n",
              "      box-shadow: 0px 1px 3px 1px rgba(0, 0, 0, 0.15);\n",
              "      filter: drop-shadow(0px 1px 2px rgba(0, 0, 0, 0.3));\n",
              "      fill: #FFFFFF;\n",
              "    }\n",
              "  </style>\n",
              "\n",
              "      <script>\n",
              "        const buttonEl =\n",
              "          document.querySelector('#df-2a78a164-edd8-4951-979d-0ba6d94fcc5b button.colab-df-convert');\n",
              "        buttonEl.style.display =\n",
              "          google.colab.kernel.accessAllowed ? 'block' : 'none';\n",
              "\n",
              "        async function convertToInteractive(key) {\n",
              "          const element = document.querySelector('#df-2a78a164-edd8-4951-979d-0ba6d94fcc5b');\n",
              "          const dataTable =\n",
              "            await google.colab.kernel.invokeFunction('convertToInteractive',\n",
              "                                                     [key], {});\n",
              "          if (!dataTable) return;\n",
              "\n",
              "          const docLinkHtml = 'Like what you see? Visit the ' +\n",
              "            '<a target=\"_blank\" href=https://colab.research.google.com/notebooks/data_table.ipynb>data table notebook</a>'\n",
              "            + ' to learn more about interactive tables.';\n",
              "          element.innerHTML = '';\n",
              "          dataTable['output_type'] = 'display_data';\n",
              "          await google.colab.output.renderOutput(dataTable, element);\n",
              "          const docLink = document.createElement('div');\n",
              "          docLink.innerHTML = docLinkHtml;\n",
              "          element.appendChild(docLink);\n",
              "        }\n",
              "      </script>\n",
              "    </div>\n",
              "  </div>\n",
              "  "
            ]
          },
          "metadata": {},
          "execution_count": 7
        }
      ]
    },
    {
      "cell_type": "markdown",
      "source": [
        "### **Représentations graphiques**\n",
        "\n"
      ],
      "metadata": {
        "id": "uPMAfxTI3zWV"
      }
    },
    {
      "cell_type": "markdown",
      "source": [
        "* **Boite à moustaches de chacune des variables**\n"
      ],
      "metadata": {
        "id": "Z25ss2Pf97LJ"
      }
    },
    {
      "cell_type": "code",
      "source": [
        "fig=plt.figure(figsize=(20,3))\n",
        "\n",
        "for i in range(1,11):\n",
        "    data3=plt.subplot(1,10,i,title=df.columns[i-1])\n",
        "    sns.boxplot(y=df[df.columns[i-1]], color = \"pink\")"
      ],
      "metadata": {
        "colab": {
          "base_uri": "https://localhost:8080/",
          "height": 213
        },
        "id": "y4OL6Nv5-ptM",
        "outputId": "ec6dcf88-7089-494f-d34e-68b307b47dd2"
      },
      "execution_count": 8,
      "outputs": [
        {
          "output_type": "display_data",
          "data": {
            "text/plain": [
              "<Figure size 1440x216 with 10 Axes>"
            ],
            "image/png": "[encoded data removed]"
          },
          "metadata": {
            "needs_background": "light"
          }
        }
      ]
    },
    {
      "cell_type": "markdown",
      "source": [
        "* ***Pair Plots***\n",
        "\n",
        "La représentation suivante donne le nuage de point pour tous les couples de variables (séries de données).\n",
        "\n",
        "En diagonale figurent les histogrammes de chacune des séries.\n",
        "\n",
        "Il est facile visuellement de donner deux variables très positivement corrélées (les points du graphiques sont relativement bien alignés sur une droite de pente positive), deux variables très négativement corrélées (approximative droite descendante), ou deux variables faiblement corrélées (nuage très diffus)"
      ],
      "metadata": {
        "id": "EEEZZYnb9ve0"
      }
    },
    {
      "cell_type": "code",
      "source": [
        "sns.pairplot(df)"
      ],
      "metadata": {
        "colab": {
          "base_uri": "https://localhost:8080/",
          "height": 1000
        },
        "id": "_tRGPsC81xl_",
        "outputId": "cb0dbd57-21c8-4533-8740-a71feb177b55"
      },
      "execution_count": 9,
      "outputs": [
        {
          "output_type": "execute_result",
          "data": {
            "text/plain": [
              "<seaborn.axisgrid.PairGrid at 0x7f19c865b090>"
            ]
          },
          "metadata": {},
          "execution_count": 9
        },
        {
          "output_type": "display_data",
          "data": {
            "text/plain": [
              "<Figure size 1980x1980 with 132 Axes>"
            ],
            "image/png": "[encoded data removed]"
          },
          "metadata": {
            "needs_background": "light"
          }
        }
      ]
    },
    {
      "cell_type": "markdown",
      "source": [
        "**observations :**\n",
        "* Le score (dernière ligne, dernière colonne) est sensiblement corrélé à l'ensemble des épreuves, c'est plutôt logique... Hormis pour les deux courses de sprint, 100 m et 110 m, ce qui tendrait à signifier que ce sont des exercices très spécifiques, peu avantageux pour les autres épreuves. Écartons cette variable \"score\" car elle n'est pas très révélatrice.\n",
        "\n",
        "* Lancer du poids et lancer du disque semblent fortement positivement corrélés, c'est logique aussi, les morphotypes de ces deux sports sont très voisins. (c'est avec ce constat que les lanceurs de poids ont adopté ces dernières années une prise d'élan rotative, et non rectiligne, comme en 1988)\n",
        "\n",
        "* 100 m haies et saut à la perche sont par contre fortement négativement corrélés : les efforts dans ces deux épreuves sont très différents.\n",
        "\n",
        "* Lancer du poids et 400 m  semblent peu corrélées, certains athlètes sont très forts dans les deux, ou seulement dans l'une des deux spécialités, ... ou dans aucune, ce qui donne un nuage très diffus."
      ],
      "metadata": {
        "id": "_t8OqVri4rrG"
      }
    },
    {
      "cell_type": "markdown",
      "source": [
        "* **\"*Heat Map*\" (ou Matrice de confusion, *in french*)**\n",
        "\n",
        "On donne sous forme de matrice les corrélations des variables deux à deux."
      ],
      "metadata": {
        "id": "iJANMUkUAnLk"
      }
    },
    {
      "cell_type": "code",
      "source": [
        "cor=df.corr()\n",
        "cor"
      ],
      "metadata": {
        "colab": {
          "base_uri": "https://localhost:8080/",
          "height": 394
        },
        "id": "Ob-3eQaGBHk3",
        "outputId": "9640dc91-9f52-4688-cfbf-365a05391c55"
      },
      "execution_count": 10,
      "outputs": [
        {
          "output_type": "execute_result",
          "data": {
            "text/plain": [
              "            C100     Slong    Lpoids     Shaut      C400      C110     Ldisq  \\\n",
              "C100    1.000000 -0.690508 -0.420167 -0.363743  0.697733  0.751268 -0.352602   \n",
              "Slong  -0.690508  1.000000  0.390586  0.471393 -0.635582 -0.654492  0.374849   \n",
              "Lpoids -0.420167  0.390586  1.000000  0.320514 -0.142279 -0.488844  0.856185   \n",
              "Shaut  -0.363743  0.471393  0.320514  1.000000 -0.275497 -0.486847  0.376005   \n",
              "C400    0.697733 -0.635582 -0.142279 -0.275497  1.000000  0.654716 -0.154393   \n",
              "C110    0.751268 -0.654492 -0.488844 -0.486847  0.654716  1.000000 -0.403459   \n",
              "Ldisq  -0.352602  0.374849  0.856185  0.376005 -0.154393 -0.403459  1.000000   \n",
              "Sperch -0.627239  0.632288  0.642531  0.471526 -0.521136 -0.708754  0.619522   \n",
              "Ljave  -0.344130  0.446284  0.702640  0.337726 -0.149878 -0.350491  0.617820   \n",
              "C1500   0.253774 -0.355977  0.202015 -0.131551  0.554456  0.155316  0.288191   \n",
              "Score  -0.762737  0.801992  0.716322  0.634049 -0.652702 -0.804927  0.674659   \n",
              "\n",
              "          Sperch     Ljave     C1500     Score  \n",
              "C100   -0.627239 -0.344130  0.253774 -0.762737  \n",
              "Slong   0.632288  0.446284 -0.355977  0.801992  \n",
              "Lpoids  0.642531  0.702640  0.202015  0.716322  \n",
              "Shaut   0.471526  0.337726 -0.131551  0.634049  \n",
              "C400   -0.521136 -0.149878  0.554456 -0.652702  \n",
              "C110   -0.708754 -0.350491  0.155316 -0.804927  \n",
              "Ldisq   0.619522  0.617820  0.288191  0.674659  \n",
              "Sperch  1.000000  0.557131 -0.070246  0.870243  \n",
              "Ljave   0.557131  1.000000  0.044976  0.674698  \n",
              "C1500  -0.070246  0.044976  1.000000 -0.255364  \n",
              "Score   0.870243  0.674698 -0.255364  1.000000  "
            ],
            "text/html": [
              "\n",
              "  <div id=\"df-84e34d63-a5c4-4ae7-8200-ac38dae42ac5\">\n",
              "    <div class=\"colab-df-container\">\n",
              "      <div>\n",
              "<style scoped>\n",
              "    .dataframe tbody tr th:only-of-type {\n",
              "        vertical-align: middle;\n",
              "    }\n",
              "\n",
              "    .dataframe tbody tr th {\n",
              "        vertical-align: top;\n",
              "    }\n",
              "\n",
              "    .dataframe thead th {\n",
              "        text-align: right;\n",
              "    }\n",
              "</style>\n",
              "<table border=\"1\" class=\"dataframe\">\n",
              "  <thead>\n",
              "    <tr style=\"text-align: right;\">\n",
              "      <th></th>\n",
              "      <th>C100</th>\n",
              "      <th>Slong</th>\n",
              "      <th>Lpoids</th>\n",
              "      <th>Shaut</th>\n",
              "      <th>C400</th>\n",
              "      <th>C110</th>\n",
              "      <th>Ldisq</th>\n",
              "      <th>Sperch</th>\n",
              "      <th>Ljave</th>\n",
              "      <th>C1500</th>\n",
              "      <th>Score</th>\n",
              "    </tr>\n",
              "  </thead>\n",
              "  <tbody>\n",
              "    <tr>\n",
              "      <th>C100</th>\n",
              "      <td>1.000000</td>\n",
              "      <td>-0.690508</td>\n",
              "      <td>-0.420167</td>\n",
              "      <td>-0.363743</td>\n",
              "      <td>0.697733</td>\n",
              "      <td>0.751268</td>\n",
              "      <td>-0.352602</td>\n",
              "      <td>-0.627239</td>\n",
              "      <td>-0.344130</td>\n",
              "      <td>0.253774</td>\n",
              "      <td>-0.762737</td>\n",
              "    </tr>\n",
              "    <tr>\n",
              "      <th>Slong</th>\n",
              "      <td>-0.690508</td>\n",
              "      <td>1.000000</td>\n",
              "      <td>0.390586</td>\n",
              "      <td>0.471393</td>\n",
              "      <td>-0.635582</td>\n",
              "      <td>-0.654492</td>\n",
              "      <td>0.374849</td>\n",
              "      <td>0.632288</td>\n",
              "      <td>0.446284</td>\n",
              "      <td>-0.355977</td>\n",
              "      <td>0.801992</td>\n",
              "    </tr>\n",
              "    <tr>\n",
              "      <th>Lpoids</th>\n",
              "      <td>-0.420167</td>\n",
              "      <td>0.390586</td>\n",
              "      <td>1.000000</td>\n",
              "      <td>0.320514</td>\n",
              "      <td>-0.142279</td>\n",
              "      <td>-0.488844</td>\n",
              "      <td>0.856185</td>\n",
              "      <td>0.642531</td>\n",
              "      <td>0.702640</td>\n",
              "      <td>0.202015</td>\n",
              "      <td>0.716322</td>\n",
              "    </tr>\n",
              "    <tr>\n",
              "      <th>Shaut</th>\n",
              "      <td>-0.363743</td>\n",
              "      <td>0.471393</td>\n",
              "      <td>0.320514</td>\n",
              "      <td>1.000000</td>\n",
              "      <td>-0.275497</td>\n",
              "      <td>-0.486847</td>\n",
              "      <td>0.376005</td>\n",
              "      <td>0.471526</td>\n",
              "      <td>0.337726</td>\n",
              "      <td>-0.131551</td>\n",
              "      <td>0.634049</td>\n",
              "    </tr>\n",
              "    <tr>\n",
              "      <th>C400</th>\n",
              "      <td>0.697733</td>\n",
              "      <td>-0.635582</td>\n",
              "      <td>-0.142279</td>\n",
              "      <td>-0.275497</td>\n",
              "      <td>1.000000</td>\n",
              "      <td>0.654716</td>\n",
              "      <td>-0.154393</td>\n",
              "      <td>-0.521136</td>\n",
              "      <td>-0.149878</td>\n",
              "      <td>0.554456</td>\n",
              "      <td>-0.652702</td>\n",
              "    </tr>\n",
              "    <tr>\n",
              "      <th>C110</th>\n",
              "      <td>0.751268</td>\n",
              "      <td>-0.654492</td>\n",
              "      <td>-0.488844</td>\n",
              "      <td>-0.486847</td>\n",
              "      <td>0.654716</td>\n",
              "      <td>1.000000</td>\n",
              "      <td>-0.403459</td>\n",
              "      <td>-0.708754</td>\n",
              "      <td>-0.350491</td>\n",
              "      <td>0.155316</td>\n",
              "      <td>-0.804927</td>\n",
              "    </tr>\n",
              "    <tr>\n",
              "      <th>Ldisq</th>\n",
              "      <td>-0.352602</td>\n",
              "      <td>0.374849</td>\n",
              "      <td>0.856185</td>\n",
              "      <td>0.376005</td>\n",
              "      <td>-0.154393</td>\n",
              "      <td>-0.403459</td>\n",
              "      <td>1.000000</td>\n",
              "      <td>0.619522</td>\n",
              "      <td>0.617820</td>\n",
              "      <td>0.288191</td>\n",
              "      <td>0.674659</td>\n",
              "    </tr>\n",
              "    <tr>\n",
              "      <th>Sperch</th>\n",
              "      <td>-0.627239</td>\n",
              "      <td>0.632288</td>\n",
              "      <td>0.642531</td>\n",
              "      <td>0.471526</td>\n",
              "      <td>-0.521136</td>\n",
              "      <td>-0.708754</td>\n",
              "      <td>0.619522</td>\n",
              "      <td>1.000000</td>\n",
              "      <td>0.557131</td>\n",
              "      <td>-0.070246</td>\n",
              "      <td>0.870243</td>\n",
              "    </tr>\n",
              "    <tr>\n",
              "      <th>Ljave</th>\n",
              "      <td>-0.344130</td>\n",
              "      <td>0.446284</td>\n",
              "      <td>0.702640</td>\n",
              "      <td>0.337726</td>\n",
              "      <td>-0.149878</td>\n",
              "      <td>-0.350491</td>\n",
              "      <td>0.617820</td>\n",
              "      <td>0.557131</td>\n",
              "      <td>1.000000</td>\n",
              "      <td>0.044976</td>\n",
              "      <td>0.674698</td>\n",
              "    </tr>\n",
              "    <tr>\n",
              "      <th>C1500</th>\n",
              "      <td>0.253774</td>\n",
              "      <td>-0.355977</td>\n",
              "      <td>0.202015</td>\n",
              "      <td>-0.131551</td>\n",
              "      <td>0.554456</td>\n",
              "      <td>0.155316</td>\n",
              "      <td>0.288191</td>\n",
              "      <td>-0.070246</td>\n",
              "      <td>0.044976</td>\n",
              "      <td>1.000000</td>\n",
              "      <td>-0.255364</td>\n",
              "    </tr>\n",
              "    <tr>\n",
              "      <th>Score</th>\n",
              "      <td>-0.762737</td>\n",
              "      <td>0.801992</td>\n",
              "      <td>0.716322</td>\n",
              "      <td>0.634049</td>\n",
              "      <td>-0.652702</td>\n",
              "      <td>-0.804927</td>\n",
              "      <td>0.674659</td>\n",
              "      <td>0.870243</td>\n",
              "      <td>0.674698</td>\n",
              "      <td>-0.255364</td>\n",
              "      <td>1.000000</td>\n",
              "    </tr>\n",
              "  </tbody>\n",
              "</table>\n",
              "</div>\n",
              "      <button class=\"colab-df-convert\" onclick=\"convertToInteractive('df-84e34d63-a5c4-4ae7-8200-ac38dae42ac5')\"\n",
              "              title=\"Convert this dataframe to an interactive table.\"\n",
              "              style=\"display:none;\">\n",
              "        \n",
              "  <svg xmlns=\"http://www.w3.org/2000/svg\" height=\"24px\"viewBox=\"0 0 24 24\"\n",
              "       width=\"24px\">\n",
              "    <path d=\"M0 0h24v24H0V0z\" fill=\"none\"/>\n",
              "    <path d=\"M18.56 5.44l.94 2.06.94-2.06 2.06-.94-2.06-.94-.94-2.06-.94 2.06-2.06.94zm-11 1L8.5 8.5l.94-2.06 2.06-.94-2.06-.94L8.5 2.5l-.94 2.06-2.06.94zm10 10l.94 2.06.94-2.06 2.06-.94-2.06-.94-.94-2.06-.94 2.06-2.06.94z\"/><path d=\"M17.41 7.96l-1.37-1.37c-.4-.4-.92-.59-1.43-.59-.52 0-1.04.2-1.43.59L10.3 9.45l-7.72 7.72c-.78.78-.78 2.05 0 2.83L4 21.41c.39.39.9.59 1.41.59.51 0 1.02-.2 1.41-.59l7.78-7.78 2.81-2.81c.8-.78.8-2.07 0-2.86zM5.41 20L4 18.59l7.72-7.72 1.47 1.35L5.41 20z\"/>\n",
              "  </svg>\n",
              "      </button>\n",
              "      \n",
              "  <style>\n",
              "    .colab-df-container {\n",
              "      display:flex;\n",
              "      flex-wrap:wrap;\n",
              "      gap: 12px;\n",
              "    }\n",
              "\n",
              "    .colab-df-convert {\n",
              "      background-color: #E8F0FE;\n",
              "      border: none;\n",
              "      border-radius: 50%;\n",
              "      cursor: pointer;\n",
              "      display: none;\n",
              "      fill: #1967D2;\n",
              "      height: 32px;\n",
              "      padding: 0 0 0 0;\n",
              "      width: 32px;\n",
              "    }\n",
              "\n",
              "    .colab-df-convert:hover {\n",
              "      background-color: #E2EBFA;\n",
              "      box-shadow: 0px 1px 2px rgba(60, 64, 67, 0.3), 0px 1px 3px 1px rgba(60, 64, 67, 0.15);\n",
              "      fill: #174EA6;\n",
              "    }\n",
              "\n",
              "    [theme=dark] .colab-df-convert {\n",
              "      background-color: #3B4455;\n",
              "      fill: #D2E3FC;\n",
              "    }\n",
              "\n",
              "    [theme=dark] .colab-df-convert:hover {\n",
              "      background-color: #434B5C;\n",
              "      box-shadow: 0px 1px 3px 1px rgba(0, 0, 0, 0.15);\n",
              "      filter: drop-shadow(0px 1px 2px rgba(0, 0, 0, 0.3));\n",
              "      fill: #FFFFFF;\n",
              "    }\n",
              "  </style>\n",
              "\n",
              "      <script>\n",
              "        const buttonEl =\n",
              "          document.querySelector('#df-84e34d63-a5c4-4ae7-8200-ac38dae42ac5 button.colab-df-convert');\n",
              "        buttonEl.style.display =\n",
              "          google.colab.kernel.accessAllowed ? 'block' : 'none';\n",
              "\n",
              "        async function convertToInteractive(key) {\n",
              "          const element = document.querySelector('#df-84e34d63-a5c4-4ae7-8200-ac38dae42ac5');\n",
              "          const dataTable =\n",
              "            await google.colab.kernel.invokeFunction('convertToInteractive',\n",
              "                                                     [key], {});\n",
              "          if (!dataTable) return;\n",
              "\n",
              "          const docLinkHtml = 'Like what you see? Visit the ' +\n",
              "            '<a target=\"_blank\" href=https://colab.research.google.com/notebooks/data_table.ipynb>data table notebook</a>'\n",
              "            + ' to learn more about interactive tables.';\n",
              "          element.innerHTML = '';\n",
              "          dataTable['output_type'] = 'display_data';\n",
              "          await google.colab.output.renderOutput(dataTable, element);\n",
              "          const docLink = document.createElement('div');\n",
              "          docLink.innerHTML = docLinkHtml;\n",
              "          element.appendChild(docLink);\n",
              "        }\n",
              "      </script>\n",
              "    </div>\n",
              "  </div>\n",
              "  "
            ]
          },
          "metadata": {},
          "execution_count": 10
        }
      ]
    },
    {
      "cell_type": "markdown",
      "source": [
        "... la même en couleur..."
      ],
      "metadata": {
        "id": "DZvhQw03BQi8"
      }
    },
    {
      "cell_type": "code",
      "source": [
        "# correlation plot---heatmap\n",
        "\n",
        "sns.heatmap(cor,annot=True)"
      ],
      "metadata": {
        "colab": {
          "base_uri": "https://localhost:8080/",
          "height": 311
        },
        "id": "oY4cqoWmA8gZ",
        "outputId": "3f8ac29b-1a4f-491a-e6e3-636e8b0e83f8"
      },
      "execution_count": 11,
      "outputs": [
        {
          "output_type": "execute_result",
          "data": {
            "text/plain": [
              "<matplotlib.axes._subplots.AxesSubplot at 0x7f19c29ccc90>"
            ]
          },
          "metadata": {},
          "execution_count": 11
        },
        {
          "output_type": "display_data",
          "data": {
            "text/plain": [
              "<Figure size 432x288 with 2 Axes>"
            ],
            "image/png": "[encoded data removed]"
          },
          "metadata": {
            "needs_background": "light"
          }
        }
      ]
    },
    {
      "cell_type": "markdown",
      "source": [
        "**observations :**\n",
        "\n",
        "Ceci confirme nos observations initiales, puisque la corrélation lancer poids/lancer disque est de 0.86 (proche de 1), celle entre 110 m haies et perche de -0.71 (proche de -1), et celle entre poids et 400 m : -0.14 (proche de 0)."
      ],
      "metadata": {
        "id": "jldc9y-RBXGm"
      }
    },
    {
      "cell_type": "markdown",
      "source": [
        "## **Outils de calcul et graphiques**\n",
        "\n",
        "On reconstruit ici les fonctions automatiques utilisées ci-dessus."
      ],
      "metadata": {
        "id": "9oIIdhlF87HI"
      }
    },
    {
      "cell_type": "markdown",
      "source": [
        "### **Fonctions de calcul requises**\n"
      ],
      "metadata": {
        "id": "zOcLbuYG8PjI"
      }
    },
    {
      "cell_type": "code",
      "source": [
        "def moyenne(X) :\n",
        "    return 1/len(X)*sum(X)"
      ],
      "metadata": {
        "id": "9oHpdLcSFHTG"
      },
      "execution_count": 12,
      "outputs": []
    },
    {
      "cell_type": "code",
      "source": [
        "def covariance(X,Y) :\n",
        "    '''reçoit deux matrices colonnes de même taille et renvoie leur covariance'''\n",
        "    S = 0\n",
        "    Xbar = moyenne(X)\n",
        "    Ybar = moyenne(Y)\n",
        "    L = len(X)\n",
        "    \n",
        "    for i in range(L) :\n",
        "        S = S + (X[i]-Xbar)*(Y[i]- Ybar)\n",
        "    \n",
        "    c = S/(L-1) # covariance empirique (biais multiplicatif:  (L-1)/L )\n",
        "    return c"
      ],
      "metadata": {
        "id": "8Lub3RwTHMn_"
      },
      "execution_count": 13,
      "outputs": []
    },
    {
      "cell_type": "code",
      "source": [
        "X = df[\"Lpoids\"]\n",
        "Y = df[\"Ldisq\"]\n",
        "covariance(X,Y)"
      ],
      "metadata": {
        "colab": {
          "base_uri": "https://localhost:8080/"
        },
        "id": "wolDQq6AH0C2",
        "outputId": "8e9d45aa-4b19-4260-9632-6a1b8bdb9b02"
      },
      "execution_count": 14,
      "outputs": [
        {
          "output_type": "execute_result",
          "data": {
            "text/plain": [
              "5.787583065953654"
            ]
          },
          "metadata": {},
          "execution_count": 14
        }
      ]
    },
    {
      "cell_type": "code",
      "source": [
        "def variance(X) :\n",
        "    return covariance(X,X)"
      ],
      "metadata": {
        "id": "LSwESCWpIZs3"
      },
      "execution_count": 15,
      "outputs": []
    },
    {
      "cell_type": "code",
      "source": [
        "variance(df[\"Lpoids\"])"
      ],
      "metadata": {
        "colab": {
          "base_uri": "https://localhost:8080/"
        },
        "id": "H_oDE49GIkkW",
        "outputId": "c8507651-bf98-4d95-ea0f-cc449fcb6de1"
      },
      "execution_count": 16,
      "outputs": [
        {
          "output_type": "execute_result",
          "data": {
            "text/plain": [
              "2.255784046345811"
            ]
          },
          "metadata": {},
          "execution_count": 16
        }
      ]
    },
    {
      "cell_type": "code",
      "source": [
        "from math import sqrt"
      ],
      "metadata": {
        "id": "IHeW9CTEI39e"
      },
      "execution_count": 17,
      "outputs": []
    },
    {
      "cell_type": "code",
      "source": [
        "def ecart_type(X) :\n",
        "    return sqrt(variance(X))"
      ],
      "metadata": {
        "id": "uKFa8JmfIvka"
      },
      "execution_count": 18,
      "outputs": []
    },
    {
      "cell_type": "code",
      "source": [
        "ecart_type(df[\"Lpoids\"])"
      ],
      "metadata": {
        "colab": {
          "base_uri": "https://localhost:8080/"
        },
        "id": "2p4za66JJGoM",
        "outputId": "8720b409-ba4e-46ef-8ce4-9e99da613af0"
      },
      "execution_count": 19,
      "outputs": [
        {
          "output_type": "execute_result",
          "data": {
            "text/plain": [
              "1.5019267779575045"
            ]
          },
          "metadata": {},
          "execution_count": 19
        }
      ]
    },
    {
      "cell_type": "code",
      "source": [
        "def correlation(X,Y) :\n",
        "    return covariance(X,Y)/(ecart_type(X)*ecart_type(Y))"
      ],
      "metadata": {
        "id": "5p_MAbHJKCJY"
      },
      "execution_count": 20,
      "outputs": []
    },
    {
      "cell_type": "code",
      "source": [
        "X = df[\"Lpoids\"]\n",
        "Y = df[\"Ldisq\"]\n",
        "correlation(X,Y)"
      ],
      "metadata": {
        "colab": {
          "base_uri": "https://localhost:8080/"
        },
        "id": "FSaNogjPOsji",
        "outputId": "f303979a-077b-4e5c-d93c-631a78af503f"
      },
      "execution_count": 21,
      "outputs": [
        {
          "output_type": "execute_result",
          "data": {
            "text/plain": [
              "0.8561845651373469"
            ]
          },
          "metadata": {},
          "execution_count": 21
        }
      ]
    },
    {
      "cell_type": "code",
      "source": [
        "def coeff_droite_regression(x,y):\n",
        "    '''Cette fonction reçoit deux listes x et y de même taille,\n",
        "    et renvoie les coefficients de la droite d'ajustemennt de y en x'''\n",
        "    xbar = np.mean(x)\n",
        "    ybar = np.mean(y)\n",
        "\n",
        "    # pente\n",
        "    a = covariance(x, y) / covariance(x, x)\n",
        "    # ordonnée à l'origine\n",
        "    b = ybar - a * xbar\n",
        "    return a, b"
      ],
      "metadata": {
        "id": "jPCsqQ-TGMn8"
      },
      "execution_count": 22,
      "outputs": []
    },
    {
      "cell_type": "code",
      "source": [
        "X = df[\"Lpoids\"]\n",
        "Y = df[\"Ldisq\"]\n",
        "\n",
        "a,b = coeff_droite_regression(X, Y)\n",
        "print('Équation de la droite de régression de z en x : z=' + str(a) + '.x + ' + str(b))"
      ],
      "metadata": {
        "colab": {
          "base_uri": "https://localhost:8080/"
        },
        "id": "nHPZWySHG9xU",
        "outputId": "c6df6315-6b86-4579-a936-0899d05b28ce"
      },
      "execution_count": 23,
      "outputs": [
        {
          "output_type": "stream",
          "name": "stdout",
          "text": [
            "Équation de la droite de régression de z en x : z=2.565663621625959.x + 6.3685891372849\n"
          ]
        }
      ]
    },
    {
      "cell_type": "markdown",
      "source": [
        "### **Fonctions de représentation graphique**"
      ],
      "metadata": {
        "id": "EftbK-958WkV"
      }
    },
    {
      "cell_type": "code",
      "source": [
        "def centrax(xmin, xmax, ymin, ymax, titre, legende = [], axe_x = \"\", axe_y = \"\"):\n",
        "    '''Cette procédure ajuste les paramètres graphiques : fenêtre (xmin, xmax, ymin, ymax), titre, légende (vide par défaut)'''\n",
        "    # ajustement des paramètres des axes (centrage, couleur, etc.)\n",
        "    ax = plt.gca()\n",
        "    #ax.spines['left'].set_position('zero')\n",
        "    #ax.spines['right'].set_color('none')\n",
        "    #ax.spines['bottom'].set_position('zero')\n",
        "    #ax.spines['top'].set_color('none')\n",
        "    ax.legend(legende, loc = 'best')\n",
        "\n",
        "    plt.xlim(xmin,xmax)   \n",
        "    plt.ylim(ymin,ymax)         # fenêtre d'affichage\n",
        "    plt.title(titre)            # titre du graphique au format LaTeX (encadré par des $)\n",
        "    plt.xlabel(axe_x)           # nom des axes\n",
        "    plt.ylabel(axe_y)\n",
        "\n",
        "    plt.show()"
      ],
      "metadata": {
        "id": "GhCIx0xKn5Tu"
      },
      "execution_count": 24,
      "outputs": []
    },
    {
      "cell_type": "code",
      "source": [
        "def nuage_de_points(X,Y, nom_X, nom_Y) :\n",
        "    '''entrées : deux séries pandas, deux chaînes\n",
        "    sortie : affichage du nuage de points légendé'''\n",
        "    # paramètres graphiques\n",
        "    xmin = X.min()\n",
        "    xmax = X.max()\n",
        "    ymin = Y.min()\n",
        "    ymax = Y.max()\n",
        "    \n",
        "    titre = \"Nuage de points \" + nom_X + \" vs \" + nom_Y\n",
        "    axe_x = nom_X\n",
        "    axe_y = nom_Y\n",
        "\n",
        "    # nuage de points\n",
        "    legende = ['droite de régression','nuage','point moyen' ]\n",
        "    plt.scatter(X,Y,marker ='+',color = 'red')     # représentation graphique du nuage de points \n",
        "\n",
        "    # point moyen\n",
        "    xbar = X.mean()\n",
        "    ybar = Y.mean()\n",
        "    plt.scatter(xbar, ybar, marker = 'v', color = 'blue')\n",
        "\n",
        "    # droite de régression\n",
        "    a,b = coeff_droite_regression(X, Y)\n",
        "    y_aju_min = a*xmin + b\n",
        "    y_aju_max = a*xmax + b\n",
        "    plt.plot([xmin,xmax],[y_aju_min,y_aju_max], color = 'blue', linewidth = 0.5)\n",
        "\n",
        "    centrax(xmin, xmax, ymin, ymax, titre, legende , axe_x , axe_y )"
      ],
      "metadata": {
        "id": "UBhpUdIXhJ1t"
      },
      "execution_count": 25,
      "outputs": []
    },
    {
      "cell_type": "markdown",
      "source": [
        "## **Études des variables deux à deux**"
      ],
      "metadata": {
        "id": "q3vwGBgC7ppf"
      }
    },
    {
      "cell_type": "markdown",
      "source": [
        "### **Étude bivariée de deux séries à forte corrélation positive : étude du couple \"poids/disque\"**"
      ],
      "metadata": {
        "id": "a-ylOUTm7uGZ"
      }
    },
    {
      "cell_type": "code",
      "source": [
        "nom_X = \"Lpoids\"\n",
        "nom_Y = \"Ldisq\"\n",
        "\n",
        "X = df[nom_X]\n",
        "Y = df[nom_Y]\n",
        "\n",
        "nuage_de_points(X,Y, nom_X, nom_Y)     # représentation graphique du nuage de points y"
      ],
      "metadata": {
        "colab": {
          "base_uri": "https://localhost:8080/",
          "height": 54
        },
        "id": "VKKMIKdGavv6",
        "outputId": "aff130b4-83c1-4b9d-e024-9fc0c5f7fa07"
      },
      "execution_count": 26,
      "outputs": [
        {
          "output_type": "display_data",
          "data": {
            "text/plain": [
              "<Figure size 432x288 with 1 Axes>"
            ],
            "image/png": "[encoded data removed]"
          },
          "metadata": {
            "needs_background": "light"
          }
        }
      ]
    },
    {
      "cell_type": "code",
      "source": [
        "correlation(X,Y)"
      ],
      "metadata": {
        "colab": {
          "base_uri": "https://localhost:8080/"
        },
        "id": "2quJTZS7njdQ",
        "outputId": "87e600b2-b3a4-4156-ea2b-668723f663bd"
      },
      "execution_count": 27,
      "outputs": [
        {
          "output_type": "execute_result",
          "data": {
            "text/plain": [
              "0.8561845651373469"
            ]
          },
          "metadata": {},
          "execution_count": 27
        }
      ]
    },
    {
      "cell_type": "markdown",
      "source": [
        "### **Étude bivariée de deux séries à forte corrélation négative : étude du couple \"110 m haies/saut à la perche\"**"
      ],
      "metadata": {
        "id": "CpVg8dt78hu_"
      }
    },
    {
      "cell_type": "code",
      "source": [
        "nom_X = \"C110\"\n",
        "nom_Y = \"Sperch\"\n",
        "\n",
        "X = df[nom_X]\n",
        "Y = df[nom_Y]\n",
        "\n",
        "nuage_de_points(X,Y, nom_X, nom_Y)     # représentation graphique du nuage de points y"
      ],
      "metadata": {
        "colab": {
          "base_uri": "https://localhost:8080/",
          "height": 54
        },
        "outputId": "1c16f1f9-4b8d-4e64-b3d5-35297829cc76",
        "id": "zYTPzYIYn7Cg"
      },
      "execution_count": 28,
      "outputs": [
        {
          "output_type": "display_data",
          "data": {
            "text/plain": [
              "<Figure size 432x288 with 1 Axes>"
            ],
            "image/png": "[encoded data removed]"
          },
          "metadata": {
            "needs_background": "light"
          }
        }
      ]
    },
    {
      "cell_type": "code",
      "source": [
        "correlation(X,Y)"
      ],
      "metadata": {
        "colab": {
          "base_uri": "https://localhost:8080/"
        },
        "outputId": "bcbd4f89-3050-473f-d710-ffff4c5d8d58",
        "id": "J1AJJ3C4n7Ck"
      },
      "execution_count": 29,
      "outputs": [
        {
          "output_type": "execute_result",
          "data": {
            "text/plain": [
              "-0.7087535893770353"
            ]
          },
          "metadata": {},
          "execution_count": 29
        }
      ]
    },
    {
      "cell_type": "markdown",
      "source": [
        "### **Étude bivariée de deux séries peu corrélées : étude du couple \"poids/400 m\"**"
      ],
      "metadata": {
        "id": "NE-jdGMc8qjm"
      }
    },
    {
      "cell_type": "code",
      "source": [
        "nom_X = \"Lpoids\"\n",
        "nom_Y = \"C400\"\n",
        "\n",
        "X = df[nom_X]\n",
        "Y = df[nom_Y]\n",
        "\n",
        "nuage_de_points(X,Y, nom_X, nom_Y)     # représentation graphique du nuage de points y"
      ],
      "metadata": {
        "colab": {
          "base_uri": "https://localhost:8080/",
          "height": 54
        },
        "outputId": "7cf81870-5c40-4801-9069-442dc9744965",
        "id": "keWX8UMEn8aJ"
      },
      "execution_count": 30,
      "outputs": [
        {
          "output_type": "display_data",
          "data": {
            "text/plain": [
              "<Figure size 432x288 with 1 Axes>"
            ],
            "image/png": "[encoded data removed]"
          },
          "metadata": {
            "needs_background": "light"
          }
        }
      ]
    },
    {
      "cell_type": "code",
      "source": [
        "correlation(X,Y)"
      ],
      "metadata": {
        "colab": {
          "base_uri": "https://localhost:8080/"
        },
        "outputId": "4280bd44-6cff-41bf-dea3-dca4227ad451",
        "id": "PmWI6awen8aN"
      },
      "execution_count": 31,
      "outputs": [
        {
          "output_type": "execute_result",
          "data": {
            "text/plain": [
              "-0.1422790088776891"
            ]
          },
          "metadata": {},
          "execution_count": 31
        }
      ]
    },
    {
      "cell_type": "markdown",
      "source": [
        "# **Analyse en Composantes Principales (ACP)** \n",
        "... hors programme, pour le fun... \n",
        "\n",
        "Quoique... Cela n'utilise que des notions au programme : calcul de valeurs propres, de vecteurs propres, de sous-espaces propres, et une vue dans un plan constitué d'une base de vecteurs propres associés aux deux valeurs propres les plus fortes...\n",
        "\n",
        "L'idée est d'observer le nuage de points sous un angle où il sera le plus dispersé possible, afin de mieux faire apparaître les proximités entre les variables, entre les individus, et ansi de dégager des \"profils\"."
      ],
      "metadata": {
        "id": "WjqCiOjzF0yf"
      }
    },
    {
      "cell_type": "markdown",
      "source": [
        "* **Matrice de corrélation**\n",
        "\n",
        "...et si on la reconstruisait algorithmiquement ?"
      ],
      "metadata": {
        "id": "6JcBe54frrcD"
      }
    },
    {
      "cell_type": "code",
      "source": [
        "cor = [[0 for j in range(10)] for i in range(10)]\n",
        "for i in range(10):\n",
        "    for j in range(10) :\n",
        "        X = df.iloc[:,i]\n",
        "        Y = df.iloc[:,j]\n",
        "        cor [i][j] = correlation(X,Y)\n",
        "cor = np.matrix(cor)\n",
        "#cor"
      ],
      "metadata": {
        "id": "qJ4L6KKIryDI"
      },
      "execution_count": 32,
      "outputs": []
    },
    {
      "cell_type": "markdown",
      "source": [
        "**Rappel :**\n",
        "\n",
        "Le sous-module **\"*linAlg*\"** de **\"*NumPy*\"** permet de diagonaliser une matrice.\n",
        "\n",
        "Si A est un objet de type matrice de NumPy, la méthode **A.eig()** permet de diagonaliser A, on obtient une liste de deux éléments : le premier est un *array* à une dimension avec les valeurs propres, le second est un *array* à deux dimensions correspondant à la matrice de passage.\n"
      ],
      "metadata": {
        "id": "aVbmWD_7w6oq"
      }
    },
    {
      "cell_type": "code",
      "source": [
        "import numpy.linalg as alg\n",
        "np.set_printoptions(precision=2, suppress=True) # affichera les objets NumPy avec deux décimales, sans notation scientifique"
      ],
      "metadata": {
        "id": "SVYzvPn1F_Pa"
      },
      "execution_count": 33,
      "outputs": []
    },
    {
      "cell_type": "code",
      "source": [
        "L = alg.eig(cor)\n",
        "print('Liste des valeurs propres : ')\n",
        "spectre =  L[0]\n",
        "spectre"
      ],
      "metadata": {
        "colab": {
          "base_uri": "https://localhost:8080/"
        },
        "id": "gmgFd4Wdxm7X",
        "outputId": "5f59a1d0-59af-477a-9aad-256ecaf9f61a"
      },
      "execution_count": 34,
      "outputs": [
        {
          "output_type": "stream",
          "name": "stdout",
          "text": [
            "Liste des valeurs propres : \n"
          ]
        },
        {
          "output_type": "execute_result",
          "data": {
            "text/plain": [
              "array([5.02, 2.08, 0.74, 0.69, 0.08, 0.38, 0.2 , 0.22, 0.29, 0.3 ])"
            ]
          },
          "metadata": {},
          "execution_count": 34
        }
      ]
    },
    {
      "cell_type": "code",
      "source": [
        "trace = sum(spectre)\n",
        "trace"
      ],
      "metadata": {
        "colab": {
          "base_uri": "https://localhost:8080/"
        },
        "id": "SwH6nPmr1Aym",
        "outputId": "ee3e636b-13ff-4b9a-892c-a8fe9b0ddc3f"
      },
      "execution_count": 35,
      "outputs": [
        {
          "output_type": "execute_result",
          "data": {
            "text/plain": [
              "10.000000000000004"
            ]
          },
          "metadata": {},
          "execution_count": 35
        }
      ]
    },
    {
      "cell_type": "code",
      "source": [
        "D = np.diag(spectre)\n",
        "D"
      ],
      "metadata": {
        "colab": {
          "base_uri": "https://localhost:8080/"
        },
        "id": "zHOUDFmxx2QI",
        "outputId": "8405284d-5244-4d7a-dd64-8e2b69ba32ee"
      },
      "execution_count": 36,
      "outputs": [
        {
          "output_type": "execute_result",
          "data": {
            "text/plain": [
              "array([[5.02, 0.  , 0.  , 0.  , 0.  , 0.  , 0.  , 0.  , 0.  , 0.  ],\n",
              "       [0.  , 2.08, 0.  , 0.  , 0.  , 0.  , 0.  , 0.  , 0.  , 0.  ],\n",
              "       [0.  , 0.  , 0.74, 0.  , 0.  , 0.  , 0.  , 0.  , 0.  , 0.  ],\n",
              "       [0.  , 0.  , 0.  , 0.69, 0.  , 0.  , 0.  , 0.  , 0.  , 0.  ],\n",
              "       [0.  , 0.  , 0.  , 0.  , 0.08, 0.  , 0.  , 0.  , 0.  , 0.  ],\n",
              "       [0.  , 0.  , 0.  , 0.  , 0.  , 0.38, 0.  , 0.  , 0.  , 0.  ],\n",
              "       [0.  , 0.  , 0.  , 0.  , 0.  , 0.  , 0.2 , 0.  , 0.  , 0.  ],\n",
              "       [0.  , 0.  , 0.  , 0.  , 0.  , 0.  , 0.  , 0.22, 0.  , 0.  ],\n",
              "       [0.  , 0.  , 0.  , 0.  , 0.  , 0.  , 0.  , 0.  , 0.29, 0.  ],\n",
              "       [0.  , 0.  , 0.  , 0.  , 0.  , 0.  , 0.  , 0.  , 0.  , 0.3 ]])"
            ]
          },
          "metadata": {},
          "execution_count": 36
        }
      ]
    },
    {
      "cell_type": "code",
      "source": [
        "P = np.matrix(L[1])\n",
        "P"
      ],
      "metadata": {
        "colab": {
          "base_uri": "https://localhost:8080/"
        },
        "id": "VtAkt0p-yodr",
        "outputId": "5e192168-c058-4f18-dff9-8ed71922b1c3"
      },
      "execution_count": 37,
      "outputs": [
        {
          "output_type": "execute_result",
          "data": {
            "text/plain": [
              "matrix([[-0.36,  0.2 ,  0.3 , -0.18,  0.1 , -0.27, -0.57,  0.16, -0.51,\n",
              "         -0.11],\n",
              "        [ 0.36, -0.2 ,  0.08, -0.11,  0.09,  0.46, -0.14,  0.25, -0.37,\n",
              "          0.61],\n",
              "        [ 0.32,  0.39, -0.13, -0.17,  0.62, -0.27,  0.  ,  0.39,  0.29,\n",
              "          0.04],\n",
              "        [ 0.27, -0.01,  0.86,  0.36,  0.14, -0.07,  0.05, -0.15,  0.15,\n",
              "         -0.01],\n",
              "        [-0.29,  0.43,  0.23,  0.02, -0.34,  0.29,  0.37,  0.58,  0.06,\n",
              "         -0.  ],\n",
              "        [-0.37,  0.13,  0.15, -0.39,  0.31, -0.05,  0.49, -0.42, -0.13,\n",
              "          0.37],\n",
              "        [ 0.31,  0.42, -0.05, -0.04, -0.55, -0.45, -0.08, -0.19,  0.01,\n",
              "          0.43],\n",
              "        [ 0.39,  0.06, -0.08,  0.07,  0.01, -0.16,  0.47,  0.03, -0.66,\n",
              "         -0.38],\n",
              "        [ 0.29,  0.3 ,  0.14, -0.57, -0.11,  0.45, -0.17, -0.3 ,  0.1 ,\n",
              "         -0.37],\n",
              "        [-0.08,  0.55, -0.23,  0.57,  0.22,  0.36, -0.14, -0.31, -0.15,\n",
              "          0.07]])"
            ]
          },
          "metadata": {},
          "execution_count": 37
        }
      ]
    },
    {
      "cell_type": "code",
      "source": [
        "A = (P @ D) @ alg.inv(P)\n",
        "A"
      ],
      "metadata": {
        "colab": {
          "base_uri": "https://localhost:8080/"
        },
        "id": "_106BS8bzArp",
        "outputId": "038f6ec0-95a9-4066-f9ee-2afb9326b8c6"
      },
      "execution_count": 38,
      "outputs": [
        {
          "output_type": "execute_result",
          "data": {
            "text/plain": [
              "matrix([[ 1.  , -0.69, -0.42, -0.36,  0.7 ,  0.75, -0.35, -0.63, -0.34,\n",
              "          0.25],\n",
              "        [-0.69,  1.  ,  0.39,  0.47, -0.64, -0.65,  0.37,  0.63,  0.45,\n",
              "         -0.36],\n",
              "        [-0.42,  0.39,  1.  ,  0.32, -0.14, -0.49,  0.86,  0.64,  0.7 ,\n",
              "          0.2 ],\n",
              "        [-0.36,  0.47,  0.32,  1.  , -0.28, -0.49,  0.38,  0.47,  0.34,\n",
              "         -0.13],\n",
              "        [ 0.7 , -0.64, -0.14, -0.28,  1.  ,  0.65, -0.15, -0.52, -0.15,\n",
              "          0.55],\n",
              "        [ 0.75, -0.65, -0.49, -0.49,  0.65,  1.  , -0.4 , -0.71, -0.35,\n",
              "          0.16],\n",
              "        [-0.35,  0.37,  0.86,  0.38, -0.15, -0.4 ,  1.  ,  0.62,  0.62,\n",
              "          0.29],\n",
              "        [-0.63,  0.63,  0.64,  0.47, -0.52, -0.71,  0.62,  1.  ,  0.56,\n",
              "         -0.07],\n",
              "        [-0.34,  0.45,  0.7 ,  0.34, -0.15, -0.35,  0.62,  0.56,  1.  ,\n",
              "          0.04],\n",
              "        [ 0.25, -0.36,  0.2 , -0.13,  0.55,  0.16,  0.29, -0.07,  0.04,\n",
              "          1.  ]])"
            ]
          },
          "metadata": {},
          "execution_count": 38
        }
      ]
    },
    {
      "cell_type": "markdown",
      "source": [
        "**Remarque**\n",
        "\n",
        "Les valeurs propres ont été rangées dans l'ordre décroissant, ce qui nous arrange beaucoup : on n'a besoin que des deux valeurs propres les plus grandes."
      ],
      "metadata": {
        "id": "KYAhJTsCztgN"
      }
    },
    {
      "cell_type": "code",
      "source": [
        "def composante_principale(i) :\n",
        "    print('Composante principale n°: ' + str(i))\n",
        "    Lambda = D[i-1,i-1]\n",
        "    poids = Lambda/trace*100 \n",
        "    poids_total = sum([D[k,k] for k in range(i)])/trace*100 # poids de la i-ème valeur propre dans la variance du nuage\n",
        "    print('valeur propre n°'+str(i)+' : ' + str(Lambda))\n",
        "    print('Cette composante représente '+ str(poids) +' % de la variance globale')\n",
        "    print('Poids total représenté : ' + str(poids_total) + ' %.')\n",
        "    print(\"Vecteur directeur de l'axe factoriel n°\"+ str(i))\n",
        "    print(P[:,i-1])"
      ],
      "metadata": {
        "id": "4LFrUtPGzYvs"
      },
      "execution_count": 39,
      "outputs": []
    },
    {
      "cell_type": "code",
      "source": [
        "composante_principale(1)"
      ],
      "metadata": {
        "colab": {
          "base_uri": "https://localhost:8080/"
        },
        "id": "m7FORb512E2p",
        "outputId": "ede0e42a-b9c8-4be0-f8f6-ad267f7152a0"
      },
      "execution_count": 40,
      "outputs": [
        {
          "output_type": "stream",
          "name": "stdout",
          "text": [
            "Composante principale n°: 1\n",
            "valeur propre n°1 : 5.023517593639252\n",
            "Cette composante représente 50.23517593639251 % de la variance globale\n",
            "Poids total représenté : 50.23517593639251 %.\n",
            "Vecteur directeur de l'axe factoriel n°1\n",
            "[[-0.36]\n",
            " [ 0.36]\n",
            " [ 0.32]\n",
            " [ 0.27]\n",
            " [-0.29]\n",
            " [-0.37]\n",
            " [ 0.31]\n",
            " [ 0.39]\n",
            " [ 0.29]\n",
            " [-0.08]]\n"
          ]
        }
      ]
    },
    {
      "cell_type": "code",
      "source": [
        "composante_principale(2)"
      ],
      "metadata": {
        "colab": {
          "base_uri": "https://localhost:8080/"
        },
        "id": "5QzrS7Hw2bxs",
        "outputId": "59ea6ca5-afe3-46ee-cb8c-5de2d58beb98"
      },
      "execution_count": 41,
      "outputs": [
        {
          "output_type": "stream",
          "name": "stdout",
          "text": [
            "Composante principale n°: 2\n",
            "valeur propre n°2 : 2.0799014294695373\n",
            "Cette composante représente 20.799014294695365 % de la variance globale\n",
            "Poids total représenté : 71.03419023108788 %.\n",
            "Vecteur directeur de l'axe factoriel n°2\n",
            "[[ 0.2 ]\n",
            " [-0.2 ]\n",
            " [ 0.39]\n",
            " [-0.01]\n",
            " [ 0.43]\n",
            " [ 0.13]\n",
            " [ 0.42]\n",
            " [ 0.06]\n",
            " [ 0.3 ]\n",
            " [ 0.55]]\n"
          ]
        }
      ]
    },
    {
      "cell_type": "markdown",
      "source": [
        "* **Représentation dans le plan factoriel des deux composantes principales**\n",
        "\n",
        "Dans la base de vecteurs propres, les coordonnées de chaque point s'obtiennent en multipliant le vecteur-ligne des coordonnées initiales à droite par la matrice de passage P."
      ],
      "metadata": {
        "id": "0QYJyR8R3LBf"
      }
    },
    {
      "cell_type": "code",
      "source": [
        "def coordonnes_factorielles(X) :\n",
        "    '''X est un vecteur ligne, on renvoie le vecteur colonne de X par P'''\n",
        "    return X @ P\n"
      ],
      "metadata": {
        "id": "YvwF0nbj24sb"
      },
      "execution_count": 42,
      "outputs": []
    },
    {
      "cell_type": "code",
      "source": [
        "athlete = df.loc[2 , 'C100' : 'C1500' ] # récupération des 10 performances du 3ème athlète, sauf score (dernière colonne)\n",
        "athlete"
      ],
      "metadata": {
        "colab": {
          "base_uri": "https://localhost:8080/"
        },
        "id": "xxcuqbak4J71",
        "outputId": "3dcb2d03-7513-481b-d10c-8f7ca5d7fc33"
      },
      "execution_count": 43,
      "outputs": [
        {
          "output_type": "execute_result",
          "data": {
            "text/plain": [
              "C100       10.87\n",
              "Slong       7.45\n",
              "Lpoids     14.97\n",
              "Shaut       1.97\n",
              "C400       47.71\n",
              "C110       14.46\n",
              "Ldisq      44.36\n",
              "Sperch      5.10\n",
              "Ljave      61.76\n",
              "C1500     273.02\n",
              "Name: 2, dtype: float64"
            ]
          },
          "metadata": {},
          "execution_count": 43
        }
      ]
    },
    {
      "cell_type": "code",
      "source": [
        "perf = np.matrix(athlete)\n",
        "perf"
      ],
      "metadata": {
        "colab": {
          "base_uri": "https://localhost:8080/"
        },
        "id": "E6R0hjJj4peW",
        "outputId": "be267d84-da35-48f7-9f80-2427506ccca1"
      },
      "execution_count": 44,
      "outputs": [
        {
          "output_type": "execute_result",
          "data": {
            "text/plain": [
              "matrix([[ 10.87,   7.45,  14.97,   1.97,  47.71,  14.46,  44.36,   5.1 ,\n",
              "          61.76, 273.02]])"
            ]
          },
          "metadata": {},
          "execution_count": 44
        }
      ]
    },
    {
      "cell_type": "code",
      "source": [
        "perf_normalisees = [(perf[0,k]-moyennes[k])/ecarts_types[k] for k in range(10)]\n",
        "perf_normalisees"
      ],
      "metadata": {
        "colab": {
          "base_uri": "https://localhost:8080/"
        },
        "id": "KrJ29YeEJM6R",
        "outputId": "3850b6cc-5803-462e-bb99-b880e8145d54"
      },
      "execution_count": 45,
      "outputs": [
        {
          "output_type": "execute_result",
          "data": {
            "text/plain": [
              "[-1.230814140567624,\n",
              " 0.9495330197924778,\n",
              " 0.7451213091631063,\n",
              " -0.042225461875088306,\n",
              " -1.4088568223060574,\n",
              " -1.0693324831458892,\n",
              " 0.5454040779791006,\n",
              " 0.8590560671191353,\n",
              " 0.45341380351163535,\n",
              " -0.2353048939308941]"
            ]
          },
          "metadata": {},
          "execution_count": 45
        }
      ]
    },
    {
      "cell_type": "code",
      "source": [
        "# Coordonnées de l'athlète dans le plan factoriel\n",
        "coord_factorielles = perf_normalisees @ P\n",
        "coord_factorielles"
      ],
      "metadata": {
        "colab": {
          "base_uri": "https://localhost:8080/"
        },
        "id": "wWlsz3rO5S6y",
        "outputId": "3b8dd232-9710-4b84-ae2e-b665310e6242"
      },
      "execution_count": 46,
      "outputs": [
        {
          "output_type": "execute_result",
          "data": {
            "text/plain": [
              "matrix([[ 2.48, -0.6 , -0.89, -0.  ,  0.17, -0.03, -0.15, -0.17,  0.06,\n",
              "          0.07]])"
            ]
          },
          "metadata": {},
          "execution_count": 46
        }
      ]
    },
    {
      "cell_type": "code",
      "source": [
        "coord_plan_factoriel = [coord_factorielles[0,0],coord_factorielles[0,1]]\n",
        "coord_plan_factoriel"
      ],
      "metadata": {
        "colab": {
          "base_uri": "https://localhost:8080/"
        },
        "id": "fJqmfasX6SnM",
        "outputId": "d180452b-3879-485f-cb5d-388d15ce5acc"
      },
      "execution_count": 47,
      "outputs": [
        {
          "output_type": "execute_result",
          "data": {
            "text/plain": [
              "[2.4825334008376636, -0.6000929998845775]"
            ]
          },
          "metadata": {},
          "execution_count": 47
        }
      ]
    },
    {
      "cell_type": "markdown",
      "source": [
        "Reste à faire la même chose pour tous les athlètes, et les positionner dans le plan factoriel"
      ],
      "metadata": {
        "id": "LVKBGhNB8AO5"
      }
    },
    {
      "cell_type": "code",
      "source": [
        "n = len(df)\n",
        "x = []\n",
        "y = []\n",
        "\n",
        "for i in range(n) :\n",
        "    athlete = df.loc[i , 'C100' : 'C1500' ]\n",
        "    perf = np.matrix(athlete)\n",
        "    perf_normalisees = [(perf[0,k]-moyennes[k])/ecarts_types[k] for k in range(10)]\n",
        "\n",
        "    coord_factorielles = perf_normalisees @ P\n",
        "    coord_plan_factoriel = [coord_factorielles[0,0],coord_factorielles[0,1]]\n",
        "    x.append(coord_plan_factoriel[0])\n",
        "    y.append(coord_plan_factoriel[1])\n",
        "plt.scatter(x,y, marker = '+', color = 'red' )\n",
        "\n",
        "etiquettes = list(range(n))\n",
        "for i, label in enumerate(etiquettes):\n",
        "    plt.annotate(label, (x[i], y[i]), color = 'blue')\n",
        "\n",
        "# paramétrages graphiques\n",
        "ax = plt.gca()\n",
        "ax.spines['left'].set_position('zero')\n",
        "ax.spines['right'].set_color('none')\n",
        "ax.spines['bottom'].set_position('zero')\n",
        "ax.spines['top'].set_color('none')"
      ],
      "metadata": {
        "colab": {
          "base_uri": "https://localhost:8080/",
          "height": 248
        },
        "id": "kaUI6Utn6xUP",
        "outputId": "97ebd72b-5d09-488a-cf57-f2f445954dea"
      },
      "execution_count": 53,
      "outputs": [
        {
          "output_type": "display_data",
          "data": {
            "text/plain": [
              "<Figure size 432x288 with 1 Axes>"
            ],
            "image/png": "[encoded data removed]"
          },
          "metadata": {
            "needs_background": "light"
          }
        }
      ]
    },
    {
      "cell_type": "markdown",
      "source": [
        "* **Projection des variables dans le plan factoriel**\n",
        "\n",
        "On imagine un sportif qui ferait uniquement une épreuve, de manière optimale, par exemple, le lancer du poids, 3ème épreuve (donc d'indice 2...).\n",
        "Son vecteur de performance normalisé serait donc : (0,0,1,0,0,0,0,0,0,0).\n",
        "Faisons-le apparaître dans le plan factoriel, en multipliant à droite par P, comme précédemment..."
      ],
      "metadata": {
        "id": "UQ6RLhgq8yGm"
      }
    },
    {
      "cell_type": "code",
      "source": [
        "plt.scatter(x,y, marker = '+', color = 'red' )\n",
        "for i, label in enumerate(etiquettes):\n",
        "    plt.annotate(label, (x[i], y[i]), color = 'blue')\n",
        "\n",
        "perf_normalisee =np.matrix ( [[0,0,1,0,0,0,0,0,0,0]])\n",
        "coord_factorielles = perf_normalisee @ P\n",
        "coord_plan_factoriel = [coord_factorielles[0,0],coord_factorielles[0,1]]\n",
        "xx = coord_factorielles[0,0]\n",
        "yy = coord_factorielles[0,1]\n",
        "plt.quiver(0,0,xx,yy)\n",
        "\n",
        "# paramétrages graphiques\n",
        "ax = plt.gca()\n",
        "ax.spines['left'].set_position('zero')\n",
        "ax.spines['right'].set_color('none')\n",
        "ax.spines['bottom'].set_position('zero')\n",
        "ax.spines['top'].set_color('none')"
      ],
      "metadata": {
        "colab": {
          "base_uri": "https://localhost:8080/",
          "height": 248
        },
        "id": "2DfTNmRA9aOs",
        "outputId": "7d6ecf1b-d9c1-4488-b83e-9d123d621b3f"
      },
      "execution_count": 70,
      "outputs": [
        {
          "output_type": "display_data",
          "data": {
            "text/plain": [
              "<Figure size 432x288 with 1 Axes>"
            ],
            "image/png": "[encoded data removed]"
          },
          "metadata": {
            "needs_background": "light"
          }
        }
      ]
    },
    {
      "cell_type": "markdown",
      "source": [
        "Le problème, souvenons-nous, est qu'on a dessiné un espace à 10 dimensions dans un espace à deux dimensions... On est victime de forts effets de parallaxe : le point n° 20 paraît parfaitement aligné avec la flèche, ce n'est pas du tout le cas dans la réalité (ça voudrait dire que cet athlète est très faible en lancer du poids, et n'aurait pas fait les autres épreuves..."
      ],
      "metadata": {
        "id": "wmSFtLVUCA4L"
      }
    },
    {
      "cell_type": "markdown",
      "source": [
        "* **Analyse finale**"
      ],
      "metadata": {
        "id": "JXDLeYUXRh6r"
      }
    },
    {
      "cell_type": "markdown",
      "source": [
        "Rappelons que les athlètes ont été classés au départ par ordre décroissant des scores.\n",
        "Rappelons aussi qu'on a ramené l'observation du nuage de points dans un espace à 10 dimensions à un espace à 2 dimensions. On a donc forcément perdu de l'information, mais c'est dans ce plan que la perte d'informations est minimale.\n",
        "\n",
        "On s'aperçoit que les meilleurs des athlètes sont plutôt à abscisses positives sur le 1er axe factoriel, et à ordonnées négatives sur le 2nd.\n",
        "\n",
        "Une étude plus approfondie de la contribution de chaque variable aux deux axes du plan factoriel permettrait d'aller un peu plus loin dans l'analyse : cela permettrait de savoir quelles variables sont plutôt prises en compte pour le 1er axe et lesquelles pour le 2nd.\n",
        "\n",
        "On peut imaginer que la capacité à courir est plutôt bien représentée sur le 1er axe : à droite les meilleurs coureurs, à gauche les moins bons, ce qui correspondrait sûrement aux meilleurs lanceurs. La dispersion est très bonne sur cet axe.\n",
        "Le 2nd axe serait plutôt celui des sauteurs, on a vu qu'il était peu corrélé aux coureurs et aux lanceurs. La dispersion est également très bonne sur cet axe (mais un peu moins que pour le 1er), c'était le but...\n",
        "\n"
      ],
      "metadata": {
        "id": "VLxNaVeyPMzl"
      }
    },
    {
      "cell_type": "code",
      "source": [
        "df.describe()"
      ],
      "metadata": {
        "colab": {
          "base_uri": "https://localhost:8080/",
          "height": 300
        },
        "id": "cyWIR71JSFzv",
        "outputId": "224e9e52-4f3b-4817-8299-aea7d21b8df2"
      },
      "execution_count": 71,
      "outputs": [
        {
          "output_type": "execute_result",
          "data": {
            "text/plain": [
              "            C100      Slong     Lpoids      Shaut       C400       C110  \\\n",
              "count  34.000000  34.000000  34.000000  34.000000  34.000000  34.000000   \n",
              "mean   11.223529   7.095000  13.850882   1.974412  49.366176  15.107647   \n",
              "std     0.287232   0.373868   1.501927   0.104481   1.175546   0.605655   \n",
              "min    10.620000   5.830000   9.710000   1.700000  47.440000  14.180000   \n",
              "25%    11.022500   6.985000  12.992500   1.940000  48.347500  14.730000   \n",
              "50%    11.180000   7.085000  14.050000   1.970000  49.210000  15.000000   \n",
              "75%    11.452500   7.367500  14.857500   2.030000  49.987500  15.387500   \n",
              "max    12.120000   7.720000  16.600000   2.270000  52.320000  17.050000   \n",
              "\n",
              "           Ldisq     Sperch      Ljave       C1500        Score  \n",
              "count  34.000000  34.000000  34.000000   34.000000    34.000000  \n",
              "mean   41.905294   4.676471  58.840588  276.191471  7782.852941  \n",
              "std     4.500711   0.493017   6.438736   13.478133   594.582723  \n",
              "min    27.100000   2.600000  39.100000  256.640000  5339.000000  \n",
              "25%    38.885000   4.525000  55.060000  266.685000  7532.500000  \n",
              "50%    42.090000   4.700000  58.660000  272.370000  7864.500000  \n",
              "75%    44.690000   4.900000  63.750000  285.922500  8176.750000  \n",
              "max    50.660000   5.700000  72.600000  303.170000  8488.000000  "
            ],
            "text/html": [
              "\n",
              "  <div id=\"df-03cf900d-47a4-47b3-b47d-3da079ab607a\">\n",
              "    <div class=\"colab-df-container\">\n",
              "      <div>\n",
              "<style scoped>\n",
              "    .dataframe tbody tr th:only-of-type {\n",
              "        vertical-align: middle;\n",
              "    }\n",
              "\n",
              "    .dataframe tbody tr th {\n",
              "        vertical-align: top;\n",
              "    }\n",
              "\n",
              "    .dataframe thead th {\n",
              "        text-align: right;\n",
              "    }\n",
              "</style>\n",
              "<table border=\"1\" class=\"dataframe\">\n",
              "  <thead>\n",
              "    <tr style=\"text-align: right;\">\n",
              "      <th></th>\n",
              "      <th>C100</th>\n",
              "      <th>Slong</th>\n",
              "      <th>Lpoids</th>\n",
              "      <th>Shaut</th>\n",
              "      <th>C400</th>\n",
              "      <th>C110</th>\n",
              "      <th>Ldisq</th>\n",
              "      <th>Sperch</th>\n",
              "      <th>Ljave</th>\n",
              "      <th>C1500</th>\n",
              "      <th>Score</th>\n",
              "    </tr>\n",
              "  </thead>\n",
              "  <tbody>\n",
              "    <tr>\n",
              "      <th>count</th>\n",
              "      <td>34.000000</td>\n",
              "      <td>34.000000</td>\n",
              "      <td>34.000000</td>\n",
              "      <td>34.000000</td>\n",
              "      <td>34.000000</td>\n",
              "      <td>34.000000</td>\n",
              "      <td>34.000000</td>\n",
              "      <td>34.000000</td>\n",
              "      <td>34.000000</td>\n",
              "      <td>34.000000</td>\n",
              "      <td>34.000000</td>\n",
              "    </tr>\n",
              "    <tr>\n",
              "      <th>mean</th>\n",
              "      <td>11.223529</td>\n",
              "      <td>7.095000</td>\n",
              "      <td>13.850882</td>\n",
              "      <td>1.974412</td>\n",
              "      <td>49.366176</td>\n",
              "      <td>15.107647</td>\n",
              "      <td>41.905294</td>\n",
              "      <td>4.676471</td>\n",
              "      <td>58.840588</td>\n",
              "      <td>276.191471</td>\n",
              "      <td>7782.852941</td>\n",
              "    </tr>\n",
              "    <tr>\n",
              "      <th>std</th>\n",
              "      <td>0.287232</td>\n",
              "      <td>0.373868</td>\n",
              "      <td>1.501927</td>\n",
              "      <td>0.104481</td>\n",
              "      <td>1.175546</td>\n",
              "      <td>0.605655</td>\n",
              "      <td>4.500711</td>\n",
              "      <td>0.493017</td>\n",
              "      <td>6.438736</td>\n",
              "      <td>13.478133</td>\n",
              "      <td>594.582723</td>\n",
              "    </tr>\n",
              "    <tr>\n",
              "      <th>min</th>\n",
              "      <td>10.620000</td>\n",
              "      <td>5.830000</td>\n",
              "      <td>9.710000</td>\n",
              "      <td>1.700000</td>\n",
              "      <td>47.440000</td>\n",
              "      <td>14.180000</td>\n",
              "      <td>27.100000</td>\n",
              "      <td>2.600000</td>\n",
              "      <td>39.100000</td>\n",
              "      <td>256.640000</td>\n",
              "      <td>5339.000000</td>\n",
              "    </tr>\n",
              "    <tr>\n",
              "      <th>25%</th>\n",
              "      <td>11.022500</td>\n",
              "      <td>6.985000</td>\n",
              "      <td>12.992500</td>\n",
              "      <td>1.940000</td>\n",
              "      <td>48.347500</td>\n",
              "      <td>14.730000</td>\n",
              "      <td>38.885000</td>\n",
              "      <td>4.525000</td>\n",
              "      <td>55.060000</td>\n",
              "      <td>266.685000</td>\n",
              "      <td>7532.500000</td>\n",
              "    </tr>\n",
              "    <tr>\n",
              "      <th>50%</th>\n",
              "      <td>11.180000</td>\n",
              "      <td>7.085000</td>\n",
              "      <td>14.050000</td>\n",
              "      <td>1.970000</td>\n",
              "      <td>49.210000</td>\n",
              "      <td>15.000000</td>\n",
              "      <td>42.090000</td>\n",
              "      <td>4.700000</td>\n",
              "      <td>58.660000</td>\n",
              "      <td>272.370000</td>\n",
              "      <td>7864.500000</td>\n",
              "    </tr>\n",
              "    <tr>\n",
              "      <th>75%</th>\n",
              "      <td>11.452500</td>\n",
              "      <td>7.367500</td>\n",
              "      <td>14.857500</td>\n",
              "      <td>2.030000</td>\n",
              "      <td>49.987500</td>\n",
              "      <td>15.387500</td>\n",
              "      <td>44.690000</td>\n",
              "      <td>4.900000</td>\n",
              "      <td>63.750000</td>\n",
              "      <td>285.922500</td>\n",
              "      <td>8176.750000</td>\n",
              "    </tr>\n",
              "    <tr>\n",
              "      <th>max</th>\n",
              "      <td>12.120000</td>\n",
              "      <td>7.720000</td>\n",
              "      <td>16.600000</td>\n",
              "      <td>2.270000</td>\n",
              "      <td>52.320000</td>\n",
              "      <td>17.050000</td>\n",
              "      <td>50.660000</td>\n",
              "      <td>5.700000</td>\n",
              "      <td>72.600000</td>\n",
              "      <td>303.170000</td>\n",
              "      <td>8488.000000</td>\n",
              "    </tr>\n",
              "  </tbody>\n",
              "</table>\n",
              "</div>\n",
              "      <button class=\"colab-df-convert\" onclick=\"convertToInteractive('df-03cf900d-47a4-47b3-b47d-3da079ab607a')\"\n",
              "              title=\"Convert this dataframe to an interactive table.\"\n",
              "              style=\"display:none;\">\n",
              "        \n",
              "  <svg xmlns=\"http://www.w3.org/2000/svg\" height=\"24px\"viewBox=\"0 0 24 24\"\n",
              "       width=\"24px\">\n",
              "    <path d=\"M0 0h24v24H0V0z\" fill=\"none\"/>\n",
              "    <path d=\"M18.56 5.44l.94 2.06.94-2.06 2.06-.94-2.06-.94-.94-2.06-.94 2.06-2.06.94zm-11 1L8.5 8.5l.94-2.06 2.06-.94-2.06-.94L8.5 2.5l-.94 2.06-2.06.94zm10 10l.94 2.06.94-2.06 2.06-.94-2.06-.94-.94-2.06-.94 2.06-2.06.94z\"/><path d=\"M17.41 7.96l-1.37-1.37c-.4-.4-.92-.59-1.43-.59-.52 0-1.04.2-1.43.59L10.3 9.45l-7.72 7.72c-.78.78-.78 2.05 0 2.83L4 21.41c.39.39.9.59 1.41.59.51 0 1.02-.2 1.41-.59l7.78-7.78 2.81-2.81c.8-.78.8-2.07 0-2.86zM5.41 20L4 18.59l7.72-7.72 1.47 1.35L5.41 20z\"/>\n",
              "  </svg>\n",
              "      </button>\n",
              "      \n",
              "  <style>\n",
              "    .colab-df-container {\n",
              "      display:flex;\n",
              "      flex-wrap:wrap;\n",
              "      gap: 12px;\n",
              "    }\n",
              "\n",
              "    .colab-df-convert {\n",
              "      background-color: #E8F0FE;\n",
              "      border: none;\n",
              "      border-radius: 50%;\n",
              "      cursor: pointer;\n",
              "      display: none;\n",
              "      fill: #1967D2;\n",
              "      height: 32px;\n",
              "      padding: 0 0 0 0;\n",
              "      width: 32px;\n",
              "    }\n",
              "\n",
              "    .colab-df-convert:hover {\n",
              "      background-color: #E2EBFA;\n",
              "      box-shadow: 0px 1px 2px rgba(60, 64, 67, 0.3), 0px 1px 3px 1px rgba(60, 64, 67, 0.15);\n",
              "      fill: #174EA6;\n",
              "    }\n",
              "\n",
              "    [theme=dark] .colab-df-convert {\n",
              "      background-color: #3B4455;\n",
              "      fill: #D2E3FC;\n",
              "    }\n",
              "\n",
              "    [theme=dark] .colab-df-convert:hover {\n",
              "      background-color: #434B5C;\n",
              "      box-shadow: 0px 1px 3px 1px rgba(0, 0, 0, 0.15);\n",
              "      filter: drop-shadow(0px 1px 2px rgba(0, 0, 0, 0.3));\n",
              "      fill: #FFFFFF;\n",
              "    }\n",
              "  </style>\n",
              "\n",
              "      <script>\n",
              "        const buttonEl =\n",
              "          document.querySelector('#df-03cf900d-47a4-47b3-b47d-3da079ab607a button.colab-df-convert');\n",
              "        buttonEl.style.display =\n",
              "          google.colab.kernel.accessAllowed ? 'block' : 'none';\n",
              "\n",
              "        async function convertToInteractive(key) {\n",
              "          const element = document.querySelector('#df-03cf900d-47a4-47b3-b47d-3da079ab607a');\n",
              "          const dataTable =\n",
              "            await google.colab.kernel.invokeFunction('convertToInteractive',\n",
              "                                                     [key], {});\n",
              "          if (!dataTable) return;\n",
              "\n",
              "          const docLinkHtml = 'Like what you see? Visit the ' +\n",
              "            '<a target=\"_blank\" href=https://colab.research.google.com/notebooks/data_table.ipynb>data table notebook</a>'\n",
              "            + ' to learn more about interactive tables.';\n",
              "          element.innerHTML = '';\n",
              "          dataTable['output_type'] = 'display_data';\n",
              "          await google.colab.output.renderOutput(dataTable, element);\n",
              "          const docLink = document.createElement('div');\n",
              "          docLink.innerHTML = docLinkHtml;\n",
              "          element.appendChild(docLink);\n",
              "        }\n",
              "      </script>\n",
              "    </div>\n",
              "  </div>\n",
              "  "
            ]
          },
          "metadata": {},
          "execution_count": 71
        }
      ]
    },
    {
      "cell_type": "code",
      "source": [
        "fig=plt.figure(figsize=(20,3))\n",
        "\n",
        "for i in range(1,11):\n",
        "    data3=plt.subplot(1,10,i,title=df.columns[i-1])\n",
        "    sns.boxplot(y=df[df.columns[i-1]], color = \"pink\")"
      ],
      "metadata": {
        "colab": {
          "base_uri": "https://localhost:8080/",
          "height": 213
        },
        "id": "ZFQUaCBjd2Pg",
        "outputId": "dbfdc945-999c-434d-fde9-81641daf890a"
      },
      "execution_count": 72,
      "outputs": [
        {
          "output_type": "display_data",
          "data": {
            "text/plain": [
              "<Figure size 1440x216 with 10 Axes>"
            ],
            "image/png": "[encoded data removed]"
          },
          "metadata": {
            "needs_background": "light"
          }
        }
      ]
    },
    {
      "cell_type": "markdown",
      "source": [
        "Les althlètes 25 et 11 nous donnent des informations sur le 2nd axe : le 25 y est positionné positivement, le 11 négativement et ils n'interviennent pas du tout sur le 1er axe.\n",
        "Voyons leurs points forts/faibles/médiocres..."
      ],
      "metadata": {
        "id": "U76IdIebTInV"
      }
    },
    {
      "cell_type": "code",
      "source": [
        "df.loc[25]"
      ],
      "metadata": {
        "colab": {
          "base_uri": "https://localhost:8080/"
        },
        "id": "erlDvPfvM_zB",
        "outputId": "6de9a363-65d5-4537-aa47-38459675838d"
      },
      "execution_count": 73,
      "outputs": [
        {
          "output_type": "execute_result",
          "data": {
            "text/plain": [
              "C100        11.46\n",
              "Slong        6.75\n",
              "Lpoids      16.07\n",
              "Shaut        2.00\n",
              "C400        51.28\n",
              "C110        16.06\n",
              "Ldisq       50.66\n",
              "Sperch       4.80\n",
              "Ljave       72.60\n",
              "C1500      302.42\n",
              "Score     7869.00\n",
              "Name: 25, dtype: float64"
            ]
          },
          "metadata": {},
          "execution_count": 73
        }
      ]
    },
    {
      "cell_type": "markdown",
      "source": [
        "Cet athlète est faible en 400 m, 1500 m et en saut en longueur, très bon en sauts verticaux, très bon en lancers."
      ],
      "metadata": {
        "id": "IkeTTfCLTl4c"
      }
    },
    {
      "cell_type": "code",
      "source": [
        "df.loc[11]"
      ],
      "metadata": {
        "colab": {
          "base_uri": "https://localhost:8080/"
        },
        "id": "PhtHhVvGa1ze",
        "outputId": "686d6bec-e5b7-44fa-c4a4-2baa6ca924d3"
      },
      "execution_count": 74,
      "outputs": [
        {
          "output_type": "execute_result",
          "data": {
            "text/plain": [
              "C100        11.07\n",
              "Slong        7.04\n",
              "Lpoids      13.41\n",
              "Shaut        1.94\n",
              "C400        47.97\n",
              "C110        14.96\n",
              "Ldisq       40.38\n",
              "Sperch       4.50\n",
              "Ljave       51.50\n",
              "C1500      262.41\n",
              "Score     7859.00\n",
              "Name: 11, dtype: float64"
            ]
          },
          "metadata": {},
          "execution_count": 74
        }
      ]
    },
    {
      "cell_type": "markdown",
      "source": [
        "Celui-ci est fort en 400 m et 1500 m, médiocre dans les autres courses de sprint, moyen en saut en longueur, plutôt faible en saut à la perche, et en lancers."
      ],
      "metadata": {
        "id": "Q4jfEwOccW6N"
      }
    },
    {
      "cell_type": "markdown",
      "source": [
        "On pourrait donc déduire que le 2nd axe place positivement ceux qui sont bons en lancers et plus faibles en courses de résistance ou d'endurance, et inversement, et qu'il prend peu en compte la capacité en courses de sprint et en saut en longueur."
      ],
      "metadata": {
        "id": "UQHBs1yJd-gW"
      }
    },
    {
      "cell_type": "markdown",
      "source": [
        "Les épreuves où nos deux 1ers compères étaient plutôt médiocres devraient être importantes sur le 1er axe.\n",
        "\n",
        "Sur ce 1er axe, le n°33 n'est pas intéressant, car il a terminé bon dernier dans la quasi-totalité des épreuves...\n",
        "\n",
        "Voyons du côté des numéros 2 et 26. Si notre interprétation du 2ème axe est correcte, ils devraient se valoir en 400 m, 1500 m et lancers, et ils devraient être nettement séparés en course de sprint\n"
      ],
      "metadata": {
        "id": "XV_6E8CofG6A"
      }
    },
    {
      "cell_type": "code",
      "source": [
        "df.loc[2]"
      ],
      "metadata": {
        "colab": {
          "base_uri": "https://localhost:8080/"
        },
        "id": "3Wn_6NbiUF1x",
        "outputId": "18c3f3e4-2296-4250-8949-e97b46341a23"
      },
      "execution_count": 75,
      "outputs": [
        {
          "output_type": "execute_result",
          "data": {
            "text/plain": [
              "C100        10.87\n",
              "Slong        7.45\n",
              "Lpoids      14.97\n",
              "Shaut        1.97\n",
              "C400        47.71\n",
              "C110        14.46\n",
              "Ldisq       44.36\n",
              "Sperch       5.10\n",
              "Ljave       61.76\n",
              "C1500      273.02\n",
              "Score     8399.00\n",
              "Name: 2, dtype: float64"
            ]
          },
          "metadata": {},
          "execution_count": 75
        }
      ]
    },
    {
      "cell_type": "code",
      "source": [
        "df.loc[26]"
      ],
      "metadata": {
        "colab": {
          "base_uri": "https://localhost:8080/"
        },
        "id": "2EDEtDCnfs6q",
        "outputId": "68b984cf-6b1c-4cda-fb73-513a87c2f2fc"
      },
      "execution_count": 76,
      "outputs": [
        {
          "output_type": "execute_result",
          "data": {
            "text/plain": [
              "C100        11.47\n",
              "Slong        6.43\n",
              "Lpoids      12.33\n",
              "Shaut        1.94\n",
              "C400        50.30\n",
              "C110        15.00\n",
              "Ldisq       38.72\n",
              "Sperch       4.00\n",
              "Ljave       57.26\n",
              "C1500      293.72\n",
              "Score     7016.00\n",
              "Name: 26, dtype: float64"
            ]
          },
          "metadata": {},
          "execution_count": 76
        }
      ]
    },
    {
      "cell_type": "markdown",
      "source": [
        "Le n°2 est en effet très bon en sprint, et en saut en longueur (on sait bien que les deux vont de pair, voir par exemple les performance de Carl Lewis), contrairement au n°26. On pourrait ajouter aussi, comme critère positif pour l'axe 1, le saut à la perche (qui nécessite aussi une grande tonicité dans la course d'élan)"
      ],
      "metadata": {
        "id": "5Q8AuGFNkQjn"
      }
    },
    {
      "cell_type": "markdown",
      "source": [
        "Il y a bien entendu, des outils mathématiques pour déterminer la proportion de collaboration de chacune des variables aux différents axes, mais ils sortent très nettement de notre programme d'ECG2...\n",
        "\n",
        "Il reste donc du pain sur la planche : visualisation des variables dans le plan factoriel, contribution de chaque athlète à chacune de ces variables, etc."
      ],
      "metadata": {
        "id": "MfjFd4Zyk5KA"
      }
    }
  ]
}