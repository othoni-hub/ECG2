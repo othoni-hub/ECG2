{
  "nbformat": 4,
  "nbformat_minor": 0,
  "metadata": {
    "colab": {
      "name": "Ch05-TD-Ex1-Appartements.ipynb",
      "provenance": [],
      "authorship_tag": "ABX9TyMr8F/mUpwyL0wvElS+UF9f",
      "include_colab_link": true
    },
    "kernelspec": {
      "name": "python3",
      "display_name": "Python 3"
    },
    "language_info": {
      "name": "python"
    },
    "widgets": {
      "application/vnd.jupyter.widget-state+json": {
        "ee1d8a7a2dba4af19c013da610824cda": {
          "model_module": "@jupyter-widgets/controls",
          "model_name": "VBoxModel",
          "model_module_version": "1.5.0",
          "state": {
            "_dom_classes": [
              "widget-interact"
            ],
            "_model_module": "@jupyter-widgets/controls",
            "_model_module_version": "1.5.0",
            "_model_name": "VBoxModel",
            "_view_count": null,
            "_view_module": "@jupyter-widgets/controls",
            "_view_module_version": "1.5.0",
            "_view_name": "VBoxView",
            "box_style": "",
            "children": [
              "IPY_MODEL_08956c5ee9d144529198c0d11b0ba735",
              "IPY_MODEL_ebfb81bf7b33456eb4fe964e8b820584",
              "IPY_MODEL_d34218e467f940c38dec2d7c20739ced"
            ],
            "layout": "IPY_MODEL_92b36ff4acbe4fac8e26eab5106a13ee"
          }
        },
        "08956c5ee9d144529198c0d11b0ba735": {
          "model_module": "@jupyter-widgets/controls",
          "model_name": "FloatSliderModel",
          "model_module_version": "1.5.0",
          "state": {
            "_dom_classes": [],
            "_model_module": "@jupyter-widgets/controls",
            "_model_module_version": "1.5.0",
            "_model_name": "FloatSliderModel",
            "_view_count": null,
            "_view_module": "@jupyter-widgets/controls",
            "_view_module_version": "1.5.0",
            "_view_name": "FloatSliderView",
            "continuous_update": true,
            "description": "a",
            "description_tooltip": null,
            "disabled": false,
            "layout": "IPY_MODEL_51d9b205380c4731be87da871a15e0cd",
            "max": 50,
            "min": -50,
            "orientation": "horizontal",
            "readout": true,
            "readout_format": ".2f",
            "step": 0.5,
            "style": "IPY_MODEL_39a051c9c5a44fcfb57f0d8cf2f2d246",
            "value": 28.5
          }
        },
        "ebfb81bf7b33456eb4fe964e8b820584": {
          "model_module": "@jupyter-widgets/controls",
          "model_name": "IntSliderModel",
          "model_module_version": "1.5.0",
          "state": {
            "_dom_classes": [],
            "_model_module": "@jupyter-widgets/controls",
            "_model_module_version": "1.5.0",
            "_model_name": "IntSliderModel",
            "_view_count": null,
            "_view_module": "@jupyter-widgets/controls",
            "_view_module_version": "1.5.0",
            "_view_name": "IntSliderView",
            "continuous_update": true,
            "description": "b",
            "description_tooltip": null,
            "disabled": false,
            "layout": "IPY_MODEL_172ff7c6ada74012960fd5fdc7a07b26",
            "max": 500,
            "min": -500,
            "orientation": "horizontal",
            "readout": true,
            "readout_format": "d",
            "step": 20,
            "style": "IPY_MODEL_3c6ea68f4f2f474ab77808eac0a98e72",
            "value": -140
          }
        },
        "d34218e467f940c38dec2d7c20739ced": {
          "model_module": "@jupyter-widgets/output",
          "model_name": "OutputModel",
          "model_module_version": "1.0.0",
          "state": {
            "_dom_classes": [],
            "_model_module": "@jupyter-widgets/output",
            "_model_module_version": "1.0.0",
            "_model_name": "OutputModel",
            "_view_count": null,
            "_view_module": "@jupyter-widgets/output",
            "_view_module_version": "1.0.0",
            "_view_name": "OutputView",
            "layout": "IPY_MODEL_8dc5fa83782046e482b93e3594cf4b7d",
            "msg_id": "",
            "outputs": [
              {
                "output_type": "display_data",
                "data": {
                  "text/plain": "10720052"
                },
                "metadata": {}
              },
              {
                "output_type": "display_data",
                "data": {
                  "text/plain": "<Figure size 432x288 with 1 Axes>",
                  "image/png": "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\n"
                },
                "metadata": {
                  "needs_background": "light"
                }
              }
            ]
          }
        },
        "92b36ff4acbe4fac8e26eab5106a13ee": {
          "model_module": "@jupyter-widgets/base",
          "model_name": "LayoutModel",
          "model_module_version": "1.2.0",
          "state": {
            "_model_module": "@jupyter-widgets/base",
            "_model_module_version": "1.2.0",
            "_model_name": "LayoutModel",
            "_view_count": null,
            "_view_module": "@jupyter-widgets/base",
            "_view_module_version": "1.2.0",
            "_view_name": "LayoutView",
            "align_content": null,
            "align_items": null,
            "align_self": null,
            "border": null,
            "bottom": null,
            "display": null,
            "flex": null,
            "flex_flow": null,
            "grid_area": null,
            "grid_auto_columns": null,
            "grid_auto_flow": null,
            "grid_auto_rows": null,
            "grid_column": null,
            "grid_gap": null,
            "grid_row": null,
            "grid_template_areas": null,
            "grid_template_columns": null,
            "grid_template_rows": null,
            "height": null,
            "justify_content": null,
            "justify_items": null,
            "left": null,
            "margin": null,
            "max_height": null,
            "max_width": null,
            "min_height": null,
            "min_width": null,
            "object_fit": null,
            "object_position": null,
            "order": null,
            "overflow": null,
            "overflow_x": null,
            "overflow_y": null,
            "padding": null,
            "right": null,
            "top": null,
            "visibility": null,
            "width": null
          }
        },
        "51d9b205380c4731be87da871a15e0cd": {
          "model_module": "@jupyter-widgets/base",
          "model_name": "LayoutModel",
          "model_module_version": "1.2.0",
          "state": {
            "_model_module": "@jupyter-widgets/base",
            "_model_module_version": "1.2.0",
            "_model_name": "LayoutModel",
            "_view_count": null,
            "_view_module": "@jupyter-widgets/base",
            "_view_module_version": "1.2.0",
            "_view_name": "LayoutView",
            "align_content": null,
            "align_items": null,
            "align_self": null,
            "border": null,
            "bottom": null,
            "display": null,
            "flex": null,
            "flex_flow": null,
            "grid_area": null,
            "grid_auto_columns": null,
            "grid_auto_flow": null,
            "grid_auto_rows": null,
            "grid_column": null,
            "grid_gap": null,
            "grid_row": null,
            "grid_template_areas": null,
            "grid_template_columns": null,
            "grid_template_rows": null,
            "height": null,
            "justify_content": null,
            "justify_items": null,
            "left": null,
            "margin": null,
            "max_height": null,
            "max_width": null,
            "min_height": null,
            "min_width": null,
            "object_fit": null,
            "object_position": null,
            "order": null,
            "overflow": null,
            "overflow_x": null,
            "overflow_y": null,
            "padding": null,
            "right": null,
            "top": null,
            "visibility": null,
            "width": null
          }
        },
        "39a051c9c5a44fcfb57f0d8cf2f2d246": {
          "model_module": "@jupyter-widgets/controls",
          "model_name": "SliderStyleModel",
          "model_module_version": "1.5.0",
          "state": {
            "_model_module": "@jupyter-widgets/controls",
            "_model_module_version": "1.5.0",
            "_model_name": "SliderStyleModel",
            "_view_count": null,
            "_view_module": "@jupyter-widgets/base",
            "_view_module_version": "1.2.0",
            "_view_name": "StyleView",
            "description_width": "",
            "handle_color": null
          }
        },
        "172ff7c6ada74012960fd5fdc7a07b26": {
          "model_module": "@jupyter-widgets/base",
          "model_name": "LayoutModel",
          "model_module_version": "1.2.0",
          "state": {
            "_model_module": "@jupyter-widgets/base",
            "_model_module_version": "1.2.0",
            "_model_name": "LayoutModel",
            "_view_count": null,
            "_view_module": "@jupyter-widgets/base",
            "_view_module_version": "1.2.0",
            "_view_name": "LayoutView",
            "align_content": null,
            "align_items": null,
            "align_self": null,
            "border": null,
            "bottom": null,
            "display": null,
            "flex": null,
            "flex_flow": null,
            "grid_area": null,
            "grid_auto_columns": null,
            "grid_auto_flow": null,
            "grid_auto_rows": null,
            "grid_column": null,
            "grid_gap": null,
            "grid_row": null,
            "grid_template_areas": null,
            "grid_template_columns": null,
            "grid_template_rows": null,
            "height": null,
            "justify_content": null,
            "justify_items": null,
            "left": null,
            "margin": null,
            "max_height": null,
            "max_width": null,
            "min_height": null,
            "min_width": null,
            "object_fit": null,
            "object_position": null,
            "order": null,
            "overflow": null,
            "overflow_x": null,
            "overflow_y": null,
            "padding": null,
            "right": null,
            "top": null,
            "visibility": null,
            "width": null
          }
        },
        "3c6ea68f4f2f474ab77808eac0a98e72": {
          "model_module": "@jupyter-widgets/controls",
          "model_name": "SliderStyleModel",
          "model_module_version": "1.5.0",
          "state": {
            "_model_module": "@jupyter-widgets/controls",
            "_model_module_version": "1.5.0",
            "_model_name": "SliderStyleModel",
            "_view_count": null,
            "_view_module": "@jupyter-widgets/base",
            "_view_module_version": "1.2.0",
            "_view_name": "StyleView",
            "description_width": "",
            "handle_color": null
          }
        },
        "8dc5fa83782046e482b93e3594cf4b7d": {
          "model_module": "@jupyter-widgets/base",
          "model_name": "LayoutModel",
          "model_module_version": "1.2.0",
          "state": {
            "_model_module": "@jupyter-widgets/base",
            "_model_module_version": "1.2.0",
            "_model_name": "LayoutModel",
            "_view_count": null,
            "_view_module": "@jupyter-widgets/base",
            "_view_module_version": "1.2.0",
            "_view_name": "LayoutView",
            "align_content": null,
            "align_items": null,
            "align_self": null,
            "border": null,
            "bottom": null,
            "display": null,
            "flex": null,
            "flex_flow": null,
            "grid_area": null,
            "grid_auto_columns": null,
            "grid_auto_flow": null,
            "grid_auto_rows": null,
            "grid_column": null,
            "grid_gap": null,
            "grid_row": null,
            "grid_template_areas": null,
            "grid_template_columns": null,
            "grid_template_rows": null,
            "height": null,
            "justify_content": null,
            "justify_items": null,
            "left": null,
            "margin": null,
            "max_height": null,
            "max_width": null,
            "min_height": null,
            "min_width": null,
            "object_fit": null,
            "object_position": null,
            "order": null,
            "overflow": null,
            "overflow_x": null,
            "overflow_y": null,
            "padding": null,
            "right": null,
            "top": null,
            "visibility": null,
            "width": null
          }
        }
      }
    }
  },
  "cells": [
    {
      "cell_type": "markdown",
      "metadata": {
        "id": "view-in-github",
        "colab_type": "text"
      },
      "source": [
        "<a href=\"https://colab.research.google.com/github/othoni-hub/ECG2/blob/main/Ch05_TD_Ex1_Appartements.ipynb\" target=\"_parent\"><img src=\"https://colab.research.google.com/assets/colab-badge.svg\" alt=\"Open In Colab\"/></a>"
      ]
    },
    {
      "cell_type": "markdown",
      "metadata": {
        "id": "9gRjJPolrmT_"
      },
      "source": [
        "# **CPGE-ECG2** \n"
      ]
    },
    {
      "cell_type": "markdown",
      "metadata": {
        "id": "Gprox7oVPE7W"
      },
      "source": [
        "\n",
        "\n",
        "## **Ch4 - Notebook : Statistiques bivariées : exercice \"Appartements\"**\n",
        "\n",
        "<img src=\"https://drive.google.com/uc?id=12Wo3LubGGT4qOvYFAuLP4CyCuwjKNVuk\" width=\"230\" height=\"150\" align = \"right\"/>\n",
        "\n",
        "\n",
        "\n",
        "\n",
        "**O.Thöni - Lycée Saint-Charles Sainte Croix - LE MANS**"
      ]
    },
    {
      "cell_type": "markdown",
      "source": [
        "## **Étude du prix des loyers constatés, selon la surface, dans une base d'appartements parisiens.**\n",
        "\n",
        "![\"au mieux\"…](https://poissonisfish.files.wordpress.com/2017/01/q7hip.gif?w=1108)\n",
        "\n"
      ],
      "metadata": {
        "id": "z-uv2jTIfNEh"
      }
    },
    {
      "cell_type": "markdown",
      "source": [
        "Les données sont importées depuis un fichier csv et stockées dans un dataFrame Pandas"
      ],
      "metadata": {
        "id": "YjDd1xQ7jcbg"
      }
    },
    {
      "cell_type": "code",
      "source": [
        "import pandas as pd\n",
        "import numpy as np\n"
      ],
      "metadata": {
        "id": "HqazpGmchJxI"
      },
      "execution_count": null,
      "outputs": []
    },
    {
      "cell_type": "code",
      "source": [
        "url = \"https://raw.githubusercontent.com/othoni-hub/ECG2/main/APPART.csv\"\n",
        "# attention : import depuis Github : copier le \"raw-github-link\"\n",
        "df = pd.read_csv(url, sep = \" \") # le fichier importé est un fichier .csv, séparateur espace, converti en DataFrame Pandas\n",
        "df.head()"
      ],
      "metadata": {
        "colab": {
          "base_uri": "https://localhost:8080/",
          "height": 206
        },
        "id": "USLN2zXfZ5OU",
        "outputId": "f00b83f2-a23b-43ed-fa9c-6f1cd6bf9934"
      },
      "execution_count": null,
      "outputs": [
        {
          "output_type": "execute_result",
          "data": {
            "text/plain": [
              "   Surface  Loyer\n",
              "0       28    650\n",
              "1       50   1400\n",
              "2      106   3250\n",
              "3      196   4000\n",
              "4       55   1340"
            ],
            "text/html": [
              "\n",
              "  <div id=\"df-f1bc5e85-bed9-4eb2-b8dd-ab4ecc6bb1fd\">\n",
              "    <div class=\"colab-df-container\">\n",
              "      <div>\n",
              "<style scoped>\n",
              "    .dataframe tbody tr th:only-of-type {\n",
              "        vertical-align: middle;\n",
              "    }\n",
              "\n",
              "    .dataframe tbody tr th {\n",
              "        vertical-align: top;\n",
              "    }\n",
              "\n",
              "    .dataframe thead th {\n",
              "        text-align: right;\n",
              "    }\n",
              "</style>\n",
              "<table border=\"1\" class=\"dataframe\">\n",
              "  <thead>\n",
              "    <tr style=\"text-align: right;\">\n",
              "      <th></th>\n",
              "      <th>Surface</th>\n",
              "      <th>Loyer</th>\n",
              "    </tr>\n",
              "  </thead>\n",
              "  <tbody>\n",
              "    <tr>\n",
              "      <th>0</th>\n",
              "      <td>28</td>\n",
              "      <td>650</td>\n",
              "    </tr>\n",
              "    <tr>\n",
              "      <th>1</th>\n",
              "      <td>50</td>\n",
              "      <td>1400</td>\n",
              "    </tr>\n",
              "    <tr>\n",
              "      <th>2</th>\n",
              "      <td>106</td>\n",
              "      <td>3250</td>\n",
              "    </tr>\n",
              "    <tr>\n",
              "      <th>3</th>\n",
              "      <td>196</td>\n",
              "      <td>4000</td>\n",
              "    </tr>\n",
              "    <tr>\n",
              "      <th>4</th>\n",
              "      <td>55</td>\n",
              "      <td>1340</td>\n",
              "    </tr>\n",
              "  </tbody>\n",
              "</table>\n",
              "</div>\n",
              "      <button class=\"colab-df-convert\" onclick=\"convertToInteractive('df-f1bc5e85-bed9-4eb2-b8dd-ab4ecc6bb1fd')\"\n",
              "              title=\"Convert this dataframe to an interactive table.\"\n",
              "              style=\"display:none;\">\n",
              "        \n",
              "  <svg xmlns=\"http://www.w3.org/2000/svg\" height=\"24px\"viewBox=\"0 0 24 24\"\n",
              "       width=\"24px\">\n",
              "    <path d=\"M0 0h24v24H0V0z\" fill=\"none\"/>\n",
              "    <path d=\"M18.56 5.44l.94 2.06.94-2.06 2.06-.94-2.06-.94-.94-2.06-.94 2.06-2.06.94zm-11 1L8.5 8.5l.94-2.06 2.06-.94-2.06-.94L8.5 2.5l-.94 2.06-2.06.94zm10 10l.94 2.06.94-2.06 2.06-.94-2.06-.94-.94-2.06-.94 2.06-2.06.94z\"/><path d=\"M17.41 7.96l-1.37-1.37c-.4-.4-.92-.59-1.43-.59-.52 0-1.04.2-1.43.59L10.3 9.45l-7.72 7.72c-.78.78-.78 2.05 0 2.83L4 21.41c.39.39.9.59 1.41.59.51 0 1.02-.2 1.41-.59l7.78-7.78 2.81-2.81c.8-.78.8-2.07 0-2.86zM5.41 20L4 18.59l7.72-7.72 1.47 1.35L5.41 20z\"/>\n",
              "  </svg>\n",
              "      </button>\n",
              "      \n",
              "  <style>\n",
              "    .colab-df-container {\n",
              "      display:flex;\n",
              "      flex-wrap:wrap;\n",
              "      gap: 12px;\n",
              "    }\n",
              "\n",
              "    .colab-df-convert {\n",
              "      background-color: #E8F0FE;\n",
              "      border: none;\n",
              "      border-radius: 50%;\n",
              "      cursor: pointer;\n",
              "      display: none;\n",
              "      fill: #1967D2;\n",
              "      height: 32px;\n",
              "      padding: 0 0 0 0;\n",
              "      width: 32px;\n",
              "    }\n",
              "\n",
              "    .colab-df-convert:hover {\n",
              "      background-color: #E2EBFA;\n",
              "      box-shadow: 0px 1px 2px rgba(60, 64, 67, 0.3), 0px 1px 3px 1px rgba(60, 64, 67, 0.15);\n",
              "      fill: #174EA6;\n",
              "    }\n",
              "\n",
              "    [theme=dark] .colab-df-convert {\n",
              "      background-color: #3B4455;\n",
              "      fill: #D2E3FC;\n",
              "    }\n",
              "\n",
              "    [theme=dark] .colab-df-convert:hover {\n",
              "      background-color: #434B5C;\n",
              "      box-shadow: 0px 1px 3px 1px rgba(0, 0, 0, 0.15);\n",
              "      filter: drop-shadow(0px 1px 2px rgba(0, 0, 0, 0.3));\n",
              "      fill: #FFFFFF;\n",
              "    }\n",
              "  </style>\n",
              "\n",
              "      <script>\n",
              "        const buttonEl =\n",
              "          document.querySelector('#df-f1bc5e85-bed9-4eb2-b8dd-ab4ecc6bb1fd button.colab-df-convert');\n",
              "        buttonEl.style.display =\n",
              "          google.colab.kernel.accessAllowed ? 'block' : 'none';\n",
              "\n",
              "        async function convertToInteractive(key) {\n",
              "          const element = document.querySelector('#df-f1bc5e85-bed9-4eb2-b8dd-ab4ecc6bb1fd');\n",
              "          const dataTable =\n",
              "            await google.colab.kernel.invokeFunction('convertToInteractive',\n",
              "                                                     [key], {});\n",
              "          if (!dataTable) return;\n",
              "\n",
              "          const docLinkHtml = 'Like what you see? Visit the ' +\n",
              "            '<a target=\"_blank\" href=https://colab.research.google.com/notebooks/data_table.ipynb>data table notebook</a>'\n",
              "            + ' to learn more about interactive tables.';\n",
              "          element.innerHTML = '';\n",
              "          dataTable['output_type'] = 'display_data';\n",
              "          await google.colab.output.renderOutput(dataTable, element);\n",
              "          const docLink = document.createElement('div');\n",
              "          docLink.innerHTML = docLinkHtml;\n",
              "          element.appendChild(docLink);\n",
              "        }\n",
              "      </script>\n",
              "    </div>\n",
              "  </div>\n",
              "  "
            ]
          },
          "metadata": {},
          "execution_count": 2
        }
      ]
    },
    {
      "cell_type": "code",
      "source": [
        "surfaces = df['Surface']\n",
        "loyers = df['Loyer']"
      ],
      "metadata": {
        "id": "_1oAg5YpiMbi"
      },
      "execution_count": null,
      "outputs": []
    },
    {
      "cell_type": "code",
      "source": [
        "surfaces\n"
      ],
      "metadata": {
        "colab": {
          "base_uri": "https://localhost:8080/"
        },
        "id": "G5GEAnwojqsv",
        "outputId": "a240d862-77b2-4d71-b746-841c760145d8"
      },
      "execution_count": null,
      "outputs": [
        {
          "output_type": "execute_result",
          "data": {
            "text/plain": [
              "0      28\n",
              "1      50\n",
              "2     106\n",
              "3     196\n",
              "4      55\n",
              "5     190\n",
              "6     110\n",
              "7      60\n",
              "8      48\n",
              "9      35\n",
              "10     86\n",
              "11     65\n",
              "12     32\n",
              "13     52\n",
              "14     40\n",
              "15    260\n",
              "16     70\n",
              "17    117\n",
              "18     90\n",
              "19     30\n",
              "20    105\n",
              "21     52\n",
              "22     80\n",
              "23     60\n",
              "24    140\n",
              "25     20\n",
              "26    100\n",
              "27     28\n",
              "Name: Surface, dtype: int64"
            ]
          },
          "metadata": {},
          "execution_count": 4
        }
      ]
    },
    {
      "cell_type": "markdown",
      "source": [
        "### **Calcul du point moyen**"
      ],
      "metadata": {
        "id": "q-0_5eGAzg1i"
      }
    },
    {
      "cell_type": "code",
      "source": [
        "x_bar = np.mean(surfaces)\n",
        "x_bar"
      ],
      "metadata": {
        "colab": {
          "base_uri": "https://localhost:8080/"
        },
        "id": "fyWeQSkGzrhO",
        "outputId": "a2c3a70b-0ba2-47fd-afae-5faf08445d7a"
      },
      "execution_count": null,
      "outputs": [
        {
          "output_type": "execute_result",
          "data": {
            "text/plain": [
              "82.32142857142857"
            ]
          },
          "metadata": {},
          "execution_count": 5
        }
      ]
    },
    {
      "cell_type": "code",
      "source": [
        "y_bar = np.mean(loyers)\n",
        "y_bar"
      ],
      "metadata": {
        "colab": {
          "base_uri": "https://localhost:8080/"
        },
        "id": "f80CS4QS0BRz",
        "outputId": "b4834c92-9160-4ddb-93fd-8897b1d53373"
      },
      "execution_count": null,
      "outputs": [
        {
          "output_type": "execute_result",
          "data": {
            "text/plain": [
              "2056.0714285714284"
            ]
          },
          "metadata": {},
          "execution_count": 6
        }
      ]
    },
    {
      "cell_type": "markdown",
      "source": [
        "### **visualisation du nuage de points**"
      ],
      "metadata": {
        "id": "EZ1rjHn7hFw5"
      }
    },
    {
      "cell_type": "code",
      "metadata": {
        "id": "mfJHevMZg7MK"
      },
      "source": [
        "import matplotlib.pyplot as plt     # matplotlib.pyplot permet de réaliser des graphiques"
      ],
      "execution_count": null,
      "outputs": []
    },
    {
      "cell_type": "code",
      "source": [
        "def centrax(xmin, xmax, ymin, ymax, titre, legende = [], axe_x = \"\", axe_y = \"\"):\n",
        "    '''Cette procédure ajuste les paramètres graphiques : fenêtre (xmin, xmax, ymin, ymax), titre, légende (vide par défaut)'''\n",
        "    # ajustement des paramètres des axes (centrage, couleur, etc.)\n",
        "    ax = plt.gca()\n",
        "    ax.spines['left'].set_position('zero')\n",
        "    ax.spines['right'].set_color('none')\n",
        "    ax.spines['bottom'].set_position('zero')\n",
        "    ax.spines['top'].set_color('none')\n",
        "    ax.legend(legende, loc = 'best')\n",
        "\n",
        "    plt.xlim(xmin,xmax)   \n",
        "    plt.ylim(ymin,ymax)         # fenêtre d'affichage\n",
        "    plt.title(titre)            # titre du graphique au format LaTeX (encadré par des $)\n",
        "    plt.xlabel(axe_x)           # nom des axes\n",
        "    plt.ylabel(axe_y)\n",
        "\n",
        "    plt.show()"
      ],
      "metadata": {
        "id": "GhCIx0xKn5Tu"
      },
      "execution_count": null,
      "outputs": []
    },
    {
      "cell_type": "code",
      "source": [
        "# paramètres graphiques\n",
        "xmin = -1\n",
        "xmax = max(surfaces)\n",
        "ymin = -1\n",
        "ymax = max(loyers)\n",
        "titre = \"Prix des loyers constatés selon la surface de l'appartement\"\n",
        "axe_x = \"Surfaces (m²)\"\n",
        "axe_y = \"Prix des loyers (€)\"\n",
        "\n"
      ],
      "metadata": {
        "id": "UBhpUdIXhJ1t"
      },
      "execution_count": null,
      "outputs": []
    },
    {
      "cell_type": "code",
      "source": [
        "plt.scatter(surfaces,loyers,marker ='+',color = 'red')  # représentation graphique du nuage de points\n",
        "plt.scatter(x_bar,y_bar,marker = \"v\", color = \"blue\")   # placement du point moyen\n",
        "legende=['nuage de points', 'point moyen']\n",
        "centrax(xmin, xmax, ymin, ymax, titre, legende, axe_x, axe_y)"
      ],
      "metadata": {
        "colab": {
          "base_uri": "https://localhost:8080/",
          "height": 295
        },
        "id": "nebhyKVxpGbW",
        "outputId": "a93aabcb-59d3-4eb2-ed20-b5ce868906af"
      },
      "execution_count": null,
      "outputs": [
        {
          "output_type": "display_data",
          "data": {
            "text/plain": [
              "<Figure size 432x288 with 1 Axes>"
            ],
            "image/png": "[encoded data removed]"
          },
          "metadata": {
            "needs_background": "light"
          }
        }
      ]
    },
    {
      "cell_type": "markdown",
      "source": [
        "On constate que le nuage de points est plutôt rectiligne, ce qui justifie l'emploi d'un ajustement **linéaire**, par la méthode des moindres carrés."
      ],
      "metadata": {
        "id": "xsdKSrMKkoLk"
      }
    },
    {
      "cell_type": "code",
      "source": [
        "def droite(xx,a,b) :\n",
        "    '''Cette fonction reçoit un vecteur d'abscisse, un coefficient directeur a et une ordonnée à l'origine b\n",
        "    et trace la droite y = ax + b'''\n",
        "    yy = [a*x + b for x in xx]\n",
        "    plt.plot(xx,yy,color  ='blue', linewidth = 0.5)"
      ],
      "metadata": {
        "id": "GXs0sNghlWTp"
      },
      "execution_count": null,
      "outputs": []
    },
    {
      "cell_type": "markdown",
      "source": [
        "**ajustement \"au doigt mouillé\"**\n",
        "\n",
        "* On fixe \"au pifomètre\" une équation de droite d'ajustement"
      ],
      "metadata": {
        "id": "QELFQDwMtXsY"
      }
    },
    {
      "cell_type": "code",
      "source": [
        "xx = [xmin,xmax]\n",
        "a = 20\n",
        "b = 0\n",
        "\n",
        "plt.scatter(surfaces,loyers,marker ='+',color = 'red')  # représentation graphique du nuage de points\n",
        "plt.scatter(x_bar,y_bar,marker = \"v\", color = \"blue\")   # placement du point moyen\n",
        "droite(xx,a,b)\n",
        "\n",
        "legende=[\"droite d'ajustement\",'nuage de points', 'point moyen']\n",
        "centrax(xmin, xmax, ymin, ymax, titre, legende, axe_x, axe_y)"
      ],
      "metadata": {
        "colab": {
          "base_uri": "https://localhost:8080/",
          "height": 295
        },
        "id": "iEYixQOapoL4",
        "outputId": "993c3671-3f21-40f4-8c8f-55176a1b4d1a"
      },
      "execution_count": null,
      "outputs": [
        {
          "output_type": "display_data",
          "data": {
            "text/plain": [
              "<Figure size 432x288 with 1 Axes>"
            ],
            "image/png": "[encoded data removed]"
          },
          "metadata": {
            "needs_background": "light"
          }
        }
      ]
    },
    {
      "cell_type": "markdown",
      "source": [
        "* On calcule les prix ajustés, c'est-à-dire si l'on remplace le loyer réel constaté par l'ordonnée du point de la droite ayant la même abscisse."
      ],
      "metadata": {
        "id": "YWK5X-3Xt0a-"
      }
    },
    {
      "cell_type": "code",
      "source": [
        "def y_ajuste(xx,a,b):\n",
        "    '''Cette fonction reçoit une liste xx, les coeeficients caractéristiques de la droite de régression\n",
        "    et renvoie la liste des ordonnées ajustées sur cette droite'''\n",
        "    yy = [a*x + b for x in xx]\n",
        "    return yy"
      ],
      "metadata": {
        "id": "wbnylyjjpqUb"
      },
      "execution_count": null,
      "outputs": []
    },
    {
      "cell_type": "code",
      "source": [
        "prix_ajustes = y_ajuste(surfaces,a,b)\n",
        "prix_ajustes"
      ],
      "metadata": {
        "colab": {
          "base_uri": "https://localhost:8080/"
        },
        "id": "4GpUY7yMr_Zx",
        "outputId": "6586fdcf-2b89-491b-db73-7ff84b835309"
      },
      "execution_count": null,
      "outputs": [
        {
          "output_type": "execute_result",
          "data": {
            "text/plain": [
              "[560,\n",
              " 1000,\n",
              " 2120,\n",
              " 3920,\n",
              " 1100,\n",
              " 3800,\n",
              " 2200,\n",
              " 1200,\n",
              " 960,\n",
              " 700,\n",
              " 1720,\n",
              " 1300,\n",
              " 640,\n",
              " 1040,\n",
              " 800,\n",
              " 5200,\n",
              " 1400,\n",
              " 2340,\n",
              " 1800,\n",
              " 600,\n",
              " 2100,\n",
              " 1040,\n",
              " 1600,\n",
              " 1200,\n",
              " 2800,\n",
              " 400,\n",
              " 2000,\n",
              " 560]"
            ]
          },
          "metadata": {},
          "execution_count": 16
        }
      ]
    },
    {
      "cell_type": "code",
      "source": [
        "plt.scatter(surfaces,loyers,marker ='+',color = 'red')        # nuage de points\n",
        "droite(xx,a,b)                                                          # droite d'ajustement\n",
        "plt.scatter(x_bar,y_bar,marker = \"v\", color = \"blue\")                   # point moyen du nuage\n",
        "plt.scatter(surfaces,prix_ajustes,marker ='o',color = 'green')   # volumes ajustés sur la droite\n",
        "\n",
        "legende=[\"droite d'ajustement\",'nuage de points','point moyen', 'loyers ajustés']\n",
        "centrax(xmin, xmax, ymin, ymax, titre, legende, axe_x, axe_y)"
      ],
      "metadata": {
        "colab": {
          "base_uri": "https://localhost:8080/",
          "height": 295
        },
        "id": "zh7-jBbXsNq5",
        "outputId": "a3702dd7-ef1b-44aa-c709-3a45c8bb58a9"
      },
      "execution_count": null,
      "outputs": [
        {
          "output_type": "display_data",
          "data": {
            "text/plain": [
              "<Figure size 432x288 with 1 Axes>"
            ],
            "image/png": "[encoded data removed]"
          },
          "metadata": {
            "needs_background": "light"
          }
        }
      ]
    },
    {
      "cell_type": "markdown",
      "source": [
        "* On calcule les **\"résidus\"** verticaux, c'est-à-dire la somme des carrés des distances entre les volumes réels constatés et les volumes ajustés."
      ],
      "metadata": {
        "id": "4N8VrBQXuIcA"
      }
    },
    {
      "cell_type": "code",
      "source": [
        "def residus(y_reels,y_ajustes) : \n",
        "    '''Cette fonction reçoit deux listes : y_reels et y_ajustes, \n",
        "    et renvoie le \"résidu\" d'ajustement de la 1ère par la 2nde'''\n",
        "    res = sum([(y_reels[k] - y_ajustes[k])**2 for k in range(len(y_reels))])\n",
        "    return res"
      ],
      "metadata": {
        "id": "vR9udhvctKnx"
      },
      "execution_count": null,
      "outputs": []
    },
    {
      "cell_type": "code",
      "source": [
        "residus(loyers,prix_ajustes)"
      ],
      "metadata": {
        "colab": {
          "base_uri": "https://localhost:8080/"
        },
        "id": "3BxmuXQ3vQvZ",
        "outputId": "43761d1c-029a-41f5-ccee-a0815f8b5618"
      },
      "execution_count": null,
      "outputs": [
        {
          "output_type": "execute_result",
          "data": {
            "text/plain": [
              "18559700"
            ]
          },
          "metadata": {},
          "execution_count": 19
        }
      ]
    },
    {
      "cell_type": "markdown",
      "source": [
        "* on peut visualiser ces résidus"
      ],
      "metadata": {
        "id": "lrtTwCjRvwqs"
      }
    },
    {
      "cell_type": "code",
      "source": [
        "plt.scatter(surfaces,loyers,marker ='+',color = 'red')        # nuage de points\n",
        "droite(xx,a,b)                                                          # droite d'ajustement\n",
        "plt.scatter(x_bar,y_bar,marker = \"v\", color = \"blue\")                   # point moyen du nuage\n",
        "plt.scatter(surfaces,prix_ajustes,marker ='o',color = 'green')   # volumes ajustés sur la droite\n",
        "plt.plot([surfaces, surfaces],[loyers,prix_ajustes], color = \"black\", linewidth = 0.3)\n",
        "\n",
        "centrax(xmin, xmax, ymin, ymax, titre,\"\",axe_x,axe_y)"
      ],
      "metadata": {
        "colab": {
          "base_uri": "https://localhost:8080/",
          "height": 295
        },
        "id": "-Svo8OHAvcza",
        "outputId": "aa5805f8-873e-4ba0-be70-3875f571ea6f"
      },
      "execution_count": null,
      "outputs": [
        {
          "output_type": "display_data",
          "data": {
            "text/plain": [
              "<Figure size 432x288 with 1 Axes>"
            ],
            "image/png": "[encoded data removed]"
          },
          "metadata": {
            "needs_background": "light"
          }
        }
      ]
    },
    {
      "cell_type": "markdown",
      "source": [
        "## **graphique interactif**\n",
        "\n"
      ],
      "metadata": {
        "id": "MWZZo8DfeOZT"
      }
    },
    {
      "cell_type": "code",
      "source": [
        "from ipywidgets import interact\n",
        "from IPython.display import display\n",
        "\n",
        "import matplotlib.pyplot as plt\n",
        "import numpy as np\n",
        "%matplotlib inline"
      ],
      "metadata": {
        "id": "5c-nwCzzeWpw"
      },
      "execution_count": null,
      "outputs": []
    },
    {
      "cell_type": "markdown",
      "source": [
        "Intéragir sur les curseurs pour minimiser le résidu R affiché en haut à gauche."
      ],
      "metadata": {
        "id": "3vzL_0x2p9Pj"
      }
    },
    {
      "cell_type": "code",
      "source": [
        "\n",
        "def graph_interactif( a,b):\n",
        "    prix_ajustes = y_ajuste(surfaces,a,b)\n",
        "    \n",
        "    plt.scatter(surfaces,loyers,marker ='+',color = 'red')        # nuage de points\n",
        "    xx = [xmin,xmax]\n",
        "    droite(xx,a,b)                                                # droite d'ajustement\n",
        "    plt.scatter(x_bar,y_bar,marker = \"v\", color = \"blue\")         # point moyen du nuage\n",
        "    plt.scatter(surfaces,prix_ajustes,marker ='o',color = 'green')# volumes ajustés sur la droite\n",
        "\n",
        "    res = residus(loyers,prix_ajustes)\n",
        "\n",
        "interact(graph_interactif, a = (-50, 50, 0.5), b = (-500, 500,20))"
      ],
      "metadata": {
        "colab": {
          "base_uri": "https://localhost:8080/",
          "height": 364,
          "referenced_widgets": [
            "ee1d8a7a2dba4af19c013da610824cda",
            "08956c5ee9d144529198c0d11b0ba735",
            "ebfb81bf7b33456eb4fe964e8b820584",
            "d34218e467f940c38dec2d7c20739ced",
            "92b36ff4acbe4fac8e26eab5106a13ee",
            "51d9b205380c4731be87da871a15e0cd",
            "39a051c9c5a44fcfb57f0d8cf2f2d246",
            "172ff7c6ada74012960fd5fdc7a07b26",
            "3c6ea68f4f2f474ab77808eac0a98e72",
            "8dc5fa83782046e482b93e3594cf4b7d"
          ]
        },
        "id": "53od6g6ZebxV",
        "outputId": "6cf4ccf3-f3b6-4aad-c257-6de11da9f293"
      },
      "execution_count": null,
      "outputs": [
        {
          "output_type": "display_data",
          "data": {
            "text/plain": [
              "interactive(children=(FloatSlider(value=0.0, description='a', max=50.0, min=-50.0, step=0.5), IntSlider(value=…"
            ],
            "application/vnd.jupyter.widget-view+json": {
              "version_major": 2,
              "version_minor": 0,
              "model_id": "ee1d8a7a2dba4af19c013da610824cda"
            }
          },
          "metadata": {}
        },
        {
          "output_type": "execute_result",
          "data": {
            "text/plain": [
              "<function __main__.graph_interactif>"
            ]
          },
          "metadata": {},
          "execution_count": 80
        }
      ]
    },
    {
      "cell_type": "markdown",
      "source": [
        "## **Calcul de la droite d'ajustement linéaire, droite de régression du prix des loyers en la surface**\n",
        "\n",
        "**rappels**\n",
        "* **covariance empirique :** \n",
        "\n",
        "$$s_{XY} = \\frac{1}{n} \\sum_{i = 1}^{n} \\left ( x_i - \\bar{x}\\right)\\left ( xy_i - \\bar{y}\\right)$$\n",
        "\n",
        "* **coefficient directeur de la droite e Y en X :**\n",
        "\n",
        "$$ a = \\frac{s_{XY}}{\\sigma^2(X)}$$\n",
        "\n",
        "* **ordonnée à l'origine de la droite de régression de Y en X**\n",
        "\n",
        "$$ b = \\bar{y} - a . \\bar{x}$$\n",
        "\n",
        "* **équation de la droite de régression de Y en X :**\n",
        "\n",
        "$$y = a . x + b$$"
      ],
      "metadata": {
        "id": "xENNSgcnyvDY"
      }
    },
    {
      "cell_type": "code",
      "source": [
        "def covariance_empirique(x,y) :\n",
        "    '''Cette fonction reçoit deux listes x et y, de même taille, \n",
        "    et renvoie la covariance de ces deux listes\n",
        "    Remarque : si x = y, on obtient la variance de x.'''\n",
        "    xbar = np.mean(x)\n",
        "    ybar = np.mean(y)\n",
        "    n = len(x)\n",
        "\n",
        "    s_XY = 1/n * sum([(x[k] - xbar)*(y[k] - ybar) for k in range(n)])\n",
        "    return s_XY"
      ],
      "metadata": {
        "id": "-oHPMfg0wMU1"
      },
      "execution_count": null,
      "outputs": []
    },
    {
      "cell_type": "code",
      "source": [
        "s_XY = covariance_empirique(surfaces, loyers)\n",
        "s_XY"
      ],
      "metadata": {
        "colab": {
          "base_uri": "https://localhost:8080/"
        },
        "id": "kD0ocPzFFyiX",
        "outputId": "4aaa9626-778c-4e99-af75-9fad8c647583"
      },
      "execution_count": null,
      "outputs": [
        {
          "output_type": "execute_result",
          "data": {
            "text/plain": [
              "84302.86989795917"
            ]
          },
          "metadata": {},
          "execution_count": 24
        }
      ]
    },
    {
      "cell_type": "code",
      "source": [
        "def coeff_droite_regression(x,y):\n",
        "    '''Cette fonction reçoit deux listes x et y de même taille,\n",
        "    et renvoie les coefficients de la droite d'ajustemennt de y en x'''\n",
        "    xbar = np.mean(x)\n",
        "    ybar = np.mean(y)\n",
        "\n",
        "    # pente\n",
        "    a = covariance_empirique(x, y) / covariance_empirique(x, x)\n",
        "    # ordonnée à l'origine\n",
        "    b = ybar - a * xbar\n",
        "    return a, b"
      ],
      "metadata": {
        "id": "jPCsqQ-TGMn8"
      },
      "execution_count": null,
      "outputs": []
    },
    {
      "cell_type": "code",
      "source": [
        "a,b = coeff_droite_regression(surfaces, loyers)\n",
        "print('Équation de la droite de régression de Y en X : y=' + str(a) + '.x + ' + str(b))"
      ],
      "metadata": {
        "colab": {
          "base_uri": "https://localhost:8080/"
        },
        "id": "nHPZWySHG9xU",
        "outputId": "a3bdb052-ff9d-423b-c73e-96a933f43b85"
      },
      "execution_count": null,
      "outputs": [
        {
          "output_type": "stream",
          "name": "stdout",
          "text": [
            "Équation de la droite de régression de Y en X : y=26.765817999508364.x + -147.32894603095656\n"
          ]
        }
      ]
    },
    {
      "cell_type": "markdown",
      "source": [
        "**Représentation graphique**"
      ],
      "metadata": {
        "id": "9baucCK3HV68"
      }
    },
    {
      "cell_type": "code",
      "source": [
        "prix_ajustes = y_ajuste(surfaces,a,b)\n",
        "#prix_ajustes"
      ],
      "metadata": {
        "id": "WE23-kv0H3ZO"
      },
      "execution_count": null,
      "outputs": []
    },
    {
      "cell_type": "code",
      "source": [
        "plt.scatter(surfaces,loyers,marker ='+',color = 'red')                  # nuage de points\n",
        "droite(xx,a,b)                                                          # droite d'ajustement\n",
        "plt.scatter(x_bar,y_bar,marker = \"v\", color = \"blue\")                   # point moyen du nuage\n",
        "plt.scatter(surfaces,prix_ajustes,marker ='o',color = 'green')          # prix ajustés sur la droite\n",
        "\n",
        "legende=[\"droite d'ajustement\",'nuage de points','point moyen', 'prix ajustés']\n",
        "centrax(xmin, xmax, ymin, ymax, titre, legende, axe_x, axe_y)"
      ],
      "metadata": {
        "colab": {
          "base_uri": "https://localhost:8080/",
          "height": 295
        },
        "id": "at6uSsdhHgxg",
        "outputId": "b6f53b25-0d64-4ee0-cf21-5418315b7b43"
      },
      "execution_count": null,
      "outputs": [
        {
          "output_type": "display_data",
          "data": {
            "text/plain": [
              "<Figure size 432x288 with 1 Axes>"
            ],
            "image/png": "[encoded data removed]"
          },
          "metadata": {
            "needs_background": "light"
          }
        }
      ]
    },
    {
      "cell_type": "markdown",
      "source": [
        "On observe que la droite de régression de Y en X passe bien par le point moyen !"
      ],
      "metadata": {
        "id": "DKS8dLEFHjyt"
      }
    },
    {
      "cell_type": "code",
      "source": [
        "residus(loyers,prix_ajustes)"
      ],
      "metadata": {
        "colab": {
          "base_uri": "https://localhost:8080/"
        },
        "id": "EJhARkYkHiCI",
        "outputId": "95bd602e-6938-4801-e564-3b555a40d58e"
      },
      "execution_count": null,
      "outputs": [
        {
          "output_type": "execute_result",
          "data": {
            "text/plain": [
              "9824080.226442628"
            ]
          },
          "metadata": {},
          "execution_count": 35
        }
      ]
    },
    {
      "cell_type": "markdown",
      "source": [
        "On a optimisé ces résidus."
      ],
      "metadata": {
        "id": "Ov2-fKhaILBt"
      }
    },
    {
      "cell_type": "markdown",
      "source": [
        "### **Interpolation et extrapolations linéaires**\n",
        "\n",
        "* Par interpolation, indiquer le prix du loyer à prévoir pour une surface de 250 m². \n",
        "\n"
      ],
      "metadata": {
        "id": "9BkhUhLzISN_"
      }
    },
    {
      "cell_type": "code",
      "source": [
        "x = 250\n",
        "y = a*x + b\n",
        "print(\"Pour un appartement de \" + str(x) + \" m², prévoir un loyer de : \" + str(np.round(y*100)/100) + ' €')"
      ],
      "metadata": {
        "colab": {
          "base_uri": "https://localhost:8080/"
        },
        "id": "nVkPoHGQItNZ",
        "outputId": "a58df578-05f7-47e6-e721-f526d7eb50ba"
      },
      "execution_count": null,
      "outputs": [
        {
          "output_type": "stream",
          "name": "stdout",
          "text": [
            "Pour un appartement de 250 m², prévoir un loyer de : 6544.13 €\n"
          ]
        }
      ]
    },
    {
      "cell_type": "markdown",
      "source": [
        "### **Regression de la surface en le prix du loyer**\n",
        "\n",
        "Il nous faut calculer l'autre droite de regression, car les résidus sont cette fois pris horizontalement."
      ],
      "metadata": {
        "id": "l4v7ANyTUmEw"
      }
    },
    {
      "cell_type": "code",
      "source": [
        "a,b = coeff_droite_regression(loyers, surfaces)\n",
        "a_prim = 1/a\n",
        "b_prim = y_bar - a_prim * x_bar\n",
        "print('Équation de la droite de régression de Y en X : y=' + str(a_prim) + '.x + ' + str(b_prim))\n"
      ],
      "metadata": {
        "id": "N00UqRTYJLAG",
        "colab": {
          "base_uri": "https://localhost:8080/"
        },
        "outputId": "8943a17e-d0c4-47d8-c416-5808aa00d659"
      },
      "execution_count": null,
      "outputs": [
        {
          "output_type": "stream",
          "name": "stdout",
          "text": [
            "Équation de la droite de régression de Y en X : y=30.927716740463694.x + -489.94239595602903\n"
          ]
        }
      ]
    },
    {
      "cell_type": "code",
      "source": [
        "y = 5000\n",
        "x = (y - b_prim) / a_prim\n",
        "print(\"Pour un loyer de : \" + str(np.round(y*100)/100) + ' €, on peut espérer un appartement de ' + str(np.round(x)) + \" m².\")"
      ],
      "metadata": {
        "colab": {
          "base_uri": "https://localhost:8080/"
        },
        "id": "_DYfk6PsXuy4",
        "outputId": "4fadb290-a4c3-4836-c863-5fb70afc2860"
      },
      "execution_count": null,
      "outputs": [
        {
          "output_type": "stream",
          "name": "stdout",
          "text": [
            "Pour un loyer de : 5000.0 €, on peut espérer un appartement de 178.0 m².\n"
          ]
        }
      ]
    },
    {
      "cell_type": "markdown",
      "source": [
        "# **Intelligence artificielle : Calcul de la droite de regression par une descente de gradient**\n",
        "\n",
        "* les données"
      ],
      "metadata": {
        "id": "oVYUBFI2rZb8"
      }
    },
    {
      "cell_type": "code",
      "source": [
        "# Fabrique le numpy array X, contenant les valeurs de Surface.\n",
        "# et le vecteur de sortie y, contenant les valeurs de Loyer.\n",
        "X = np.array(surfaces)\n",
        "y = np.array(loyers)\n",
        "\n",
        "m = len(X)"
      ],
      "metadata": {
        "id": "BRH_eAhexqpH"
      },
      "execution_count": null,
      "outputs": []
    },
    {
      "cell_type": "markdown",
      "source": [
        "* création du modèle"
      ],
      "metadata": {
        "id": "9HE-2HybxwvE"
      }
    },
    {
      "cell_type": "code",
      "metadata": {
        "id": "z3klN3VIAC6o"
      },
      "source": [
        "def predict(w, b, X):\n",
        "    \"\"\" A method that runs our linear model\n",
        "    w : np.ndarray (1, num_dimensions)\n",
        "        A weight matrix which will be fit to the data\n",
        "    b : float (1, 1)\n",
        "        The bias unit for our linear model\n",
        "    X : np.ndarray (num_dimensions, num_examples)\n",
        "        The m input examples for which we would like to predict a y value\n",
        "    \"\"\"\n",
        "    return w * X + b\n",
        " \n"
      ],
      "execution_count": null,
      "outputs": []
    },
    {
      "cell_type": "markdown",
      "source": [
        "* coût (erreur ou *loss*)"
      ],
      "metadata": {
        "id": "9OgE4HX-vGvv"
      }
    },
    {
      "cell_type": "code",
      "metadata": {
        "id": "wIBhLEFLAdrI"
      },
      "source": [
        "def cost(y, y_pred):\n",
        "    \"\"\"\n",
        "    y : np.ndarray (num_examples, 1)\n",
        "        The ground truth results\n",
        "    y_pred : np.ndarray (num_examples, 1)\n",
        "    \"\"\"\n",
        "    return np.sqrt(((y_pred - y) ** 2).mean())\n"
      ],
      "execution_count": null,
      "outputs": []
    },
    {
      "cell_type": "markdown",
      "metadata": {
        "id": "l3EAGnHcefK9"
      },
      "source": [
        "### **Implémentation de la descente de gradient**\n",
        "On veut observer l'effet d'une variation des paramètres sur le coût, en mathématiques, cela s'appelle calculer la dérivée de la fonction de coût ! (pas compliquée ici puisqu'on dérive un carré...)\n",
        "\n",
        "![Formule de la descente de gradient](https://drive.google.com/uc?id=1TaSb_ce-rny-1asU3YNQFDA-6Q6uwKpB)\n",
        "\n",
        "a (alpha) désigne le **\"taux d'apprentissage\"** (*Learning Ratio*), trop lent, on ne convergera pas assez vers la solution optimale, trop rapide, on oscillera autour..."
      ]
    },
    {
      "cell_type": "markdown",
      "metadata": {
        "id": "5HLptlxMA5Jj"
      },
      "source": [
        "* Le gradient"
      ]
    },
    {
      "cell_type": "code",
      "metadata": {
        "id": "07n-vVaEA0Ne"
      },
      "source": [
        "def gradient(X, y, y_pred):\n",
        "    \"\"\"\n",
        "    X : np.ndarray (num_dimensions, num_examples)\n",
        "        The m input examples for which we would like to predict a y value\n",
        "    y : np.ndarray (num_examples, 1)\n",
        "        The ground truth results\n",
        "    y_pred : np.ndarray (num_examples, 1)\n",
        "        Our model's predictions\n",
        "    \"\"\"\n",
        "    dw = ((y_pred - y) * X).mean()/cost(y,y_pred)\n",
        "    db = (y_pred - y).mean()/cost(y,y_pred)\n",
        "    return dw, db\n",
        " \n"
      ],
      "execution_count": null,
      "outputs": []
    },
    {
      "cell_type": "markdown",
      "metadata": {
        "id": "hWhfzNumBKKI"
      },
      "source": [
        "* L'optimisation par descente de gradient\n"
      ]
    },
    {
      "cell_type": "code",
      "metadata": {
        "id": "iVV2A7G4BAVW"
      },
      "source": [
        "def gradient_descent(X, y, w, b, epochs, learning_ratio):\n",
        "    \"\"\"\n",
        "    X : np.ndarray (num_dimensions, num_examples)\n",
        "        The m input examples for which we would like to predict a y value\n",
        "    y : np.ndarray (num_examples, 1)\n",
        "        The ground truth results\n",
        "    w : np.ndarray (1, num_dimensions)\n",
        "        A weight matrix which will be fit to the data\n",
        "    b : float\n",
        "        The bias unit for our linear model\n",
        "    epochs : int\n",
        "        The number of times our model iterates over the entire training set\n",
        "    learning_rate : float\n",
        "        The rate at which our model tends to adjust it's parameters\n",
        "    \"\"\"\n",
        "\n",
        "    for i in range(epochs):\n",
        "        # predict the value of y with our current model\n",
        "        y_pred = predict(w, b, X)\n",
        "        \n",
        "        # compute the gradient with respect to w and b\n",
        "        dw, db = gradient(X, y, y_pred)\n",
        "        \n",
        "        # adjust w and b as to minimize the cost function\n",
        "        w = w - learning_ratio * dw\n",
        "        b = b - learning_ratio * db\n",
        "\n",
        "        # cost\n",
        "        l = cost(y,y_pred)\n",
        "        loss_history.append(l)\n",
        "        w_history.append(w)\n",
        "        b_history.append(b)\n",
        "        absc.append(i)\n",
        "\n",
        "    return w, b\n"
      ],
      "execution_count": null,
      "outputs": []
    },
    {
      "cell_type": "markdown",
      "metadata": {
        "id": "omtTP1_pAtEY"
      },
      "source": [
        "* Initialisation des paramètres"
      ]
    },
    {
      "cell_type": "code",
      "metadata": {
        "id": "Zu782EHMAvmm"
      },
      "source": [
        "def initialize_parameters(n):\n",
        "    \"\"\"\n",
        "    n : int\n",
        "        The dimensions of the data\n",
        "    \"\"\"\n",
        "    return np.zeros((1, n)), 0\n",
        " \n"
      ],
      "execution_count": null,
      "outputs": []
    },
    {
      "cell_type": "markdown",
      "metadata": {
        "id": "6-55efG0Bn3Z"
      },
      "source": [
        "* Exécution"
      ]
    },
    {
      "cell_type": "code",
      "source": [
        "# initialize w and b\n",
        "w, b = initialize_parameters(m)\n",
        "\n",
        "#initialize histories\n",
        "loss_history = []\n",
        "w_history = []\n",
        "b_history = []\n",
        "absc = []\n",
        "        \n",
        "# run gradient descent in order to find optimal values for w and b\n",
        "epochs=100000\n",
        "learning_ratio=0.1\n",
        "w, b = gradient_descent(X, y, w, b, epochs, learning_ratio)\n",
        "\n",
        "# calculate the final cost function\n",
        "c = cost(y, predict(w, b, X))\n",
        "    \n",
        "# print out the model details\n",
        "print('w:', w[0][0])\n",
        "print('b:', b)\n",
        "print('cost:', c)\n"
      ],
      "metadata": {
        "colab": {
          "base_uri": "https://localhost:8080/"
        },
        "id": "uchdyK4q243n",
        "outputId": "7ec96175-63d5-4c36-b70b-1e840851b01a"
      },
      "execution_count": null,
      "outputs": [
        {
          "output_type": "stream",
          "name": "stdout",
          "text": [
            "w: 26.760016853839343\n",
            "b: -146.62945592571782\n",
            "cost: 592.3345029092997\n"
          ]
        }
      ]
    },
    {
      "cell_type": "markdown",
      "source": [
        "observation de la convergence des poids de la régression "
      ],
      "metadata": {
        "id": "KBwW_xcV2_LF"
      }
    },
    {
      "cell_type": "code",
      "metadata": {
        "id": "WxAfM8TkBr1k",
        "colab": {
          "base_uri": "https://localhost:8080/",
          "height": 299
        },
        "outputId": "cb442046-5d3f-475d-e72e-e21013e00b8d"
      },
      "source": [
        "\n",
        "\n",
        "# graphics\n",
        "plt.subplot(1,3,1)\n",
        "plt.plot(range(epochs),loss_history,'r')\n",
        "plt.xlabel(\"Iterations\")\n",
        "plt.ylabel(\"loss\")\n",
        "\n",
        "plt.subplot(1,3,2)\n",
        "plt.plot(range(epochs), np.mean(w_history, axis = 1))\n",
        "plt.xlabel(\"Iterations\")\n",
        "plt.ylabel(\"poids\")\n",
        "\n",
        "plt.subplot(1,3,3)\n",
        "plt.plot(range(epochs), b_history)\n",
        "plt.xlabel(\"Iterations\")\n",
        "plt.ylabel(\"biais\")\n"
      ],
      "execution_count": null,
      "outputs": [
        {
          "output_type": "execute_result",
          "data": {
            "text/plain": [
              "Text(0, 0.5, 'biais')"
            ]
          },
          "metadata": {},
          "execution_count": 142
        },
        {
          "output_type": "display_data",
          "data": {
            "text/plain": [
              "<Figure size 432x288 with 3 Axes>"
            ],
            "image/png": "[encoded data removed]"
          },
          "metadata": {
            "needs_background": "light"
          }
        }
      ]
    },
    {
      "cell_type": "code",
      "metadata": {
        "id": "ESZ8kRnia5In",
        "colab": {
          "base_uri": "https://localhost:8080/"
        },
        "outputId": "b5be6e83-a9f9-4bbb-8e5f-37546161a59a"
      },
      "source": [
        "epochs"
      ],
      "execution_count": null,
      "outputs": [
        {
          "output_type": "execute_result",
          "data": {
            "text/plain": [
              "20"
            ]
          },
          "metadata": {},
          "execution_count": 98
        }
      ]
    },
    {
      "cell_type": "markdown",
      "metadata": {
        "id": "5sZb5MhQjE7R"
      },
      "source": [
        "**Affichage de l'hypothèse finale**"
      ]
    },
    {
      "cell_type": "code",
      "metadata": {
        "id": "r3zaBQyEjLJ0",
        "colab": {
          "base_uri": "https://localhost:8080/",
          "height": 383
        },
        "outputId": "16ff6456-1771-431e-f29c-12f788f386cb"
      },
      "source": [
        "\n",
        "# Plot training set\n",
        "plt.scatter(X, y ,  color='blue')\n",
        "\n",
        "# Plot Hypothesis (theta were calculated with the Gradient Descent)\n",
        "\n",
        "y_pred =w*X+b\n",
        "print(y_pred)\n",
        "\n",
        "plt.plot(X, y_pred.T, color='red', linewidth=1)\n",
        "# Plot costs\n",
        "#for k in range(m):\n",
        "#   plt.plot([X[k], X[k]],[y[k],y_pred[k]],'g--', linewidth=1 )\n",
        "\n",
        "# Mean Point\n",
        "plt.scatter(np.mean(X),np.mean(y), color='black')\n",
        "\n",
        "# Put labels\n",
        "plt.xlabel(\"Surface(m²)\")\n",
        "plt.ylabel(\"Loyer(€)\")\n",
        "\n",
        "plt.show()\n"
      ],
      "execution_count": null,
      "outputs": [
        {
          "output_type": "stream",
          "name": "stdout",
          "text": [
            "[[ 669.2461177  1242.1223556  2700.35277937 5043.93738899 1372.32150058\n",
            "  4887.69841502 2804.51209535 1502.52064556 1190.04269761  851.52492067\n",
            "  2179.55619945 1632.71979054  773.40543368 1294.2020136   981.72406565\n",
            "  6710.48644473 1762.91893552 2986.79089832 2283.71551544  721.32577569\n",
            "  2674.31295037 1294.2020136  2023.31722548 1502.52064556 3585.70696523\n",
            "   460.92748573 2544.1138054   669.2461177 ]]\n"
          ]
        },
        {
          "output_type": "display_data",
          "data": {
            "text/plain": [
              "<Figure size 432x288 with 1 Axes>"
            ],
            "image/png": "[encoded data removed]"
          },
          "metadata": {
            "needs_background": "light"
          }
        }
      ]
    },
    {
      "cell_type": "code",
      "source": [
        ""
      ],
      "metadata": {
        "id": "4Kh5hEWvy7sW"
      },
      "execution_count": null,
      "outputs": []
    }
  ]
}