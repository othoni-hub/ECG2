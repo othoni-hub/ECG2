{
  "nbformat": 4,
  "nbformat_minor": 0,
  "metadata": {
    "colab": {
      "name": "Ch05-TD-Ex1-Appartements.ipynb",
      "provenance": [],
      "authorship_tag": "ABX9TyPXbMgn7yNjPD3P8XeWrz+C",
      "include_colab_link": true
    },
    "kernelspec": {
      "name": "python3",
      "display_name": "Python 3"
    },
    "language_info": {
      "name": "python"
    },
    "widgets": {
      "application/vnd.jupyter.widget-state+json": {
        "b6cbfbddc9e14b13aaf106458ff698d8": {
          "model_module": "@jupyter-widgets/controls",
          "model_name": "VBoxModel",
          "model_module_version": "1.5.0",
          "state": {
            "_dom_classes": [
              "widget-interact"
            ],
            "_model_module": "@jupyter-widgets/controls",
            "_model_module_version": "1.5.0",
            "_model_name": "VBoxModel",
            "_view_count": null,
            "_view_module": "@jupyter-widgets/controls",
            "_view_module_version": "1.5.0",
            "_view_name": "VBoxView",
            "box_style": "",
            "children": [
              "IPY_MODEL_79a07708c5e04401b60ac1e66bf75777",
              "IPY_MODEL_180ea5e40e3a4054bcf8bf88cdc1ef3f",
              "IPY_MODEL_12065b9d5f6a492989c35089984e5928"
            ],
            "layout": "IPY_MODEL_31408745f6504327bf9e4910fcf466fa"
          }
        },
        "79a07708c5e04401b60ac1e66bf75777": {
          "model_module": "@jupyter-widgets/controls",
          "model_name": "FloatSliderModel",
          "model_module_version": "1.5.0",
          "state": {
            "_dom_classes": [],
            "_model_module": "@jupyter-widgets/controls",
            "_model_module_version": "1.5.0",
            "_model_name": "FloatSliderModel",
            "_view_count": null,
            "_view_module": "@jupyter-widgets/controls",
            "_view_module_version": "1.5.0",
            "_view_name": "FloatSliderView",
            "continuous_update": true,
            "description": "a",
            "description_tooltip": null,
            "disabled": false,
            "layout": "IPY_MODEL_06f20bbd87874de89a2b83f437d91044",
            "max": 50,
            "min": -50,
            "orientation": "horizontal",
            "readout": true,
            "readout_format": ".2f",
            "step": 0.5,
            "style": "IPY_MODEL_e9521edaf0e94c79a065f94ea081b03c",
            "value": 0
          }
        },
        "180ea5e40e3a4054bcf8bf88cdc1ef3f": {
          "model_module": "@jupyter-widgets/controls",
          "model_name": "IntSliderModel",
          "model_module_version": "1.5.0",
          "state": {
            "_dom_classes": [],
            "_model_module": "@jupyter-widgets/controls",
            "_model_module_version": "1.5.0",
            "_model_name": "IntSliderModel",
            "_view_count": null,
            "_view_module": "@jupyter-widgets/controls",
            "_view_module_version": "1.5.0",
            "_view_name": "IntSliderView",
            "continuous_update": true,
            "description": "b",
            "description_tooltip": null,
            "disabled": false,
            "layout": "IPY_MODEL_c1af4838c77c40cdab70edd105cef959",
            "max": 500,
            "min": -500,
            "orientation": "horizontal",
            "readout": true,
            "readout_format": "d",
            "step": 20,
            "style": "IPY_MODEL_aa3e6f01d10549e5b12ba5ef58dab5bb",
            "value": 0
          }
        },
        "12065b9d5f6a492989c35089984e5928": {
          "model_module": "@jupyter-widgets/output",
          "model_name": "OutputModel",
          "model_module_version": "1.0.0",
          "state": {
            "_dom_classes": [],
            "_model_module": "@jupyter-widgets/output",
            "_model_module_version": "1.0.0",
            "_model_name": "OutputModel",
            "_view_count": null,
            "_view_module": "@jupyter-widgets/output",
            "_view_module_version": "1.0.0",
            "_view_name": "OutputView",
            "layout": "IPY_MODEL_a8d1a6c3d43a4ff98782a631a9f37891",
            "msg_id": "",
            "outputs": [
              {
                "output_type": "display_data",
                "data": {
                  "text/plain": "<Figure size 432x288 with 1 Axes>",
                  "image/png": "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\n"
                },
                "metadata": {
                  "needs_background": "light"
                }
              }
            ]
          }
        },
        "31408745f6504327bf9e4910fcf466fa": {
          "model_module": "@jupyter-widgets/base",
          "model_name": "LayoutModel",
          "model_module_version": "1.2.0",
          "state": {
            "_model_module": "@jupyter-widgets/base",
            "_model_module_version": "1.2.0",
            "_model_name": "LayoutModel",
            "_view_count": null,
            "_view_module": "@jupyter-widgets/base",
            "_view_module_version": "1.2.0",
            "_view_name": "LayoutView",
            "align_content": null,
            "align_items": null,
            "align_self": null,
            "border": null,
            "bottom": null,
            "display": null,
            "flex": null,
            "flex_flow": null,
            "grid_area": null,
            "grid_auto_columns": null,
            "grid_auto_flow": null,
            "grid_auto_rows": null,
            "grid_column": null,
            "grid_gap": null,
            "grid_row": null,
            "grid_template_areas": null,
            "grid_template_columns": null,
            "grid_template_rows": null,
            "height": null,
            "justify_content": null,
            "justify_items": null,
            "left": null,
            "margin": null,
            "max_height": null,
            "max_width": null,
            "min_height": null,
            "min_width": null,
            "object_fit": null,
            "object_position": null,
            "order": null,
            "overflow": null,
            "overflow_x": null,
            "overflow_y": null,
            "padding": null,
            "right": null,
            "top": null,
            "visibility": null,
            "width": null
          }
        },
        "06f20bbd87874de89a2b83f437d91044": {
          "model_module": "@jupyter-widgets/base",
          "model_name": "LayoutModel",
          "model_module_version": "1.2.0",
          "state": {
            "_model_module": "@jupyter-widgets/base",
            "_model_module_version": "1.2.0",
            "_model_name": "LayoutModel",
            "_view_count": null,
            "_view_module": "@jupyter-widgets/base",
            "_view_module_version": "1.2.0",
            "_view_name": "LayoutView",
            "align_content": null,
            "align_items": null,
            "align_self": null,
            "border": null,
            "bottom": null,
            "display": null,
            "flex": null,
            "flex_flow": null,
            "grid_area": null,
            "grid_auto_columns": null,
            "grid_auto_flow": null,
            "grid_auto_rows": null,
            "grid_column": null,
            "grid_gap": null,
            "grid_row": null,
            "grid_template_areas": null,
            "grid_template_columns": null,
            "grid_template_rows": null,
            "height": null,
            "justify_content": null,
            "justify_items": null,
            "left": null,
            "margin": null,
            "max_height": null,
            "max_width": null,
            "min_height": null,
            "min_width": null,
            "object_fit": null,
            "object_position": null,
            "order": null,
            "overflow": null,
            "overflow_x": null,
            "overflow_y": null,
            "padding": null,
            "right": null,
            "top": null,
            "visibility": null,
            "width": null
          }
        },
        "e9521edaf0e94c79a065f94ea081b03c": {
          "model_module": "@jupyter-widgets/controls",
          "model_name": "SliderStyleModel",
          "model_module_version": "1.5.0",
          "state": {
            "_model_module": "@jupyter-widgets/controls",
            "_model_module_version": "1.5.0",
            "_model_name": "SliderStyleModel",
            "_view_count": null,
            "_view_module": "@jupyter-widgets/base",
            "_view_module_version": "1.2.0",
            "_view_name": "StyleView",
            "description_width": "",
            "handle_color": null
          }
        },
        "c1af4838c77c40cdab70edd105cef959": {
          "model_module": "@jupyter-widgets/base",
          "model_name": "LayoutModel",
          "model_module_version": "1.2.0",
          "state": {
            "_model_module": "@jupyter-widgets/base",
            "_model_module_version": "1.2.0",
            "_model_name": "LayoutModel",
            "_view_count": null,
            "_view_module": "@jupyter-widgets/base",
            "_view_module_version": "1.2.0",
            "_view_name": "LayoutView",
            "align_content": null,
            "align_items": null,
            "align_self": null,
            "border": null,
            "bottom": null,
            "display": null,
            "flex": null,
            "flex_flow": null,
            "grid_area": null,
            "grid_auto_columns": null,
            "grid_auto_flow": null,
            "grid_auto_rows": null,
            "grid_column": null,
            "grid_gap": null,
            "grid_row": null,
            "grid_template_areas": null,
            "grid_template_columns": null,
            "grid_template_rows": null,
            "height": null,
            "justify_content": null,
            "justify_items": null,
            "left": null,
            "margin": null,
            "max_height": null,
            "max_width": null,
            "min_height": null,
            "min_width": null,
            "object_fit": null,
            "object_position": null,
            "order": null,
            "overflow": null,
            "overflow_x": null,
            "overflow_y": null,
            "padding": null,
            "right": null,
            "top": null,
            "visibility": null,
            "width": null
          }
        },
        "aa3e6f01d10549e5b12ba5ef58dab5bb": {
          "model_module": "@jupyter-widgets/controls",
          "model_name": "SliderStyleModel",
          "model_module_version": "1.5.0",
          "state": {
            "_model_module": "@jupyter-widgets/controls",
            "_model_module_version": "1.5.0",
            "_model_name": "SliderStyleModel",
            "_view_count": null,
            "_view_module": "@jupyter-widgets/base",
            "_view_module_version": "1.2.0",
            "_view_name": "StyleView",
            "description_width": "",
            "handle_color": null
          }
        },
        "a8d1a6c3d43a4ff98782a631a9f37891": {
          "model_module": "@jupyter-widgets/base",
          "model_name": "LayoutModel",
          "model_module_version": "1.2.0",
          "state": {
            "_model_module": "@jupyter-widgets/base",
            "_model_module_version": "1.2.0",
            "_model_name": "LayoutModel",
            "_view_count": null,
            "_view_module": "@jupyter-widgets/base",
            "_view_module_version": "1.2.0",
            "_view_name": "LayoutView",
            "align_content": null,
            "align_items": null,
            "align_self": null,
            "border": null,
            "bottom": null,
            "display": null,
            "flex": null,
            "flex_flow": null,
            "grid_area": null,
            "grid_auto_columns": null,
            "grid_auto_flow": null,
            "grid_auto_rows": null,
            "grid_column": null,
            "grid_gap": null,
            "grid_row": null,
            "grid_template_areas": null,
            "grid_template_columns": null,
            "grid_template_rows": null,
            "height": null,
            "justify_content": null,
            "justify_items": null,
            "left": null,
            "margin": null,
            "max_height": null,
            "max_width": null,
            "min_height": null,
            "min_width": null,
            "object_fit": null,
            "object_position": null,
            "order": null,
            "overflow": null,
            "overflow_x": null,
            "overflow_y": null,
            "padding": null,
            "right": null,
            "top": null,
            "visibility": null,
            "width": null
          }
        }
      }
    }
  },
  "cells": [
    {
      "cell_type": "markdown",
      "metadata": {
        "id": "view-in-github",
        "colab_type": "text"
      },
      "source": [
        "<a href=\"https://colab.research.google.com/github/othoni-hub/ECG2/blob/main/Ch05_TD_Ex1_Appartements.ipynb\" target=\"_parent\"><img src=\"https://colab.research.google.com/assets/colab-badge.svg\" alt=\"Open In Colab\"/></a>"
      ]
    },
    {
      "cell_type": "markdown",
      "metadata": {
        "id": "9gRjJPolrmT_"
      },
      "source": [
        "# **CPGE-ECG2** \n"
      ]
    },
    {
      "cell_type": "markdown",
      "metadata": {
        "id": "Gprox7oVPE7W"
      },
      "source": [
        "\n",
        "\n",
        "## **Ch5 - Notebook : Statistiques bivariées : exercice \"Appartements\"**\n",
        "\n",
        "<img src=\"https://drive.google.com/uc?id=12Wo3LubGGT4qOvYFAuLP4CyCuwjKNVuk\" width=\"230\" height=\"150\" align = \"right\"/>\n",
        "\n",
        "\n",
        "\n",
        "\n",
        "**O.Thöni - Lycée Saint-Charles Sainte Croix - LE MANS**"
      ]
    },
    {
      "cell_type": "markdown",
      "source": [
        "## **Étude du prix des loyers constatés, selon la surface, dans une base d'appartements parisiens.**\n",
        "\n",
        "![\"au mieux\"…](https://poissonisfish.files.wordpress.com/2017/01/q7hip.gif?w=1108)\n",
        "\n"
      ],
      "metadata": {
        "id": "z-uv2jTIfNEh"
      }
    },
    {
      "cell_type": "markdown",
      "source": [
        "Les données sont importées depuis un fichier csv et stockées dans un dataFrame Pandas"
      ],
      "metadata": {
        "id": "YjDd1xQ7jcbg"
      }
    },
    {
      "cell_type": "code",
      "source": [
        "import pandas as pd\n",
        "import numpy as np\n"
      ],
      "metadata": {
        "id": "HqazpGmchJxI"
      },
      "execution_count": 1,
      "outputs": []
    },
    {
      "cell_type": "code",
      "source": [
        "url = \"https://raw.githubusercontent.com/othoni-hub/ECG2/main/APPART.csv\"\n",
        "# attention : import depuis Github : copier le \"raw-github-link\"\n",
        "df = pd.read_csv(url, sep = \" \") # le fichier importé est un fichier .csv, séparateur espace, converti en DataFrame Pandas\n",
        "df.head()"
      ],
      "metadata": {
        "colab": {
          "base_uri": "https://localhost:8080/",
          "height": 206
        },
        "id": "USLN2zXfZ5OU",
        "outputId": "c7328232-c666-42a0-b841-6d3041108aaa"
      },
      "execution_count": 2,
      "outputs": [
        {
          "output_type": "execute_result",
          "data": {
            "text/plain": [
              "   Surface  Loyer\n",
              "0       28    650\n",
              "1       50   1400\n",
              "2      106   3250\n",
              "3      196   4000\n",
              "4       55   1340"
            ],
            "text/html": [
              "\n",
              "  <div id=\"df-0d1f95ad-fe8e-4fd3-9f6e-ec3d58562671\">\n",
              "    <div class=\"colab-df-container\">\n",
              "      <div>\n",
              "<style scoped>\n",
              "    .dataframe tbody tr th:only-of-type {\n",
              "        vertical-align: middle;\n",
              "    }\n",
              "\n",
              "    .dataframe tbody tr th {\n",
              "        vertical-align: top;\n",
              "    }\n",
              "\n",
              "    .dataframe thead th {\n",
              "        text-align: right;\n",
              "    }\n",
              "</style>\n",
              "<table border=\"1\" class=\"dataframe\">\n",
              "  <thead>\n",
              "    <tr style=\"text-align: right;\">\n",
              "      <th></th>\n",
              "      <th>Surface</th>\n",
              "      <th>Loyer</th>\n",
              "    </tr>\n",
              "  </thead>\n",
              "  <tbody>\n",
              "    <tr>\n",
              "      <th>0</th>\n",
              "      <td>28</td>\n",
              "      <td>650</td>\n",
              "    </tr>\n",
              "    <tr>\n",
              "      <th>1</th>\n",
              "      <td>50</td>\n",
              "      <td>1400</td>\n",
              "    </tr>\n",
              "    <tr>\n",
              "      <th>2</th>\n",
              "      <td>106</td>\n",
              "      <td>3250</td>\n",
              "    </tr>\n",
              "    <tr>\n",
              "      <th>3</th>\n",
              "      <td>196</td>\n",
              "      <td>4000</td>\n",
              "    </tr>\n",
              "    <tr>\n",
              "      <th>4</th>\n",
              "      <td>55</td>\n",
              "      <td>1340</td>\n",
              "    </tr>\n",
              "  </tbody>\n",
              "</table>\n",
              "</div>\n",
              "      <button class=\"colab-df-convert\" onclick=\"convertToInteractive('df-0d1f95ad-fe8e-4fd3-9f6e-ec3d58562671')\"\n",
              "              title=\"Convert this dataframe to an interactive table.\"\n",
              "              style=\"display:none;\">\n",
              "        \n",
              "  <svg xmlns=\"http://www.w3.org/2000/svg\" height=\"24px\"viewBox=\"0 0 24 24\"\n",
              "       width=\"24px\">\n",
              "    <path d=\"M0 0h24v24H0V0z\" fill=\"none\"/>\n",
              "    <path d=\"M18.56 5.44l.94 2.06.94-2.06 2.06-.94-2.06-.94-.94-2.06-.94 2.06-2.06.94zm-11 1L8.5 8.5l.94-2.06 2.06-.94-2.06-.94L8.5 2.5l-.94 2.06-2.06.94zm10 10l.94 2.06.94-2.06 2.06-.94-2.06-.94-.94-2.06-.94 2.06-2.06.94z\"/><path d=\"M17.41 7.96l-1.37-1.37c-.4-.4-.92-.59-1.43-.59-.52 0-1.04.2-1.43.59L10.3 9.45l-7.72 7.72c-.78.78-.78 2.05 0 2.83L4 21.41c.39.39.9.59 1.41.59.51 0 1.02-.2 1.41-.59l7.78-7.78 2.81-2.81c.8-.78.8-2.07 0-2.86zM5.41 20L4 18.59l7.72-7.72 1.47 1.35L5.41 20z\"/>\n",
              "  </svg>\n",
              "      </button>\n",
              "      \n",
              "  <style>\n",
              "    .colab-df-container {\n",
              "      display:flex;\n",
              "      flex-wrap:wrap;\n",
              "      gap: 12px;\n",
              "    }\n",
              "\n",
              "    .colab-df-convert {\n",
              "      background-color: #E8F0FE;\n",
              "      border: none;\n",
              "      border-radius: 50%;\n",
              "      cursor: pointer;\n",
              "      display: none;\n",
              "      fill: #1967D2;\n",
              "      height: 32px;\n",
              "      padding: 0 0 0 0;\n",
              "      width: 32px;\n",
              "    }\n",
              "\n",
              "    .colab-df-convert:hover {\n",
              "      background-color: #E2EBFA;\n",
              "      box-shadow: 0px 1px 2px rgba(60, 64, 67, 0.3), 0px 1px 3px 1px rgba(60, 64, 67, 0.15);\n",
              "      fill: #174EA6;\n",
              "    }\n",
              "\n",
              "    [theme=dark] .colab-df-convert {\n",
              "      background-color: #3B4455;\n",
              "      fill: #D2E3FC;\n",
              "    }\n",
              "\n",
              "    [theme=dark] .colab-df-convert:hover {\n",
              "      background-color: #434B5C;\n",
              "      box-shadow: 0px 1px 3px 1px rgba(0, 0, 0, 0.15);\n",
              "      filter: drop-shadow(0px 1px 2px rgba(0, 0, 0, 0.3));\n",
              "      fill: #FFFFFF;\n",
              "    }\n",
              "  </style>\n",
              "\n",
              "      <script>\n",
              "        const buttonEl =\n",
              "          document.querySelector('#df-0d1f95ad-fe8e-4fd3-9f6e-ec3d58562671 button.colab-df-convert');\n",
              "        buttonEl.style.display =\n",
              "          google.colab.kernel.accessAllowed ? 'block' : 'none';\n",
              "\n",
              "        async function convertToInteractive(key) {\n",
              "          const element = document.querySelector('#df-0d1f95ad-fe8e-4fd3-9f6e-ec3d58562671');\n",
              "          const dataTable =\n",
              "            await google.colab.kernel.invokeFunction('convertToInteractive',\n",
              "                                                     [key], {});\n",
              "          if (!dataTable) return;\n",
              "\n",
              "          const docLinkHtml = 'Like what you see? Visit the ' +\n",
              "            '<a target=\"_blank\" href=https://colab.research.google.com/notebooks/data_table.ipynb>data table notebook</a>'\n",
              "            + ' to learn more about interactive tables.';\n",
              "          element.innerHTML = '';\n",
              "          dataTable['output_type'] = 'display_data';\n",
              "          await google.colab.output.renderOutput(dataTable, element);\n",
              "          const docLink = document.createElement('div');\n",
              "          docLink.innerHTML = docLinkHtml;\n",
              "          element.appendChild(docLink);\n",
              "        }\n",
              "      </script>\n",
              "    </div>\n",
              "  </div>\n",
              "  "
            ]
          },
          "metadata": {},
          "execution_count": 2
        }
      ]
    },
    {
      "cell_type": "code",
      "source": [
        "surfaces = df['Surface']\n",
        "loyers = df['Loyer']"
      ],
      "metadata": {
        "id": "_1oAg5YpiMbi"
      },
      "execution_count": 3,
      "outputs": []
    },
    {
      "cell_type": "code",
      "source": [
        "surfaces\n"
      ],
      "metadata": {
        "colab": {
          "base_uri": "https://localhost:8080/"
        },
        "id": "G5GEAnwojqsv",
        "outputId": "c136d83f-a2f9-4d47-e797-e492707127e5"
      },
      "execution_count": 4,
      "outputs": [
        {
          "output_type": "execute_result",
          "data": {
            "text/plain": [
              "0      28\n",
              "1      50\n",
              "2     106\n",
              "3     196\n",
              "4      55\n",
              "5     190\n",
              "6     110\n",
              "7      60\n",
              "8      48\n",
              "9      35\n",
              "10     86\n",
              "11     65\n",
              "12     32\n",
              "13     52\n",
              "14     40\n",
              "15    260\n",
              "16     70\n",
              "17    117\n",
              "18     90\n",
              "19     30\n",
              "20    105\n",
              "21     52\n",
              "22     80\n",
              "23     60\n",
              "24    140\n",
              "25     20\n",
              "26    100\n",
              "27     28\n",
              "Name: Surface, dtype: int64"
            ]
          },
          "metadata": {},
          "execution_count": 4
        }
      ]
    },
    {
      "cell_type": "markdown",
      "source": [
        "### **Calcul du point moyen**"
      ],
      "metadata": {
        "id": "q-0_5eGAzg1i"
      }
    },
    {
      "cell_type": "code",
      "source": [
        "x_bar = np.mean(surfaces)\n",
        "x_bar"
      ],
      "metadata": {
        "colab": {
          "base_uri": "https://localhost:8080/"
        },
        "id": "fyWeQSkGzrhO",
        "outputId": "777f2039-bef6-4389-a09a-9e49fdda867f"
      },
      "execution_count": 5,
      "outputs": [
        {
          "output_type": "execute_result",
          "data": {
            "text/plain": [
              "82.32142857142857"
            ]
          },
          "metadata": {},
          "execution_count": 5
        }
      ]
    },
    {
      "cell_type": "code",
      "source": [
        "y_bar = np.mean(loyers)\n",
        "y_bar"
      ],
      "metadata": {
        "colab": {
          "base_uri": "https://localhost:8080/"
        },
        "id": "f80CS4QS0BRz",
        "outputId": "ef223d0d-40e2-431b-c60e-ba7dbdcd54c5"
      },
      "execution_count": 6,
      "outputs": [
        {
          "output_type": "execute_result",
          "data": {
            "text/plain": [
              "2056.0714285714284"
            ]
          },
          "metadata": {},
          "execution_count": 6
        }
      ]
    },
    {
      "cell_type": "markdown",
      "source": [
        "### **visualisation du nuage de points**"
      ],
      "metadata": {
        "id": "EZ1rjHn7hFw5"
      }
    },
    {
      "cell_type": "code",
      "metadata": {
        "id": "mfJHevMZg7MK"
      },
      "source": [
        "import matplotlib.pyplot as plt     # matplotlib.pyplot permet de réaliser des graphiques"
      ],
      "execution_count": 7,
      "outputs": []
    },
    {
      "cell_type": "code",
      "source": [
        "def centrax(xmin, xmax, ymin, ymax, titre, legende = [], axe_x = \"\", axe_y = \"\"):\n",
        "    '''Cette procédure ajuste les paramètres graphiques : fenêtre (xmin, xmax, ymin, ymax), titre, légende (vide par défaut)'''\n",
        "    # ajustement des paramètres des axes (centrage, couleur, etc.)\n",
        "    ax = plt.gca()\n",
        "    ax.spines['left'].set_position('zero')\n",
        "    ax.spines['right'].set_color('none')\n",
        "    ax.spines['bottom'].set_position('zero')\n",
        "    ax.spines['top'].set_color('none')\n",
        "    ax.legend(legende, loc = 'best')\n",
        "\n",
        "    plt.xlim(xmin,xmax)   \n",
        "    plt.ylim(ymin,ymax)         # fenêtre d'affichage\n",
        "    plt.title(titre)            # titre du graphique au format LaTeX (encadré par des $)\n",
        "    plt.xlabel(axe_x)           # nom des axes\n",
        "    plt.ylabel(axe_y)\n",
        "\n",
        "    plt.show()"
      ],
      "metadata": {
        "id": "GhCIx0xKn5Tu"
      },
      "execution_count": 8,
      "outputs": []
    },
    {
      "cell_type": "code",
      "source": [
        "# paramètres graphiques\n",
        "xmin = -1\n",
        "xmax = max(surfaces)\n",
        "ymin = -1\n",
        "ymax = max(loyers)\n",
        "titre = \"Prix des loyers constatés selon la surface de l'appartement\"\n",
        "axe_x = \"Surfaces (m²)\"\n",
        "axe_y = \"Prix des loyers (€)\"\n",
        "\n"
      ],
      "metadata": {
        "id": "UBhpUdIXhJ1t"
      },
      "execution_count": 9,
      "outputs": []
    },
    {
      "cell_type": "code",
      "source": [
        "plt.scatter(surfaces,loyers,marker ='+',color = 'red')  # représentation graphique du nuage de points\n",
        "plt.scatter(x_bar,y_bar,marker = \"v\", color = \"blue\")   # placement du point moyen\n",
        "legende=['nuage de points', 'point moyen']\n",
        "centrax(xmin, xmax, ymin, ymax, titre, legende, axe_x, axe_y)"
      ],
      "metadata": {
        "colab": {
          "base_uri": "https://localhost:8080/",
          "height": 295
        },
        "id": "nebhyKVxpGbW",
        "outputId": "87dd37e8-3423-4a30-8115-fe5b84e029a4"
      },
      "execution_count": 10,
      "outputs": [
        {
          "output_type": "display_data",
          "data": {
            "text/plain": [
              "<Figure size 432x288 with 1 Axes>"
            ],
            "image/png": "[encoded data removed]"
          },
          "metadata": {
            "needs_background": "light"
          }
        }
      ]
    },
    {
      "cell_type": "markdown",
      "source": [
        "On constate que le nuage de points est plutôt rectiligne, ce qui justifie l'emploi d'un ajustement **linéaire**, par la méthode des moindres carrés."
      ],
      "metadata": {
        "id": "xsdKSrMKkoLk"
      }
    },
    {
      "cell_type": "code",
      "source": [
        "def droite(xx,a,b) :\n",
        "    '''Cette fonction reçoit un vecteur d'abscisse, un coefficient directeur a et une ordonnée à l'origine b\n",
        "    et trace la droite y = ax + b'''\n",
        "    yy = [a*x + b for x in xx]\n",
        "    plt.plot(xx,yy,color  ='blue', linewidth = 0.5)"
      ],
      "metadata": {
        "id": "GXs0sNghlWTp"
      },
      "execution_count": 11,
      "outputs": []
    },
    {
      "cell_type": "markdown",
      "source": [
        "**ajustement \"au doigt mouillé\"**\n",
        "\n",
        "* On fixe \"au pifomètre\" une équation de droite d'ajustement"
      ],
      "metadata": {
        "id": "QELFQDwMtXsY"
      }
    },
    {
      "cell_type": "code",
      "source": [
        "xx = [xmin,xmax]\n",
        "a = 20\n",
        "b = 0\n",
        "\n",
        "plt.scatter(surfaces,loyers,marker ='+',color = 'red')  # représentation graphique du nuage de points\n",
        "plt.scatter(x_bar,y_bar,marker = \"v\", color = \"blue\")   # placement du point moyen\n",
        "droite(xx,a,b)\n",
        "\n",
        "legende=[\"droite d'ajustement\",'nuage de points', 'point moyen']\n",
        "centrax(xmin, xmax, ymin, ymax, titre, legende, axe_x, axe_y)"
      ],
      "metadata": {
        "colab": {
          "base_uri": "https://localhost:8080/",
          "height": 295
        },
        "id": "iEYixQOapoL4",
        "outputId": "995af320-6d35-4bae-f030-18e91c73e58a"
      },
      "execution_count": 12,
      "outputs": [
        {
          "output_type": "display_data",
          "data": {
            "text/plain": [
              "<Figure size 432x288 with 1 Axes>"
            ],
            "image/png": "[encoded data removed]"
          },
          "metadata": {
            "needs_background": "light"
          }
        }
      ]
    },
    {
      "cell_type": "markdown",
      "source": [
        "* On calcule les prix ajustés, c'est-à-dire si l'on remplace le loyer réel constaté par l'ordonnée du point de la droite ayant la même abscisse."
      ],
      "metadata": {
        "id": "YWK5X-3Xt0a-"
      }
    },
    {
      "cell_type": "code",
      "source": [
        "def y_ajuste(xx,a,b):\n",
        "    '''Cette fonction reçoit une liste xx, les coeeficients caractéristiques de la droite de régression\n",
        "    et renvoie la liste des ordonnées ajustées sur cette droite'''\n",
        "    yy = [a*x + b for x in xx]\n",
        "    return yy"
      ],
      "metadata": {
        "id": "wbnylyjjpqUb"
      },
      "execution_count": 13,
      "outputs": []
    },
    {
      "cell_type": "code",
      "source": [
        "prix_ajustes = y_ajuste(surfaces,a,b)\n",
        "prix_ajustes"
      ],
      "metadata": {
        "colab": {
          "base_uri": "https://localhost:8080/"
        },
        "id": "4GpUY7yMr_Zx",
        "outputId": "9689651e-e8df-43aa-b8fc-dbfbd7dcb271"
      },
      "execution_count": 14,
      "outputs": [
        {
          "output_type": "execute_result",
          "data": {
            "text/plain": [
              "[560,\n",
              " 1000,\n",
              " 2120,\n",
              " 3920,\n",
              " 1100,\n",
              " 3800,\n",
              " 2200,\n",
              " 1200,\n",
              " 960,\n",
              " 700,\n",
              " 1720,\n",
              " 1300,\n",
              " 640,\n",
              " 1040,\n",
              " 800,\n",
              " 5200,\n",
              " 1400,\n",
              " 2340,\n",
              " 1800,\n",
              " 600,\n",
              " 2100,\n",
              " 1040,\n",
              " 1600,\n",
              " 1200,\n",
              " 2800,\n",
              " 400,\n",
              " 2000,\n",
              " 560]"
            ]
          },
          "metadata": {},
          "execution_count": 14
        }
      ]
    },
    {
      "cell_type": "code",
      "source": [
        "plt.scatter(surfaces,loyers,marker ='+',color = 'red')        # nuage de points\n",
        "droite(xx,a,b)                                                          # droite d'ajustement\n",
        "plt.scatter(x_bar,y_bar,marker = \"v\", color = \"blue\")                   # point moyen du nuage\n",
        "plt.scatter(surfaces,prix_ajustes,marker ='o',color = 'green')   # volumes ajustés sur la droite\n",
        "\n",
        "legende=[\"droite d'ajustement\",'nuage de points','point moyen', 'loyers ajustés']\n",
        "centrax(xmin, xmax, ymin, ymax, titre, legende, axe_x, axe_y)"
      ],
      "metadata": {
        "colab": {
          "base_uri": "https://localhost:8080/",
          "height": 295
        },
        "id": "zh7-jBbXsNq5",
        "outputId": "d03d4ad6-e6da-40b1-adf7-f9c180b46f53"
      },
      "execution_count": 15,
      "outputs": [
        {
          "output_type": "display_data",
          "data": {
            "text/plain": [
              "<Figure size 432x288 with 1 Axes>"
            ],
            "image/png": "[encoded data removed]"
          },
          "metadata": {
            "needs_background": "light"
          }
        }
      ]
    },
    {
      "cell_type": "markdown",
      "source": [
        "* On calcule les **\"résidus\"** verticaux, c'est-à-dire la somme des carrés des distances entre les volumes réels constatés et les volumes ajustés."
      ],
      "metadata": {
        "id": "4N8VrBQXuIcA"
      }
    },
    {
      "cell_type": "code",
      "source": [
        "def residus(y_reels,y_ajustes) : \n",
        "    '''Cette fonction reçoit deux listes : y_reels et y_ajustes, \n",
        "    et renvoie le \"résidu\" d'ajustement de la 1ère par la 2nde'''\n",
        "    res = sum([(y_reels[k] - y_ajustes[k])**2 for k in range(len(y_reels))])\n",
        "    return res"
      ],
      "metadata": {
        "id": "vR9udhvctKnx"
      },
      "execution_count": 16,
      "outputs": []
    },
    {
      "cell_type": "code",
      "source": [
        "residus(loyers,prix_ajustes)"
      ],
      "metadata": {
        "colab": {
          "base_uri": "https://localhost:8080/"
        },
        "id": "3BxmuXQ3vQvZ",
        "outputId": "6eba2738-0516-4fe2-b633-741e02109cc8"
      },
      "execution_count": 17,
      "outputs": [
        {
          "output_type": "execute_result",
          "data": {
            "text/plain": [
              "18559700"
            ]
          },
          "metadata": {},
          "execution_count": 17
        }
      ]
    },
    {
      "cell_type": "markdown",
      "source": [
        "* on peut visualiser ces résidus"
      ],
      "metadata": {
        "id": "lrtTwCjRvwqs"
      }
    },
    {
      "cell_type": "code",
      "source": [
        "plt.scatter(surfaces,loyers,marker ='+',color = 'red')        # nuage de points\n",
        "droite(xx,a,b)                                                          # droite d'ajustement\n",
        "plt.scatter(x_bar,y_bar,marker = \"v\", color = \"blue\")                   # point moyen du nuage\n",
        "plt.scatter(surfaces,prix_ajustes,marker ='o',color = 'green')   # volumes ajustés sur la droite\n",
        "plt.plot([surfaces, surfaces],[loyers,prix_ajustes], color = \"black\", linewidth = 0.3)\n",
        "\n",
        "centrax(xmin, xmax, ymin, ymax, titre,\"\",axe_x,axe_y)"
      ],
      "metadata": {
        "colab": {
          "base_uri": "https://localhost:8080/",
          "height": 295
        },
        "id": "-Svo8OHAvcza",
        "outputId": "05f877b7-e0bb-403c-aea7-8c57464746a3"
      },
      "execution_count": 18,
      "outputs": [
        {
          "output_type": "display_data",
          "data": {
            "text/plain": [
              "<Figure size 432x288 with 1 Axes>"
            ],
            "image/png": "[encoded data removed]"
          },
          "metadata": {
            "needs_background": "light"
          }
        }
      ]
    },
    {
      "cell_type": "markdown",
      "source": [
        "## **graphique interactif**\n",
        "\n"
      ],
      "metadata": {
        "id": "MWZZo8DfeOZT"
      }
    },
    {
      "cell_type": "code",
      "source": [
        "from ipywidgets import interact\n",
        "from IPython.display import display\n",
        "\n",
        "import matplotlib.pyplot as plt\n",
        "import numpy as np\n",
        "%matplotlib inline"
      ],
      "metadata": {
        "id": "5c-nwCzzeWpw"
      },
      "execution_count": 19,
      "outputs": []
    },
    {
      "cell_type": "markdown",
      "source": [
        "Intéragir sur les curseurs pour minimiser le résidu R affiché en haut à gauche."
      ],
      "metadata": {
        "id": "3vzL_0x2p9Pj"
      }
    },
    {
      "cell_type": "code",
      "source": [
        "\n",
        "def graph_interactif( a,b):\n",
        "    prix_ajustes = y_ajuste(surfaces,a,b)\n",
        "    \n",
        "    plt.scatter(surfaces,loyers,marker ='+',color = 'red')        # nuage de points\n",
        "    xx = [xmin,xmax]\n",
        "    droite(xx,a,b)                                                # droite d'ajustement\n",
        "    plt.scatter(x_bar,y_bar,marker = \"v\", color = \"blue\")         # point moyen du nuage\n",
        "    plt.scatter(surfaces,prix_ajustes,marker ='o',color = 'green')# volumes ajustés sur la droite\n",
        "\n",
        "    res = residus(loyers,prix_ajustes)\n",
        "\n",
        "interact(graph_interactif, a = (-50, 50, 0.5), b = (-500, 500,20))"
      ],
      "metadata": {
        "colab": {
          "base_uri": "https://localhost:8080/",
          "height": 346,
          "referenced_widgets": [
            "b6cbfbddc9e14b13aaf106458ff698d8",
            "79a07708c5e04401b60ac1e66bf75777",
            "180ea5e40e3a4054bcf8bf88cdc1ef3f",
            "12065b9d5f6a492989c35089984e5928",
            "31408745f6504327bf9e4910fcf466fa",
            "06f20bbd87874de89a2b83f437d91044",
            "e9521edaf0e94c79a065f94ea081b03c",
            "c1af4838c77c40cdab70edd105cef959",
            "aa3e6f01d10549e5b12ba5ef58dab5bb",
            "a8d1a6c3d43a4ff98782a631a9f37891"
          ]
        },
        "id": "53od6g6ZebxV",
        "outputId": "2d1cd220-be76-4539-f3e5-72493cfa90e1"
      },
      "execution_count": 20,
      "outputs": [
        {
          "output_type": "display_data",
          "data": {
            "text/plain": [
              "interactive(children=(FloatSlider(value=0.0, description='a', max=50.0, min=-50.0, step=0.5), IntSlider(value=…"
            ],
            "application/vnd.jupyter.widget-view+json": {
              "version_major": 2,
              "version_minor": 0,
              "model_id": "b6cbfbddc9e14b13aaf106458ff698d8"
            }
          },
          "metadata": {}
        },
        {
          "output_type": "execute_result",
          "data": {
            "text/plain": [
              "<function __main__.graph_interactif>"
            ]
          },
          "metadata": {},
          "execution_count": 20
        }
      ]
    },
    {
      "cell_type": "markdown",
      "source": [
        "## **Calcul de la droite d'ajustement linéaire, droite de régression du prix des loyers en la surface**\n",
        "\n",
        "**rappels**\n",
        "* **covariance empirique :** \n",
        "\n",
        "$$s_{XY} = \\frac{1}{n} \\sum_{i = 1}^{n} \\left ( x_i - \\bar{x}\\right)\\left ( xy_i - \\bar{y}\\right)$$\n",
        "\n",
        "* **coefficient directeur de la droite e Y en X :**\n",
        "\n",
        "$$ a = \\frac{s_{XY}}{\\sigma^2(X)}$$\n",
        "\n",
        "* **ordonnée à l'origine de la droite de régression de Y en X**\n",
        "\n",
        "$$ b = \\bar{y} - a . \\bar{x}$$\n",
        "\n",
        "* **équation de la droite de régression de Y en X :**\n",
        "\n",
        "$$y = a . x + b$$"
      ],
      "metadata": {
        "id": "xENNSgcnyvDY"
      }
    },
    {
      "cell_type": "code",
      "source": [
        "def covariance_empirique(x,y) :\n",
        "    '''Cette fonction reçoit deux listes x et y, de même taille, \n",
        "    et renvoie la covariance de ces deux listes\n",
        "    Remarque : si x = y, on obtient la variance de x.'''\n",
        "    xbar = np.mean(x)\n",
        "    ybar = np.mean(y)\n",
        "    n = len(x)\n",
        "\n",
        "    s_XY = 1/n * sum([(x[k] - xbar)*(y[k] - ybar) for k in range(n)])\n",
        "    return s_XY"
      ],
      "metadata": {
        "id": "-oHPMfg0wMU1"
      },
      "execution_count": 21,
      "outputs": []
    },
    {
      "cell_type": "code",
      "source": [
        "s_XY = covariance_empirique(surfaces, loyers)\n",
        "s_XY"
      ],
      "metadata": {
        "colab": {
          "base_uri": "https://localhost:8080/"
        },
        "id": "kD0ocPzFFyiX",
        "outputId": "0c364349-d69e-41d6-e432-221f62badb5b"
      },
      "execution_count": 22,
      "outputs": [
        {
          "output_type": "execute_result",
          "data": {
            "text/plain": [
              "84302.86989795917"
            ]
          },
          "metadata": {},
          "execution_count": 22
        }
      ]
    },
    {
      "cell_type": "code",
      "source": [
        "def coeff_droite_regression(x,y):\n",
        "    '''Cette fonction reçoit deux listes x et y de même taille,\n",
        "    et renvoie les coefficients de la droite d'ajustemennt de y en x'''\n",
        "    xbar = np.mean(x)\n",
        "    ybar = np.mean(y)\n",
        "\n",
        "    # pente\n",
        "    a = covariance_empirique(x, y) / covariance_empirique(x, x)\n",
        "    # ordonnée à l'origine\n",
        "    b = ybar - a * xbar\n",
        "    return a, b"
      ],
      "metadata": {
        "id": "jPCsqQ-TGMn8"
      },
      "execution_count": 23,
      "outputs": []
    },
    {
      "cell_type": "code",
      "source": [
        "a,b = coeff_droite_regression(surfaces, loyers)\n",
        "print('Équation de la droite de régression de Y en X : y=' + str(a) + '.x + ' + str(b))"
      ],
      "metadata": {
        "colab": {
          "base_uri": "https://localhost:8080/"
        },
        "id": "nHPZWySHG9xU",
        "outputId": "20bd5826-8265-4139-b249-06c613a23843"
      },
      "execution_count": 24,
      "outputs": [
        {
          "output_type": "stream",
          "name": "stdout",
          "text": [
            "Équation de la droite de régression de Y en X : y=26.765817999508364.x + -147.32894603095656\n"
          ]
        }
      ]
    },
    {
      "cell_type": "markdown",
      "source": [
        "**Représentation graphique**"
      ],
      "metadata": {
        "id": "9baucCK3HV68"
      }
    },
    {
      "cell_type": "code",
      "source": [
        "prix_ajustes = y_ajuste(surfaces,a,b)\n",
        "#prix_ajustes"
      ],
      "metadata": {
        "id": "WE23-kv0H3ZO"
      },
      "execution_count": 25,
      "outputs": []
    },
    {
      "cell_type": "code",
      "source": [
        "plt.scatter(surfaces,loyers,marker ='+',color = 'red')                  # nuage de points\n",
        "droite(xx,a,b)                                                          # droite d'ajustement\n",
        "plt.scatter(x_bar,y_bar,marker = \"v\", color = \"blue\")                   # point moyen du nuage\n",
        "plt.scatter(surfaces,prix_ajustes,marker ='o',color = 'green')          # prix ajustés sur la droite\n",
        "\n",
        "legende=[\"droite d'ajustement\",'nuage de points','point moyen', 'prix ajustés']\n",
        "centrax(xmin, xmax, ymin, ymax, titre, legende, axe_x, axe_y)"
      ],
      "metadata": {
        "colab": {
          "base_uri": "https://localhost:8080/",
          "height": 295
        },
        "id": "at6uSsdhHgxg",
        "outputId": "185a92d9-afd1-4ab0-d374-5da853549a97"
      },
      "execution_count": 26,
      "outputs": [
        {
          "output_type": "display_data",
          "data": {
            "text/plain": [
              "<Figure size 432x288 with 1 Axes>"
            ],
            "image/png": "[encoded data removed]"
          },
          "metadata": {
            "needs_background": "light"
          }
        }
      ]
    },
    {
      "cell_type": "markdown",
      "source": [
        "On observe que la droite de régression de Y en X passe bien par le point moyen !"
      ],
      "metadata": {
        "id": "DKS8dLEFHjyt"
      }
    },
    {
      "cell_type": "code",
      "source": [
        "residus(loyers,prix_ajustes)"
      ],
      "metadata": {
        "colab": {
          "base_uri": "https://localhost:8080/"
        },
        "id": "EJhARkYkHiCI",
        "outputId": "b797bf2a-aa38-4daf-88b1-631af9700129"
      },
      "execution_count": 27,
      "outputs": [
        {
          "output_type": "execute_result",
          "data": {
            "text/plain": [
              "9824080.226442628"
            ]
          },
          "metadata": {},
          "execution_count": 27
        }
      ]
    },
    {
      "cell_type": "markdown",
      "source": [
        "On a optimisé ces résidus."
      ],
      "metadata": {
        "id": "Ov2-fKhaILBt"
      }
    },
    {
      "cell_type": "markdown",
      "source": [
        "### **Interpolation et extrapolations linéaires**\n",
        "\n",
        "* Par interpolation, indiquer le prix du loyer à prévoir pour une surface de 250 m². \n",
        "\n"
      ],
      "metadata": {
        "id": "9BkhUhLzISN_"
      }
    },
    {
      "cell_type": "code",
      "source": [
        "x = 250\n",
        "y = a*x + b\n",
        "print(\"Pour un appartement de \" + str(x) + \" m², prévoir un loyer de : \" + str(np.round(y*100)/100) + ' €')"
      ],
      "metadata": {
        "colab": {
          "base_uri": "https://localhost:8080/"
        },
        "id": "nVkPoHGQItNZ",
        "outputId": "4798f7d0-9f43-4c84-b8b2-9cd5fa5d36e5"
      },
      "execution_count": 28,
      "outputs": [
        {
          "output_type": "stream",
          "name": "stdout",
          "text": [
            "Pour un appartement de 250 m², prévoir un loyer de : 6544.13 €\n"
          ]
        }
      ]
    },
    {
      "cell_type": "markdown",
      "source": [
        "### **Regression de la surface en le prix du loyer**\n",
        "\n",
        "Il nous faut calculer l'autre droite de regression, car les résidus sont cette fois pris horizontalement."
      ],
      "metadata": {
        "id": "l4v7ANyTUmEw"
      }
    },
    {
      "cell_type": "code",
      "source": [
        "a,b = coeff_droite_regression(loyers, surfaces)\n",
        "a_prim = 1/a\n",
        "b_prim = y_bar - a_prim * x_bar\n",
        "print('Équation de la droite de régression de Y en X : y=' + str(a_prim) + '.x + ' + str(b_prim))\n"
      ],
      "metadata": {
        "id": "N00UqRTYJLAG",
        "colab": {
          "base_uri": "https://localhost:8080/"
        },
        "outputId": "0bd92ec1-d9fe-4b12-e2a2-0e5c4e3a6ef2"
      },
      "execution_count": 29,
      "outputs": [
        {
          "output_type": "stream",
          "name": "stdout",
          "text": [
            "Équation de la droite de régression de Y en X : y=30.927716740463694.x + -489.94239595602903\n"
          ]
        }
      ]
    },
    {
      "cell_type": "code",
      "source": [
        "y = 5000\n",
        "x = (y - b_prim) / a_prim\n",
        "print(\"Pour un loyer de : \" + str(np.round(y*100)/100) + ' €, on peut espérer un appartement de ' + str(np.round(x)) + \" m².\")"
      ],
      "metadata": {
        "colab": {
          "base_uri": "https://localhost:8080/"
        },
        "id": "_DYfk6PsXuy4",
        "outputId": "166c6f5a-a6cb-48b3-867b-49adc6af26b4"
      },
      "execution_count": 30,
      "outputs": [
        {
          "output_type": "stream",
          "name": "stdout",
          "text": [
            "Pour un loyer de : 5000.0 €, on peut espérer un appartement de 178.0 m².\n"
          ]
        }
      ]
    },
    {
      "cell_type": "markdown",
      "source": [
        "# **Intelligence artificielle : Calcul de la droite de regression par une descente de gradient**\n",
        "\n",
        "* les données"
      ],
      "metadata": {
        "id": "oVYUBFI2rZb8"
      }
    },
    {
      "cell_type": "code",
      "source": [
        "# Fabrique le numpy array X, contenant les valeurs de Surface.\n",
        "# et le vecteur de sortie y, contenant les valeurs de Loyer.\n",
        "X = np.array(surfaces)\n",
        "y = np.array(loyers)\n",
        "\n",
        "m = len(X)"
      ],
      "metadata": {
        "id": "BRH_eAhexqpH"
      },
      "execution_count": 31,
      "outputs": []
    },
    {
      "cell_type": "markdown",
      "source": [
        "* création du modèle"
      ],
      "metadata": {
        "id": "9HE-2HybxwvE"
      }
    },
    {
      "cell_type": "code",
      "metadata": {
        "id": "z3klN3VIAC6o"
      },
      "source": [
        "def predict(w, b, X):\n",
        "    \"\"\" A method that runs our linear model\n",
        "    w : np.ndarray (1, num_dimensions)\n",
        "        A weight matrix which will be fit to the data\n",
        "    b : float (1, 1)\n",
        "        The bias unit for our linear model\n",
        "    X : np.ndarray (num_dimensions, num_examples)\n",
        "        The m input examples for which we would like to predict a y value\n",
        "    \"\"\"\n",
        "    return w * X + b\n",
        " \n"
      ],
      "execution_count": 32,
      "outputs": []
    },
    {
      "cell_type": "markdown",
      "source": [
        "* coût (erreur ou *loss*)"
      ],
      "metadata": {
        "id": "9OgE4HX-vGvv"
      }
    },
    {
      "cell_type": "code",
      "metadata": {
        "id": "wIBhLEFLAdrI"
      },
      "source": [
        "def cost(y, y_pred):\n",
        "    \"\"\"\n",
        "    y : np.ndarray (num_examples, 1)\n",
        "        The ground truth results\n",
        "    y_pred : np.ndarray (num_examples, 1)\n",
        "    \"\"\"\n",
        "    return np.sqrt(((y_pred - y) ** 2).mean())\n"
      ],
      "execution_count": 33,
      "outputs": []
    },
    {
      "cell_type": "markdown",
      "metadata": {
        "id": "l3EAGnHcefK9"
      },
      "source": [
        "### **Implémentation de la descente de gradient**\n",
        "On veut observer l'effet d'une variation des paramètres sur le coût, en mathématiques, cela s'appelle calculer la dérivée de la fonction de coût ! (pas compliquée ici puisqu'on dérive un carré...)\n",
        "\n",
        "![Formule de la descente de gradient](https://drive.google.com/uc?id=1TaSb_ce-rny-1asU3YNQFDA-6Q6uwKpB)\n",
        "\n",
        "a (alpha) désigne le **\"taux d'apprentissage\"** (*Learning Ratio*), trop lent, on ne convergera pas assez vers la solution optimale, trop rapide, on oscillera autour..."
      ]
    },
    {
      "cell_type": "markdown",
      "metadata": {
        "id": "5HLptlxMA5Jj"
      },
      "source": [
        "* Le gradient"
      ]
    },
    {
      "cell_type": "code",
      "metadata": {
        "id": "07n-vVaEA0Ne"
      },
      "source": [
        "def gradient(X, y, y_pred):\n",
        "    \"\"\"\n",
        "    X : np.ndarray (num_dimensions, num_examples)\n",
        "        The m input examples for which we would like to predict a y value\n",
        "    y : np.ndarray (num_examples, 1)\n",
        "        The ground truth results\n",
        "    y_pred : np.ndarray (num_examples, 1)\n",
        "        Our model's predictions\n",
        "    \"\"\"\n",
        "    dw = ((y_pred - y) * X).mean()/cost(y,y_pred)\n",
        "    db = (y_pred - y).mean()/cost(y,y_pred)\n",
        "    return dw, db\n",
        " \n"
      ],
      "execution_count": 41,
      "outputs": []
    },
    {
      "cell_type": "markdown",
      "metadata": {
        "id": "hWhfzNumBKKI"
      },
      "source": [
        "* L'optimisation par descente de gradient\n"
      ]
    },
    {
      "cell_type": "code",
      "metadata": {
        "id": "iVV2A7G4BAVW"
      },
      "source": [
        "def gradient_descent(X, y, w, b, epochs, learning_ratio):\n",
        "    \"\"\"\n",
        "    X : np.ndarray (num_dimensions, num_examples)\n",
        "        The m input examples for which we would like to predict a y value\n",
        "    y : np.ndarray (num_examples, 1)\n",
        "        The ground truth results\n",
        "    w : np.ndarray (1, num_dimensions)\n",
        "        A weight matrix which will be fit to the data\n",
        "    b : float\n",
        "        The bias unit for our linear model\n",
        "    epochs : int\n",
        "        The number of times our model iterates over the entire training set\n",
        "    learning_rate : float\n",
        "        The rate at which our model tends to adjust it's parameters\n",
        "    \"\"\"\n",
        "\n",
        "    for i in range(epochs):\n",
        "        # predict the value of y with our current model\n",
        "        y_pred = predict(w, b, X)\n",
        "        \n",
        "        # compute the gradient with respect to w and b\n",
        "        dw, db = gradient(X, y, y_pred)\n",
        "        \n",
        "        # adjust w and b as to minimize the cost function\n",
        "        w = w - learning_ratio * dw\n",
        "        b = b - learning_ratio * db\n",
        "\n",
        "        # cost\n",
        "        l = cost(y,y_pred)\n",
        "        loss_history.append(l)\n",
        "        w_history.append(w)\n",
        "        b_history.append(b)\n",
        "        absc.append(i)\n",
        "\n",
        "    return w, b\n"
      ],
      "execution_count": 42,
      "outputs": []
    },
    {
      "cell_type": "markdown",
      "metadata": {
        "id": "omtTP1_pAtEY"
      },
      "source": [
        "* Initialisation des paramètres"
      ]
    },
    {
      "cell_type": "code",
      "metadata": {
        "id": "Zu782EHMAvmm"
      },
      "source": [
        "def initialize_parameters(n):\n",
        "    \"\"\"\n",
        "    n : int\n",
        "        The dimensions of the data\n",
        "    \"\"\"\n",
        "    return np.zeros((1, n)), 0\n",
        " \n"
      ],
      "execution_count": 43,
      "outputs": []
    },
    {
      "cell_type": "markdown",
      "metadata": {
        "id": "6-55efG0Bn3Z"
      },
      "source": [
        "* Exécution"
      ]
    },
    {
      "cell_type": "code",
      "source": [
        "# initialize w and b\n",
        "w, b = initialize_parameters(m)\n",
        "\n",
        "#initialize histories\n",
        "loss_history = []\n",
        "w_history = []\n",
        "b_history = []\n",
        "absc = []\n",
        "        \n",
        "# run gradient descent in order to find optimal values for w and b\n",
        "epochs=100000\n",
        "learning_ratio=0.1\n",
        "w, b = gradient_descent(X, y, w, b, epochs, learning_ratio)\n",
        "\n",
        "# calculate the final cost function\n",
        "c = cost(y, predict(w, b, X))\n",
        "    \n",
        "# print out the model details\n",
        "print('w:', w[0][0])\n",
        "print('b:', b)\n",
        "print('cost:', c)\n"
      ],
      "metadata": {
        "colab": {
          "base_uri": "https://localhost:8080/"
        },
        "id": "uchdyK4q243n",
        "outputId": "b82b7e93-6e47-4d54-ed67-85777ba23b7f"
      },
      "execution_count": 44,
      "outputs": [
        {
          "output_type": "stream",
          "name": "stdout",
          "text": [
            "w: 26.760016853839343\n",
            "b: -146.62945592571782\n",
            "cost: 592.3345029092997\n"
          ]
        }
      ]
    },
    {
      "cell_type": "markdown",
      "source": [
        "observation de la convergence des poids de la régression "
      ],
      "metadata": {
        "id": "KBwW_xcV2_LF"
      }
    },
    {
      "cell_type": "code",
      "metadata": {
        "id": "WxAfM8TkBr1k",
        "colab": {
          "base_uri": "https://localhost:8080/",
          "height": 299
        },
        "outputId": "0f4a6aea-40b6-4896-bf9e-f9733635deb5"
      },
      "source": [
        "\n",
        "\n",
        "# graphics\n",
        "plt.subplot(1,3,1)\n",
        "plt.plot(range(epochs),loss_history,'r')\n",
        "plt.xlabel(\"Iterations\")\n",
        "plt.ylabel(\"loss\")\n",
        "\n",
        "plt.subplot(1,3,2)\n",
        "plt.plot(range(epochs), np.mean(w_history, axis = 1))\n",
        "plt.xlabel(\"Iterations\")\n",
        "plt.ylabel(\"poids\")\n",
        "\n",
        "plt.subplot(1,3,3)\n",
        "plt.plot(range(epochs), b_history)\n",
        "plt.xlabel(\"Iterations\")\n",
        "plt.ylabel(\"biais\")\n"
      ],
      "execution_count": 45,
      "outputs": [
        {
          "output_type": "execute_result",
          "data": {
            "text/plain": [
              "Text(0, 0.5, 'biais')"
            ]
          },
          "metadata": {},
          "execution_count": 45
        },
        {
          "output_type": "display_data",
          "data": {
            "text/plain": [
              "<Figure size 432x288 with 3 Axes>"
            ],
            "image/png": "[encoded data removed]"
          },
          "metadata": {
            "needs_background": "light"
          }
        }
      ]
    },
    {
      "cell_type": "markdown",
      "source": [
        "On voit que l'erreur (*loss*) a diminué et atteint (presque) son minimum très rapidement, et que le paramètre $a$ a convergé très vite, le reste du temps a été employé a un réglage fin du paramètre $b$.\n",
        "Ceci s'explique par la forte différence d'échelle entre les valeurs des surfaces et celles des loyers."
      ],
      "metadata": {
        "id": "nNJaJvEKDTyX"
      }
    },
    {
      "cell_type": "code",
      "metadata": {
        "id": "ESZ8kRnia5In",
        "colab": {
          "base_uri": "https://localhost:8080/"
        },
        "outputId": "c6e8f4d3-98ac-4e20-d8d3-301778c720f2"
      },
      "source": [
        "epochs"
      ],
      "execution_count": 46,
      "outputs": [
        {
          "output_type": "execute_result",
          "data": {
            "text/plain": [
              "100000"
            ]
          },
          "metadata": {},
          "execution_count": 46
        }
      ]
    },
    {
      "cell_type": "markdown",
      "metadata": {
        "id": "5sZb5MhQjE7R"
      },
      "source": [
        "**Affichage de l'hypothèse finale**"
      ]
    },
    {
      "cell_type": "code",
      "metadata": {
        "id": "r3zaBQyEjLJ0",
        "colab": {
          "base_uri": "https://localhost:8080/",
          "height": 383
        },
        "outputId": "2bc45839-892c-4dfb-afd9-8b337403c576"
      },
      "source": [
        "\n",
        "# Plot training set\n",
        "plt.scatter(X, y ,  color='blue')\n",
        "\n",
        "# Plot Hypothesis (theta were calculated with the Gradient Descent)\n",
        "\n",
        "y_pred =w*X+b\n",
        "print(y_pred)\n",
        "\n",
        "plt.plot(X, y_pred.T, color='red', linewidth=1)\n",
        "# Plot costs\n",
        "#for k in range(m):\n",
        "#   plt.plot([X[k], X[k]],[y[k],y_pred[k]],'g--', linewidth=1 )\n",
        "\n",
        "# Mean Point\n",
        "plt.scatter(np.mean(X),np.mean(y), color='black')\n",
        "\n",
        "# Put labels\n",
        "plt.xlabel(\"Surface(m²)\")\n",
        "plt.ylabel(\"Loyer(€)\")\n",
        "\n",
        "plt.show()\n"
      ],
      "execution_count": 47,
      "outputs": [
        {
          "output_type": "stream",
          "name": "stdout",
          "text": [
            "[[ 602.65101598 1191.37138677 2689.93233058 5098.33384743 1325.17147104\n",
            "  4937.7737463  2796.972398   1458.9715553  1137.85135306  789.97113396\n",
            "  2154.7319935  1592.77163957  709.6910834  1244.89142047  923.77121823\n",
            "  6810.97492607 1726.57172384 2984.29251597 2261.77206092  656.17104969\n",
            "  2663.17231373 1244.89142047 1994.17189238 1458.9715553  3599.77290361\n",
            "   388.57088115 2529.37222946  602.65101598]]\n"
          ]
        },
        {
          "output_type": "display_data",
          "data": {
            "text/plain": [
              "<Figure size 432x288 with 1 Axes>"
            ],
            "image/png": "[encoded data removed]"
          },
          "metadata": {
            "needs_background": "light"
          }
        }
      ]
    },
    {
      "cell_type": "code",
      "source": [
        ""
      ],
      "metadata": {
        "id": "4Kh5hEWvy7sW"
      },
      "execution_count": 47,
      "outputs": []
    }
  ]
}