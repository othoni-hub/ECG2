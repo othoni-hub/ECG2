{
  "nbformat": 4,
  "nbformat_minor": 0,
  "metadata": {
    "colab": {
      "name": "Ch05-TD-Ex1-Appartements.ipynb",
      "provenance": [],
      "collapsed_sections": [],
      "authorship_tag": "ABX9TyM4w/0d75qTqun8t535M+QZ",
      "include_colab_link": true
    },
    "kernelspec": {
      "name": "python3",
      "display_name": "Python 3"
    },
    "language_info": {
      "name": "python"
    },
    "widgets": {
      "application/vnd.jupyter.widget-state+json": {
        "7b5e6b77338f465a95ab9db94e02762b": {
          "model_module": "@jupyter-widgets/controls",
          "model_name": "VBoxModel",
          "model_module_version": "1.5.0",
          "state": {
            "_dom_classes": [
              "widget-interact"
            ],
            "_model_module": "@jupyter-widgets/controls",
            "_model_module_version": "1.5.0",
            "_model_name": "VBoxModel",
            "_view_count": null,
            "_view_module": "@jupyter-widgets/controls",
            "_view_module_version": "1.5.0",
            "_view_name": "VBoxView",
            "box_style": "",
            "children": [
              "IPY_MODEL_57e0892ba82441c4aba3f91c5fd39b1f",
              "IPY_MODEL_06984d8818b04b9ebbe42566850952e3",
              "IPY_MODEL_f25f441185de4039809ce3b07516632d"
            ],
            "layout": "IPY_MODEL_3400ac68fd414101bd0d60367ce09118"
          }
        },
        "57e0892ba82441c4aba3f91c5fd39b1f": {
          "model_module": "@jupyter-widgets/controls",
          "model_name": "FloatSliderModel",
          "model_module_version": "1.5.0",
          "state": {
            "_dom_classes": [],
            "_model_module": "@jupyter-widgets/controls",
            "_model_module_version": "1.5.0",
            "_model_name": "FloatSliderModel",
            "_view_count": null,
            "_view_module": "@jupyter-widgets/controls",
            "_view_module_version": "1.5.0",
            "_view_name": "FloatSliderView",
            "continuous_update": true,
            "description": "a",
            "description_tooltip": null,
            "disabled": false,
            "layout": "IPY_MODEL_58f9a9b9e14a4f428afc349ccab6a01a",
            "max": 50,
            "min": -50,
            "orientation": "horizontal",
            "readout": true,
            "readout_format": ".2f",
            "step": 0.5,
            "style": "IPY_MODEL_bdc3044f92e04150a0eebaad50b584f4",
            "value": 0
          }
        },
        "06984d8818b04b9ebbe42566850952e3": {
          "model_module": "@jupyter-widgets/controls",
          "model_name": "IntSliderModel",
          "model_module_version": "1.5.0",
          "state": {
            "_dom_classes": [],
            "_model_module": "@jupyter-widgets/controls",
            "_model_module_version": "1.5.0",
            "_model_name": "IntSliderModel",
            "_view_count": null,
            "_view_module": "@jupyter-widgets/controls",
            "_view_module_version": "1.5.0",
            "_view_name": "IntSliderView",
            "continuous_update": true,
            "description": "b",
            "description_tooltip": null,
            "disabled": false,
            "layout": "IPY_MODEL_e9acb11021bd403395f25a882b2dea1c",
            "max": 500,
            "min": -500,
            "orientation": "horizontal",
            "readout": true,
            "readout_format": "d",
            "step": 20,
            "style": "IPY_MODEL_988ddbdb1d134ecea812ed99fc289f45",
            "value": 0
          }
        },
        "f25f441185de4039809ce3b07516632d": {
          "model_module": "@jupyter-widgets/output",
          "model_name": "OutputModel",
          "model_module_version": "1.0.0",
          "state": {
            "_dom_classes": [],
            "_model_module": "@jupyter-widgets/output",
            "_model_module_version": "1.0.0",
            "_model_name": "OutputModel",
            "_view_count": null,
            "_view_module": "@jupyter-widgets/output",
            "_view_module_version": "1.0.0",
            "_view_name": "OutputView",
            "layout": "IPY_MODEL_3cd9d270e1bb4442ad64ad4d8896dbef",
            "msg_id": "",
            "outputs": [
              {
                "output_type": "display_data",
                "data": {
                  "text/plain": "<Figure size 432x288 with 1 Axes>",
                  "image/png": "iVBORw0KGgoAAAANSUhEUgAAAX0AAAD4CAYAAAAAczaOAAAABHNCSVQICAgIfAhkiAAAAAlwSFlzAAALEgAACxIB0t1+/AAAADh0RVh0U29mdHdhcmUAbWF0cGxvdGxpYiB2ZXJzaW9uMy4yLjIsIGh0dHA6Ly9tYXRwbG90bGliLm9yZy+WH4yJAAAXq0lEQVR4nO3df4ycR33H8ffHZxtwoLEdu65rOz63tUBBFcasEkcg6uJiO6bl3ApFqSJyilxdlYQKpFZt0hYZnNICUiGN1Fh1scFGhjSlRXFLSri4OKgSCVkTk58NvkCMfXLiK+cY2khAwrd/7Kyzvtvd2/Xt7e7tfF7Sap9nntl5ZvY5fZ+5eWafRxGBmZnlYU6nK2BmZu3joG9mlhEHfTOzjDjom5llxEHfzCwjcztdgXqWLFkS/f39na6GmdmscvTo0f+JiKXVtnV10O/v76dYLHa6GmZms4qkE7W2eXjHzCwjDvpmZhlx0Dczy4iDvplZRhz0zcwy4qBvZtZtNm4svWaAg76ZWUa6ep6+mVlWyr37Bx+8cP3IkZbtwj19M7OMuKdvZtYtyj36Gejhl7mnb2aWEff0zcy6zQz08Mvc0zczy4iDvplZRhz0zcwy4qBvZpYRB30zs4w46JuZZWTKoC/pjZKOVbx+JOlDkhZLGpZ0PL0vSvkl6U5JI5Iek7S+oqzBlP+4pMGZbJiZmU02ZdCPiGciYl1ErAPeBrwEfBm4FTgcEWuBw2kd4BpgbXoNAbsBJC0GdgJXAVcCO8snCjMza49mh3c2Ac9GxAlgANif0vcD29PyAHAgSh4CFkpaDmwBhiNiPCLOAsPA1mm3wMzMGtZs0L8O+GJaXhYRp9Py88CytLwCOFnxmVMprVb6BSQNSSpKKo6NjTVZPTMzq6fhoC9pPvBe4J8nbouIAKIVFYqIPRFRiIjC0qVLW1GkmZklzfT0rwG+HREvpPUX0rAN6f1MSh8FVlV8bmVKq5VuZmZt0kzQ/31eHdoBOASUZ+AMAvdWpN+QZvFsAM6lYaD7gc2SFqULuJtTmpmZtUlDd9mUdAnwbuAPK5I/DtwjaQdwArg2pd8HbANGKM30uREgIsYl3Q48kvLtiojxabfAzMwaptJwfHcqFApRLBY7XQ0zs1lF0tGIKFTb5l/kmpllxEHfzCwjDvpmZhlx0Dczy4iDvplZRhz0zcwy4qBvZpYRB30zs4w46JuZZcRB38wsIw76ZmYZcdA3M8uIg76ZWUYc9M3MMuKgb2aWEQd9M7OMOOibmWXEQd/MLCMNBX1JCyV9SdJ/S3pa0tWSFksalnQ8vS9KeSXpTkkjkh6TtL6inMGU/7ikwdp7NDOzmdBoT//vgK9GxJuAtwBPA7cChyNiLXA4rQNcA6xNryFgN4CkxcBO4CrgSmBn+URhZmbtMWXQl3Qp8E5gL0BE/DQiXgQGgP0p235ge1oeAA5EyUPAQknLgS3AcESMR8RZYBjY2tLWmJlZXY309NcAY8BnJT0q6TOSLgGWRcTplOd5YFlaXgGcrPj8qZRWK/0CkoYkFSUVx8bGmmuNmZnV1UjQnwusB3ZHxFuB/+PVoRwAIiKAaEWFImJPRBQiorB06dJWFGlmZkkjQf8UcCoiHk7rX6J0EnghDduQ3s+k7aPAqorPr0xptdLNzKxNpgz6EfE8cFLSG1PSJuAp4BBQnoEzCNyblg8BN6RZPBuAc2kY6H5gs6RF6QLu5pRmZmZtMrfBfH8EHJQ0H/gecCOlE8Y9knYAJ4BrU977gG3ACPBSyktEjEu6HXgk5dsVEeMtaYWZmTVEpeH47lQoFKJYLHa6GmZms4qkoxFRqLbNv8g1M8uIg76ZWUYc9M3MMuKgb2aWEQd9M7OMOOibmWXEQd/MLCMO+mZmGXHQNzPLiIO+mVlGHPTNzDLioG9mlhEHfTOzjDjom5llxEHfzCwjDvpmZhlx0Dczy0hDQV/Sc5Iel3RMUjGlLZY0LOl4el+U0iXpTkkjkh6TtL6inMGU/7ikwVr7MzOzmdFMT/83I2JdxSO4bgUOR8Ra4HBaB7gGWJteQ8BuKJ0kgJ3AVcCVwM7yicKs523cWHqZddh0hncGgP1peT+wvSL9QJQ8BCyUtBzYAgxHxHhEnAWGga3T2L+ZmTVpboP5AviapAD+ISL2AMsi4nTa/jywLC2vAE5WfPZUSquVfgFJQ5T+Q+Dyyy9vsHpmXarcu3/wwQvXjxzpQGXMGg/674iIUUm/CAxL+u/KjRER6YQwbemEsgegUCi0pEwzMytpKOhHxGh6PyPpy5TG5F+QtDwiTqfhmzMp+yiwquLjK1PaKLBxQvqRadXerNuVe/Tu4VuXmHJMX9Ilkt5QXgY2A08Ah4DyDJxB4N60fAi4Ic3i2QCcS8NA9wObJS1KF3A3pzQzM2uTRnr6y4AvSyrn/0JEfFXSI8A9knYAJ4BrU/77gG3ACPAScCNARIxLuh14JOXbFRHjLWuJWbPa2ft2D9+6xJRBPyK+B7ylSvoPgU1V0gO4pUZZ+4B9zVfTzMxaodELuWa9wzNqLGO+DYOZWUbc07f8eEaNZcw9fTOzjLinb/lyD98y5J6+mVlGHPTNzDLioG9mlhEHfTOzjDjom5llxEHfzCwjDvpmZhlx0Dczy4iDvplZRhz0zcwy4qBvZpYRB30zs4w0HPQl9Ul6VNK/p/U1kh6WNCLpnyTNT+mvSesjaXt/RRm3pfRnJG1pdWPMrItt3Pjq7aytY5rp6X8QeLpi/RPApyPi14CzwI6UvgM4m9I/nfIh6QrgOuDNwFbgLkl906u+mZk1o6GgL2kl8B7gM2ldwLuAL6Us+4HtaXkgrZO2b0r5B4C7I+InEfF9Sg9Ov7IVjTCzLlGtN19Oe/DB0ss9/o5qtKd/B/CnwM/T+mXAixHxclo/BaxIyyuAkwBp+7mU/3x6lc+cJ2lIUlFScWxsrImmmJnZVKZ8iIqk3wbORMRRSRtnukIRsQfYA1AoFGKm92dmLVDvYfN+PGVXaeTJWW8H3itpG/Ba4BeAvwMWSpqbevMrgdGUfxRYBZySNBe4FPhhRXpZ5WfMzKwNpgz6EXEbcBtA6un/SURcL+mfgfcBdwODwL3pI4fS+jfT9v+MiJB0CPiCpE8BvwysBb7V2uaYWUc00pt3D78rTOcZuX8G3C3pr4BHgb0pfS/weUkjwDilGTtExJOS7gGeAl4GbomIV6axfzMza5IiunfYvFAoRLFY7HQ1zMxmFUlHI6JQbZt/kWtmlhEHfTOzjDjom5llxEHfzCwjDvpmZhlx0Dczy4iDvplZRhz0zcwy4qBvZpYRB30zs4w46JuZZcRB33qDn8Zk1hAHfTOzjEzn1spmnVfviU1mNol7+mZmGXFP32Y3P3/VrCnu6ZuZZcQ9fesN7uGbNWTKnr6k10r6lqTvSHpS0kdT+hpJD0sakfRPkuan9Nek9ZG0vb+irNtS+jOStsxUo8zMrLpGhnd+ArwrIt4CrAO2StoAfAL4dET8GnAW2JHy7wDOpvRPp3xIuoLSQ9LfDGwF7pLU18rGmJlZfVMG/Sj537Q6L70CeBfwpZS+H9ielgfSOmn7JklK6XdHxE8i4vvACHBlS1phZmYNaehCrqQ+SceAM8Aw8CzwYkS8nLKcAlak5RXASYC0/RxwWWV6lc9U7mtIUlFScWxsrPkWmZlZTQ0F/Yh4JSLWASsp9c7fNFMViog9EVGIiMLSpUtnajdmZllqaspmRLwIfB24GlgoqTz7ZyUwmpZHgVUAafulwA8r06t8xszM2qCR2TtLJS1My68D3g08TSn4vy9lGwTuTcuH0jpp+39GRKT069LsnjXAWuBbrWqImZlNrZF5+suB/WmmzRzgnoj4d0lPAXdL+ivgUWBvyr8X+LykEWCc0owdIuJJSfcATwEvA7dExCutbY6ZmdWjUie8OxUKhSgWi52uhpnZrCLpaEQUqm3zbRjMzDLioG9mlhEHfTOzjDjom5llxEHfepefm2s2iYO+zR4O4mbT5vvpW+/xc3PNanLQt+7nIG7WMg761nv83Fyzmhz0rfs5iJu1jIO+9S6fHMwmcdC32cNB3GzaPGXTzCwjDvpmZhlx0Dczy4iDvplZRhz0reVWrgRp8mvlyk7XzMwaeUbuKklfl/SUpCclfTClL5Y0LOl4el+U0iXpTkkjkh6TtL6irMGU/7ikwVr7tNntve+F+fMvTJs/HwYGOlMfM3tVIz39l4E/jogrgA3ALZKuAG4FDkfEWuBwWge4htJDz9cCQ8BuKJ0kgJ3AVcCVwM7yicJ6y4c/DHMm/GX19ZXSzayzpgz6EXE6Ir6dln8MPA2sAAaA/SnbfmB7Wh4ADkTJQ8BCScuBLcBwRIxHxFlgGNja0tZYV1i+HG688dXe/vz5pfVf+qXO1svMmhzTl9QPvBV4GFgWEafTpueBZWl5BXCy4mOnUlqt9In7GJJUlFQcGxtrpnrWRSp7+3V7+a24XbJvuWzWsIaDvqTXA/8CfCgiflS5LSICiFZUKCL2REQhIgpLly5tRZHWAeXe/pw57uWbdZOGbsMgaR6lgH8wIv41Jb8gaXlEnE7DN2dS+iiwquLjK1PaKLBxQvqRi6+6dbsPfxjuv79GL78Vt0v2LZfNmtbI7B0Be4GnI+JTFZsOAeUZOIPAvRXpN6RZPBuAc2kY6H5gs6RF6QLu5pRmPWr5cnj2WffyzbpJIz39twPvBx6XdCyl/TnwceAeSTuAE8C1adt9wDZgBHgJuBEgIsYl3Q48kvLtiojxlrTCZofKnngrbpfsWy6bNW3KoB8R/wWoxuZNVfIHcEuNsvYB+5qpoJmZtY5vrWwzr97Yeyt65+7hmzXMt2Gw+jwd0qynuKefo3aPgXvs3axrOOhbdZ4OadaTHPRzMlUgn+nA7hOGWcc56Ft1HpIx60kO+jkpB+6FCy9c91COWTYc9HtBo0G6nO/cuQvX63HgN+spDvrW2qEc/5dg1tUc9GezZi/MepzeLHsO+vaqVvTwfV3ArKs56HdaK4Ljb/zGhWVMFYAdiM2y5aDfSzp5uwQPHZnNCg76nTKd4ZCJny339MscgM2sBgf9XnAsPeagmamYM8UnGLOu5qDfKdPpjU/8bFm55z8xn5lZ4qDfCzycY2YNauQZufsknZH0REXaYknDko6n90UpXZLulDQi6TFJ6ys+M5jyH5c0WG1fWZrOg0Ra9RASM8tGIw9R+RywdULarcDhiFgLHE7rANcAa9NrCNgNpZMEsBO4CrgS2Fk+UVgVfnCJmc2QKYN+RHwDmPgA8wFgf1reD2yvSD8QJQ8BCyUtB7YAwxExHhFngWEmn0jMzGyGXeyY/rKIOJ2WnweWpeUVwMmKfKdSWq10q3Sx0zj9a1gza9C0n5EbEQFEC+oCgKQhSUVJxbGxsVYVa2ZmXHxP/wVJyyPidBq+OZPSR4FVFflWprRRYOOE9CPVCo6IPcAegEKh0LKTyaxwsbNwPHvHzBp0sT39Q0B5Bs4gcG9F+g1pFs8G4FwaBrof2CxpUbqAuzml5ccXac2sg6bs6Uv6IqVe+hJJpyjNwvk4cI+kHcAJ4NqU/T5gGzACvATcCBAR45JuBx5J+XZFxMSLw1Y2nSmcZmZ1qDQk350KhUIUi8VOV6M1at0vx4HazFpM0tGIKFTbNu0LuWZmNnv4NgwzqfLCqi+2mlkXcE/fzCwj7unPhHo/lnIP38w6yD19M7OMuKc/Ezx+b2Zdyj19M7OMOOhfLP+y1sxmIQf9dvFJwsy6gMf0m9XIbYyr5Tl2DNatm/HqmZnV455+Oxw7BufOlU4C7vGbWQe5p9+sRmbmVOYp9/DLvX4zsw5y0J9p69aVTgKevmlmXcBB/2I1Erwd4M2syzjot4tPAGbWBXwh18wsIw76ZmYZcdA3M8tI24O+pK2SnpE0IunWdu+/FQ4+fpD+O/qZ89E59N/Rz8HHD07Kc/NXbmburrnoo6JvVx+v/+vXo4/qfFr/Hf3c/JWbJ5XTSNmVdagss/yau2suv3Xgt6qWU1mvubvmcvNXbq7Zpkbr0sj3Mt3ya+U9+PhBlnxyyfm2L/nkkobKbrZt09HOfXVSs8ffqpvp76qtz8iV1Ad8F3g3cIrSg9J/PyKeqpa/G5+Re/Dxgwz92xAv/eyl82kL5i1gz+/s4fpfvx4oBdbdxd1Nlz1vzjwk8dNXflqz7Fp1mMqCeQu4euXVHP7+4UnbNq3ZxDdPffOC8hqtS706lfMDk7Y1U36tsgffMsjeR/deUAbAHOYwt29uzbIbOYat0s59dVKzx78Xv4NWaNXfS71n5LY76F8NfCQitqT12wAi4m+q5e/GoN9/Rz8nzp2YlL760tU896HnAJi7ay6vxCst22dl2fXq0A4T61JW73sBGq5vtfJrld2nvqa+53LZjRzDVmnnvjrpYo5/r30HrdCqv5d6Qb/dUzZXACcr1k8BV1VmkDQEDAFcfvnl09rZ5z4Hzz03rSImOXHkRmDyifIE4iMvlpZfOfKXrd1nRdn16tAOE+tyPr3O91LSWH2rlV+r7GZPq+WyGzmGrdLOfXXSxRz/XvsOWuGC73Hhc/DW/QD84NwPWraPdvf03wdsjYg/SOvvB66KiA9Uy++e/uSy69WhHdzTb457+u7pN6MdPf12X8gdBVZVrK9MabPGxzZ9jAXzFlyQtmDeAj626WPn14feNnRRZc+bM4/5ffPrll2rDlNZMG8Bm9Zsqrpt05pNk8prtC716lTOX21bM+XXKnvobUOTyoDSmH69shs5hq3Szn11UrPHvxe/g1Zox3fV7qD/CLBW0hpJ84HrgENtrsO0XP/r17Pnd/aw+tLVCLH60tWTLrLc9Z67uKlwE33qA2CO5nDJvEsAzqetvnQ1NxVuuqCcz27/LPsG9tUte2IdKsss61Mfm9ZsmlTOAzc8cEG9+tTHTYWbeOCGBya1qdG6NPK9VNvWTPm1yr7rPXexb2Afl73usvN5L3vdZRz4vQN1y27kGLZKO/fVSc0e/178DlqhHd9VW4d3ACRtA+4A+oB9EVHzFNaNwztmZt2umy7kEhH3Afe1e79mZuZf5JqZZcVB38wsIw76ZmYZcdA3M8tI22fvNEPSGDDdXyEtAf6nBdXpdm5n78mlrW5n662OiKXVNnR10G8FScVaU5d6idvZe3Jpq9vZXh7eMTPLiIO+mVlGcgj6ezpdgTZxO3tPLm11O9uo58f0zczsVTn09M3MLHHQNzPLSM8G/V54AHs9kp6T9LikY5KKKW2xpGFJx9P7ok7Xs1mS9kk6I+mJirSq7VLJnekYPyZpfedq3pwa7fyIpNF0TI+lO9KWt92W2vmMpC2dqXXzJK2S9HVJT0l6UtIHU3pPHdM67ey+YxoRPfeidNvmZ4FfAeYD3wGu6HS9WtzG54AlE9I+Cdyalm8FPtHpel5Eu94JrAeemKpdwDbgPwABG4CHO13/abbzI8CfVMl7Rfobfg2wJv1t93W6DQ22czmwPi2/Afhuak9PHdM67ey6Y9qrPf0rgZGI+F5E/BS4GxjocJ3aYQDYn5b3A9s7WJeLEhHfAMYnJNdq1wBwIEoeAhZKWt6emk5PjXbWMgDcHRE/iYjvAyOU/sa7XkScjohvp+UfA09TelZ2Tx3TOu2spWPHtFeDfrUHsNc7ALNRAF+TdDQ9TB5gWUScTsvPA8s6U7WWq9WuXjzOH0jDGvsqhud6op2S+oG3Ag/Tw8d0Qjuhy45prwb9HLwjItYD1wC3SHpn5cYo/Q/Zc/Nxe7VdyW7gV4F1wGngbztbndaR9HrgX4APRcSPKrf10jGt0s6uO6a9GvRn/QPYpxIRo+n9DPBlSv8avlD+Vzi9n+lcDVuqVrt66jhHxAsR8UpE/Bz4R179d39Wt1PSPEqB8GBE/GtK7rljWq2d3XhMezXoz/oHsNcj6RJJbygvA5uBJyi1cTBlGwTu7UwNW65Wuw4BN6QZHxuAcxVDBrPOhLHr36V0TKHUzuskvUbSGmAt8K121+9iSBKwF3g6Ij5VsamnjmmtdnblMe30Ve+ZelGaBfBdSlfF/6LT9Wlx236F0pX/7wBPltsHXAYcBo4DDwCLO13Xi2jbFyn9G/wzSuOcO2q1i9IMj79Px/hxoNDp+k+znZ9P7XiMUlBYXpH/L1I7nwGu6XT9m2jnOygN3TwGHEuvbb12TOu0s+uOqW/DYGaWkV4d3jEzsyoc9M3MMuKgb2aWEQd9M7OMOOibmWXEQd/MLCMO+mZmGfl/1np8PnDOlBkAAAAASUVORK5CYII=\n"
                },
                "metadata": {
                  "needs_background": "light"
                }
              }
            ]
          }
        },
        "3400ac68fd414101bd0d60367ce09118": {
          "model_module": "@jupyter-widgets/base",
          "model_name": "LayoutModel",
          "model_module_version": "1.2.0",
          "state": {
            "_model_module": "@jupyter-widgets/base",
            "_model_module_version": "1.2.0",
            "_model_name": "LayoutModel",
            "_view_count": null,
            "_view_module": "@jupyter-widgets/base",
            "_view_module_version": "1.2.0",
            "_view_name": "LayoutView",
            "align_content": null,
            "align_items": null,
            "align_self": null,
            "border": null,
            "bottom": null,
            "display": null,
            "flex": null,
            "flex_flow": null,
            "grid_area": null,
            "grid_auto_columns": null,
            "grid_auto_flow": null,
            "grid_auto_rows": null,
            "grid_column": null,
            "grid_gap": null,
            "grid_row": null,
            "grid_template_areas": null,
            "grid_template_columns": null,
            "grid_template_rows": null,
            "height": null,
            "justify_content": null,
            "justify_items": null,
            "left": null,
            "margin": null,
            "max_height": null,
            "max_width": null,
            "min_height": null,
            "min_width": null,
            "object_fit": null,
            "object_position": null,
            "order": null,
            "overflow": null,
            "overflow_x": null,
            "overflow_y": null,
            "padding": null,
            "right": null,
            "top": null,
            "visibility": null,
            "width": null
          }
        },
        "58f9a9b9e14a4f428afc349ccab6a01a": {
          "model_module": "@jupyter-widgets/base",
          "model_name": "LayoutModel",
          "model_module_version": "1.2.0",
          "state": {
            "_model_module": "@jupyter-widgets/base",
            "_model_module_version": "1.2.0",
            "_model_name": "LayoutModel",
            "_view_count": null,
            "_view_module": "@jupyter-widgets/base",
            "_view_module_version": "1.2.0",
            "_view_name": "LayoutView",
            "align_content": null,
            "align_items": null,
            "align_self": null,
            "border": null,
            "bottom": null,
            "display": null,
            "flex": null,
            "flex_flow": null,
            "grid_area": null,
            "grid_auto_columns": null,
            "grid_auto_flow": null,
            "grid_auto_rows": null,
            "grid_column": null,
            "grid_gap": null,
            "grid_row": null,
            "grid_template_areas": null,
            "grid_template_columns": null,
            "grid_template_rows": null,
            "height": null,
            "justify_content": null,
            "justify_items": null,
            "left": null,
            "margin": null,
            "max_height": null,
            "max_width": null,
            "min_height": null,
            "min_width": null,
            "object_fit": null,
            "object_position": null,
            "order": null,
            "overflow": null,
            "overflow_x": null,
            "overflow_y": null,
            "padding": null,
            "right": null,
            "top": null,
            "visibility": null,
            "width": null
          }
        },
        "bdc3044f92e04150a0eebaad50b584f4": {
          "model_module": "@jupyter-widgets/controls",
          "model_name": "SliderStyleModel",
          "model_module_version": "1.5.0",
          "state": {
            "_model_module": "@jupyter-widgets/controls",
            "_model_module_version": "1.5.0",
            "_model_name": "SliderStyleModel",
            "_view_count": null,
            "_view_module": "@jupyter-widgets/base",
            "_view_module_version": "1.2.0",
            "_view_name": "StyleView",
            "description_width": "",
            "handle_color": null
          }
        },
        "e9acb11021bd403395f25a882b2dea1c": {
          "model_module": "@jupyter-widgets/base",
          "model_name": "LayoutModel",
          "model_module_version": "1.2.0",
          "state": {
            "_model_module": "@jupyter-widgets/base",
            "_model_module_version": "1.2.0",
            "_model_name": "LayoutModel",
            "_view_count": null,
            "_view_module": "@jupyter-widgets/base",
            "_view_module_version": "1.2.0",
            "_view_name": "LayoutView",
            "align_content": null,
            "align_items": null,
            "align_self": null,
            "border": null,
            "bottom": null,
            "display": null,
            "flex": null,
            "flex_flow": null,
            "grid_area": null,
            "grid_auto_columns": null,
            "grid_auto_flow": null,
            "grid_auto_rows": null,
            "grid_column": null,
            "grid_gap": null,
            "grid_row": null,
            "grid_template_areas": null,
            "grid_template_columns": null,
            "grid_template_rows": null,
            "height": null,
            "justify_content": null,
            "justify_items": null,
            "left": null,
            "margin": null,
            "max_height": null,
            "max_width": null,
            "min_height": null,
            "min_width": null,
            "object_fit": null,
            "object_position": null,
            "order": null,
            "overflow": null,
            "overflow_x": null,
            "overflow_y": null,
            "padding": null,
            "right": null,
            "top": null,
            "visibility": null,
            "width": null
          }
        },
        "988ddbdb1d134ecea812ed99fc289f45": {
          "model_module": "@jupyter-widgets/controls",
          "model_name": "SliderStyleModel",
          "model_module_version": "1.5.0",
          "state": {
            "_model_module": "@jupyter-widgets/controls",
            "_model_module_version": "1.5.0",
            "_model_name": "SliderStyleModel",
            "_view_count": null,
            "_view_module": "@jupyter-widgets/base",
            "_view_module_version": "1.2.0",
            "_view_name": "StyleView",
            "description_width": "",
            "handle_color": null
          }
        },
        "3cd9d270e1bb4442ad64ad4d8896dbef": {
          "model_module": "@jupyter-widgets/base",
          "model_name": "LayoutModel",
          "model_module_version": "1.2.0",
          "state": {
            "_model_module": "@jupyter-widgets/base",
            "_model_module_version": "1.2.0",
            "_model_name": "LayoutModel",
            "_view_count": null,
            "_view_module": "@jupyter-widgets/base",
            "_view_module_version": "1.2.0",
            "_view_name": "LayoutView",
            "align_content": null,
            "align_items": null,
            "align_self": null,
            "border": null,
            "bottom": null,
            "display": null,
            "flex": null,
            "flex_flow": null,
            "grid_area": null,
            "grid_auto_columns": null,
            "grid_auto_flow": null,
            "grid_auto_rows": null,
            "grid_column": null,
            "grid_gap": null,
            "grid_row": null,
            "grid_template_areas": null,
            "grid_template_columns": null,
            "grid_template_rows": null,
            "height": null,
            "justify_content": null,
            "justify_items": null,
            "left": null,
            "margin": null,
            "max_height": null,
            "max_width": null,
            "min_height": null,
            "min_width": null,
            "object_fit": null,
            "object_position": null,
            "order": null,
            "overflow": null,
            "overflow_x": null,
            "overflow_y": null,
            "padding": null,
            "right": null,
            "top": null,
            "visibility": null,
            "width": null
          }
        },
        "71f21337f8e34c9ebdeb656842807540": {
          "model_module": "@jupyter-widgets/controls",
          "model_name": "VBoxModel",
          "model_module_version": "1.5.0",
          "state": {
            "_dom_classes": [
              "widget-interact"
            ],
            "_model_module": "@jupyter-widgets/controls",
            "_model_module_version": "1.5.0",
            "_model_name": "VBoxModel",
            "_view_count": null,
            "_view_module": "@jupyter-widgets/controls",
            "_view_module_version": "1.5.0",
            "_view_name": "VBoxView",
            "box_style": "",
            "children": [
              "IPY_MODEL_df6c4acddeb544278ae7568a3820aa6a",
              "IPY_MODEL_a3ba3d18d7344e50a2e0ecb2f225ac53",
              "IPY_MODEL_5dedd1982ea44ebbaed998cfe6c31f42"
            ],
            "layout": "IPY_MODEL_49318ad40cc148d09735faee0e4f4e91"
          }
        },
        "df6c4acddeb544278ae7568a3820aa6a": {
          "model_module": "@jupyter-widgets/controls",
          "model_name": "FloatSliderModel",
          "model_module_version": "1.5.0",
          "state": {
            "_dom_classes": [],
            "_model_module": "@jupyter-widgets/controls",
            "_model_module_version": "1.5.0",
            "_model_name": "FloatSliderModel",
            "_view_count": null,
            "_view_module": "@jupyter-widgets/controls",
            "_view_module_version": "1.5.0",
            "_view_name": "FloatSliderView",
            "continuous_update": true,
            "description": "a",
            "description_tooltip": null,
            "disabled": false,
            "layout": "IPY_MODEL_b10b99e10d5047c1b12c77fb213ee510",
            "max": 50,
            "min": -10,
            "orientation": "horizontal",
            "readout": true,
            "readout_format": ".2f",
            "step": 0.5,
            "style": "IPY_MODEL_d45140f8b9ad40329098a6d444bf44c0",
            "value": 20
          }
        },
        "a3ba3d18d7344e50a2e0ecb2f225ac53": {
          "model_module": "@jupyter-widgets/controls",
          "model_name": "IntSliderModel",
          "model_module_version": "1.5.0",
          "state": {
            "_dom_classes": [],
            "_model_module": "@jupyter-widgets/controls",
            "_model_module_version": "1.5.0",
            "_model_name": "IntSliderModel",
            "_view_count": null,
            "_view_module": "@jupyter-widgets/controls",
            "_view_module_version": "1.5.0",
            "_view_name": "IntSliderView",
            "continuous_update": true,
            "description": "b",
            "description_tooltip": null,
            "disabled": false,
            "layout": "IPY_MODEL_787e3e20a2ff4a35ac41c446cd18472c",
            "max": 100,
            "min": -200,
            "orientation": "horizontal",
            "readout": true,
            "readout_format": "d",
            "step": 20,
            "style": "IPY_MODEL_a993d5ee3e8744bf8baa672afe886c90",
            "value": -60
          }
        },
        "5dedd1982ea44ebbaed998cfe6c31f42": {
          "model_module": "@jupyter-widgets/output",
          "model_name": "OutputModel",
          "model_module_version": "1.0.0",
          "state": {
            "_dom_classes": [],
            "_model_module": "@jupyter-widgets/output",
            "_model_module_version": "1.0.0",
            "_model_name": "OutputModel",
            "_view_count": null,
            "_view_module": "@jupyter-widgets/output",
            "_view_module_version": "1.0.0",
            "_view_name": "OutputView",
            "layout": "IPY_MODEL_15a773eeaa3744fcb7cf5cc990ae4178",
            "msg_id": "",
            "outputs": [
              {
                "output_type": "display_data",
                "data": {
                  "text/plain": "<Figure size 864x432 with 2 Axes>",
                  "image/png": "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\n"
                },
                "metadata": {
                  "needs_background": "light"
                }
              }
            ]
          }
        },
        "49318ad40cc148d09735faee0e4f4e91": {
          "model_module": "@jupyter-widgets/base",
          "model_name": "LayoutModel",
          "model_module_version": "1.2.0",
          "state": {
            "_model_module": "@jupyter-widgets/base",
            "_model_module_version": "1.2.0",
            "_model_name": "LayoutModel",
            "_view_count": null,
            "_view_module": "@jupyter-widgets/base",
            "_view_module_version": "1.2.0",
            "_view_name": "LayoutView",
            "align_content": null,
            "align_items": null,
            "align_self": null,
            "border": null,
            "bottom": null,
            "display": null,
            "flex": null,
            "flex_flow": null,
            "grid_area": null,
            "grid_auto_columns": null,
            "grid_auto_flow": null,
            "grid_auto_rows": null,
            "grid_column": null,
            "grid_gap": null,
            "grid_row": null,
            "grid_template_areas": null,
            "grid_template_columns": null,
            "grid_template_rows": null,
            "height": null,
            "justify_content": null,
            "justify_items": null,
            "left": null,
            "margin": null,
            "max_height": null,
            "max_width": null,
            "min_height": null,
            "min_width": null,
            "object_fit": null,
            "object_position": null,
            "order": null,
            "overflow": null,
            "overflow_x": null,
            "overflow_y": null,
            "padding": null,
            "right": null,
            "top": null,
            "visibility": null,
            "width": null
          }
        },
        "b10b99e10d5047c1b12c77fb213ee510": {
          "model_module": "@jupyter-widgets/base",
          "model_name": "LayoutModel",
          "model_module_version": "1.2.0",
          "state": {
            "_model_module": "@jupyter-widgets/base",
            "_model_module_version": "1.2.0",
            "_model_name": "LayoutModel",
            "_view_count": null,
            "_view_module": "@jupyter-widgets/base",
            "_view_module_version": "1.2.0",
            "_view_name": "LayoutView",
            "align_content": null,
            "align_items": null,
            "align_self": null,
            "border": null,
            "bottom": null,
            "display": null,
            "flex": null,
            "flex_flow": null,
            "grid_area": null,
            "grid_auto_columns": null,
            "grid_auto_flow": null,
            "grid_auto_rows": null,
            "grid_column": null,
            "grid_gap": null,
            "grid_row": null,
            "grid_template_areas": null,
            "grid_template_columns": null,
            "grid_template_rows": null,
            "height": null,
            "justify_content": null,
            "justify_items": null,
            "left": null,
            "margin": null,
            "max_height": null,
            "max_width": null,
            "min_height": null,
            "min_width": null,
            "object_fit": null,
            "object_position": null,
            "order": null,
            "overflow": null,
            "overflow_x": null,
            "overflow_y": null,
            "padding": null,
            "right": null,
            "top": null,
            "visibility": null,
            "width": null
          }
        },
        "d45140f8b9ad40329098a6d444bf44c0": {
          "model_module": "@jupyter-widgets/controls",
          "model_name": "SliderStyleModel",
          "model_module_version": "1.5.0",
          "state": {
            "_model_module": "@jupyter-widgets/controls",
            "_model_module_version": "1.5.0",
            "_model_name": "SliderStyleModel",
            "_view_count": null,
            "_view_module": "@jupyter-widgets/base",
            "_view_module_version": "1.2.0",
            "_view_name": "StyleView",
            "description_width": "",
            "handle_color": null
          }
        },
        "787e3e20a2ff4a35ac41c446cd18472c": {
          "model_module": "@jupyter-widgets/base",
          "model_name": "LayoutModel",
          "model_module_version": "1.2.0",
          "state": {
            "_model_module": "@jupyter-widgets/base",
            "_model_module_version": "1.2.0",
            "_model_name": "LayoutModel",
            "_view_count": null,
            "_view_module": "@jupyter-widgets/base",
            "_view_module_version": "1.2.0",
            "_view_name": "LayoutView",
            "align_content": null,
            "align_items": null,
            "align_self": null,
            "border": null,
            "bottom": null,
            "display": null,
            "flex": null,
            "flex_flow": null,
            "grid_area": null,
            "grid_auto_columns": null,
            "grid_auto_flow": null,
            "grid_auto_rows": null,
            "grid_column": null,
            "grid_gap": null,
            "grid_row": null,
            "grid_template_areas": null,
            "grid_template_columns": null,
            "grid_template_rows": null,
            "height": null,
            "justify_content": null,
            "justify_items": null,
            "left": null,
            "margin": null,
            "max_height": null,
            "max_width": null,
            "min_height": null,
            "min_width": null,
            "object_fit": null,
            "object_position": null,
            "order": null,
            "overflow": null,
            "overflow_x": null,
            "overflow_y": null,
            "padding": null,
            "right": null,
            "top": null,
            "visibility": null,
            "width": null
          }
        },
        "a993d5ee3e8744bf8baa672afe886c90": {
          "model_module": "@jupyter-widgets/controls",
          "model_name": "SliderStyleModel",
          "model_module_version": "1.5.0",
          "state": {
            "_model_module": "@jupyter-widgets/controls",
            "_model_module_version": "1.5.0",
            "_model_name": "SliderStyleModel",
            "_view_count": null,
            "_view_module": "@jupyter-widgets/base",
            "_view_module_version": "1.2.0",
            "_view_name": "StyleView",
            "description_width": "",
            "handle_color": null
          }
        },
        "15a773eeaa3744fcb7cf5cc990ae4178": {
          "model_module": "@jupyter-widgets/base",
          "model_name": "LayoutModel",
          "model_module_version": "1.2.0",
          "state": {
            "_model_module": "@jupyter-widgets/base",
            "_model_module_version": "1.2.0",
            "_model_name": "LayoutModel",
            "_view_count": null,
            "_view_module": "@jupyter-widgets/base",
            "_view_module_version": "1.2.0",
            "_view_name": "LayoutView",
            "align_content": null,
            "align_items": null,
            "align_self": null,
            "border": null,
            "bottom": null,
            "display": null,
            "flex": null,
            "flex_flow": null,
            "grid_area": null,
            "grid_auto_columns": null,
            "grid_auto_flow": null,
            "grid_auto_rows": null,
            "grid_column": null,
            "grid_gap": null,
            "grid_row": null,
            "grid_template_areas": null,
            "grid_template_columns": null,
            "grid_template_rows": null,
            "height": null,
            "justify_content": null,
            "justify_items": null,
            "left": null,
            "margin": null,
            "max_height": null,
            "max_width": null,
            "min_height": null,
            "min_width": null,
            "object_fit": null,
            "object_position": null,
            "order": null,
            "overflow": null,
            "overflow_x": null,
            "overflow_y": null,
            "padding": null,
            "right": null,
            "top": null,
            "visibility": null,
            "width": null
          }
        }
      }
    }
  },
  "cells": [
    {
      "cell_type": "markdown",
      "metadata": {
        "id": "view-in-github",
        "colab_type": "text"
      },
      "source": [
        "<a href=\"https://colab.research.google.com/github/othoni-hub/ECG2/blob/main/Ch05_TD_Ex1_Appartements.ipynb\" target=\"_parent\"><img src=\"https://colab.research.google.com/assets/colab-badge.svg\" alt=\"Open In Colab\"/></a>"
      ]
    },
    {
      "cell_type": "markdown",
      "metadata": {
        "id": "9gRjJPolrmT_"
      },
      "source": [
        "# **CPGE-ECG2** \n"
      ]
    },
    {
      "cell_type": "markdown",
      "metadata": {
        "id": "Gprox7oVPE7W"
      },
      "source": [
        "\n",
        "\n",
        "## **Ch5 - Notebook : Statistiques bivariées : exercice \"Appartements\"**\n",
        "\n",
        "<img src=\"https://drive.google.com/uc?id=12Wo3LubGGT4qOvYFAuLP4CyCuwjKNVuk\" width=\"230\" height=\"150\" align = \"right\"/>\n",
        "\n",
        "\n",
        "\n",
        "\n",
        "**O.Thöni - Lycée Saint-Charles Sainte Croix - LE MANS**"
      ]
    },
    {
      "cell_type": "markdown",
      "source": [
        "## **Étude du prix des loyers constatés, selon la surface, dans une base d'appartements parisiens.**\n",
        "\n",
        "![\"au mieux\"…](https://poissonisfish.files.wordpress.com/2017/01/q7hip.gif?w=1108)\n",
        "\n"
      ],
      "metadata": {
        "id": "z-uv2jTIfNEh"
      }
    },
    {
      "cell_type": "markdown",
      "source": [
        "Les données sont importées depuis un fichier csv et stockées dans un dataFrame Pandas"
      ],
      "metadata": {
        "id": "YjDd1xQ7jcbg"
      }
    },
    {
      "cell_type": "code",
      "source": [
        "import pandas as pd\n",
        "import numpy as np\n"
      ],
      "metadata": {
        "id": "HqazpGmchJxI"
      },
      "execution_count": 1,
      "outputs": []
    },
    {
      "cell_type": "code",
      "source": [
        "url = \"https://raw.githubusercontent.com/othoni-hub/ECG2/main/APPART.csv\"\n",
        "# attention : import depuis Github : copier le \"raw-github-link\"\n",
        "df = pd.read_csv(url, sep = \" \") # le fichier importé est un fichier .csv, séparateur espace, converti en DataFrame Pandas\n",
        "df.head()"
      ],
      "metadata": {
        "colab": {
          "base_uri": "https://localhost:8080/",
          "height": 206
        },
        "id": "USLN2zXfZ5OU",
        "outputId": "c7328232-c666-42a0-b841-6d3041108aaa"
      },
      "execution_count": 2,
      "outputs": [
        {
          "output_type": "execute_result",
          "data": {
            "text/plain": [
              "   Surface  Loyer\n",
              "0       28    650\n",
              "1       50   1400\n",
              "2      106   3250\n",
              "3      196   4000\n",
              "4       55   1340"
            ],
            "text/html": [
              "\n",
              "  <div id=\"df-0d1f95ad-fe8e-4fd3-9f6e-ec3d58562671\">\n",
              "    <div class=\"colab-df-container\">\n",
              "      <div>\n",
              "<style scoped>\n",
              "    .dataframe tbody tr th:only-of-type {\n",
              "        vertical-align: middle;\n",
              "    }\n",
              "\n",
              "    .dataframe tbody tr th {\n",
              "        vertical-align: top;\n",
              "    }\n",
              "\n",
              "    .dataframe thead th {\n",
              "        text-align: right;\n",
              "    }\n",
              "</style>\n",
              "<table border=\"1\" class=\"dataframe\">\n",
              "  <thead>\n",
              "    <tr style=\"text-align: right;\">\n",
              "      <th></th>\n",
              "      <th>Surface</th>\n",
              "      <th>Loyer</th>\n",
              "    </tr>\n",
              "  </thead>\n",
              "  <tbody>\n",
              "    <tr>\n",
              "      <th>0</th>\n",
              "      <td>28</td>\n",
              "      <td>650</td>\n",
              "    </tr>\n",
              "    <tr>\n",
              "      <th>1</th>\n",
              "      <td>50</td>\n",
              "      <td>1400</td>\n",
              "    </tr>\n",
              "    <tr>\n",
              "      <th>2</th>\n",
              "      <td>106</td>\n",
              "      <td>3250</td>\n",
              "    </tr>\n",
              "    <tr>\n",
              "      <th>3</th>\n",
              "      <td>196</td>\n",
              "      <td>4000</td>\n",
              "    </tr>\n",
              "    <tr>\n",
              "      <th>4</th>\n",
              "      <td>55</td>\n",
              "      <td>1340</td>\n",
              "    </tr>\n",
              "  </tbody>\n",
              "</table>\n",
              "</div>\n",
              "      <button class=\"colab-df-convert\" onclick=\"convertToInteractive('df-0d1f95ad-fe8e-4fd3-9f6e-ec3d58562671')\"\n",
              "              title=\"Convert this dataframe to an interactive table.\"\n",
              "              style=\"display:none;\">\n",
              "        \n",
              "  <svg xmlns=\"http://www.w3.org/2000/svg\" height=\"24px\"viewBox=\"0 0 24 24\"\n",
              "       width=\"24px\">\n",
              "    <path d=\"M0 0h24v24H0V0z\" fill=\"none\"/>\n",
              "    <path d=\"M18.56 5.44l.94 2.06.94-2.06 2.06-.94-2.06-.94-.94-2.06-.94 2.06-2.06.94zm-11 1L8.5 8.5l.94-2.06 2.06-.94-2.06-.94L8.5 2.5l-.94 2.06-2.06.94zm10 10l.94 2.06.94-2.06 2.06-.94-2.06-.94-.94-2.06-.94 2.06-2.06.94z\"/><path d=\"M17.41 7.96l-1.37-1.37c-.4-.4-.92-.59-1.43-.59-.52 0-1.04.2-1.43.59L10.3 9.45l-7.72 7.72c-.78.78-.78 2.05 0 2.83L4 21.41c.39.39.9.59 1.41.59.51 0 1.02-.2 1.41-.59l7.78-7.78 2.81-2.81c.8-.78.8-2.07 0-2.86zM5.41 20L4 18.59l7.72-7.72 1.47 1.35L5.41 20z\"/>\n",
              "  </svg>\n",
              "      </button>\n",
              "      \n",
              "  <style>\n",
              "    .colab-df-container {\n",
              "      display:flex;\n",
              "      flex-wrap:wrap;\n",
              "      gap: 12px;\n",
              "    }\n",
              "\n",
              "    .colab-df-convert {\n",
              "      background-color: #E8F0FE;\n",
              "      border: none;\n",
              "      border-radius: 50%;\n",
              "      cursor: pointer;\n",
              "      display: none;\n",
              "      fill: #1967D2;\n",
              "      height: 32px;\n",
              "      padding: 0 0 0 0;\n",
              "      width: 32px;\n",
              "    }\n",
              "\n",
              "    .colab-df-convert:hover {\n",
              "      background-color: #E2EBFA;\n",
              "      box-shadow: 0px 1px 2px rgba(60, 64, 67, 0.3), 0px 1px 3px 1px rgba(60, 64, 67, 0.15);\n",
              "      fill: #174EA6;\n",
              "    }\n",
              "\n",
              "    [theme=dark] .colab-df-convert {\n",
              "      background-color: #3B4455;\n",
              "      fill: #D2E3FC;\n",
              "    }\n",
              "\n",
              "    [theme=dark] .colab-df-convert:hover {\n",
              "      background-color: #434B5C;\n",
              "      box-shadow: 0px 1px 3px 1px rgba(0, 0, 0, 0.15);\n",
              "      filter: drop-shadow(0px 1px 2px rgba(0, 0, 0, 0.3));\n",
              "      fill: #FFFFFF;\n",
              "    }\n",
              "  </style>\n",
              "\n",
              "      <script>\n",
              "        const buttonEl =\n",
              "          document.querySelector('#df-0d1f95ad-fe8e-4fd3-9f6e-ec3d58562671 button.colab-df-convert');\n",
              "        buttonEl.style.display =\n",
              "          google.colab.kernel.accessAllowed ? 'block' : 'none';\n",
              "\n",
              "        async function convertToInteractive(key) {\n",
              "          const element = document.querySelector('#df-0d1f95ad-fe8e-4fd3-9f6e-ec3d58562671');\n",
              "          const dataTable =\n",
              "            await google.colab.kernel.invokeFunction('convertToInteractive',\n",
              "                                                     [key], {});\n",
              "          if (!dataTable) return;\n",
              "\n",
              "          const docLinkHtml = 'Like what you see? Visit the ' +\n",
              "            '<a target=\"_blank\" href=https://colab.research.google.com/notebooks/data_table.ipynb>data table notebook</a>'\n",
              "            + ' to learn more about interactive tables.';\n",
              "          element.innerHTML = '';\n",
              "          dataTable['output_type'] = 'display_data';\n",
              "          await google.colab.output.renderOutput(dataTable, element);\n",
              "          const docLink = document.createElement('div');\n",
              "          docLink.innerHTML = docLinkHtml;\n",
              "          element.appendChild(docLink);\n",
              "        }\n",
              "      </script>\n",
              "    </div>\n",
              "  </div>\n",
              "  "
            ]
          },
          "metadata": {},
          "execution_count": 2
        }
      ]
    },
    {
      "cell_type": "code",
      "source": [
        "surfaces = df['Surface']\n",
        "loyers = df['Loyer']"
      ],
      "metadata": {
        "id": "_1oAg5YpiMbi"
      },
      "execution_count": 3,
      "outputs": []
    },
    {
      "cell_type": "code",
      "source": [
        "surfaces\n"
      ],
      "metadata": {
        "colab": {
          "base_uri": "https://localhost:8080/"
        },
        "id": "G5GEAnwojqsv",
        "outputId": "c136d83f-a2f9-4d47-e797-e492707127e5"
      },
      "execution_count": 4,
      "outputs": [
        {
          "output_type": "execute_result",
          "data": {
            "text/plain": [
              "0      28\n",
              "1      50\n",
              "2     106\n",
              "3     196\n",
              "4      55\n",
              "5     190\n",
              "6     110\n",
              "7      60\n",
              "8      48\n",
              "9      35\n",
              "10     86\n",
              "11     65\n",
              "12     32\n",
              "13     52\n",
              "14     40\n",
              "15    260\n",
              "16     70\n",
              "17    117\n",
              "18     90\n",
              "19     30\n",
              "20    105\n",
              "21     52\n",
              "22     80\n",
              "23     60\n",
              "24    140\n",
              "25     20\n",
              "26    100\n",
              "27     28\n",
              "Name: Surface, dtype: int64"
            ]
          },
          "metadata": {},
          "execution_count": 4
        }
      ]
    },
    {
      "cell_type": "markdown",
      "source": [
        "### **Calcul du point moyen**"
      ],
      "metadata": {
        "id": "q-0_5eGAzg1i"
      }
    },
    {
      "cell_type": "code",
      "source": [
        "x_bar = np.mean(surfaces)\n",
        "x_bar"
      ],
      "metadata": {
        "colab": {
          "base_uri": "https://localhost:8080/"
        },
        "id": "fyWeQSkGzrhO",
        "outputId": "777f2039-bef6-4389-a09a-9e49fdda867f"
      },
      "execution_count": 5,
      "outputs": [
        {
          "output_type": "execute_result",
          "data": {
            "text/plain": [
              "82.32142857142857"
            ]
          },
          "metadata": {},
          "execution_count": 5
        }
      ]
    },
    {
      "cell_type": "code",
      "source": [
        "y_bar = np.mean(loyers)\n",
        "y_bar"
      ],
      "metadata": {
        "colab": {
          "base_uri": "https://localhost:8080/"
        },
        "id": "f80CS4QS0BRz",
        "outputId": "ef223d0d-40e2-431b-c60e-ba7dbdcd54c5"
      },
      "execution_count": 6,
      "outputs": [
        {
          "output_type": "execute_result",
          "data": {
            "text/plain": [
              "2056.0714285714284"
            ]
          },
          "metadata": {},
          "execution_count": 6
        }
      ]
    },
    {
      "cell_type": "markdown",
      "source": [
        "### **visualisation du nuage de points**"
      ],
      "metadata": {
        "id": "EZ1rjHn7hFw5"
      }
    },
    {
      "cell_type": "code",
      "metadata": {
        "id": "mfJHevMZg7MK"
      },
      "source": [
        "import matplotlib.pyplot as plt     # matplotlib.pyplot permet de réaliser des graphiques"
      ],
      "execution_count": 7,
      "outputs": []
    },
    {
      "cell_type": "code",
      "source": [
        "def centrax(xmin, xmax, ymin, ymax, titre, legende = [], axe_x = \"\", axe_y = \"\"):\n",
        "    '''Cette procédure ajuste les paramètres graphiques : fenêtre (xmin, xmax, ymin, ymax), titre, légende (vide par défaut)'''\n",
        "    # ajustement des paramètres des axes (centrage, couleur, etc.)\n",
        "    ax = plt.gca()\n",
        "    ax.spines['left'].set_position('zero')\n",
        "    ax.spines['right'].set_color('none')\n",
        "    ax.spines['bottom'].set_position('zero')\n",
        "    ax.spines['top'].set_color('none')\n",
        "    ax.legend(legende, loc = 'best')\n",
        "\n",
        "    plt.xlim(xmin,xmax)   \n",
        "    plt.ylim(ymin,ymax)         # fenêtre d'affichage\n",
        "    plt.title(titre)            # titre du graphique au format LaTeX (encadré par des $)\n",
        "    plt.xlabel(axe_x)           # nom des axes\n",
        "    plt.ylabel(axe_y)\n",
        "\n",
        "    plt.show()"
      ],
      "metadata": {
        "id": "GhCIx0xKn5Tu"
      },
      "execution_count": 8,
      "outputs": []
    },
    {
      "cell_type": "code",
      "source": [
        "# paramètres graphiques\n",
        "xmin = -1\n",
        "xmax = max(surfaces)\n",
        "ymin = -1\n",
        "ymax = max(loyers)\n",
        "titre = \"Prix des loyers constatés selon la surface de l'appartement\"\n",
        "axe_x = \"Surfaces (m²)\"\n",
        "axe_y = \"Prix des loyers (€)\"\n",
        "\n"
      ],
      "metadata": {
        "id": "UBhpUdIXhJ1t"
      },
      "execution_count": 9,
      "outputs": []
    },
    {
      "cell_type": "code",
      "source": [
        "plt.scatter(surfaces,loyers,marker ='+',color = 'red')  # représentation graphique du nuage de points\n",
        "plt.scatter(x_bar,y_bar,marker = \"v\", color = \"blue\")   # placement du point moyen\n",
        "legende=['nuage de points', 'point moyen']\n",
        "centrax(xmin, xmax, ymin, ymax, titre, legende, axe_x, axe_y)"
      ],
      "metadata": {
        "colab": {
          "base_uri": "https://localhost:8080/",
          "height": 295
        },
        "id": "nebhyKVxpGbW",
        "outputId": "87dd37e8-3423-4a30-8115-fe5b84e029a4"
      },
      "execution_count": 10,
      "outputs": [
        {
          "output_type": "display_data",
          "data": {
            "text/plain": [
              "<Figure size 432x288 with 1 Axes>"
            ],
            "image/png": "[encoded data removed]"
          },
          "metadata": {
            "needs_background": "light"
          }
        }
      ]
    },
    {
      "cell_type": "markdown",
      "source": [
        "On constate que le nuage de points est plutôt rectiligne, ce qui justifie l'emploi d'un ajustement **linéaire**, par la méthode des moindres carrés."
      ],
      "metadata": {
        "id": "xsdKSrMKkoLk"
      }
    },
    {
      "cell_type": "code",
      "source": [
        "def droite(xx,a,b) :\n",
        "    '''Cette fonction reçoit un vecteur d'abscisse, un coefficient directeur a et une ordonnée à l'origine b\n",
        "    et trace la droite y = ax + b'''\n",
        "    yy = [a*x + b for x in xx]\n",
        "    plt.plot(xx,yy,color  ='blue', linewidth = 0.5)"
      ],
      "metadata": {
        "id": "GXs0sNghlWTp"
      },
      "execution_count": 11,
      "outputs": []
    },
    {
      "cell_type": "markdown",
      "source": [
        "**ajustement \"au doigt mouillé\"**\n",
        "\n",
        "* On fixe \"au pifomètre\" une équation de droite d'ajustement"
      ],
      "metadata": {
        "id": "QELFQDwMtXsY"
      }
    },
    {
      "cell_type": "code",
      "source": [
        "xx = [xmin,xmax]\n",
        "a = 20\n",
        "b = 0\n",
        "\n",
        "plt.scatter(surfaces,loyers,marker ='+',color = 'red')  # représentation graphique du nuage de points\n",
        "plt.scatter(x_bar,y_bar,marker = \"v\", color = \"blue\")   # placement du point moyen\n",
        "droite(xx,a,b)\n",
        "\n",
        "legende=[\"droite d'ajustement\",'nuage de points', 'point moyen']\n",
        "centrax(xmin, xmax, ymin, ymax, titre, legende, axe_x, axe_y)"
      ],
      "metadata": {
        "colab": {
          "base_uri": "https://localhost:8080/",
          "height": 295
        },
        "id": "iEYixQOapoL4",
        "outputId": "995af320-6d35-4bae-f030-18e91c73e58a"
      },
      "execution_count": 12,
      "outputs": [
        {
          "output_type": "display_data",
          "data": {
            "text/plain": [
              "<Figure size 432x288 with 1 Axes>"
            ],
            "image/png": "[encoded data removed]"
          },
          "metadata": {
            "needs_background": "light"
          }
        }
      ]
    },
    {
      "cell_type": "markdown",
      "source": [
        "* On calcule les prix ajustés, c'est-à-dire si l'on remplace le loyer réel constaté par l'ordonnée du point de la droite ayant la même abscisse."
      ],
      "metadata": {
        "id": "YWK5X-3Xt0a-"
      }
    },
    {
      "cell_type": "code",
      "source": [
        "def y_ajuste(xx,a,b):\n",
        "    '''Cette fonction reçoit une liste xx, les coeeficients caractéristiques de la droite de régression\n",
        "    et renvoie la liste des ordonnées ajustées sur cette droite'''\n",
        "    yy = [a*x + b for x in xx]\n",
        "    return yy"
      ],
      "metadata": {
        "id": "wbnylyjjpqUb"
      },
      "execution_count": 13,
      "outputs": []
    },
    {
      "cell_type": "code",
      "source": [
        "prix_ajustes = y_ajuste(surfaces,a,b)\n",
        "prix_ajustes"
      ],
      "metadata": {
        "colab": {
          "base_uri": "https://localhost:8080/"
        },
        "id": "4GpUY7yMr_Zx",
        "outputId": "9689651e-e8df-43aa-b8fc-dbfbd7dcb271"
      },
      "execution_count": 14,
      "outputs": [
        {
          "output_type": "execute_result",
          "data": {
            "text/plain": [
              "[560,\n",
              " 1000,\n",
              " 2120,\n",
              " 3920,\n",
              " 1100,\n",
              " 3800,\n",
              " 2200,\n",
              " 1200,\n",
              " 960,\n",
              " 700,\n",
              " 1720,\n",
              " 1300,\n",
              " 640,\n",
              " 1040,\n",
              " 800,\n",
              " 5200,\n",
              " 1400,\n",
              " 2340,\n",
              " 1800,\n",
              " 600,\n",
              " 2100,\n",
              " 1040,\n",
              " 1600,\n",
              " 1200,\n",
              " 2800,\n",
              " 400,\n",
              " 2000,\n",
              " 560]"
            ]
          },
          "metadata": {},
          "execution_count": 14
        }
      ]
    },
    {
      "cell_type": "code",
      "source": [
        "plt.scatter(surfaces,loyers,marker ='+',color = 'red')        # nuage de points\n",
        "droite(xx,a,b)                                                          # droite d'ajustement\n",
        "plt.scatter(x_bar,y_bar,marker = \"v\", color = \"blue\")                   # point moyen du nuage\n",
        "plt.scatter(surfaces,prix_ajustes,marker ='o',color = 'green')   # volumes ajustés sur la droite\n",
        "\n",
        "legende=[\"droite d'ajustement\",'nuage de points','point moyen', 'loyers ajustés']\n",
        "centrax(xmin, xmax, ymin, ymax, titre, legende, axe_x, axe_y)"
      ],
      "metadata": {
        "colab": {
          "base_uri": "https://localhost:8080/",
          "height": 295
        },
        "id": "zh7-jBbXsNq5",
        "outputId": "d03d4ad6-e6da-40b1-adf7-f9c180b46f53"
      },
      "execution_count": 15,
      "outputs": [
        {
          "output_type": "display_data",
          "data": {
            "text/plain": [
              "<Figure size 432x288 with 1 Axes>"
            ],
            "image/png": "[encoded data removed]"
          },
          "metadata": {
            "needs_background": "light"
          }
        }
      ]
    },
    {
      "cell_type": "markdown",
      "source": [
        "* On calcule les **\"résidus\"** verticaux, c'est-à-dire la somme des carrés des distances entre les volumes réels constatés et les volumes ajustés."
      ],
      "metadata": {
        "id": "4N8VrBQXuIcA"
      }
    },
    {
      "cell_type": "code",
      "source": [
        "def residus(y_reels,y_ajustes) : \n",
        "    '''Cette fonction reçoit deux listes : y_reels et y_ajustes, \n",
        "    et renvoie le \"résidu\" d'ajustement de la 1ère par la 2nde'''\n",
        "    res = sum([(y_reels[k] - y_ajustes[k])**2 for k in range(len(y_reels))])\n",
        "    return res"
      ],
      "metadata": {
        "id": "vR9udhvctKnx"
      },
      "execution_count": 49,
      "outputs": []
    },
    {
      "cell_type": "code",
      "source": [
        "residus(loyers,prix_ajustes)"
      ],
      "metadata": {
        "colab": {
          "base_uri": "https://localhost:8080/"
        },
        "id": "3BxmuXQ3vQvZ",
        "outputId": "0ef95e2b-f4ae-401e-f4e4-b648136536f3"
      },
      "execution_count": 50,
      "outputs": [
        {
          "output_type": "execute_result",
          "data": {
            "text/plain": [
              "9824080.226442628"
            ]
          },
          "metadata": {},
          "execution_count": 50
        }
      ]
    },
    {
      "cell_type": "markdown",
      "source": [
        "* on peut visualiser ces résidus"
      ],
      "metadata": {
        "id": "lrtTwCjRvwqs"
      }
    },
    {
      "cell_type": "code",
      "source": [
        "plt.scatter(surfaces,loyers,marker ='+',color = 'red')        # nuage de points\n",
        "droite(xx,a,b)                                                          # droite d'ajustement\n",
        "plt.scatter(x_bar,y_bar,marker = \"v\", color = \"blue\")                   # point moyen du nuage\n",
        "plt.scatter(surfaces,prix_ajustes,marker ='o',color = 'green')   # volumes ajustés sur la droite\n",
        "plt.plot([surfaces, surfaces],[loyers,prix_ajustes], color = \"black\", linewidth = 0.3)\n",
        "\n",
        "centrax(xmin, xmax, ymin, ymax, titre,\"\",axe_x,axe_y)"
      ],
      "metadata": {
        "colab": {
          "base_uri": "https://localhost:8080/",
          "height": 295
        },
        "id": "-Svo8OHAvcza",
        "outputId": "4290e9d8-8876-4dd1-f4be-283e2668ec77"
      },
      "execution_count": 51,
      "outputs": [
        {
          "output_type": "display_data",
          "data": {
            "text/plain": [
              "<Figure size 432x288 with 1 Axes>"
            ],
            "image/png": "[encoded data removed]"
          },
          "metadata": {
            "needs_background": "light"
          }
        }
      ]
    },
    {
      "cell_type": "markdown",
      "source": [
        "## **graphique interactif**\n",
        "\n"
      ],
      "metadata": {
        "id": "MWZZo8DfeOZT"
      }
    },
    {
      "cell_type": "code",
      "source": [
        "from ipywidgets import interact\n",
        "from IPython.display import display\n",
        "\n",
        "import matplotlib.pyplot as plt\n",
        "import numpy as np\n",
        "%matplotlib inline"
      ],
      "metadata": {
        "id": "5c-nwCzzeWpw"
      },
      "execution_count": 52,
      "outputs": []
    },
    {
      "cell_type": "markdown",
      "source": [
        "Intéragir sur les curseurs pour minimiser le résidu R affiché en haut à gauche."
      ],
      "metadata": {
        "id": "3vzL_0x2p9Pj"
      }
    },
    {
      "cell_type": "code",
      "source": [
        "\n",
        "def graph_interactif( a,b):\n",
        "    prix_ajustes = y_ajuste(surfaces,a,b)\n",
        "    \n",
        "    plt.scatter(surfaces,loyers,marker ='+',color = 'red')        # nuage de points\n",
        "    xx = [xmin,xmax]\n",
        "    droite(xx,a,b)                                                # droite d'ajustement\n",
        "    plt.scatter(x_bar,y_bar,marker = \"v\", color = \"blue\")         # point moyen du nuage\n",
        "    plt.scatter(surfaces,prix_ajustes,marker ='o',color = 'green')# volumes ajustés sur la droite\n",
        "\n",
        "    res = residus(loyers,prix_ajustes)\n",
        "\n",
        "interact(graph_interactif, a = (-50, 50, 0.5), b = (-500, 500,20))"
      ],
      "metadata": {
        "colab": {
          "base_uri": "https://localhost:8080/",
          "height": 346,
          "referenced_widgets": [
            "7b5e6b77338f465a95ab9db94e02762b",
            "57e0892ba82441c4aba3f91c5fd39b1f",
            "06984d8818b04b9ebbe42566850952e3",
            "f25f441185de4039809ce3b07516632d",
            "3400ac68fd414101bd0d60367ce09118",
            "58f9a9b9e14a4f428afc349ccab6a01a",
            "bdc3044f92e04150a0eebaad50b584f4",
            "e9acb11021bd403395f25a882b2dea1c",
            "988ddbdb1d134ecea812ed99fc289f45",
            "3cd9d270e1bb4442ad64ad4d8896dbef"
          ]
        },
        "id": "53od6g6ZebxV",
        "outputId": "018fdd7b-9127-4429-98cd-98025480bd96"
      },
      "execution_count": 53,
      "outputs": [
        {
          "output_type": "display_data",
          "data": {
            "text/plain": [
              "interactive(children=(FloatSlider(value=0.0, description='a', max=50.0, min=-50.0, step=0.5), IntSlider(value=…"
            ],
            "application/vnd.jupyter.widget-view+json": {
              "version_major": 2,
              "version_minor": 0,
              "model_id": "7b5e6b77338f465a95ab9db94e02762b"
            }
          },
          "metadata": {}
        },
        {
          "output_type": "execute_result",
          "data": {
            "text/plain": [
              "<function __main__.graph_interactif>"
            ]
          },
          "metadata": {},
          "execution_count": 53
        }
      ]
    },
    {
      "cell_type": "markdown",
      "source": [
        "* **Visualisation 3D du résidus en fonction des paramètres a et b**"
      ],
      "metadata": {
        "id": "k2bdf1PIHpLz"
      }
    },
    {
      "cell_type": "code",
      "source": [
        "def residu(a,b) :\n",
        "    prix_ajustes = y_ajuste(surfaces,a,b)\n",
        "    res = residus(loyers, prix_ajustes)\n",
        "    return res\n",
        "\n",
        "A = np.linspace(-10, 50, 61)\n",
        "B = np.linspace(-200,100,101)\n",
        "\n",
        "X,Y = np.meshgrid(A,B)\n",
        "Z = residu(X,Y)\n",
        "\n",
        "fig = plt.figure()\n",
        "ax = plt.axes(projection='3d')\n",
        "ax.contour3D(X, Y, Z, 30, cmap='plasma')\n",
        "ax.scatter(X,Y,Z,marker = '.', color = 'blue', s = 0.5)\n",
        "ax.set_xlabel('a')\n",
        "ax.set_ylabel('b')\n",
        "ax.set_zlabel('z')"
      ],
      "metadata": {
        "colab": {
          "base_uri": "https://localhost:8080/",
          "height": 320
        },
        "id": "KlEICd6pHukQ",
        "outputId": "beea1ce8-4089-4185-fe68-5904b66503ea"
      },
      "execution_count": 76,
      "outputs": [
        {
          "output_type": "stream",
          "name": "stderr",
          "text": [
            "/usr/local/lib/python3.7/dist-packages/mpl_toolkits/mplot3d/art3d.py:304: VisibleDeprecationWarning: Creating an ndarray from ragged nested sequences (which is a list-or-tuple of lists-or-tuples-or ndarrays with different lengths or shapes) is deprecated. If you meant to do this, you must specify 'dtype=object' when creating the ndarray.\n",
            "  self._segments3d = np.asanyarray(segments)\n"
          ]
        },
        {
          "output_type": "execute_result",
          "data": {
            "text/plain": [
              "Text(0.5, 0, 'z')"
            ]
          },
          "metadata": {},
          "execution_count": 76
        },
        {
          "output_type": "display_data",
          "data": {
            "text/plain": [
              "<Figure size 432x288 with 1 Axes>"
            ],
            "image/png": "[encoded data removed]"
          },
          "metadata": {
            "needs_background": "light"
          }
        }
      ]
    },
    {
      "cell_type": "code",
      "source": [
        "def graph_interactif( a,b):\n",
        "    fig = plt.figure(figsize=(12,6))\n",
        "\n",
        "    ax1 = fig.add_subplot(1, 2, 1)                      # 1ère sous-fenêtre\n",
        "    prix_ajustes = y_ajuste(surfaces,a,b)\n",
        "    ax1.scatter(surfaces,loyers,marker ='+',color = 'red')        # nuage de points\n",
        "    xx = [0,250]\n",
        "    yy = [a*x + b for x in xx]\n",
        "    ax1.plot(xx,yy,color  ='blue', linewidth = 0.5)               # droite d'ajustement\n",
        "    ax1.scatter(x_bar,y_bar,marker = \"v\", color = \"blue\")         # point moyen du nuage\n",
        "    ax1.scatter(surfaces,prix_ajustes,marker ='o',color = 'green')# volumes ajustés sur la droite\n",
        "    \n",
        "    ax2 = fig.add_subplot(1, 2, 2, projection='3d')     #2ème sous-fenêtre, 3D\n",
        "    A = np.linspace(-10, 50, 21)\n",
        "    B = np.linspace(-200,100,51)\n",
        "    X,Y = np.meshgrid(A,B)\n",
        "    Z = residu(X,Y)\n",
        "    ax2.plot_surface(X, Y, Z, alpha = 0.7, rstride=1, cstride=1,linewidth=1)\n",
        "    \n",
        "    ax2.set_xlabel('a')\n",
        "    ax2.set_ylabel('b')\n",
        "    ax2.set_zlabel('R')\n",
        "    ax2.scatter(a,b,residu(a,b), marker = 'o', color = 'red', s=20)\n",
        "        \n",
        "interact(graph_interactif, a = (-10, 50, 0.5), b = (-200, 100,20))"
      ],
      "metadata": {
        "colab": {
          "base_uri": "https://localhost:8080/",
          "height": 455,
          "referenced_widgets": [
            "71f21337f8e34c9ebdeb656842807540",
            "df6c4acddeb544278ae7568a3820aa6a",
            "a3ba3d18d7344e50a2e0ecb2f225ac53",
            "5dedd1982ea44ebbaed998cfe6c31f42",
            "49318ad40cc148d09735faee0e4f4e91",
            "b10b99e10d5047c1b12c77fb213ee510",
            "d45140f8b9ad40329098a6d444bf44c0",
            "787e3e20a2ff4a35ac41c446cd18472c",
            "a993d5ee3e8744bf8baa672afe886c90",
            "15a773eeaa3744fcb7cf5cc990ae4178"
          ]
        },
        "id": "iSN193vwL79p",
        "outputId": "510a9a14-55e4-4b18-f8d6-dd58d051bcbe"
      },
      "execution_count": 152,
      "outputs": [
        {
          "output_type": "display_data",
          "data": {
            "text/plain": [
              "interactive(children=(FloatSlider(value=20.0, description='a', max=50.0, min=-10.0, step=0.5), IntSlider(value…"
            ],
            "application/vnd.jupyter.widget-view+json": {
              "version_major": 2,
              "version_minor": 0,
              "model_id": "71f21337f8e34c9ebdeb656842807540"
            }
          },
          "metadata": {}
        },
        {
          "output_type": "execute_result",
          "data": {
            "text/plain": [
              "<function __main__.graph_interactif>"
            ]
          },
          "metadata": {},
          "execution_count": 152
        }
      ]
    },
    {
      "cell_type": "markdown",
      "source": [
        "## **Calcul de la droite d'ajustement linéaire, droite de régression du prix des loyers en la surface**\n",
        "\n",
        "**rappels**\n",
        "* **covariance empirique :** \n",
        "\n",
        "$$s_{XY} = \\frac{1}{n} \\sum_{i = 1}^{n} \\left ( x_i - \\bar{x}\\right)\\left ( xy_i - \\bar{y}\\right)$$\n",
        "\n",
        "* **coefficient directeur de la droite de régression de Y en X :**\n",
        "\n",
        "$$ a = \\frac{s_{XY}}{\\sigma^2(X)}$$\n",
        "\n",
        "* **ordonnée à l'origine de la droite de régression de Y en X**\n",
        "\n",
        "$$ b = \\bar{y} - a . \\bar{x}$$\n",
        "\n",
        "* **équation de la droite de régression de Y en X :**\n",
        "\n",
        "$$y = a . x + b$$"
      ],
      "metadata": {
        "id": "xENNSgcnyvDY"
      }
    },
    {
      "cell_type": "code",
      "source": [
        "def covariance_empirique(x,y) :\n",
        "    '''Cette fonction reçoit deux listes x et y, de même taille, \n",
        "    et renvoie la covariance de ces deux listes\n",
        "    Remarque : si x = y, on obtient la variance de x.'''\n",
        "    xbar = np.mean(x)\n",
        "    ybar = np.mean(y)\n",
        "    n = len(x)\n",
        "\n",
        "    s_XY = 1/n * sum([(x[k] - xbar)*(y[k] - ybar) for k in range(n)])\n",
        "    return s_XY"
      ],
      "metadata": {
        "id": "-oHPMfg0wMU1"
      },
      "execution_count": 21,
      "outputs": []
    },
    {
      "cell_type": "code",
      "source": [
        "s_XY = covariance_empirique(surfaces, loyers)\n",
        "s_XY"
      ],
      "metadata": {
        "colab": {
          "base_uri": "https://localhost:8080/"
        },
        "id": "kD0ocPzFFyiX",
        "outputId": "0c364349-d69e-41d6-e432-221f62badb5b"
      },
      "execution_count": 22,
      "outputs": [
        {
          "output_type": "execute_result",
          "data": {
            "text/plain": [
              "84302.86989795917"
            ]
          },
          "metadata": {},
          "execution_count": 22
        }
      ]
    },
    {
      "cell_type": "code",
      "source": [
        "def coeff_droite_regression(x,y):\n",
        "    '''Cette fonction reçoit deux listes x et y de même taille,\n",
        "    et renvoie les coefficients de la droite d'ajustemennt de y en x'''\n",
        "    xbar = np.mean(x)\n",
        "    ybar = np.mean(y)\n",
        "\n",
        "    # pente\n",
        "    a = covariance_empirique(x, y) / covariance_empirique(x, x)\n",
        "    # ordonnée à l'origine\n",
        "    b = ybar - a * xbar\n",
        "    return a, b"
      ],
      "metadata": {
        "id": "jPCsqQ-TGMn8"
      },
      "execution_count": 23,
      "outputs": []
    },
    {
      "cell_type": "code",
      "source": [
        "a,b = coeff_droite_regression(surfaces, loyers)\n",
        "print('Équation de la droite de régression de Y en X : y=' + str(a) + '.x + ' + str(b))"
      ],
      "metadata": {
        "colab": {
          "base_uri": "https://localhost:8080/"
        },
        "id": "nHPZWySHG9xU",
        "outputId": "20bd5826-8265-4139-b249-06c613a23843"
      },
      "execution_count": 24,
      "outputs": [
        {
          "output_type": "stream",
          "name": "stdout",
          "text": [
            "Équation de la droite de régression de Y en X : y=26.765817999508364.x + -147.32894603095656\n"
          ]
        }
      ]
    },
    {
      "cell_type": "markdown",
      "source": [
        "**Représentation graphique**"
      ],
      "metadata": {
        "id": "9baucCK3HV68"
      }
    },
    {
      "cell_type": "code",
      "source": [
        "prix_ajustes = y_ajuste(surfaces,a,b)\n",
        "#prix_ajustes"
      ],
      "metadata": {
        "id": "WE23-kv0H3ZO"
      },
      "execution_count": 25,
      "outputs": []
    },
    {
      "cell_type": "code",
      "source": [
        "plt.scatter(surfaces,loyers,marker ='+',color = 'red')                  # nuage de points\n",
        "droite(xx,a,b)                                                          # droite d'ajustement\n",
        "plt.scatter(x_bar,y_bar,marker = \"v\", color = \"blue\")                   # point moyen du nuage\n",
        "plt.scatter(surfaces,prix_ajustes,marker ='o',color = 'green')          # prix ajustés sur la droite\n",
        "\n",
        "legende=[\"droite d'ajustement\",'nuage de points','point moyen', 'prix ajustés']\n",
        "centrax(xmin, xmax, ymin, ymax, titre, legende, axe_x, axe_y)"
      ],
      "metadata": {
        "colab": {
          "base_uri": "https://localhost:8080/",
          "height": 295
        },
        "id": "at6uSsdhHgxg",
        "outputId": "185a92d9-afd1-4ab0-d374-5da853549a97"
      },
      "execution_count": 26,
      "outputs": [
        {
          "output_type": "display_data",
          "data": {
            "text/plain": [
              "<Figure size 432x288 with 1 Axes>"
            ],
            "image/png": "[encoded data removed]"
          },
          "metadata": {
            "needs_background": "light"
          }
        }
      ]
    },
    {
      "cell_type": "markdown",
      "source": [
        "On observe que la droite de régression de Y en X passe bien par le point moyen !"
      ],
      "metadata": {
        "id": "DKS8dLEFHjyt"
      }
    },
    {
      "cell_type": "code",
      "source": [
        "residus(loyers,prix_ajustes)"
      ],
      "metadata": {
        "colab": {
          "base_uri": "https://localhost:8080/"
        },
        "id": "EJhARkYkHiCI",
        "outputId": "b797bf2a-aa38-4daf-88b1-631af9700129"
      },
      "execution_count": 27,
      "outputs": [
        {
          "output_type": "execute_result",
          "data": {
            "text/plain": [
              "9824080.226442628"
            ]
          },
          "metadata": {},
          "execution_count": 27
        }
      ]
    },
    {
      "cell_type": "markdown",
      "source": [
        "On a optimisé ces résidus."
      ],
      "metadata": {
        "id": "Ov2-fKhaILBt"
      }
    },
    {
      "cell_type": "markdown",
      "source": [
        "### **Interpolation et extrapolations linéaires**\n",
        "\n",
        "* Par interpolation, indiquer le prix du loyer à prévoir pour une surface de 250 m². \n",
        "\n"
      ],
      "metadata": {
        "id": "9BkhUhLzISN_"
      }
    },
    {
      "cell_type": "code",
      "source": [
        "x = 250\n",
        "y = a*x + b\n",
        "print(\"Pour un appartement de \" + str(x) + \" m², prévoir un loyer de : \" + str(np.round(y*100)/100) + ' €')"
      ],
      "metadata": {
        "colab": {
          "base_uri": "https://localhost:8080/"
        },
        "id": "nVkPoHGQItNZ",
        "outputId": "4798f7d0-9f43-4c84-b8b2-9cd5fa5d36e5"
      },
      "execution_count": 28,
      "outputs": [
        {
          "output_type": "stream",
          "name": "stdout",
          "text": [
            "Pour un appartement de 250 m², prévoir un loyer de : 6544.13 €\n"
          ]
        }
      ]
    },
    {
      "cell_type": "markdown",
      "source": [
        "### **Regression de la surface en le prix du loyer**\n",
        "\n",
        "Il nous faut calculer l'autre droite de regression, car les résidus sont cette fois pris horizontalement."
      ],
      "metadata": {
        "id": "l4v7ANyTUmEw"
      }
    },
    {
      "cell_type": "code",
      "source": [
        "a,b = coeff_droite_regression(loyers, surfaces)\n",
        "a_prim = 1/a\n",
        "b_prim = y_bar - a_prim * x_bar\n",
        "print('Équation de la droite de régression de Y en X : y=' + str(a_prim) + '.x + ' + str(b_prim))\n"
      ],
      "metadata": {
        "id": "N00UqRTYJLAG",
        "colab": {
          "base_uri": "https://localhost:8080/"
        },
        "outputId": "0bd92ec1-d9fe-4b12-e2a2-0e5c4e3a6ef2"
      },
      "execution_count": 29,
      "outputs": [
        {
          "output_type": "stream",
          "name": "stdout",
          "text": [
            "Équation de la droite de régression de Y en X : y=30.927716740463694.x + -489.94239595602903\n"
          ]
        }
      ]
    },
    {
      "cell_type": "code",
      "source": [
        "y = 5000\n",
        "x = (y - b_prim) / a_prim\n",
        "print(\"Pour un loyer de : \" + str(np.round(y*100)/100) + ' €, on peut espérer un appartement de ' + str(np.round(x)) + \" m².\")"
      ],
      "metadata": {
        "colab": {
          "base_uri": "https://localhost:8080/"
        },
        "id": "_DYfk6PsXuy4",
        "outputId": "166c6f5a-a6cb-48b3-867b-49adc6af26b4"
      },
      "execution_count": 30,
      "outputs": [
        {
          "output_type": "stream",
          "name": "stdout",
          "text": [
            "Pour un loyer de : 5000.0 €, on peut espérer un appartement de 178.0 m².\n"
          ]
        }
      ]
    },
    {
      "cell_type": "markdown",
      "source": [
        "# **Intelligence artificielle : Calcul de la droite de regression par une descente de gradient**\n",
        "\n",
        "* les données"
      ],
      "metadata": {
        "id": "oVYUBFI2rZb8"
      }
    },
    {
      "cell_type": "code",
      "source": [
        "# Fabrique le numpy array X, contenant les valeurs de Surface.\n",
        "# et le vecteur de sortie y, contenant les valeurs de Loyer.\n",
        "X = np.array(surfaces)\n",
        "y = np.array(loyers)\n",
        "\n",
        "m = len(X)"
      ],
      "metadata": {
        "id": "BRH_eAhexqpH"
      },
      "execution_count": 31,
      "outputs": []
    },
    {
      "cell_type": "markdown",
      "source": [
        "* création du modèle"
      ],
      "metadata": {
        "id": "9HE-2HybxwvE"
      }
    },
    {
      "cell_type": "code",
      "metadata": {
        "id": "z3klN3VIAC6o"
      },
      "source": [
        "def predict(w, b, X):\n",
        "    \"\"\" A method that runs our linear model\n",
        "    w : np.ndarray (1, num_dimensions)\n",
        "        A weight matrix which will be fit to the data\n",
        "    b : float (1, 1)\n",
        "        The bias unit for our linear model\n",
        "    X : np.ndarray (num_dimensions, num_examples)\n",
        "        The m input examples for which we would like to predict a y value\n",
        "    \"\"\"\n",
        "    return w * X + b\n",
        " \n"
      ],
      "execution_count": 32,
      "outputs": []
    },
    {
      "cell_type": "markdown",
      "source": [
        "* coût (erreur ou *loss*)"
      ],
      "metadata": {
        "id": "9OgE4HX-vGvv"
      }
    },
    {
      "cell_type": "code",
      "metadata": {
        "id": "wIBhLEFLAdrI"
      },
      "source": [
        "def cost(y, y_pred):\n",
        "    \"\"\"\n",
        "    y : np.ndarray (num_examples, 1)\n",
        "        The ground truth results\n",
        "    y_pred : np.ndarray (num_examples, 1)\n",
        "    \"\"\"\n",
        "    return np.sqrt(((y_pred - y) ** 2).mean())\n"
      ],
      "execution_count": 33,
      "outputs": []
    },
    {
      "cell_type": "markdown",
      "metadata": {
        "id": "l3EAGnHcefK9"
      },
      "source": [
        "### **Implémentation de la descente de gradient**\n",
        "On veut observer l'effet d'une variation des paramètres sur le coût, en mathématiques, cela s'appelle calculer la dérivée de la fonction de coût ! (pas compliquée ici puisqu'on dérive un carré...)\n",
        "\n",
        "![Formule de la descente de gradient](https://drive.google.com/uc?id=1TaSb_ce-rny-1asU3YNQFDA-6Q6uwKpB)\n",
        "\n",
        "a (alpha) désigne le **\"taux d'apprentissage\"** (*Learning Ratio*), trop lent, on ne convergera pas assez vers la solution optimale, trop rapide, on oscillera autour..."
      ]
    },
    {
      "cell_type": "markdown",
      "metadata": {
        "id": "5HLptlxMA5Jj"
      },
      "source": [
        "* Le gradient"
      ]
    },
    {
      "cell_type": "code",
      "metadata": {
        "id": "07n-vVaEA0Ne"
      },
      "source": [
        "def gradient(X, y, y_pred):\n",
        "    \"\"\"\n",
        "    X : np.ndarray (num_dimensions, num_examples)\n",
        "        The m input examples for which we would like to predict a y value\n",
        "    y : np.ndarray (num_examples, 1)\n",
        "        The ground truth results\n",
        "    y_pred : np.ndarray (num_examples, 1)\n",
        "        Our model's predictions\n",
        "    \"\"\"\n",
        "    dw = ((y_pred - y) * X).mean()/cost(y,y_pred)\n",
        "    db = (y_pred - y).mean()/cost(y,y_pred)\n",
        "    return dw, db\n",
        " \n"
      ],
      "execution_count": 41,
      "outputs": []
    },
    {
      "cell_type": "markdown",
      "metadata": {
        "id": "hWhfzNumBKKI"
      },
      "source": [
        "* L'optimisation par descente de gradient\n"
      ]
    },
    {
      "cell_type": "code",
      "metadata": {
        "id": "iVV2A7G4BAVW"
      },
      "source": [
        "def gradient_descent(X, y, w, b, epochs, learning_ratio):\n",
        "    \"\"\"\n",
        "    X : np.ndarray (num_dimensions, num_examples)\n",
        "        The m input examples for which we would like to predict a y value\n",
        "    y : np.ndarray (num_examples, 1)\n",
        "        The ground truth results\n",
        "    w : np.ndarray (1, num_dimensions)\n",
        "        A weight matrix which will be fit to the data\n",
        "    b : float\n",
        "        The bias unit for our linear model\n",
        "    epochs : int\n",
        "        The number of times our model iterates over the entire training set\n",
        "    learning_rate : float\n",
        "        The rate at which our model tends to adjust it's parameters\n",
        "    \"\"\"\n",
        "\n",
        "    for i in range(epochs):\n",
        "        # predict the value of y with our current model\n",
        "        y_pred = predict(w, b, X)\n",
        "        \n",
        "        # compute the gradient with respect to w and b\n",
        "        dw, db = gradient(X, y, y_pred)\n",
        "        \n",
        "        # adjust w and b as to minimize the cost function\n",
        "        w = w - learning_ratio * dw\n",
        "        b = b - learning_ratio * db\n",
        "\n",
        "        # cost\n",
        "        l = cost(y,y_pred)\n",
        "        loss_history.append(l)\n",
        "        w_history.append(w)\n",
        "        b_history.append(b)\n",
        "        absc.append(i)\n",
        "\n",
        "    return w, b\n"
      ],
      "execution_count": 42,
      "outputs": []
    },
    {
      "cell_type": "markdown",
      "metadata": {
        "id": "omtTP1_pAtEY"
      },
      "source": [
        "* Initialisation des paramètres"
      ]
    },
    {
      "cell_type": "code",
      "metadata": {
        "id": "Zu782EHMAvmm"
      },
      "source": [
        "def initialize_parameters(n):\n",
        "    \"\"\"\n",
        "    n : int\n",
        "        The dimensions of the data\n",
        "    \"\"\"\n",
        "    return np.zeros((1, n)), 0\n",
        " \n"
      ],
      "execution_count": 43,
      "outputs": []
    },
    {
      "cell_type": "markdown",
      "metadata": {
        "id": "6-55efG0Bn3Z"
      },
      "source": [
        "* Exécution"
      ]
    },
    {
      "cell_type": "code",
      "source": [
        "# initialize w and b\n",
        "w, b = initialize_parameters(m)\n",
        "\n",
        "#initialize histories\n",
        "loss_history = []\n",
        "w_history = []\n",
        "b_history = []\n",
        "absc = []\n",
        "        \n",
        "# run gradient descent in order to find optimal values for w and b\n",
        "epochs=100000\n",
        "learning_ratio=0.1\n",
        "w, b = gradient_descent(X, y, w, b, epochs, learning_ratio)\n",
        "\n",
        "# calculate the final cost function\n",
        "c = cost(y, predict(w, b, X))\n",
        "    \n",
        "# print out the model details\n",
        "print('w:', w[0][0])\n",
        "print('b:', b)\n",
        "print('cost:', c)\n"
      ],
      "metadata": {
        "colab": {
          "base_uri": "https://localhost:8080/"
        },
        "id": "uchdyK4q243n",
        "outputId": "b82b7e93-6e47-4d54-ed67-85777ba23b7f"
      },
      "execution_count": 44,
      "outputs": [
        {
          "output_type": "stream",
          "name": "stdout",
          "text": [
            "w: 26.760016853839343\n",
            "b: -146.62945592571782\n",
            "cost: 592.3345029092997\n"
          ]
        }
      ]
    },
    {
      "cell_type": "markdown",
      "source": [
        "observation de la convergence des poids de la régression "
      ],
      "metadata": {
        "id": "KBwW_xcV2_LF"
      }
    },
    {
      "cell_type": "code",
      "metadata": {
        "id": "WxAfM8TkBr1k",
        "colab": {
          "base_uri": "https://localhost:8080/",
          "height": 299
        },
        "outputId": "0f4a6aea-40b6-4896-bf9e-f9733635deb5"
      },
      "source": [
        "\n",
        "\n",
        "# graphics\n",
        "plt.subplot(1,3,1)\n",
        "plt.plot(range(epochs),loss_history,'r')\n",
        "plt.xlabel(\"Iterations\")\n",
        "plt.ylabel(\"loss\")\n",
        "\n",
        "plt.subplot(1,3,2)\n",
        "plt.plot(range(epochs), np.mean(w_history, axis = 1))\n",
        "plt.xlabel(\"Iterations\")\n",
        "plt.ylabel(\"poids\")\n",
        "\n",
        "plt.subplot(1,3,3)\n",
        "plt.plot(range(epochs), b_history)\n",
        "plt.xlabel(\"Iterations\")\n",
        "plt.ylabel(\"biais\")\n"
      ],
      "execution_count": 45,
      "outputs": [
        {
          "output_type": "execute_result",
          "data": {
            "text/plain": [
              "Text(0, 0.5, 'biais')"
            ]
          },
          "metadata": {},
          "execution_count": 45
        },
        {
          "output_type": "display_data",
          "data": {
            "text/plain": [
              "<Figure size 432x288 with 3 Axes>"
            ],
            "image/png": "[encoded data removed]"
          },
          "metadata": {
            "needs_background": "light"
          }
        }
      ]
    },
    {
      "cell_type": "markdown",
      "source": [
        "On voit que l'erreur (*loss*) a diminué et atteint (presque) son minimum très rapidement, et que le paramètre $a$ a convergé très vite, le reste du temps a été employé a un réglage fin du paramètre $b$.\n",
        "Ceci s'explique par la forte différence d'échelle entre les valeurs des surfaces et celles des loyers."
      ],
      "metadata": {
        "id": "nNJaJvEKDTyX"
      }
    },
    {
      "cell_type": "code",
      "metadata": {
        "id": "ESZ8kRnia5In",
        "colab": {
          "base_uri": "https://localhost:8080/"
        },
        "outputId": "c6e8f4d3-98ac-4e20-d8d3-301778c720f2"
      },
      "source": [
        "epochs"
      ],
      "execution_count": 46,
      "outputs": [
        {
          "output_type": "execute_result",
          "data": {
            "text/plain": [
              "100000"
            ]
          },
          "metadata": {},
          "execution_count": 46
        }
      ]
    },
    {
      "cell_type": "markdown",
      "metadata": {
        "id": "5sZb5MhQjE7R"
      },
      "source": [
        "**Affichage de l'hypothèse finale**"
      ]
    },
    {
      "cell_type": "code",
      "metadata": {
        "id": "r3zaBQyEjLJ0",
        "colab": {
          "base_uri": "https://localhost:8080/",
          "height": 383
        },
        "outputId": "2bc45839-892c-4dfb-afd9-8b337403c576"
      },
      "source": [
        "\n",
        "# Plot training set\n",
        "plt.scatter(X, y ,  color='blue')\n",
        "\n",
        "# Plot Hypothesis (theta were calculated with the Gradient Descent)\n",
        "\n",
        "y_pred =w*X+b\n",
        "print(y_pred)\n",
        "\n",
        "plt.plot(X, y_pred.T, color='red', linewidth=1)\n",
        "# Plot costs\n",
        "#for k in range(m):\n",
        "#   plt.plot([X[k], X[k]],[y[k],y_pred[k]],'g--', linewidth=1 )\n",
        "\n",
        "# Mean Point\n",
        "plt.scatter(np.mean(X),np.mean(y), color='black')\n",
        "\n",
        "# Put labels\n",
        "plt.xlabel(\"Surface(m²)\")\n",
        "plt.ylabel(\"Loyer(€)\")\n",
        "\n",
        "plt.show()\n"
      ],
      "execution_count": 47,
      "outputs": [
        {
          "output_type": "stream",
          "name": "stdout",
          "text": [
            "[[ 602.65101598 1191.37138677 2689.93233058 5098.33384743 1325.17147104\n",
            "  4937.7737463  2796.972398   1458.9715553  1137.85135306  789.97113396\n",
            "  2154.7319935  1592.77163957  709.6910834  1244.89142047  923.77121823\n",
            "  6810.97492607 1726.57172384 2984.29251597 2261.77206092  656.17104969\n",
            "  2663.17231373 1244.89142047 1994.17189238 1458.9715553  3599.77290361\n",
            "   388.57088115 2529.37222946  602.65101598]]\n"
          ]
        },
        {
          "output_type": "display_data",
          "data": {
            "text/plain": [
              "<Figure size 432x288 with 1 Axes>"
            ],
            "image/png": "[encoded data removed]"
          },
          "metadata": {
            "needs_background": "light"
          }
        }
      ]
    },
    {
      "cell_type": "code",
      "source": [
        ""
      ],
      "metadata": {
        "id": "4Kh5hEWvy7sW"
      },
      "execution_count": 47,
      "outputs": []
    }
  ]
}