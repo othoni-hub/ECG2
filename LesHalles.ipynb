{
  "nbformat": 4,
  "nbformat_minor": 0,
  "metadata": {
    "colab": {
      "name": "LesHalles.ipynb",
      "provenance": [],
      "authorship_tag": "ABX9TyOYn6yW4Z+/SKd1P6/DirLi",
      "include_colab_link": true
    },
    "kernelspec": {
      "name": "python3",
      "display_name": "Python 3"
    },
    "language_info": {
      "name": "python"
    }
  },
  "cells": [
    {
      "cell_type": "markdown",
      "metadata": {
        "id": "view-in-github",
        "colab_type": "text"
      },
      "source": [
        "<a href=\"https://colab.research.google.com/github/othoni-hub/ECG2/blob/main/LesHalles.ipynb\" target=\"_parent\"><img src=\"https://colab.research.google.com/assets/colab-badge.svg\" alt=\"Open In Colab\"/></a>"
      ]
    },
    {
      "cell_type": "markdown",
      "metadata": {
        "id": "9gRjJPolrmT_"
      },
      "source": [
        "# **CPGE-ECG2** \n"
      ]
    },
    {
      "cell_type": "markdown",
      "metadata": {
        "id": "Gprox7oVPE7W"
      },
      "source": [
        "\n",
        "\n",
        "## **Ch4 - Notebook : Statistiques bivariées : exercice 2 \"Les Halles\"**\n",
        "\n",
        "<img src=\"https://drive.google.com/uc?id=12Wo3LubGGT4qOvYFAuLP4CyCuwjKNVuk\" width=\"230\" height=\"150\" align = \"right\"/>\n",
        "\n",
        "\n",
        "\n",
        "\n",
        "**O.Thöni - Lycée Saint-Charles Sainte Croix - LE MANS**"
      ]
    },
    {
      "cell_type": "markdown",
      "source": [
        "## **Étude d'un prix d'équilibre.**\n",
        "\n"
      ],
      "metadata": {
        "id": "z-uv2jTIfNEh"
      }
    },
    {
      "cell_type": "markdown",
      "source": [
        "Les données sont importées depuis un fichier csv et stockées dans un dataFrame Pandas"
      ],
      "metadata": {
        "id": "YjDd1xQ7jcbg"
      }
    },
    {
      "cell_type": "code",
      "source": [
        "import pandas as pd\n",
        "import numpy as np\n"
      ],
      "metadata": {
        "id": "HqazpGmchJxI"
      },
      "execution_count": null,
      "outputs": []
    },
    {
      "cell_type": "code",
      "source": [
        "url = \"https://raw.githubusercontent.com/othoni-hub/ECG2/main/LesHalles.csv\"\n",
        "# attention : import depuis Github : copier le \"raw-github-link\"\n",
        "df = pd.read_csv(url, sep = \",\", encoding='utf-8') # le fichier importé est un fichier .csv, séparateur virgule, converti en DataFrame Pandas\n",
        "df.head()"
      ],
      "metadata": {
        "colab": {
          "base_uri": "https://localhost:8080/",
          "height": 206
        },
        "id": "USLN2zXfZ5OU",
        "outputId": "6b7d6bb6-bedb-4698-f297-0fa695c0015f"
      },
      "execution_count": null,
      "outputs": [
        {
          "output_type": "execute_result",
          "data": {
            "text/plain": [
              "   Prix proposé xi  Demande yi  Offre zi\n",
              "0             0.30        5.25      1.25\n",
              "1             0.35        4.90      1.30\n",
              "2             0.45        4.10      1.30\n",
              "3             0.65        3.25      1.50\n",
              "4             0.80        2.40      1.55"
            ],
            "text/html": [
              "\n",
              "  <div id=\"df-4b54fbd1-1bf8-4951-947b-c12d75be8dca\">\n",
              "    <div class=\"colab-df-container\">\n",
              "      <div>\n",
              "<style scoped>\n",
              "    .dataframe tbody tr th:only-of-type {\n",
              "        vertical-align: middle;\n",
              "    }\n",
              "\n",
              "    .dataframe tbody tr th {\n",
              "        vertical-align: top;\n",
              "    }\n",
              "\n",
              "    .dataframe thead th {\n",
              "        text-align: right;\n",
              "    }\n",
              "</style>\n",
              "<table border=\"1\" class=\"dataframe\">\n",
              "  <thead>\n",
              "    <tr style=\"text-align: right;\">\n",
              "      <th></th>\n",
              "      <th>Prix proposé xi</th>\n",
              "      <th>Demande yi</th>\n",
              "      <th>Offre zi</th>\n",
              "    </tr>\n",
              "  </thead>\n",
              "  <tbody>\n",
              "    <tr>\n",
              "      <th>0</th>\n",
              "      <td>0.30</td>\n",
              "      <td>5.25</td>\n",
              "      <td>1.25</td>\n",
              "    </tr>\n",
              "    <tr>\n",
              "      <th>1</th>\n",
              "      <td>0.35</td>\n",
              "      <td>4.90</td>\n",
              "      <td>1.30</td>\n",
              "    </tr>\n",
              "    <tr>\n",
              "      <th>2</th>\n",
              "      <td>0.45</td>\n",
              "      <td>4.10</td>\n",
              "      <td>1.30</td>\n",
              "    </tr>\n",
              "    <tr>\n",
              "      <th>3</th>\n",
              "      <td>0.65</td>\n",
              "      <td>3.25</td>\n",
              "      <td>1.50</td>\n",
              "    </tr>\n",
              "    <tr>\n",
              "      <th>4</th>\n",
              "      <td>0.80</td>\n",
              "      <td>2.40</td>\n",
              "      <td>1.55</td>\n",
              "    </tr>\n",
              "  </tbody>\n",
              "</table>\n",
              "</div>\n",
              "      <button class=\"colab-df-convert\" onclick=\"convertToInteractive('df-4b54fbd1-1bf8-4951-947b-c12d75be8dca')\"\n",
              "              title=\"Convert this dataframe to an interactive table.\"\n",
              "              style=\"display:none;\">\n",
              "        \n",
              "  <svg xmlns=\"http://www.w3.org/2000/svg\" height=\"24px\"viewBox=\"0 0 24 24\"\n",
              "       width=\"24px\">\n",
              "    <path d=\"M0 0h24v24H0V0z\" fill=\"none\"/>\n",
              "    <path d=\"M18.56 5.44l.94 2.06.94-2.06 2.06-.94-2.06-.94-.94-2.06-.94 2.06-2.06.94zm-11 1L8.5 8.5l.94-2.06 2.06-.94-2.06-.94L8.5 2.5l-.94 2.06-2.06.94zm10 10l.94 2.06.94-2.06 2.06-.94-2.06-.94-.94-2.06-.94 2.06-2.06.94z\"/><path d=\"M17.41 7.96l-1.37-1.37c-.4-.4-.92-.59-1.43-.59-.52 0-1.04.2-1.43.59L10.3 9.45l-7.72 7.72c-.78.78-.78 2.05 0 2.83L4 21.41c.39.39.9.59 1.41.59.51 0 1.02-.2 1.41-.59l7.78-7.78 2.81-2.81c.8-.78.8-2.07 0-2.86zM5.41 20L4 18.59l7.72-7.72 1.47 1.35L5.41 20z\"/>\n",
              "  </svg>\n",
              "      </button>\n",
              "      \n",
              "  <style>\n",
              "    .colab-df-container {\n",
              "      display:flex;\n",
              "      flex-wrap:wrap;\n",
              "      gap: 12px;\n",
              "    }\n",
              "\n",
              "    .colab-df-convert {\n",
              "      background-color: #E8F0FE;\n",
              "      border: none;\n",
              "      border-radius: 50%;\n",
              "      cursor: pointer;\n",
              "      display: none;\n",
              "      fill: #1967D2;\n",
              "      height: 32px;\n",
              "      padding: 0 0 0 0;\n",
              "      width: 32px;\n",
              "    }\n",
              "\n",
              "    .colab-df-convert:hover {\n",
              "      background-color: #E2EBFA;\n",
              "      box-shadow: 0px 1px 2px rgba(60, 64, 67, 0.3), 0px 1px 3px 1px rgba(60, 64, 67, 0.15);\n",
              "      fill: #174EA6;\n",
              "    }\n",
              "\n",
              "    [theme=dark] .colab-df-convert {\n",
              "      background-color: #3B4455;\n",
              "      fill: #D2E3FC;\n",
              "    }\n",
              "\n",
              "    [theme=dark] .colab-df-convert:hover {\n",
              "      background-color: #434B5C;\n",
              "      box-shadow: 0px 1px 3px 1px rgba(0, 0, 0, 0.15);\n",
              "      filter: drop-shadow(0px 1px 2px rgba(0, 0, 0, 0.3));\n",
              "      fill: #FFFFFF;\n",
              "    }\n",
              "  </style>\n",
              "\n",
              "      <script>\n",
              "        const buttonEl =\n",
              "          document.querySelector('#df-4b54fbd1-1bf8-4951-947b-c12d75be8dca button.colab-df-convert');\n",
              "        buttonEl.style.display =\n",
              "          google.colab.kernel.accessAllowed ? 'block' : 'none';\n",
              "\n",
              "        async function convertToInteractive(key) {\n",
              "          const element = document.querySelector('#df-4b54fbd1-1bf8-4951-947b-c12d75be8dca');\n",
              "          const dataTable =\n",
              "            await google.colab.kernel.invokeFunction('convertToInteractive',\n",
              "                                                     [key], {});\n",
              "          if (!dataTable) return;\n",
              "\n",
              "          const docLinkHtml = 'Like what you see? Visit the ' +\n",
              "            '<a target=\"_blank\" href=https://colab.research.google.com/notebooks/data_table.ipynb>data table notebook</a>'\n",
              "            + ' to learn more about interactive tables.';\n",
              "          element.innerHTML = '';\n",
              "          dataTable['output_type'] = 'display_data';\n",
              "          await google.colab.output.renderOutput(dataTable, element);\n",
              "          const docLink = document.createElement('div');\n",
              "          docLink.innerHTML = docLinkHtml;\n",
              "          element.appendChild(docLink);\n",
              "        }\n",
              "      </script>\n",
              "    </div>\n",
              "  </div>\n",
              "  "
            ]
          },
          "metadata": {},
          "execution_count": 75
        }
      ]
    },
    {
      "cell_type": "code",
      "source": [
        "Prix = df['Prix proposé xi']\n",
        "Demande = df['Demande yi']\n",
        "Offre = df['Offre zi']"
      ],
      "metadata": {
        "id": "Xi_I9E3s58VF"
      },
      "execution_count": null,
      "outputs": []
    },
    {
      "cell_type": "markdown",
      "source": [
        "### **Calcul du point moyen**"
      ],
      "metadata": {
        "id": "q-0_5eGAzg1i"
      }
    },
    {
      "cell_type": "code",
      "source": [
        "x_bar = np.mean(Prix)\n",
        "x_bar"
      ],
      "metadata": {
        "colab": {
          "base_uri": "https://localhost:8080/"
        },
        "id": "fyWeQSkGzrhO",
        "outputId": "bb75b78f-eefb-49f1-fe2c-ff10573fc438"
      },
      "execution_count": null,
      "outputs": [
        {
          "output_type": "execute_result",
          "data": {
            "text/plain": [
              "0.5916666666666667"
            ]
          },
          "metadata": {},
          "execution_count": 77
        }
      ]
    },
    {
      "cell_type": "code",
      "source": [
        "y_bar = np.mean(Demande)\n",
        "y_bar"
      ],
      "metadata": {
        "colab": {
          "base_uri": "https://localhost:8080/"
        },
        "id": "f80CS4QS0BRz",
        "outputId": "9bf21c37-a244-4450-9109-7391fa8705fe"
      },
      "execution_count": null,
      "outputs": [
        {
          "output_type": "execute_result",
          "data": {
            "text/plain": [
              "3.641666666666666"
            ]
          },
          "metadata": {},
          "execution_count": 78
        }
      ]
    },
    {
      "cell_type": "code",
      "source": [
        "z_bar = np.mean(Offre)\n",
        "z_bar"
      ],
      "metadata": {
        "colab": {
          "base_uri": "https://localhost:8080/"
        },
        "id": "NC-CbaKtaI25",
        "outputId": "243f3ba3-81d9-4174-9781-4fdef965ebf3"
      },
      "execution_count": null,
      "outputs": [
        {
          "output_type": "execute_result",
          "data": {
            "text/plain": [
              "1.4166666666666667"
            ]
          },
          "metadata": {},
          "execution_count": 79
        }
      ]
    },
    {
      "cell_type": "markdown",
      "source": [
        "### **1. représentation graphique : visualisation du nuage de points**"
      ],
      "metadata": {
        "id": "EZ1rjHn7hFw5"
      }
    },
    {
      "cell_type": "code",
      "metadata": {
        "id": "mfJHevMZg7MK"
      },
      "source": [
        "import matplotlib.pyplot as plt     # matplotlib.pyplot permet de réaliser des graphiques"
      ],
      "execution_count": null,
      "outputs": []
    },
    {
      "cell_type": "code",
      "source": [
        "def centrax(xmin, xmax, ymin, ymax, titre, legende = [], axe_x = \"\", axe_y = \"\"):\n",
        "    '''Cette procédure ajuste les paramètres graphiques : fenêtre (xmin, xmax, ymin, ymax), titre, légende (vide par défaut)'''\n",
        "    # ajustement des paramètres des axes (centrage, couleur, etc.)\n",
        "    ax = plt.gca()\n",
        "    ax.spines['left'].set_position('zero')\n",
        "    ax.spines['right'].set_color('none')\n",
        "    ax.spines['bottom'].set_position('zero')\n",
        "    ax.spines['top'].set_color('none')\n",
        "    ax.legend(legende, loc = 'best')\n",
        "\n",
        "    plt.xlim(xmin,xmax)   \n",
        "    plt.ylim(ymin,ymax)         # fenêtre d'affichage\n",
        "    plt.title(titre)            # titre du graphique au format LaTeX (encadré par des $)\n",
        "    plt.xlabel(axe_x)           # nom des axes\n",
        "    plt.ylabel(axe_y)\n",
        "\n",
        "    plt.show()"
      ],
      "metadata": {
        "id": "GhCIx0xKn5Tu"
      },
      "execution_count": null,
      "outputs": []
    },
    {
      "cell_type": "code",
      "source": [
        "# paramètres graphiques\n",
        "xmin = 0.2\n",
        "xmax = 1.2\n",
        "ymin = 1\n",
        "ymax = max(max(Demande), max(Offre))+0.5\n",
        "titre = \"Offre et demande en fonction du prix proposé\"\n",
        "axe_x = \"Prix (€/kg)\"\n",
        "axe_y = \"Quantités (tonnes)\"\n",
        "\n"
      ],
      "metadata": {
        "id": "UBhpUdIXhJ1t"
      },
      "execution_count": null,
      "outputs": []
    },
    {
      "cell_type": "code",
      "source": [
        "plt.scatter(Prix,Demande,marker ='+',color = 'red')     # représentation graphique du nuage de points y\n",
        "plt.scatter(Prix,Offre,marker ='+',color = 'green')     # représentation graphique du nuage de points z\n",
        "#plt.scatter(x_bar,y_bar,marker = \"v\", color = \"blue\")   # placement du point moyen\n",
        "legende=['Demande', 'Offre']\n",
        "centrax(xmin, xmax, ymin, ymax, titre, legende, axe_x, axe_y)"
      ],
      "metadata": {
        "colab": {
          "base_uri": "https://localhost:8080/",
          "height": 341
        },
        "id": "VKKMIKdGavv6",
        "outputId": "3e3eb5e4-39c3-4d58-b945-6fb2e1c28444"
      },
      "execution_count": null,
      "outputs": [
        {
          "output_type": "display_data",
          "data": {
            "text/plain": [
              "<Figure size 432x288 with 1 Axes>"
            ],
            "image/png": "[encoded data removed]"
          },
          "metadata": {
            "needs_background": "light"
          }
        }
      ]
    },
    {
      "cell_type": "markdown",
      "source": [
        "* **Observation du graphique :**\n",
        "\n",
        "    * L'offre semble pouvoir être ajustée par une fonction affine (ajustement linéaire).\n",
        "\n",
        "    * Par contre, la courbe de demande semble un peu incurvée, un ajustement exponentiel est peut-être plus adapté."
      ],
      "metadata": {
        "id": "LghUOwPxcV7A"
      }
    },
    {
      "cell_type": "markdown",
      "source": [
        "### **2. Ajustement de l'offre**\n",
        "\n",
        "* 2.1.  Compte tenu du relatif alignement du nuage de points, un ajustement linéaire paraît adapté."
      ],
      "metadata": {
        "id": "yxKqCniNdGNZ"
      }
    },
    {
      "cell_type": "markdown",
      "source": [
        "* 2.2 Calcul des éléments nécessaire à la régression linéaire\n",
        "    * Fonctions de calcul des éléments caractéristiques"
      ],
      "metadata": {
        "id": "6mih4N-Rd_Cp"
      }
    },
    {
      "cell_type": "code",
      "source": [
        "def covariance_empirique(x,y) :\n",
        "    '''Cette fonction reçoit deux listes x et y, de même taille, \n",
        "    et renvoie la covariance de ces deux listes\n",
        "    Remarque : si x = y, on obtient la variance de x.'''\n",
        "    xbar = np.mean(x)\n",
        "    ybar = np.mean(y)\n",
        "    n = len(x)\n",
        "\n",
        "    s_XY = 1/n * sum([(x[k] - xbar)*(y[k] - ybar) for k in range(n)])\n",
        "    return s_XY"
      ],
      "metadata": {
        "id": "-oHPMfg0wMU1"
      },
      "execution_count": null,
      "outputs": []
    },
    {
      "cell_type": "markdown",
      "source": [
        "* Calcul de l'équation de la droite d'ajustement linéaire par la méthode des moindres carrés"
      ],
      "metadata": {
        "id": "4fUEtbJFehox"
      }
    },
    {
      "cell_type": "code",
      "source": [
        "def coeff_droite_regression(x,y):\n",
        "    '''Cette fonction reçoit deux listes x et y de même taille,\n",
        "    et renvoie les coefficients de la droite d'ajustemennt de y en x'''\n",
        "    xbar = np.mean(x)\n",
        "    ybar = np.mean(y)\n",
        "\n",
        "    # pente\n",
        "    a = covariance_empirique(x, y) / covariance_empirique(x, x)\n",
        "    # ordonnée à l'origine\n",
        "    b = ybar - a * xbar\n",
        "    return a, b"
      ],
      "metadata": {
        "id": "jPCsqQ-TGMn8"
      },
      "execution_count": null,
      "outputs": []
    },
    {
      "cell_type": "code",
      "source": [
        "a,b = coeff_droite_regression(Prix, Offre)\n",
        "print('Équation de la droite de régression de z en x : z=' + str(a) + '.x + ' + str(b))"
      ],
      "metadata": {
        "colab": {
          "base_uri": "https://localhost:8080/"
        },
        "id": "nHPZWySHG9xU",
        "outputId": "d48f79e9-22b9-473f-f440-af58780767be"
      },
      "execution_count": null,
      "outputs": [
        {
          "output_type": "stream",
          "name": "stdout",
          "text": [
            "Équation de la droite de régression de z en x : z=0.532596685082873.x + 1.101546961325967\n"
          ]
        }
      ]
    },
    {
      "cell_type": "markdown",
      "source": [
        "* On calcule les offres ajustées."
      ],
      "metadata": {
        "id": "YWK5X-3Xt0a-"
      }
    },
    {
      "cell_type": "code",
      "source": [
        "def y_ajuste(xx,a,b):\n",
        "    '''Cette fonction reçoit une liste xx, les coeeficients caractéristiques de la droite de régression\n",
        "    et renvoie la liste des ordonnées ajustées sur cette droite'''\n",
        "    yy = [a*x + b for x in xx]\n",
        "    return yy"
      ],
      "metadata": {
        "id": "wbnylyjjpqUb"
      },
      "execution_count": null,
      "outputs": []
    },
    {
      "cell_type": "code",
      "source": [
        "offres_ajustees = y_ajuste(Prix,a,b)\n",
        "offres_ajustees"
      ],
      "metadata": {
        "colab": {
          "base_uri": "https://localhost:8080/"
        },
        "id": "4GpUY7yMr_Zx",
        "outputId": "c6e7409b-ec0e-4954-fec4-2a0dd983e388"
      },
      "execution_count": null,
      "outputs": [
        {
          "output_type": "execute_result",
          "data": {
            "text/plain": [
              "[1.2613259668508288,\n",
              " 1.2879558011049725,\n",
              " 1.3412154696132599,\n",
              " 1.4477348066298343,\n",
              " 1.5276243093922655,\n",
              " 1.63414364640884]"
            ]
          },
          "metadata": {},
          "execution_count": 116
        }
      ]
    },
    {
      "cell_type": "code",
      "source": [
        "Offre"
      ],
      "metadata": {
        "colab": {
          "base_uri": "https://localhost:8080/"
        },
        "id": "_MsSp4zJE1Xt",
        "outputId": "db63b7b9-912d-4fe2-9423-2307a13ef59c"
      },
      "execution_count": null,
      "outputs": [
        {
          "output_type": "execute_result",
          "data": {
            "text/plain": [
              "0    1.25\n",
              "1    1.30\n",
              "2    1.30\n",
              "3    1.50\n",
              "4    1.55\n",
              "5    1.60\n",
              "Name: Offre zi, dtype: float64"
            ]
          },
          "metadata": {},
          "execution_count": 117
        }
      ]
    },
    {
      "cell_type": "markdown",
      "source": [
        "* Résidus"
      ],
      "metadata": {
        "id": "jrcI_icMhHZi"
      }
    },
    {
      "cell_type": "code",
      "source": [
        "def residus(y_reels,y_ajustes) :\n",
        "    from math import sqrt \n",
        "    '''Cette fonction reçoit deux listes : y_reels et y_ajustes, \n",
        "    et renvoie le \"résidu\" d'ajustement de la 1ère par la 2nde'''\n",
        "    res = sqrt(sum([(y_reels[k] - y_ajustes[k])**2 for k in range(len(y_reels))]))\n",
        "    return res"
      ],
      "metadata": {
        "id": "vR9udhvctKnx"
      },
      "execution_count": null,
      "outputs": []
    },
    {
      "cell_type": "code",
      "source": [
        "residus(Offre,offres_ajustees)"
      ],
      "metadata": {
        "colab": {
          "base_uri": "https://localhost:8080/"
        },
        "id": "3BxmuXQ3vQvZ",
        "outputId": "6a290c36-3f5e-4725-b01d-a1e30cf5a11d"
      },
      "execution_count": null,
      "outputs": [
        {
          "output_type": "execute_result",
          "data": {
            "text/plain": [
              "0.0798133180982745"
            ]
          },
          "metadata": {},
          "execution_count": 119
        }
      ]
    },
    {
      "cell_type": "markdown",
      "source": [
        "### **3. Ajustement de la demande**\n",
        "\n",
        "* 3.1.  Le nuage de points est plutôt incurvé, en forme d'exponentielle négative, un ajustement exponentiel pourrait être approprié.\n",
        "Cela consiste en un ajustement linéaire du **logarithme** de la série y par rapport au prix x."
      ],
      "metadata": {
        "id": "zwirLfdPicUI"
      }
    },
    {
      "cell_type": "code",
      "source": [
        "from math import log, exp\n",
        "log_Demande = [log(y) for y in Demande]\n",
        "# log_Demande V"
      ],
      "metadata": {
        "id": "5WvTXybSlU0o"
      },
      "execution_count": null,
      "outputs": []
    },
    {
      "cell_type": "markdown",
      "source": [
        "* 2.2 Calcul des éléments nécessaires à la régression linéaire"
      ],
      "metadata": {
        "id": "LS1JuTSDicUJ"
      }
    },
    {
      "cell_type": "code",
      "source": [
        "a2,b2 = coeff_droite_regression(Prix, log_Demande)\n",
        "print('Équation de la droite de régression de Y en x : Y = ' + str(a2) + '.x + ' + str(b2))\n",
        "print('...et donc, équation de la courbe d''ajustement de y en x : y = exp('+ str(a2) + '.x + ' + str(b2)+')')"
      ],
      "metadata": {
        "colab": {
          "base_uri": "https://localhost:8080/"
        },
        "outputId": "2cec7ea3-abd1-441b-acdc-cc78125a2a5e",
        "id": "3Y-17bnSicUL"
      },
      "execution_count": null,
      "outputs": [
        {
          "output_type": "stream",
          "name": "stdout",
          "text": [
            "Équation de la droite de régression de Y en x : Y = -1.442025182721167.x + 2.0832654600602867\n",
            "...et donc, équation de la courbe dajustement de y en x : y = exp(-1.442025182721167.x + 2.0832654600602867)\n"
          ]
        }
      ]
    },
    {
      "cell_type": "markdown",
      "source": [
        "* On calcule les ajustements des logarithmes des demandes"
      ],
      "metadata": {
        "id": "gjjdXDeuicUM"
      }
    },
    {
      "cell_type": "code",
      "source": [
        "log_Demande_ajustes = y_ajuste(Prix,a2,b2)\n",
        "# log_Demande_ajustes V"
      ],
      "metadata": {
        "colab": {
          "base_uri": "https://localhost:8080/"
        },
        "outputId": "3eeadda8-79d4-4832-854c-74d5f6fed585",
        "id": "Uw329TAXicUN"
      },
      "execution_count": null,
      "outputs": [
        {
          "output_type": "execute_result",
          "data": {
            "text/plain": [
              "[1.6506579052439365,\n",
              " 1.5785566461078782,\n",
              " 1.4343541278357614,\n",
              " 1.145949091291528,\n",
              " 0.9296453138833531,\n",
              " 0.6412402773391197]"
            ]
          },
          "metadata": {},
          "execution_count": 122
        }
      ]
    },
    {
      "cell_type": "markdown",
      "source": [
        "* On revient à l'ajustement logarithmique de la demande (par composition par l'exponentielle)"
      ],
      "metadata": {
        "id": "RFnaoY7koX3a"
      }
    },
    {
      "cell_type": "code",
      "source": [
        "demandes_ajustees = [exp(Y) for Y in log_Demande_ajustes]\n",
        "# demandes_ajustees V"
      ],
      "metadata": {
        "colab": {
          "base_uri": "https://localhost:8080/"
        },
        "id": "zPejUNPco4p-",
        "outputId": "91a48e9b-2136-4fd2-f026-b6b03ea903ab"
      },
      "execution_count": null,
      "outputs": [
        {
          "output_type": "execute_result",
          "data": {
            "text/plain": [
              "[5.21040665365317,\n",
              " 4.847953446532031,\n",
              " 4.19693345073126,\n",
              " 3.1454252363281157,\n",
              " 2.5336103818046602,\n",
              " 1.8988345008336383]"
            ]
          },
          "metadata": {},
          "execution_count": 123
        }
      ]
    },
    {
      "cell_type": "code",
      "source": [
        "# Demande V"
      ],
      "metadata": {
        "colab": {
          "base_uri": "https://localhost:8080/"
        },
        "id": "1a6oLvsu567f",
        "outputId": "3086fd9e-b71b-4576-98eb-426687c54a4d"
      },
      "execution_count": null,
      "outputs": [
        {
          "output_type": "execute_result",
          "data": {
            "text/plain": [
              "0    5.25\n",
              "1    4.90\n",
              "2    4.10\n",
              "3    3.25\n",
              "4    2.40\n",
              "5    1.95\n",
              "Name: Demande yi, dtype: float64"
            ]
          },
          "metadata": {},
          "execution_count": 126
        }
      ]
    },
    {
      "cell_type": "markdown",
      "source": [
        "* Résidus"
      ],
      "metadata": {
        "id": "lVIXXtsUicUO"
      }
    },
    {
      "cell_type": "code",
      "source": [
        "residus(Demande,demandes_ajustees)"
      ],
      "metadata": {
        "colab": {
          "base_uri": "https://localhost:8080/"
        },
        "outputId": "92d1206a-fa8d-4f87-fb50-a96de0938608",
        "id": "qXpfG11micUP"
      },
      "execution_count": null,
      "outputs": [
        {
          "output_type": "execute_result",
          "data": {
            "text/plain": [
              "0.21231602459886162"
            ]
          },
          "metadata": {},
          "execution_count": 124
        }
      ]
    },
    {
      "cell_type": "markdown",
      "source": [
        "### **4. Étude graphique du prix d'équilibre**"
      ],
      "metadata": {
        "id": "06zVstxEzvQ_"
      }
    },
    {
      "cell_type": "markdown",
      "source": [
        "* **Graphiques**"
      ],
      "metadata": {
        "id": "sZ4lzmzrpsXC"
      }
    },
    {
      "cell_type": "code",
      "source": [
        "xx = np.arange(xmin, xmax, 0.05)\n",
        "zz = [a * x + b for x in xx]\n",
        "yy = [exp(a2 * x + b2) for x in xx]\n"
      ],
      "metadata": {
        "id": "5jWZGy1CqfwW"
      },
      "execution_count": null,
      "outputs": []
    },
    {
      "cell_type": "code",
      "source": [
        "plt.scatter(Prix,Demande,marker ='+',color = 'red')     # représentation graphique du nuage de points y\n",
        "plt.plot(xx,yy, color = 'orange')                          # ajustement de la demande\n",
        "plt.scatter(Prix,Offre,marker ='+',color = 'green')     # représentation graphique du nuage de points z\n",
        "plt.plot(xx,zz, color = 'blue')                        # ajustement de l'offre\n",
        "#plt.scatter(x_bar,y_bar,marker = \"v\", color = \"blue\")   # placement du point moyen\n",
        "\n",
        "legende=[ 'Demande ajustée', 'Offre ajustée','Demande','Offre']\n",
        "centrax(xmin, xmax, ymin, ymax, titre, legende, axe_x, axe_y)"
      ],
      "metadata": {
        "colab": {
          "base_uri": "https://localhost:8080/",
          "height": 341
        },
        "id": "8glorlAficUQ",
        "outputId": "acb53175-b342-4536-c0c3-8a4cdd1d2bb0"
      },
      "execution_count": null,
      "outputs": [
        {
          "output_type": "display_data",
          "data": {
            "text/plain": [
              "<Figure size 432x288 with 1 Axes>"
            ],
            "image/png": "[encoded data removed]"
          },
          "metadata": {
            "needs_background": "light"
          }
        }
      ]
    },
    {
      "cell_type": "markdown",
      "source": [
        "* **prix d'équilibre**\n",
        "\n",
        "Au vu du graphique, le prix d'équilibre (le prix proposé qui équilibre offre et demande) se situe aux environs de 1,10 €, pour des quantités de 1,7 tonnes environ."
      ],
      "metadata": {
        "id": "e3gv8gfaxgVq"
      }
    },
    {
      "cell_type": "markdown",
      "source": [
        "### **5. Étude numérique du point d'équilibre**\n",
        "\n",
        "* **existence et unicité**\n",
        "\n",
        "On considère la fonction $h$, définie sur $I = [0,2]$ par $h(x) = e^{-1.44 x + 2.08} - \\left(0.53  x + 1.10 \\right )$.\n",
        "\n",
        "Montrons que l'équation $h(x) = 0$ admet une solution unique sur $I$.\n",
        "\n",
        "$h$ est continue et dérivable sur $I$ et $h'(x) = -1.44 . e^{-1.44 x + 2.08} - 0.53$\n",
        "$\\left(* \\right)h'(x) \\geqslant 0 \\Leftrightarrow -1.44 . e^{-1.44 x + 2.08} \\geqslant - 0.53 \\Leftrightarrow e^{-1.44 x + 2.08} \\leqslant  \\frac{0.53}{1.44}$\n",
        "\n",
        "$\\left(* \\right) \\Leftrightarrow -1.44 x + 2.08 \\leqslant  \\ln \\left(\\frac{0.53}{1.44} \\right ) \\Leftrightarrow -1.44 x  \\leqslant \\ln \\left(\\frac{0.53}{1.44} \\right ) - 2.08$\n",
        "\n",
        "$\\left(* \\right) \\Leftrightarrow x  \\geqslant \\left(\\ln \\left(\\frac{0.53}{1.44} \\right ) - 2.08 \\right ) *(-1.44) \\Rightarrow x \\geqslant 4$\n",
        "\n",
        "Ainsi, sur $I$, $h$ est strictement décroissante."
      ],
      "metadata": {
        "id": "NEZflaXkz2qv"
      }
    },
    {
      "cell_type": "code",
      "source": [
        "def h(x) :\n",
        "    y = exp(a2*x+b2)-(a*x+b)\n",
        "    return y\n",
        "\n",
        "h(0)"
      ],
      "metadata": {
        "id": "eiQBjpbztodB",
        "colab": {
          "base_uri": "https://localhost:8080/"
        },
        "outputId": "725f2974-777b-44f9-af17-c9b2153ee2c5"
      },
      "execution_count": 127,
      "outputs": [
        {
          "output_type": "execute_result",
          "data": {
            "text/plain": [
              "6.929102949748993"
            ]
          },
          "metadata": {},
          "execution_count": 127
        }
      ]
    },
    {
      "cell_type": "code",
      "source": [
        "h(2)"
      ],
      "metadata": {
        "colab": {
          "base_uri": "https://localhost:8080/"
        },
        "id": "n7sAVldDLZxN",
        "outputId": "c042186c-7b86-449c-cc7d-3b2d78f1eb8d"
      },
      "execution_count": 128,
      "outputs": [
        {
          "output_type": "execute_result",
          "data": {
            "text/plain": [
              "-1.7177639097224442"
            ]
          },
          "metadata": {},
          "execution_count": 128
        }
      ]
    },
    {
      "cell_type": "markdown",
      "source": [
        "$h(0) \\geqslant 0$, $h(2) \\leqslant 0$.\n",
        "Ainsi, $h$ est continue, strictement décroissante sur $I$, et change de signe sur $I$, donc d'après le corollaire du Théorème des Valeurs Intermédiaires (TVI), \n",
        "\n",
        "**l'équation $h(x) = 0$ admet sur $I$ une unique solution $\\alpha$.**"
      ],
      "metadata": {
        "id": "qVCP9CslLc9Q"
      }
    },
    {
      "cell_type": "markdown",
      "source": [
        "* **Recherche de $\\alpha$ par dichotomie**"
      ],
      "metadata": {
        "id": "DYTFAFbvMSNZ"
      }
    },
    {
      "cell_type": "code",
      "metadata": {
        "id": "nTx-IDgMOhNV"
      },
      "source": [
        "# précision souhaitée\n",
        "nb_decimales = 2\n",
        "epsilon = 10**(-nb_decimales)\n",
        "\n",
        "#intervalle d'étude [1 ; 3]\n",
        "aa = 0\n",
        "bb = 2\n"
      ],
      "execution_count": 133,
      "outputs": []
    },
    {
      "cell_type": "code",
      "source": [
        "compteur = 0\n",
        "u = aa\n",
        "v = bb\n",
        "while v-u > epsilon :\n",
        "    compteur = compteur + 1\n",
        "    c = (u+v)/2\n",
        "    if h(u)*h(c) < 0 :\n",
        "        v = c\n",
        "    else :\n",
        "        u = c\n",
        "cc = round(c,nb_decimales)        \n",
        "print('Une valeur approchée de la solution à ',epsilon,'près est : ',cc,'   après ',compteur,' itérations.')"
      ],
      "metadata": {
        "colab": {
          "base_uri": "https://localhost:8080/"
        },
        "id": "kAg63XdPM5K4",
        "outputId": "391cc604-f5a9-4cb6-f891-e579f9d917ff"
      },
      "execution_count": 147,
      "outputs": [
        {
          "output_type": "stream",
          "name": "stdout",
          "text": [
            "Une valeur approchée de la solution à  0.01 près est :  1.09    après  8  itérations.\n"
          ]
        }
      ]
    },
    {
      "cell_type": "code",
      "source": [
        "q = round(a*c + b,nb_decimales)\n",
        "q"
      ],
      "metadata": {
        "colab": {
          "base_uri": "https://localhost:8080/"
        },
        "id": "_e0tQWvNNKZq",
        "outputId": "a7e12c26-d206-48b0-cab6-5fd673d6e38e"
      },
      "execution_count": 151,
      "outputs": [
        {
          "output_type": "execute_result",
          "data": {
            "text/plain": [
              "1.68"
            ]
          },
          "metadata": {},
          "execution_count": 151
        }
      ]
    },
    {
      "cell_type": "code",
      "source": [
        " qq = round(exp(a2*c+b2),nb_decimales)\n",
        " qq"
      ],
      "metadata": {
        "colab": {
          "base_uri": "https://localhost:8080/"
        },
        "id": "SJB_2WOrNx1U",
        "outputId": "e63d4b53-6fcc-485f-b929-2248b3c3e4f3"
      },
      "execution_count": 152,
      "outputs": [
        {
          "output_type": "execute_result",
          "data": {
            "text/plain": [
              "1.68"
            ]
          },
          "metadata": {},
          "execution_count": 152
        }
      ]
    },
    {
      "cell_type": "code",
      "source": [
        "print('Le prix d''équilibre est : '+ str(cc) +'€/kg, correspondant à une offre et une demande égales, de : '+str(qq)+ ' tonnes.')"
      ],
      "metadata": {
        "colab": {
          "base_uri": "https://localhost:8080/"
        },
        "id": "33SCNjiLN8GY",
        "outputId": "49b912c3-ce29-4db9-d8f4-008916881744"
      },
      "execution_count": 155,
      "outputs": [
        {
          "output_type": "stream",
          "name": "stdout",
          "text": [
            "Le prix déquilibre est : 1.09€/kg, correspondant à une offre et une demande égales, de : 1.68 tonnes.\n"
          ]
        }
      ]
    },
    {
      "cell_type": "code",
      "source": [
        ""
      ],
      "metadata": {
        "id": "YiBtY2VfO5Zt"
      },
      "execution_count": null,
      "outputs": []
    }
  ]
}