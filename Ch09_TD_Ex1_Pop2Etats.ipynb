{
  "nbformat": 4,
  "nbformat_minor": 0,
  "metadata": {
    "colab": {
      "name": "Ch09-TD-Ex1-Pop2Etats.ipynb",
      "provenance": [],
      "collapsed_sections": [],
      "authorship_tag": "ABX9TyPrpp9FdcYjKoBquLnZ5Edt",
      "include_colab_link": true
    },
    "kernelspec": {
      "name": "python3",
      "display_name": "Python 3"
    },
    "language_info": {
      "name": "python"
    }
  },
  "cells": [
    {
      "cell_type": "markdown",
      "metadata": {
        "id": "view-in-github",
        "colab_type": "text"
      },
      "source": [
        "<a href=\"https://colab.research.google.com/github/othoni-hub/ECG2/blob/main/Ch09_TD_Ex1_Pop2Etats.ipynb\" target=\"_parent\"><img src=\"https://colab.research.google.com/assets/colab-badge.svg\" alt=\"Open In Colab\"/></a>"
      ]
    },
    {
      "cell_type": "markdown",
      "source": [
        "# **CPGE-ECG2** \n",
        "<img src=\"https://drive.google.com/uc?id=12Wo3LubGGT4qOvYFAuLP4CyCuwjKNVuk\" width=\"230\" height=\"150\" align = \"right\"/>\n",
        "\n",
        "## **Ch09 - Notebook : Graphes probabilistes - Chaînes de Markov**\n",
        "## **Exercices du TD**\n",
        "\n",
        "\n",
        "\n",
        "\n",
        "**O.Thöni - Lycée Saint-Charles Sainte Croix - LE MANS**"
      ],
      "metadata": {
        "id": "cKE5a72sIDLO"
      }
    },
    {
      "cell_type": "markdown",
      "source": [
        "## **Exercice 1 :**\n",
        "\n",
        "Notons $a_n$ et $b_n$ les nombres d'individus dans l'état A et dans l'état B à l'instant n.\n",
        "\n",
        "* « 95 % des individus dans l'état A à un instant donné n'ont pas changé d'état à l'instant suivant », donc 5 % ont changé d'état, \n",
        "* et « 80 % des individus dans l'état B à un instant donné ne changent pas d'état à l'instant suivant », donc 20 % changent d'état.\n",
        "\n",
        "Ainsi, à un instant donné, le nombre d'individus dans l'état A est la somme du nombre d'individus dans l'état A à l'instant d'avant qui n'ont pas changé d'état, et du nombre d'individus qui étaient dans l'état B et qui ont changé d'état, ce qui s'écrit :\n",
        "\n",
        "$a_{n+1}=0.95a_n+0.20b_n$\n",
        "\n",
        "De même pour l'état B : \n",
        "\n",
        "$b_{n+1}=0.05 a_n+0.80 b_n$\n",
        "\n",
        "Posons $P_n = \\left ( a_n , b_n \\right )$ et $A = \\left (\\begin{matrix}\n",
        " 0.95 & 0.05     \\\\\n",
        " 0.20 &   0.80  \\\\\n",
        "\\end{matrix}\\right )$\n",
        "\n",
        "Alors, $P_{n+1} = P_n . A$"
      ],
      "metadata": {
        "id": "1H9VUo-uDhEv"
      }
    },
    {
      "cell_type": "markdown",
      "source": [
        "### **Approche déterministe**"
      ],
      "metadata": {
        "id": "OgJwNlTI9sPF"
      }
    },
    {
      "cell_type": "code",
      "source": [
        "import numpy as np\n",
        "import matplotlib.pyplot as plt"
      ],
      "metadata": {
        "id": "xoXFh-1mGFuA"
      },
      "execution_count": null,
      "outputs": []
    },
    {
      "cell_type": "code",
      "source": [
        "# Initialement\n",
        "N = 500000      # modifiable\n",
        "a = [125000]    # modifiable\n",
        "b = [N-a[0]]\n",
        "P = np.matrix([a,b])        # répartition de la population, en matrice colonne (lles matrices NumPy doivent être bi-dimensionnelles)\n",
        "P = P.transpose()           # P sous forme de matrice-ligne\n",
        "print('État 0')\n",
        "print(\"P = \")\n",
        "print(P)\n",
        "\n",
        "# Matrice de transition\n",
        "aa = 0.95       # modifiable, % d'indiv. dans l'état A qui ne changent pas d'état\n",
        "ab = 1 - aa\n",
        "bb = 0.80       # modifiable, % d'indiv. dans l'état B qui ne changent pas d'état\n",
        "ba = 1 - bb\n",
        "A = np.matrix([[aa,ab],[ba,bb]])\n",
        "print(\"A = \")\n",
        "print(A)\n",
        "\n",
        "# Évolution\n",
        "n = 20\n"
      ],
      "metadata": {
        "colab": {
          "base_uri": "https://localhost:8080/"
        },
        "id": "8vvQZvXlFnTX",
        "outputId": "2bc90e5f-83ce-4de0-cbed-712c07930f50"
      },
      "execution_count": null,
      "outputs": [
        {
          "output_type": "stream",
          "name": "stdout",
          "text": [
            "État 0\n",
            "P = \n",
            "[[125000 375000]]\n",
            "A = \n",
            "[[0.95 0.05]\n",
            " [0.2  0.8 ]]\n"
          ]
        }
      ]
    },
    {
      "cell_type": "markdown",
      "source": [
        "* **Calcul de l'évolution des populations au cours du temps**"
      ],
      "metadata": {
        "id": "NkHIKHVmQ7pZ"
      }
    },
    {
      "cell_type": "code",
      "source": [
        "for k in range (1,n+1) :\n",
        "    P = P*A\n",
        "    #print('Étape ', k)\n",
        "    aa = round(P[0,0])\n",
        "    bb = N - aa\n",
        "    a.append(aa)\n",
        "    b.append(bb)\n",
        "    #print([aa,bb])\n",
        "\n"
      ],
      "metadata": {
        "id": "qFGJS5-OHbXT"
      },
      "execution_count": null,
      "outputs": []
    },
    {
      "cell_type": "markdown",
      "source": [
        "* **Graphique**\n",
        "\n",
        "Remarque : pour illustrer graphiquement le caractère discret du phénomène étudié, on opte pour un graphique où les points ne sont pas reliés."
      ],
      "metadata": {
        "id": "qX7Z_nTAQ4E1"
      }
    },
    {
      "cell_type": "code",
      "source": [
        "k = list(range(n+1))\n",
        "plt.plot(k, a, \"+r\", label = \"Individus dans l'état A\")\n",
        "plt.plot(k, b, \"+b\", label = \"Individus dans l'état B\")\n",
        "\n",
        "\n",
        "# ajustement des paramètres des axes (centrage, couleur, etc.)\n",
        "ax = plt.gca()\n",
        "ax.spines['left'].set_position('zero')\n",
        "ax.spines['right'].set_color('none')\n",
        "ax.spines['bottom'].set_position('zero')\n",
        "ax.spines['top'].set_color('none')\n",
        "\n",
        "# cosmétique\n",
        "plt.title(\"Évolution de la population entre deux états\")\n",
        "plt.xlabel(\"Époques\")\n",
        "plt.ylabel(\"Effectifs\")\n",
        "plt.legend()\n",
        "plt.ylim(0,500000)\n",
        "plt.show()"
      ],
      "metadata": {
        "colab": {
          "base_uri": "https://localhost:8080/",
          "height": 299
        },
        "id": "pIHG8YKvQ2WT",
        "outputId": "924fabdd-6d1f-44a0-a6f5-ec609711a362"
      },
      "execution_count": null,
      "outputs": [
        {
          "output_type": "display_data",
          "data": {
            "text/plain": [
              "<Figure size 432x288 with 1 Axes>"
            ],
            "image/png": "[encoded data removed]"
          },
          "metadata": {
            "needs_background": "light"
          }
        }
      ]
    },
    {
      "cell_type": "markdown",
      "source": [
        "* **Conjecture**\n",
        "\n",
        "Il semble que l'évolution de la population se stabilise autour de 400.000 individus dans l'état A, et 100.000 dans l'état B."
      ],
      "metadata": {
        "id": "I4S5wMNlRubt"
      }
    },
    {
      "cell_type": "markdown",
      "source": [
        "* **Preuve par désentrelacement des deux suites imbriquées**\n",
        "\n",
        "--> traitement dans le cas général :     \n",
        "Notons $\\tau_1$ la proportion d'individus qui étaient dans l'état A et y restent, et $\\tau_2$ la proportion d'individus qui étaient dans l'état A et y restent.\n",
        "\n",
        "On a alors :\n",
        "\n",
        "$\\left\\{\\begin{matrix}\n",
        " a_{n+1}& = & \\tau_1 . a_n & + & (1-\\tau_2) . b_n \\\\\n",
        " b_{n+1}& = & (1- \\tau_1) . a_n & + & \\tau_2 . b_n \\\\\n",
        "\\end{matrix}\\right.$\n",
        "\n",
        "(Dans notre cas particulier, nous avons : $\\tau_1 = 95%$, $tau_2 = 80%$, $a_0 = 125.000$, $b_0 =  500.000 - a_0 = 375.000$)\n",
        "\n",
        "* On décale $(L_1)$ d'un rang : \n",
        "$\\begin{matrix}\n",
        " a_{n+2}& = & \\tau_1 . a_{n+1} & + & (1-\\tau_2) . b_{n+1} \n",
        "\\end{matrix}$ \n",
        "\n",
        "* On remplace $b_{n+1}$ par son expression issue de $(L_2)$ : \n",
        "$\\begin{matrix}\n",
        " a_{n+2}& = & \\tau_1 . a_{n+1} & + & (1-\\tau_2) .  \\left ((1- \\tau_1) .   a_n  + \\tau_2 . b_n \\right )\n",
        "\\end{matrix}$ \n",
        "\n",
        "* et, grâce à  $(L_2)$,  \n",
        "$\\begin{matrix}\n",
        " b_{n}& = & \\frac{1}{1 - \\tau_2} . \\left (a_{n+1} - \\tau_1 . a_n \\right ) \n",
        "\\end{matrix}$\n",
        "\n",
        "* d'où\n",
        "$\\begin{matrix}\n",
        " a_{n+2}& = & \\tau_1 . a_{n+1} & + & (1-\\tau_2) .  \\left ((1- \\tau_1) .   a_n  + \\tau_2 . \\frac{1}{1 - \\tau_2} . \\left (a_{n+1} - \\tau_1 . a_n \\right ) \\right )\n",
        "\\end{matrix}$ \n",
        "\n",
        "$\\begin{matrix}\n",
        " a_{n+2}& = & (\\tau_1 + \\tau_2 ) . a_{n+1} & + & \\left(1 - (\\tau_1 + \\tau_2) \\right ) .   a_n  \n",
        "\\end{matrix}$ \n",
        "\n",
        "* Il s'agit d'une **suite récurrente linéaire d'ordre 2**, dont l'équation caractéristique est :     \n",
        "\n",
        "$\\begin{matrix}\n",
        " x^2& - & (\\tau_1 + \\tau_2 ) . x & - & \\left(1 - (\\tau_1 + \\tau_2) \\right ) & = & 0 \n",
        "\\end{matrix}$ \n",
        "\n",
        "dont le discriminant est :     \n",
        "\n",
        "$\\Delta = \\left (-(\\tau_1 + \\tau_2 ) \\right )^2 - 4 . 1 . \\left (- \\left(1 - (\\tau_1 + \\tau_2) \\right ) \\right ) = (\\tau_1 + \\tau_2 )^2 - 4  \\left(\\tau_1 + \\tau_2 \\right ) + 4  = \\left ( (\\tau_1 + \\tau_2 ) - 2  \\right )^2$\n",
        "\n",
        "L'équation caractéristique possède alors deux solutions :\n",
        "$r_1 = \\frac{(\\tau_1 + \\tau_2 )  -  \\left ( (\\tau_1 + \\tau_2 ) - 2  \\right )}{2} = 1$ et $r_2 = \\frac{(\\tau_1 + \\tau_2 )  +  \\left ( (\\tau_1 + \\tau_2 ) - 2  \\right )}{2} = (\\tau_1 + \\tau_2 ) - 1$\n",
        "\n",
        "On sait qu'alors, il existe e et f tels que, pour tout entier n, \n",
        "$a_n = e . r_1^n + f . r_2^n = e + f . (\\tau_1 + \\tau_2  - 1)^n $\n",
        "\n",
        "En particulier, \n",
        "* pour $n=0$, $e+f = a_0$\n",
        "* pour $n=1$, $e + f . (\\tau_1 + \\tau_2  - 1) = a_1$\n",
        "\n",
        "\n",
        "Par différence, on tire :     $f . (\\tau_1 + \\tau_2  - 2) = a_1 - a_0 $\n",
        "\n",
        "or $a_1 = \\tau_1 . a_0 + (1 - \\tau_2). b_0 = \\tau_1 . a_0 + (1 - \\tau_2). (N - a_0)$\n",
        "\n",
        "donc :    $f . (\\tau_1 + \\tau_2  - 2) = (\\tau_1 - 1).a_0 + (1 - \\tau_2).(N-a_0) = (\\tau_1 + \\tau_2  - 2) . a_0 + N (1 - \\tau_2)$\n",
        "\n",
        "et donc : \n",
        "$f  = a_0 + N . \\frac{1 - \\tau_2}{(\\tau_1 + \\tau_2  - 2)} $\n",
        "\n",
        "Ensuite, \n",
        "$e = a_0 - f = N . \\frac{ 1 - \\tau_2 }{2 - (\\tau_1 + \\tau_2)}$\n",
        "\n",
        "* Reconstituons $a_n$ :    \n",
        "$a_n = N . \\frac{ 1 - \\tau_2 }{2 - (\\tau_1 + \\tau_2)}  + \\left (a_0 + N . \\frac{1 - \\tau_2}{\\tau_1 + \\tau_2  - 2} \\right ) . ((\\tau_1 + \\tau_2 ) - 1)^n$\n",
        "\n",
        "* passons à la limite :\n",
        "Comme $0 <(\\tau_1 + \\tau_2 ) - 1 <1$ , le dernier terme tend vers 0 quand n tend vers $+\\infty$, on a :     \n",
        "\n",
        " $\\displaystyle \\lim_{n \\to +\\infty} a_n = N . \\frac{ 1 - \\tau_2 }{2 - (\\tau_1 + \\tau_2)} $.\n",
        "\n",
        " Pour $b_n$, inutile de tout recommencer puisque $b_n = N - a_n$\n",
        "\n",
        "* Application numérique :     \n",
        "$\\displaystyle \\lim_{n \\to +\\infty} a_n  = 500.000 .  \\frac{ 1 - 0.8 }{2 - (0.95 +0.8)} = 500.000 . \\frac{ 0.2 }{0.25}  = 500.000 . \\frac{ 4 }{5} = 400.000$\n",
        "\n",
        "et :  $\\displaystyle \\lim_{n \\to +\\infty} b_n  = 500.000 - 400.000 = 100.000$\n",
        "\n",
        "Ceci confirme nos conjectures."
      ],
      "metadata": {
        "id": "aeywC0oiR6pc"
      }
    },
    {
      "cell_type": "markdown",
      "source": [
        "### **Abord probabiliste**\n",
        "\n",
        "Par « 95% des individus dans l'état A y restent  », on peut comprendre que pour **un** individu dans l'état A, la probabilité qu'il ne change pas d'état est 0.95 .\n",
        "\n",
        "On traite donc le problème individu par individu, en lui affectant à chaque étape un schéma de Bernoulli : on tire un nombre $u$ au hasard, \n",
        "* un individu dans l'état A reste dans l'état A si u < 0.95\n",
        "* un individu dans l'état B change d'état si u < 0.20\n",
        "\n",
        "Puis on totalise le nombre d'individus dans l'état A.\n",
        "\n",
        "L'état des N individus de la population va être modélisé par une liste *liste_etats*, dont la valeur n°k vaudra 1 si l'individu n°k est dans l'état A, 0, sinon.\n",
        "\n",
        "Il suffit alors de faire la somme des états pour connaître le nombre d'individus dans l'état A."
      ],
      "metadata": {
        "id": "L9iVtq-uoDU_"
      }
    },
    {
      "cell_type": "code",
      "source": [
        "import numpy.random as rd\n",
        "import matplotlib.pyplot as plt"
      ],
      "metadata": {
        "id": "_ZSGVPfyr4u1"
      },
      "execution_count": null,
      "outputs": []
    },
    {
      "cell_type": "code",
      "source": [
        "# initialisation\n",
        "\n",
        "aa = 0.95\n",
        "bb = 0.80\n",
        "N = 500000\n",
        "a0 = 125000\n",
        "b0 = N - a0\n",
        "\n",
        "liste_etats = [1]*a0 + [0]*b0 # liste initiale : a0 individus dans l'état A et b0 individus dans l'état B\n"
      ],
      "metadata": {
        "id": "M9Humb5UQl64"
      },
      "execution_count": null,
      "outputs": []
    },
    {
      "cell_type": "code",
      "source": [
        "a = sum(liste_etats) # Vérification : nombre initial d'individus dans l'état A\n",
        "a"
      ],
      "metadata": {
        "colab": {
          "base_uri": "https://localhost:8080/"
        },
        "id": "nWo4VhbirAdk",
        "outputId": "4c0f37b8-e37d-4d95-8ed9-09a0330da554"
      },
      "execution_count": null,
      "outputs": [
        {
          "output_type": "execute_result",
          "data": {
            "text/plain": [
              "125000"
            ]
          },
          "metadata": {},
          "execution_count": 7
        }
      ]
    },
    {
      "cell_type": "code",
      "source": [
        "# 40 secondes...\n",
        "n = 20\n",
        "a = [a0]\n",
        "b = [b0]\n",
        "\n",
        "for _ in range(n) : # étapes\n",
        "    u = rd.random(N)\n",
        "    for k in range(N) : # sur toute la population\n",
        "        if liste_etats[k] == 1 : # Le k-ième individu est dans l'état A\n",
        "            liste_etats[k] = (u[k]<aa)*1 # il reste dans l'état A si rd < aa\n",
        "        else : # le k-ième individu est dans  l'état B\n",
        "            liste_etats[k] = (u[k]<(1-bb))*1 # il passe dans l'état A si rd < 1-bb\n",
        "\n",
        "    aaa = sum(liste_etats) # nombre d'individu dans l'état A à l'étape k\n",
        "    bbb = N - aaa\n",
        "    # stockage des résultats en vue du graphique\n",
        "    a.append(aaa)\n",
        "    b.append(bbb)"
      ],
      "metadata": {
        "id": "9GNIs0z9tLqa"
      },
      "execution_count": null,
      "outputs": []
    },
    {
      "cell_type": "markdown",
      "source": [
        "* **Graphique**"
      ],
      "metadata": {
        "id": "sW4UhnitvDZY"
      }
    },
    {
      "cell_type": "code",
      "source": [
        "k = list(range(n+1))\n",
        "plt.plot(k, a, \"+r\", label = \"Individus dans l'état A\")\n",
        "plt.plot(k, b, \"+b\", label = \"Individus dans l'état B\")\n",
        "\n",
        "\n",
        "# ajustement des paramètres des axes (centrage, couleur, etc.)\n",
        "ax = plt.gca()\n",
        "ax.spines['left'].set_position('zero')\n",
        "ax.spines['right'].set_color('none')\n",
        "ax.spines['bottom'].set_position('zero')\n",
        "ax.spines['top'].set_color('none')\n",
        "\n",
        "# cosmétique\n",
        "plt.title(\"Évolution de la population entre deux états\")\n",
        "plt.xlabel(\"Époques\")\n",
        "plt.ylabel(\"Effectifs\")\n",
        "plt.legend()\n",
        "plt.ylim(0,N)\n",
        "plt.show()"
      ],
      "metadata": {
        "colab": {
          "base_uri": "https://localhost:8080/",
          "height": 299
        },
        "outputId": "828021d8-0289-4cf6-bb8c-98193db5a802",
        "id": "agcGyWygvDZc"
      },
      "execution_count": null,
      "outputs": [
        {
          "output_type": "display_data",
          "data": {
            "text/plain": [
              "<Figure size 432x288 with 1 Axes>"
            ],
            "image/png": "[encoded data removed]"
          },
          "metadata": {
            "needs_background": "light"
          }
        }
      ]
    },
    {
      "cell_type": "code",
      "source": [
        "print(\"Nombre d'individus dans l'état A après \" + str(n )+ \" étapes : \" + str(aaa))\n",
        "print(\"Nombre d'individus dans l'état B après \" + str(n )+ \" étapes : \" + str(bbb))"
      ],
      "metadata": {
        "colab": {
          "base_uri": "https://localhost:8080/"
        },
        "id": "iQt_EYs30xNT",
        "outputId": "3a970c60-3b13-495e-df9a-37379f5d1409"
      },
      "execution_count": null,
      "outputs": [
        {
          "output_type": "stream",
          "name": "stdout",
          "text": [
            "Nombre d'individus dans l'état A après 20 étapes : 399189\n",
            "Nombre d'individus dans l'état B après 20 étapes : 100811\n"
          ]
        }
      ]
    },
    {
      "cell_type": "markdown",
      "source": [
        "La taille conséquente de la population lisse les effets de fluctuation d'échantillonnage (tester sur une population plus petite si besoin pour faire ressortir ces fluctuations).\n",
        "\n",
        "L'effet observé par la simulation est très proche de l'évolution théorique déterministe."
      ],
      "metadata": {
        "id": "cUXGahap0bJz"
      }
    },
    {
      "cell_type": "code",
      "source": [
        ""
      ],
      "metadata": {
        "id": "4EBnWIeZy3bm"
      },
      "execution_count": null,
      "outputs": []
    }
  ]
}