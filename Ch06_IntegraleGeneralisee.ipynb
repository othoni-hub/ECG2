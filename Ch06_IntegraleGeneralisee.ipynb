{
  "nbformat": 4,
  "nbformat_minor": 0,
  "metadata": {
    "colab": {
      "name": "Ch06-IntegraleGeneralisee.ipynb",
      "provenance": [],
      "authorship_tag": "ABX9TyOOPx5aG7cclBGAciONAcsD",
      "include_colab_link": true
    },
    "kernelspec": {
      "name": "python3",
      "display_name": "Python 3"
    },
    "language_info": {
      "name": "python"
    }
  },
  "cells": [
    {
      "cell_type": "markdown",
      "metadata": {
        "id": "view-in-github",
        "colab_type": "text"
      },
      "source": [
        "<a href=\"https://colab.research.google.com/github/othoni-hub/ECG2/blob/main/Ch06_IntegraleGeneralisee.ipynb\" target=\"_parent\"><img src=\"https://colab.research.google.com/assets/colab-badge.svg\" alt=\"Open In Colab\"/></a>"
      ]
    },
    {
      "cell_type": "markdown",
      "source": [
        "# **CPGE-ECG2** \n",
        "<img src=\"https://drive.google.com/uc?id=12Wo3LubGGT4qOvYFAuLP4CyCuwjKNVuk\" width=\"230\" height=\"150\" align = \"right\"/>\n",
        "\n",
        "## **Ch06 - Notebook : Intégrale généralisée**\n",
        "\n",
        "\n",
        "\n",
        "\n",
        "**O.Thöni - Lycée Saint-Charles Sainte Croix - LE MANS**"
      ],
      "metadata": {
        "id": "bNucDHh_NECh"
      }
    },
    {
      "cell_type": "markdown",
      "source": [
        "* **Rappel** ECG1-Ch15 : TP calcul intégral\n",
        "\n",
        "\n",
        " [![Binder](https://mybinder.org/badge_logo.svg)](https://mybinder.org/v2/gh/othoni-hub/ECG1/HEAD?filepath=TP_Integration.ipynb)\n",
        "\n",
        " ---\n",
        " "
      ],
      "metadata": {
        "id": "wSmoRjoWNyUl"
      }
    },
    {
      "cell_type": "markdown",
      "source": [
        "* **Calcul symbolique avec le module *SymPy***"
      ],
      "metadata": {
        "id": "G1PJe0twN8va"
      }
    },
    {
      "cell_type": "code",
      "execution_count": 2,
      "metadata": {
        "colab": {
          "base_uri": "https://localhost:8080/"
        },
        "id": "pa37odIlMtnC",
        "outputId": "ad8287f2-70ec-41ec-c77b-71330d057d70"
      },
      "outputs": [
        {
          "output_type": "stream",
          "name": "stdout",
          "text": [
            "√π\n"
          ]
        }
      ],
      "source": [
        "# calcul symbolique en python (calcul d'intégrale impropre) \n",
        "from sympy import * \n",
        " \n",
        "x = Symbol('x') \n",
        "pprint(integrate(exp(-x ** 2), (x, -oo, oo))) "
      ]
    },
    {
      "cell_type": "code",
      "source": [
        ""
      ],
      "metadata": {
        "id": "hXC_Iw5XMwoo"
      },
      "execution_count": null,
      "outputs": []
    }
  ]
}