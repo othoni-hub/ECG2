{
  "nbformat": 4,
  "nbformat_minor": 0,
  "metadata": {
    "colab": {
      "name": "Ch06-IntegraleGeneralisee.ipynb",
      "provenance": [],
      "authorship_tag": "ABX9TyNt4nx8NMfRhfaKlUvsD0lp",
      "include_colab_link": true
    },
    "kernelspec": {
      "name": "python3",
      "display_name": "Python 3"
    },
    "language_info": {
      "name": "python"
    }
  },
  "cells": [
    {
      "cell_type": "markdown",
      "metadata": {
        "id": "view-in-github",
        "colab_type": "text"
      },
      "source": [
        "<a href=\"https://colab.research.google.com/github/othoni-hub/ECG2/blob/main/Ch06_IntegraleGeneralisee.ipynb\" target=\"_parent\"><img src=\"https://colab.research.google.com/assets/colab-badge.svg\" alt=\"Open In Colab\"/></a>"
      ]
    },
    {
      "cell_type": "markdown",
      "source": [
        "# **CPGE-ECG2** \n",
        "<img src=\"https://drive.google.com/uc?id=12Wo3LubGGT4qOvYFAuLP4CyCuwjKNVuk\" width=\"230\" height=\"150\" align = \"right\"/>\n",
        "\n",
        "## **Ch06 - Notebook : Intégrale généralisée**\n",
        "\n",
        "\n",
        "\n",
        "\n",
        "**O.Thöni - Lycée Saint-Charles Sainte Croix - LE MANS**"
      ],
      "metadata": {
        "id": "bNucDHh_NECh"
      }
    },
    {
      "cell_type": "markdown",
      "source": [
        "* **Rappel** ECG1-Ch15 : TP calcul intégral\n",
        "\n",
        "\n",
        " [![Binder](https://mybinder.org/badge_logo.svg)](https://mybinder.org/v2/gh/othoni-hub/ECG1/HEAD?filepath=TP_Integration.ipynb)\n",
        "\n",
        " ---\n",
        " "
      ],
      "metadata": {
        "id": "wSmoRjoWNyUl"
      }
    },
    {
      "cell_type": "markdown",
      "source": [
        "* **Calcul symbolique avec le module *SymPy***"
      ],
      "metadata": {
        "id": "G1PJe0twN8va"
      }
    },
    {
      "cell_type": "code",
      "execution_count": null,
      "metadata": {
        "colab": {
          "base_uri": "https://localhost:8080/"
        },
        "id": "pa37odIlMtnC",
        "outputId": "ad8287f2-70ec-41ec-c77b-71330d057d70"
      },
      "outputs": [
        {
          "output_type": "stream",
          "name": "stdout",
          "text": [
            "√π\n"
          ]
        }
      ],
      "source": [
        "# calcul symbolique en python (calcul d'intégrale impropre) \n",
        "from sympy import * \n",
        " \n",
        "x = Symbol('x') \n",
        "pprint(integrate(exp(-x ** 2), (x, -oo, oo))) "
      ]
    },
    {
      "cell_type": "code",
      "source": [
        "t = symbols('t')\n",
        "\n",
        "pprint(integrate(ln(t),t))\n"
      ],
      "metadata": {
        "id": "hXC_Iw5XMwoo",
        "colab": {
          "base_uri": "https://localhost:8080/"
        },
        "outputId": "9a82e4e2-8249-4ca3-b057-902054ba4cfe"
      },
      "execution_count": 3,
      "outputs": [
        {
          "output_type": "stream",
          "name": "stdout",
          "text": [
            "t⋅log(t) - t\n"
          ]
        }
      ]
    },
    {
      "cell_type": "code",
      "source": [
        "pprint(integrate(1/t,t))\n"
      ],
      "metadata": {
        "colab": {
          "base_uri": "https://localhost:8080/"
        },
        "id": "XD7mp1M8QAJq",
        "outputId": "1b09ad09-a90f-4900-a76f-25a94e1d955d"
      },
      "execution_count": 4,
      "outputs": [
        {
          "output_type": "stream",
          "name": "stdout",
          "text": [
            "log(t)\n"
          ]
        }
      ]
    },
    {
      "cell_type": "code",
      "source": [
        "pprint(integrate(exp(t**2),t)) # fonction d'erreur de Gauss"
      ],
      "metadata": {
        "colab": {
          "base_uri": "https://localhost:8080/"
        },
        "id": "vpXMo4N0QDLg",
        "outputId": "ab2f035a-5b90-4536-d403-5db190f82003"
      },
      "execution_count": 5,
      "outputs": [
        {
          "output_type": "stream",
          "name": "stdout",
          "text": [
            "√π⋅erfi(t)\n",
            "──────────\n",
            "    2     \n"
          ]
        }
      ]
    },
    {
      "cell_type": "code",
      "source": [
        "pprint(integrate(ln(t),(t,0,1)))"
      ],
      "metadata": {
        "colab": {
          "base_uri": "https://localhost:8080/"
        },
        "id": "3eF9zIC4QFB_",
        "outputId": "87e7daac-1434-4a23-e7ac-eea0735bdafd"
      },
      "execution_count": 6,
      "outputs": [
        {
          "output_type": "stream",
          "name": "stdout",
          "text": [
            "-1\n"
          ]
        }
      ]
    },
    {
      "cell_type": "code",
      "source": [
        "pprint(integrate(1/t**2,(t,1,+oo)))"
      ],
      "metadata": {
        "colab": {
          "base_uri": "https://localhost:8080/"
        },
        "id": "lanHHTBJQi-p",
        "outputId": "02e0781d-83e8-4a24-e57f-16fc07fdd4ec"
      },
      "execution_count": 7,
      "outputs": [
        {
          "output_type": "stream",
          "name": "stdout",
          "text": [
            "1\n"
          ]
        }
      ]
    },
    {
      "cell_type": "code",
      "source": [
        ""
      ],
      "metadata": {
        "id": "TITviUS0Qmkh"
      },
      "execution_count": null,
      "outputs": []
    }
  ]
}