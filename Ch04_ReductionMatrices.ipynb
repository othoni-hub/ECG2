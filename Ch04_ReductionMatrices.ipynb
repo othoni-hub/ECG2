{
  "nbformat": 4,
  "nbformat_minor": 0,
  "metadata": {
    "colab": {
      "name": "Ch04-ReductionMatrices.ipynb",
      "provenance": [],
      "authorship_tag": "ABX9TyPVQ/9rY2HkiN750P76nYDh",
      "include_colab_link": true
    },
    "kernelspec": {
      "name": "python3",
      "display_name": "Python 3"
    },
    "language_info": {
      "name": "python"
    }
  },
  "cells": [
    {
      "cell_type": "markdown",
      "metadata": {
        "id": "view-in-github",
        "colab_type": "text"
      },
      "source": [
        "<a href=\"https://colab.research.google.com/github/othoni-hub/ECG2/blob/main/Ch04_ReductionMatrices.ipynb\" target=\"_parent\"><img src=\"https://colab.research.google.com/assets/colab-badge.svg\" alt=\"Open In Colab\"/></a>"
      ]
    },
    {
      "cell_type": "markdown",
      "metadata": {
        "id": "9gRjJPolrmT_"
      },
      "source": [
        "# **CPGE-ECG2** \n"
      ]
    },
    {
      "cell_type": "markdown",
      "metadata": {
        "id": "Gprox7oVPE7W"
      },
      "source": [
        "\n",
        "\n",
        "## **Ch4 - Notebook : Réductions des Matrices**\n",
        "\n",
        "<img src=\"https://drive.google.com/uc?id=12Wo3LubGGT4qOvYFAuLP4CyCuwjKNVuk\" width=\"230\" height=\"150\" align = \"right\"/>\n",
        "\n",
        "\n",
        "\n",
        "\n",
        "**O.Thöni - Lycée Saint-Charles Sainte Croix - LE MANS**"
      ]
    },
    {
      "cell_type": "markdown",
      "source": [
        "## **Utilisation du module *NumPy.LinAlg***\n",
        "\n",
        "(procédé conforme au programme officiel d'ECG2)\n"
      ],
      "metadata": {
        "id": "z-uv2jTIfNEh"
      }
    },
    {
      "cell_type": "code",
      "source": [
        "import numpy as np\n",
        "import numpy.linalg as al"
      ],
      "metadata": {
        "id": "6WzAvW4Jzj0E"
      },
      "execution_count": 1,
      "outputs": []
    },
    {
      "cell_type": "code",
      "source": [
        "A = np.array([[-2,-2, 1 ], [-2, 1, -2], [1, -2, -2]])\n",
        "A"
      ],
      "metadata": {
        "colab": {
          "base_uri": "https://localhost:8080/"
        },
        "id": "jjgI_jjvzntH",
        "outputId": "e5977730-7a48-43ba-eb95-885e582e6918"
      },
      "execution_count": 2,
      "outputs": [
        {
          "output_type": "execute_result",
          "data": {
            "text/plain": [
              "array([[-2, -2,  1],\n",
              "       [-2,  1, -2],\n",
              "       [ 1, -2, -2]])"
            ]
          },
          "metadata": {},
          "execution_count": 2
        }
      ]
    },
    {
      "cell_type": "markdown",
      "source": [
        "La fonction qui permet de diagonaliser une matrice est **\"*alg*\"**, \n",
        "\n",
        "elle renvoie deux tableaux *NumPy*, D, tableau-ligne des valeurs propres de A, et V, matrice des vecteurs propres.\n",
        "\n",
        "---"
      ],
      "metadata": {
        "id": "imjfEzpg0DlD"
      }
    },
    {
      "cell_type": "code",
      "source": [
        "D, V = al.eig(A)"
      ],
      "metadata": {
        "id": "-z4MAkmOz-CN"
      },
      "execution_count": 3,
      "outputs": []
    },
    {
      "cell_type": "markdown",
      "source": [
        "---"
      ],
      "metadata": {
        "id": "ZO61y5Y_77Xe"
      }
    },
    {
      "cell_type": "code",
      "source": [
        "D"
      ],
      "metadata": {
        "colab": {
          "base_uri": "https://localhost:8080/"
        },
        "id": "Q4gUjVW80OsV",
        "outputId": "723cbce1-971e-4b71-db24-3007c8770a53"
      },
      "execution_count": 4,
      "outputs": [
        {
          "output_type": "execute_result",
          "data": {
            "text/plain": [
              "array([-3.,  3., -3.])"
            ]
          },
          "metadata": {},
          "execution_count": 4
        }
      ]
    },
    {
      "cell_type": "markdown",
      "source": [
        "Si l'on veut la transformer en matrice diagonale, on utilise la fonction diag de *NumPy*"
      ],
      "metadata": {
        "id": "kZYNQ4Sh1JBr"
      }
    },
    {
      "cell_type": "code",
      "source": [
        "D = np.diag(D)\n",
        "D"
      ],
      "metadata": {
        "colab": {
          "base_uri": "https://localhost:8080/"
        },
        "id": "bd7FkhEY1RSF",
        "outputId": "af17f887-9e2a-4b66-d377-b35de11aadc4"
      },
      "execution_count": 5,
      "outputs": [
        {
          "output_type": "execute_result",
          "data": {
            "text/plain": [
              "array([[-3.,  0.,  0.],\n",
              "       [ 0.,  3.,  0.],\n",
              "       [ 0.,  0., -3.]])"
            ]
          },
          "metadata": {},
          "execution_count": 5
        }
      ]
    },
    {
      "cell_type": "code",
      "source": [
        "V"
      ],
      "metadata": {
        "colab": {
          "base_uri": "https://localhost:8080/"
        },
        "id": "wojpsYVN0map",
        "outputId": "9a8b8b75-a108-47b1-b320-bcd94670cfad"
      },
      "execution_count": 6,
      "outputs": [
        {
          "output_type": "execute_result",
          "data": {
            "text/plain": [
              "array([[-0.91287093, -0.40824829, -0.12309149],\n",
              "       [-0.36514837,  0.81649658,  0.39389277],\n",
              "       [ 0.18257419, -0.40824829,  0.91087703]])"
            ]
          },
          "metadata": {},
          "execution_count": 6
        }
      ]
    },
    {
      "cell_type": "markdown",
      "source": [
        "La 1<sup>ère</sup> colonne est censée être un vecteur propre associé à la 1<sup>ère</sup> valeur propre, voyons cela...\n",
        "\n",
        "**Attention :** si l'on récupère la 1<sup>ère</sup> colonne, sans précaution, on obtiendra un *array* à une ligne, qu'il ne sera pas possible de transposer pour en faire un vecteur-colonne.\n",
        "\n",
        "Pour parvenir à nos fins, on définit notre vecteur avec doubles-*brackets* pour qu'il soit considéré comme bidimensionnel. On pourra alors le transposer !"
      ],
      "metadata": {
        "id": "yTP610KC1Y8R"
      }
    },
    {
      "cell_type": "code",
      "source": [
        "V1 = np.array([[V[i][0] for i in range(len(D))]])\n",
        "V1"
      ],
      "metadata": {
        "colab": {
          "base_uri": "https://localhost:8080/"
        },
        "id": "434Xu9jA1q3N",
        "outputId": "9eebeeb8-3648-4dd3-fb4a-816591ce57a1"
      },
      "execution_count": 7,
      "outputs": [
        {
          "output_type": "execute_result",
          "data": {
            "text/plain": [
              "array([[-0.91287093, -0.36514837,  0.18257419]])"
            ]
          },
          "metadata": {},
          "execution_count": 7
        }
      ]
    },
    {
      "cell_type": "code",
      "source": [
        "V1 = np.transpose(V1)\n",
        "V1"
      ],
      "metadata": {
        "colab": {
          "base_uri": "https://localhost:8080/"
        },
        "id": "-W0slkos1XY3",
        "outputId": "04b013b2-6863-4d1e-c8c7-5f641fdd3332"
      },
      "execution_count": 8,
      "outputs": [
        {
          "output_type": "execute_result",
          "data": {
            "text/plain": [
              "array([[-0.91287093],\n",
              "       [-0.36514837],\n",
              "       [ 0.18257419]])"
            ]
          },
          "metadata": {},
          "execution_count": 8
        }
      ]
    },
    {
      "cell_type": "markdown",
      "source": [
        "Vérifions maintenant si V1 est bien un vecteur propre associé à la 1<sup>ère</sup> valeur propre de A..."
      ],
      "metadata": {
        "id": "3uQz3c905-oP"
      }
    },
    {
      "cell_type": "code",
      "source": [
        "A @ V1 # vrai produit matriciel. Autre méthode : A.dot(V1)"
      ],
      "metadata": {
        "colab": {
          "base_uri": "https://localhost:8080/"
        },
        "id": "XXtcAQLn4I1Y",
        "outputId": "6857fead-2c01-42ad-ef47-4f1f4c5754af"
      },
      "execution_count": 9,
      "outputs": [
        {
          "output_type": "execute_result",
          "data": {
            "text/plain": [
              "array([[ 2.73861279],\n",
              "       [ 1.09544512],\n",
              "       [-0.54772256]])"
            ]
          },
          "metadata": {},
          "execution_count": 9
        }
      ]
    },
    {
      "cell_type": "code",
      "source": [
        "A.dot(V1) - D[0][0]*V1"
      ],
      "metadata": {
        "colab": {
          "base_uri": "https://localhost:8080/"
        },
        "id": "oqSaAnkj6UsW",
        "outputId": "54a7504f-412f-4c38-a233-5e831e9b13c1"
      },
      "execution_count": 10,
      "outputs": [
        {
          "output_type": "execute_result",
          "data": {
            "text/plain": [
              "array([[ 0.00000000e+00],\n",
              "       [ 0.00000000e+00],\n",
              "       [-1.11022302e-16]])"
            ]
          },
          "metadata": {},
          "execution_count": 10
        }
      ]
    },
    {
      "cell_type": "markdown",
      "source": [
        "... valeurs suffisamment petites pour être considérées comme nulles...\n",
        "\n",
        "Par contre, on n'a pas testé \"A.dot(V1) == D[0][0] \\* V1\" qui aurait répondu 'False' : **ne pas comparer des flottants**, du fait de leur implémentation en Python, on a des erreurs d'arrondis rendant les comparaisons impossibles (la preuve, la différence ci-dessus ne done pas pile 0...)"
      ],
      "metadata": {
        "id": "K1IH_twl6i1Q"
      }
    },
    {
      "cell_type": "code",
      "source": [
        "A.dot(V1) == D[0][0]*V1"
      ],
      "metadata": {
        "colab": {
          "base_uri": "https://localhost:8080/"
        },
        "id": "rLQyuS7_7OAd",
        "outputId": "e38a18af-9209-4549-a387-a785d54dc28f"
      },
      "execution_count": 11,
      "outputs": [
        {
          "output_type": "execute_result",
          "data": {
            "text/plain": [
              "array([[ True],\n",
              "       [ True],\n",
              "       [False]])"
            ]
          },
          "metadata": {},
          "execution_count": 11
        }
      ]
    },
    {
      "cell_type": "markdown",
      "source": [
        "## **Reconstruction plus algébrique**\n",
        "\n",
        "*(Non exigible selon le programme officiel)*\n",
        "\n",
        "Il existe un module Python assez impressionnant permettant le calcul symbolique. Il se nomme ***SymPy***.\n",
        "\n",
        "Nous le remettrons à l'oeuvre quand nous aborderons la résolution numérique d'équations et de systèmes différentiels."
      ],
      "metadata": {
        "id": "vMiqf2mT-WtX"
      }
    },
    {
      "cell_type": "code",
      "source": [
        "import sympy as sp"
      ],
      "metadata": {
        "id": "u7vYY8Ka6f72"
      },
      "execution_count": 12,
      "outputs": []
    },
    {
      "cell_type": "code",
      "source": [
        "x, y = sp.symbols('x y')\n",
        "\n",
        "A=sp.Matrix([[1,3],[2,-4]])\n",
        "A"
      ],
      "metadata": {
        "colab": {
          "base_uri": "https://localhost:8080/",
          "height": 58
        },
        "id": "gd7dozdtBQZO",
        "outputId": "31cace62-90ca-401c-dc8e-db02f5874a69"
      },
      "execution_count": 13,
      "outputs": [
        {
          "output_type": "execute_result",
          "data": {
            "text/plain": [
              "Matrix([\n",
              "[1,  3],\n",
              "[2, -4]])"
            ],
            "text/latex": "$\\displaystyle \\left[\\begin{matrix}1 & 3\\\\2 & -4\\end{matrix}\\right]$"
          },
          "metadata": {},
          "execution_count": 13
        }
      ]
    },
    {
      "cell_type": "code",
      "source": [
        "X=sp.Matrix([[x],[y]])\n",
        "X"
      ],
      "metadata": {
        "colab": {
          "base_uri": "https://localhost:8080/",
          "height": 58
        },
        "id": "mR6v_M_VB1Jt",
        "outputId": "6528a8d3-bf75-4282-e13b-a957f1d407ed"
      },
      "execution_count": 14,
      "outputs": [
        {
          "output_type": "execute_result",
          "data": {
            "text/plain": [
              "Matrix([\n",
              "[x],\n",
              "[y]])"
            ],
            "text/latex": "$\\displaystyle \\left[\\begin{matrix}x\\\\y\\end{matrix}\\right]$"
          },
          "metadata": {},
          "execution_count": 14
        }
      ]
    },
    {
      "cell_type": "markdown",
      "source": [
        "Il paraît que -5 est valeur propre de A...\n",
        "\n",
        "On cherche à résoudre $A.X=-5X$\n",
        "\n",
        "$\\left\\{\\begin{matrix} x + 3y = -5x\\\\2x -  4y = -5y\\end{matrix}\\right.\\Leftrightarrow\\left\\{\\begin{matrix}6x + 3y = 0\\\\2x +  y = 0\\end{matrix}\\right.\n",
        "  \\Leftrightarrow\n",
        " 2x +  y = 0\\Leftrightarrow\n",
        " x= \\frac{-y}{2}$"
      ],
      "metadata": {
        "id": "nP9l4kUlCiQV"
      }
    },
    {
      "cell_type": "code",
      "source": [
        "sp.pprint(sp.solve(-5*X-A*X)) # pprint : \"pretty print\""
      ],
      "metadata": {
        "colab": {
          "base_uri": "https://localhost:8080/"
        },
        "id": "Z0hs9buoCHCd",
        "outputId": "318b962b-4db8-4415-aae4-c2238ea7e839"
      },
      "execution_count": 15,
      "outputs": [
        {
          "output_type": "stream",
          "name": "stdout",
          "text": [
            "⎧   -y ⎫\n",
            "⎨x: ───⎬\n",
            "⎩    2 ⎭\n"
          ]
        }
      ]
    },
    {
      "cell_type": "markdown",
      "source": [
        "*SymPy* permet d'écrire $Ker(A+5I)$ avec la méthode *nullspace()*"
      ],
      "metadata": {
        "id": "hG3qGdu-FJ88"
      }
    },
    {
      "cell_type": "code",
      "source": [
        "sp.pprint((-5*sp.eye(2)-A).nullspace())"
      ],
      "metadata": {
        "colab": {
          "base_uri": "https://localhost:8080/"
        },
        "id": "V6bQrbqwFb_l",
        "outputId": "f35fc661-c1b1-41d2-d92c-2cbc08a2a6d2"
      },
      "execution_count": 16,
      "outputs": [
        {
          "output_type": "stream",
          "name": "stdout",
          "text": [
            "⎡⎡-1/2⎤⎤\n",
            "⎢⎢    ⎥⎥\n",
            "⎣⎣ 1  ⎦⎦\n"
          ]
        }
      ]
    },
    {
      "cell_type": "markdown",
      "source": [
        "On peut obtenir le polynôme caractéristique de A (le polynôme que l'on obtient en bas à droite dans la trigonalisée de $A-\\lambda . I$, celi dont on cherche les racines...)"
      ],
      "metadata": {
        "id": "bBSEYPy4GBjl"
      }
    },
    {
      "cell_type": "code",
      "source": [
        "P=sp.Matrix.charpoly(A)\n",
        "sp.pprint(P)"
      ],
      "metadata": {
        "colab": {
          "base_uri": "https://localhost:8080/"
        },
        "id": "WXwPycgmCJAU",
        "outputId": "b272b386-4eb4-489b-df1e-ef27ed795bda"
      },
      "execution_count": 17,
      "outputs": [
        {
          "output_type": "stream",
          "name": "stdout",
          "text": [
            "PurePoly(lambda**2 + 3*lambda - 10, lambda, domain='ZZ')\n"
          ]
        }
      ]
    },
    {
      "cell_type": "code",
      "source": [
        "z=sp.factor_list(P)\n",
        "sp.pprint(z)"
      ],
      "metadata": {
        "colab": {
          "base_uri": "https://localhost:8080/"
        },
        "id": "kMxZn4jVGc7J",
        "outputId": "19c05556-cd9d-4ab3-b9f7-d9693a692aed"
      },
      "execution_count": 18,
      "outputs": [
        {
          "output_type": "stream",
          "name": "stdout",
          "text": [
            "(1, [(PurePoly(lambda - 2, lambda, domain='ZZ'), 1), (PurePoly(lambda + 5, lam\n",
            "bda, domain='ZZ'), 1)])\n"
          ]
        }
      ]
    },
    {
      "cell_type": "code",
      "source": [
        "P = sp.poly(P)\n",
        "P"
      ],
      "metadata": {
        "colab": {
          "base_uri": "https://localhost:8080/",
          "height": 39
        },
        "id": "e1bpxBNWMOnw",
        "outputId": "047e3353-493f-4685-ff58-8fef978cf07a"
      },
      "execution_count": 19,
      "outputs": [
        {
          "output_type": "execute_result",
          "data": {
            "text/plain": [
              "Poly(lambda**2 + 3*lambda - 10, lambda, domain='ZZ')"
            ],
            "text/latex": "$\\displaystyle \\operatorname{Poly}{\\left( \\lambda^{2} + 3 \\lambda - 10, \\lambda, domain=\\mathbb{Z} \\right)}$"
          },
          "metadata": {},
          "execution_count": 19
        }
      ]
    },
    {
      "cell_type": "code",
      "source": [
        "#P = x**2+3*x-10\n",
        "racines=sp.solve(P, extension  = sp.sqrt(2)) ## l'extension permet de travailler si besoin avec des irrationnels, sion, domain = ZZ)\n",
        "racines"
      ],
      "metadata": {
        "colab": {
          "base_uri": "https://localhost:8080/"
        },
        "id": "se3xLquYGlr2",
        "outputId": "40b2be96-c287-44e1-fdf8-c410846b9353"
      },
      "execution_count": 20,
      "outputs": [
        {
          "output_type": "execute_result",
          "data": {
            "text/plain": [
              "[-5, 2]"
            ]
          },
          "metadata": {},
          "execution_count": 20
        }
      ]
    },
    {
      "cell_type": "markdown",
      "source": [
        "**Valeurs propres et vecteurs propres d'une matrice**"
      ],
      "metadata": {
        "id": "TcJWj7HlNb4l"
      }
    },
    {
      "cell_type": "code",
      "source": [
        "M = sp.Matrix([[3, -2,  4, -2],\n",
        "              [5,  3, -3, -2],\n",
        "              [5, -2,  2, -2],\n",
        "              [5, -2, -3,  3]])\n",
        "sp.pprint(M.eigenvals())\n"
      ],
      "metadata": {
        "colab": {
          "base_uri": "https://localhost:8080/"
        },
        "id": "b5cw4kw7MdKM",
        "outputId": "6b3db87a-07c7-4b60-e8f6-b0d24c91a9fd"
      },
      "execution_count": 21,
      "outputs": [
        {
          "output_type": "stream",
          "name": "stdout",
          "text": [
            "{-2: 1, 3: 1, 5: 2}\n"
          ]
        }
      ]
    },
    {
      "cell_type": "markdown",
      "source": [
        "La méthode *.eingenvals()* renvoie un dictionnaire ayant pour clés les valeurs propres de la Matrice *Sympy*, et pour valeurs leur ordre de multiplicité.\n",
        "\n",
        "La méthode *.eingenvects()* renvoie une liste de liste, contenant chacune chaque valeur propre, son ordre de multiplicité, et une base de vecteurs propres."
      ],
      "metadata": {
        "id": "6oIcdHY_Njcx"
      }
    },
    {
      "cell_type": "code",
      "source": [
        "sp.pprint(M.eigenvects())"
      ],
      "metadata": {
        "colab": {
          "base_uri": "https://localhost:8080/"
        },
        "id": "ESGNE6nnNSbl",
        "outputId": "23886f74-935c-499d-8918-88b44b0a2587"
      },
      "execution_count": 22,
      "outputs": [
        {
          "output_type": "stream",
          "name": "stdout",
          "text": [
            "⎡⎛       ⎡⎡0⎤⎤⎞  ⎛      ⎡⎡1⎤⎤⎞  ⎛      ⎡⎡1⎤  ⎡0 ⎤⎤⎞⎤\n",
            "⎢⎜       ⎢⎢ ⎥⎥⎟  ⎜      ⎢⎢ ⎥⎥⎟  ⎜      ⎢⎢ ⎥  ⎢  ⎥⎥⎟⎥\n",
            "⎢⎜       ⎢⎢1⎥⎥⎟  ⎜      ⎢⎢1⎥⎥⎟  ⎜      ⎢⎢1⎥  ⎢-1⎥⎥⎟⎥\n",
            "⎢⎜-2, 1, ⎢⎢ ⎥⎥⎟, ⎜3, 1, ⎢⎢ ⎥⎥⎟, ⎜5, 2, ⎢⎢ ⎥, ⎢  ⎥⎥⎟⎥\n",
            "⎢⎜       ⎢⎢1⎥⎥⎟  ⎜      ⎢⎢1⎥⎥⎟  ⎜      ⎢⎢1⎥  ⎢0 ⎥⎥⎟⎥\n",
            "⎢⎜       ⎢⎢ ⎥⎥⎟  ⎜      ⎢⎢ ⎥⎥⎟  ⎜      ⎢⎢ ⎥  ⎢  ⎥⎥⎟⎥\n",
            "⎣⎝       ⎣⎣1⎦⎦⎠  ⎝      ⎣⎣1⎦⎦⎠  ⎝      ⎣⎣0⎦  ⎣1 ⎦⎦⎠⎦\n"
          ]
        }
      ]
    },
    {
      "cell_type": "code",
      "source": [
        ""
      ],
      "metadata": {
        "id": "BLiQ2FBvNXAE"
      },
      "execution_count": 22,
      "outputs": []
    }
  ]
}