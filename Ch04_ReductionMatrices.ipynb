{
  "nbformat": 4,
  "nbformat_minor": 0,
  "metadata": {
    "colab": {
      "provenance": [],
      "authorship_tag": "ABX9TyOtlbEoZ9m3f/+0/nFZWWY8",
      "include_colab_link": true
    },
    "kernelspec": {
      "name": "python3",
      "display_name": "Python 3"
    },
    "language_info": {
      "name": "python"
    }
  },
  "cells": [
    {
      "cell_type": "markdown",
      "metadata": {
        "id": "view-in-github",
        "colab_type": "text"
      },
      "source": [
        "<a href=\"https://colab.research.google.com/github/othoni-hub/ECG2/blob/main/Ch04_ReductionMatrices.ipynb\" target=\"_parent\"><img src=\"https://colab.research.google.com/assets/colab-badge.svg\" alt=\"Open In Colab\"/></a>"
      ]
    },
    {
      "cell_type": "markdown",
      "metadata": {
        "id": "9gRjJPolrmT_"
      },
      "source": [
        "# **CPGE-ECG2** \n"
      ]
    },
    {
      "cell_type": "markdown",
      "metadata": {
        "id": "Gprox7oVPE7W"
      },
      "source": [
        "\n",
        "\n",
        "## **Ch4 - Notebook : Réductions des Matrices**\n",
        "\n",
        "<img src=\"https://drive.google.com/uc?id=12Wo3LubGGT4qOvYFAuLP4CyCuwjKNVuk\" width=\"230\" height=\"150\" align = \"right\"/>\n",
        "\n",
        "\n",
        "\n",
        "\n",
        "**O.Thöni - Lycée Saint-Charles Sainte Croix - LE MANS**"
      ]
    },
    {
      "cell_type": "markdown",
      "source": [
        "## **Utilisation du module *NumPy.LinAlg***\n",
        "\n",
        "(procédé conforme au programme officiel d'ECG2)\n"
      ],
      "metadata": {
        "id": "z-uv2jTIfNEh"
      }
    },
    {
      "cell_type": "code",
      "source": [
        "import numpy as np\n",
        "import numpy.linalg as al"
      ],
      "metadata": {
        "id": "6WzAvW4Jzj0E"
      },
      "execution_count": null,
      "outputs": []
    },
    {
      "cell_type": "code",
      "source": [
        "A = np.array([[-2,-2, 1 ], [-2, 1, -2], [1, -2, -2]])\n",
        "A"
      ],
      "metadata": {
        "colab": {
          "base_uri": "https://localhost:8080/"
        },
        "id": "jjgI_jjvzntH",
        "outputId": "13612b8d-541f-47a2-b903-44c7fbabf768"
      },
      "execution_count": null,
      "outputs": [
        {
          "output_type": "execute_result",
          "data": {
            "text/plain": [
              "array([[-2, -2,  1],\n",
              "       [-2,  1, -2],\n",
              "       [ 1, -2, -2]])"
            ]
          },
          "metadata": {},
          "execution_count": 2
        }
      ]
    },
    {
      "cell_type": "markdown",
      "source": [
        "La fonction qui permet de diagonaliser une matrice est **\"*al.eig*\"**, \n",
        "\n",
        "elle renvoie deux tableaux *NumPy*, D, tableau-ligne des valeurs propres de A, et V, matrice des vecteurs propres.\n",
        "\n",
        "---"
      ],
      "metadata": {
        "id": "imjfEzpg0DlD"
      }
    },
    {
      "cell_type": "code",
      "source": [
        "D, V = al.eig(A)"
      ],
      "metadata": {
        "id": "-z4MAkmOz-CN"
      },
      "execution_count": null,
      "outputs": []
    },
    {
      "cell_type": "markdown",
      "source": [
        "---"
      ],
      "metadata": {
        "id": "ZO61y5Y_77Xe"
      }
    },
    {
      "cell_type": "code",
      "source": [
        "D"
      ],
      "metadata": {
        "colab": {
          "base_uri": "https://localhost:8080/"
        },
        "id": "Q4gUjVW80OsV",
        "outputId": "d40ada26-f88f-4e4a-bed7-f00b823e75fa"
      },
      "execution_count": null,
      "outputs": [
        {
          "output_type": "execute_result",
          "data": {
            "text/plain": [
              "array([-3.,  3., -3.])"
            ]
          },
          "metadata": {},
          "execution_count": 4
        }
      ]
    },
    {
      "cell_type": "markdown",
      "source": [
        "Si l'on veut la transformer en matrice diagonale, on utilise la fonction diag de *NumPy*"
      ],
      "metadata": {
        "id": "kZYNQ4Sh1JBr"
      }
    },
    {
      "cell_type": "code",
      "source": [
        "D = np.diag(D)\n",
        "D"
      ],
      "metadata": {
        "colab": {
          "base_uri": "https://localhost:8080/"
        },
        "id": "bd7FkhEY1RSF",
        "outputId": "ddbf3f69-ad96-4bb8-c75d-f915e4824860"
      },
      "execution_count": null,
      "outputs": [
        {
          "output_type": "execute_result",
          "data": {
            "text/plain": [
              "array([[-3.,  0.,  0.],\n",
              "       [ 0.,  3.,  0.],\n",
              "       [ 0.,  0., -3.]])"
            ]
          },
          "metadata": {},
          "execution_count": 5
        }
      ]
    },
    {
      "cell_type": "code",
      "source": [
        "V"
      ],
      "metadata": {
        "colab": {
          "base_uri": "https://localhost:8080/"
        },
        "id": "wojpsYVN0map",
        "outputId": "34105359-57cc-45d9-a1e3-599c8d9d9362"
      },
      "execution_count": null,
      "outputs": [
        {
          "output_type": "execute_result",
          "data": {
            "text/plain": [
              "array([[-0.91287093, -0.40824829, -0.12309149],\n",
              "       [-0.36514837,  0.81649658,  0.39389277],\n",
              "       [ 0.18257419, -0.40824829,  0.91087703]])"
            ]
          },
          "metadata": {},
          "execution_count": 6
        }
      ]
    },
    {
      "cell_type": "markdown",
      "source": [
        "La 1<sup>ère</sup> colonne est censée être un vecteur propre associé à la 1<sup>ère</sup> valeur propre, voyons cela...\n",
        "\n",
        "**Attention :** si l'on récupère la 1<sup>ère</sup> colonne, sans précaution, on obtiendra un *array* à une ligne, qu'il ne sera pas possible de transposer pour en faire un vecteur-colonne.\n",
        "\n",
        "Pour parvenir à nos fins, on définit notre vecteur avec doubles-*brackets* pour qu'il soit considéré comme bidimensionnel. On pourra alors le transposer !"
      ],
      "metadata": {
        "id": "yTP610KC1Y8R"
      }
    },
    {
      "cell_type": "code",
      "source": [
        "V1 = np.array([[V[i][0] for i in range(len(D))]])\n",
        "V1"
      ],
      "metadata": {
        "colab": {
          "base_uri": "https://localhost:8080/"
        },
        "id": "434Xu9jA1q3N",
        "outputId": "312300d8-e6c2-42f3-b120-58ab223528b9"
      },
      "execution_count": null,
      "outputs": [
        {
          "output_type": "execute_result",
          "data": {
            "text/plain": [
              "array([[-0.91287093, -0.36514837,  0.18257419]])"
            ]
          },
          "metadata": {},
          "execution_count": 7
        }
      ]
    },
    {
      "cell_type": "code",
      "source": [
        "V1 = np.transpose(V1)\n",
        "V1"
      ],
      "metadata": {
        "colab": {
          "base_uri": "https://localhost:8080/"
        },
        "id": "-W0slkos1XY3",
        "outputId": "4fa290c3-0305-445c-dc57-185dee1247fa"
      },
      "execution_count": null,
      "outputs": [
        {
          "output_type": "execute_result",
          "data": {
            "text/plain": [
              "array([[-0.91287093],\n",
              "       [-0.36514837],\n",
              "       [ 0.18257419]])"
            ]
          },
          "metadata": {},
          "execution_count": 8
        }
      ]
    },
    {
      "cell_type": "markdown",
      "source": [
        "Vérifions maintenant si V1 est bien un vecteur propre associé à la 1<sup>ère</sup> valeur propre de A..."
      ],
      "metadata": {
        "id": "3uQz3c905-oP"
      }
    },
    {
      "cell_type": "code",
      "source": [
        "A @ V1 # vrai produit matriciel. Autre méthode : A.dot(V1)"
      ],
      "metadata": {
        "colab": {
          "base_uri": "https://localhost:8080/"
        },
        "id": "XXtcAQLn4I1Y",
        "outputId": "e3ca0612-d43f-4c84-f88d-f6e7151e2527"
      },
      "execution_count": null,
      "outputs": [
        {
          "output_type": "execute_result",
          "data": {
            "text/plain": [
              "array([[ 2.73861279],\n",
              "       [ 1.09544512],\n",
              "       [-0.54772256]])"
            ]
          },
          "metadata": {},
          "execution_count": 9
        }
      ]
    },
    {
      "cell_type": "code",
      "source": [
        "A.dot(V1) - D[0][0]*V1"
      ],
      "metadata": {
        "colab": {
          "base_uri": "https://localhost:8080/"
        },
        "id": "oqSaAnkj6UsW",
        "outputId": "962033b6-0262-48b8-f567-6b63aeb6719d"
      },
      "execution_count": null,
      "outputs": [
        {
          "output_type": "execute_result",
          "data": {
            "text/plain": [
              "array([[ 0.00000000e+00],\n",
              "       [ 0.00000000e+00],\n",
              "       [-1.11022302e-16]])"
            ]
          },
          "metadata": {},
          "execution_count": 10
        }
      ]
    },
    {
      "cell_type": "markdown",
      "source": [
        "... valeurs suffisamment petites pour être considérées comme nulles...\n",
        "\n",
        "Par contre, on n'a pas testé \"A.dot(V1) == D[0][0] \\* V1\" qui aurait répondu 'False' : **ne pas comparer des flottants**, du fait de leur implémentation en Python, on a des erreurs d'arrondis rendant les comparaisons impossibles :"
      ],
      "metadata": {
        "id": "K1IH_twl6i1Q"
      }
    },
    {
      "cell_type": "code",
      "source": [
        "A.dot(V1) == D[0][0]*V1"
      ],
      "metadata": {
        "colab": {
          "base_uri": "https://localhost:8080/"
        },
        "id": "rLQyuS7_7OAd",
        "outputId": "76cfbac0-1126-4088-edd7-041e8b6bde5e"
      },
      "execution_count": null,
      "outputs": [
        {
          "output_type": "execute_result",
          "data": {
            "text/plain": [
              "array([[ True],\n",
              "       [ True],\n",
              "       [False]])"
            ]
          },
          "metadata": {},
          "execution_count": 11
        }
      ]
    },
    {
      "cell_type": "markdown",
      "source": [
        "## **Reconstruction plus algébrique**\n",
        "\n",
        "*(Non exigible selon le programme officiel)*\n",
        "\n",
        "Il existe un module Python assez impressionnant permettant le calcul symbolique. Il se nomme ***SymPy***.\n",
        "\n",
        "Nous le remettrons à l'oeuvre quand nous aborderons la résolution numérique d'équations et de systèmes différentiels."
      ],
      "metadata": {
        "id": "vMiqf2mT-WtX"
      }
    },
    {
      "cell_type": "code",
      "source": [
        "import sympy as sp"
      ],
      "metadata": {
        "id": "u7vYY8Ka6f72"
      },
      "execution_count": null,
      "outputs": []
    },
    {
      "cell_type": "code",
      "source": [
        "x, y = sp.symbols('x y')\n",
        "\n",
        "A=sp.Matrix([[1,3],[2,-4]])\n",
        "A"
      ],
      "metadata": {
        "colab": {
          "base_uri": "https://localhost:8080/",
          "height": 58
        },
        "id": "gd7dozdtBQZO",
        "outputId": "fb1a6d07-1472-4406-ec22-1022004d2407"
      },
      "execution_count": null,
      "outputs": [
        {
          "output_type": "execute_result",
          "data": {
            "text/plain": [
              "Matrix([\n",
              "[1,  3],\n",
              "[2, -4]])"
            ],
            "text/latex": "$\\displaystyle \\left[\\begin{matrix}1 & 3\\\\2 & -4\\end{matrix}\\right]$"
          },
          "metadata": {},
          "execution_count": 13
        }
      ]
    },
    {
      "cell_type": "code",
      "source": [
        "X=sp.Matrix([[x],[y]])\n",
        "X"
      ],
      "metadata": {
        "colab": {
          "base_uri": "https://localhost:8080/",
          "height": 58
        },
        "id": "mR6v_M_VB1Jt",
        "outputId": "3b5832b1-cd08-47bd-8b9e-1e0f27872a4c"
      },
      "execution_count": null,
      "outputs": [
        {
          "output_type": "execute_result",
          "data": {
            "text/plain": [
              "Matrix([\n",
              "[x],\n",
              "[y]])"
            ],
            "text/latex": "$\\displaystyle \\left[\\begin{matrix}x\\\\y\\end{matrix}\\right]$"
          },
          "metadata": {},
          "execution_count": 14
        }
      ]
    },
    {
      "cell_type": "markdown",
      "source": [
        "Il paraît que -5 est valeur propre de A...\n",
        "\n",
        "On cherche à résoudre $A.X=-5X$\n",
        "\n",
        "$\\left\\{\\begin{matrix} x + 3y = -5x\\\\2x -  4y = -5y\\end{matrix}\\right.\\Leftrightarrow\\left\\{\\begin{matrix}6x + 3y = 0\\\\2x +  y = 0\\end{matrix}\\right.\n",
        "  \\Leftrightarrow\n",
        " 2x +  y = 0\\Leftrightarrow\n",
        " x= \\frac{-y}{2}$"
      ],
      "metadata": {
        "id": "nP9l4kUlCiQV"
      }
    },
    {
      "cell_type": "code",
      "source": [
        "sp.pprint(sp.solve(-5*X-A*X)) # pprint : \"pretty print\""
      ],
      "metadata": {
        "colab": {
          "base_uri": "https://localhost:8080/"
        },
        "id": "Z0hs9buoCHCd",
        "outputId": "c1293892-fa87-44ee-d64f-a5b2c283d7eb"
      },
      "execution_count": null,
      "outputs": [
        {
          "output_type": "stream",
          "name": "stdout",
          "text": [
            "⎧   -y ⎫\n",
            "⎨x: ───⎬\n",
            "⎩    2 ⎭\n"
          ]
        }
      ]
    },
    {
      "cell_type": "markdown",
      "source": [
        "*SymPy* permet d'écrire $Ker(A+5I)$ avec la méthode *nullspace()*"
      ],
      "metadata": {
        "id": "hG3qGdu-FJ88"
      }
    },
    {
      "cell_type": "code",
      "source": [
        "sp.pprint((-5*sp.eye(2)-A).nullspace())"
      ],
      "metadata": {
        "colab": {
          "base_uri": "https://localhost:8080/"
        },
        "id": "V6bQrbqwFb_l",
        "outputId": "9eafb4f6-5da4-4a7b-9eb3-fba87bd7bbf7"
      },
      "execution_count": null,
      "outputs": [
        {
          "output_type": "stream",
          "name": "stdout",
          "text": [
            "⎡⎡-1/2⎤⎤\n",
            "⎢⎢    ⎥⎥\n",
            "⎣⎣ 1  ⎦⎦\n"
          ]
        }
      ]
    },
    {
      "cell_type": "markdown",
      "source": [
        "On peut obtenir le polynôme caractéristique de A (le polynôme que l'on obtient en bas à droite dans la trigonalisée de $A-\\lambda . I$, celui dont on cherche les racines...)"
      ],
      "metadata": {
        "id": "bBSEYPy4GBjl"
      }
    },
    {
      "cell_type": "code",
      "source": [
        "P=sp.Matrix.charpoly(A)\n",
        "sp.pprint(P)"
      ],
      "metadata": {
        "colab": {
          "base_uri": "https://localhost:8080/"
        },
        "id": "WXwPycgmCJAU",
        "outputId": "d2bafb28-9271-4a03-9c9b-ce3df0b81211"
      },
      "execution_count": null,
      "outputs": [
        {
          "output_type": "stream",
          "name": "stdout",
          "text": [
            "PurePoly(lambda**2 + 3*lambda - 10, lambda, domain='ZZ')\n"
          ]
        }
      ]
    },
    {
      "cell_type": "code",
      "source": [
        "z=sp.factor_list(P)\n",
        "sp.pprint(z)"
      ],
      "metadata": {
        "colab": {
          "base_uri": "https://localhost:8080/"
        },
        "id": "kMxZn4jVGc7J",
        "outputId": "2fef3015-e736-42f5-e928-195850f1d1ff"
      },
      "execution_count": null,
      "outputs": [
        {
          "output_type": "stream",
          "name": "stdout",
          "text": [
            "(1, [(PurePoly(lambda - 2, lambda, domain='ZZ'), 1), (PurePoly(lambda + 5, lam\n",
            "bda, domain='ZZ'), 1)])\n"
          ]
        }
      ]
    },
    {
      "cell_type": "code",
      "source": [
        "P = sp.poly(P)\n",
        "P"
      ],
      "metadata": {
        "colab": {
          "base_uri": "https://localhost:8080/",
          "height": 39
        },
        "id": "e1bpxBNWMOnw",
        "outputId": "1dd7570b-075e-4191-d73d-da49ba8f8a1e"
      },
      "execution_count": null,
      "outputs": [
        {
          "output_type": "execute_result",
          "data": {
            "text/plain": [
              "Poly(lambda**2 + 3*lambda - 10, lambda, domain='ZZ')"
            ],
            "text/latex": "$\\displaystyle \\operatorname{Poly}{\\left( \\lambda^{2} + 3 \\lambda - 10, \\lambda, domain=\\mathbb{Z} \\right)}$"
          },
          "metadata": {},
          "execution_count": 19
        }
      ]
    },
    {
      "cell_type": "code",
      "source": [
        "#P = x**2+3*x-10\n",
        "racines=sp.solve(P, extension  = sp.sqrt(2)) ## l'extension permet de travailler si besoin avec des irrationnels, sinon, domain = ZZ)\n",
        "racines"
      ],
      "metadata": {
        "colab": {
          "base_uri": "https://localhost:8080/"
        },
        "id": "se3xLquYGlr2",
        "outputId": "20020574-25a9-40a5-e8f9-1ebdd62eb591"
      },
      "execution_count": null,
      "outputs": [
        {
          "output_type": "execute_result",
          "data": {
            "text/plain": [
              "[-5, 2]"
            ]
          },
          "metadata": {},
          "execution_count": 20
        }
      ]
    },
    {
      "cell_type": "markdown",
      "source": [
        "**Valeurs propres et vecteurs propres d'une matrice**"
      ],
      "metadata": {
        "id": "TcJWj7HlNb4l"
      }
    },
    {
      "cell_type": "code",
      "source": [
        "M = sp.Matrix([[3, -2,  4, -2],\n",
        "              [5,  3, -3, -2],\n",
        "              [5, -2,  2, -2],\n",
        "              [5, -2, -3,  3]])\n",
        "sp.pprint(M.eigenvals())\n"
      ],
      "metadata": {
        "colab": {
          "base_uri": "https://localhost:8080/"
        },
        "id": "b5cw4kw7MdKM",
        "outputId": "ad6d5b5a-eaf7-429e-bf3f-5a9626609175"
      },
      "execution_count": null,
      "outputs": [
        {
          "output_type": "stream",
          "name": "stdout",
          "text": [
            "{-2: 1, 3: 1, 5: 2}\n"
          ]
        }
      ]
    },
    {
      "cell_type": "markdown",
      "source": [
        "La méthode *.eingenvals()* renvoie un dictionnaire ayant pour clés les valeurs propres de la Matrice *Sympy*, et pour valeurs leur ordre de multiplicité.\n",
        "\n",
        "La méthode *.eingenvects()* renvoie une liste de liste, contenant chacune chaque valeur propre, son ordre de multiplicité, et une base de vecteurs propres."
      ],
      "metadata": {
        "id": "6oIcdHY_Njcx"
      }
    },
    {
      "cell_type": "code",
      "source": [
        "DV =M.eigenvects()\n",
        "sp.pprint(DV)"
      ],
      "metadata": {
        "colab": {
          "base_uri": "https://localhost:8080/"
        },
        "id": "ESGNE6nnNSbl",
        "outputId": "23a66db4-8a84-42d0-9ffa-c9d3b9f15910"
      },
      "execution_count": null,
      "outputs": [
        {
          "output_type": "stream",
          "name": "stdout",
          "text": [
            "⎡⎛       ⎡⎡0⎤⎤⎞  ⎛      ⎡⎡1⎤⎤⎞  ⎛      ⎡⎡1⎤  ⎡0 ⎤⎤⎞⎤\n",
            "⎢⎜       ⎢⎢ ⎥⎥⎟  ⎜      ⎢⎢ ⎥⎥⎟  ⎜      ⎢⎢ ⎥  ⎢  ⎥⎥⎟⎥\n",
            "⎢⎜       ⎢⎢1⎥⎥⎟  ⎜      ⎢⎢1⎥⎥⎟  ⎜      ⎢⎢1⎥  ⎢-1⎥⎥⎟⎥\n",
            "⎢⎜-2, 1, ⎢⎢ ⎥⎥⎟, ⎜3, 1, ⎢⎢ ⎥⎥⎟, ⎜5, 2, ⎢⎢ ⎥, ⎢  ⎥⎥⎟⎥\n",
            "⎢⎜       ⎢⎢1⎥⎥⎟  ⎜      ⎢⎢1⎥⎥⎟  ⎜      ⎢⎢1⎥  ⎢0 ⎥⎥⎟⎥\n",
            "⎢⎜       ⎢⎢ ⎥⎥⎟  ⎜      ⎢⎢ ⎥⎥⎟  ⎜      ⎢⎢ ⎥  ⎢  ⎥⎥⎟⎥\n",
            "⎣⎝       ⎣⎣1⎦⎦⎠  ⎝      ⎣⎣1⎦⎦⎠  ⎝      ⎣⎣0⎦  ⎣1 ⎦⎦⎠⎦\n"
          ]
        }
      ]
    },
    {
      "cell_type": "markdown",
      "source": [
        "Vérifions..."
      ],
      "metadata": {
        "id": "tyH-5wTePhv3"
      }
    },
    {
      "cell_type": "code",
      "source": [
        "DV[0]"
      ],
      "metadata": {
        "colab": {
          "base_uri": "https://localhost:8080/"
        },
        "id": "BLiQ2FBvNXAE",
        "outputId": "039ad7bc-8bd9-422d-b4ae-00f7249e4630"
      },
      "execution_count": null,
      "outputs": [
        {
          "output_type": "execute_result",
          "data": {
            "text/plain": [
              "(-2, 1, [Matrix([\n",
              "  [0],\n",
              "  [1],\n",
              "  [1],\n",
              "  [1]])])"
            ]
          },
          "metadata": {},
          "execution_count": 23
        }
      ]
    },
    {
      "cell_type": "code",
      "source": [
        "V1 = DV[0][2]\n",
        "V1"
      ],
      "metadata": {
        "colab": {
          "base_uri": "https://localhost:8080/"
        },
        "id": "RKfNIwTdO6qL",
        "outputId": "a6287a96-7b7c-43d0-f222-5a7b86e2855b"
      },
      "execution_count": null,
      "outputs": [
        {
          "output_type": "execute_result",
          "data": {
            "text/plain": [
              "[Matrix([\n",
              " [0],\n",
              " [1],\n",
              " [1],\n",
              " [1]])]"
            ]
          },
          "metadata": {},
          "execution_count": 24
        }
      ]
    },
    {
      "cell_type": "code",
      "source": [
        "M * sp.Matrix(V1)"
      ],
      "metadata": {
        "colab": {
          "base_uri": "https://localhost:8080/",
          "height": 99
        },
        "id": "G0e9vaQvO_xd",
        "outputId": "ace556c7-55f7-41fe-f32d-d7f4582acd54"
      },
      "execution_count": null,
      "outputs": [
        {
          "output_type": "execute_result",
          "data": {
            "text/plain": [
              "Matrix([\n",
              "[ 0],\n",
              "[-2],\n",
              "[-2],\n",
              "[-2]])"
            ],
            "text/latex": "$\\displaystyle \\left[\\begin{matrix}0\\\\-2\\\\-2\\\\-2\\end{matrix}\\right]$"
          },
          "metadata": {},
          "execution_count": 25
        }
      ]
    },
    {
      "cell_type": "code",
      "source": [
        "M * sp.Matrix(V1) == DV[0][0]* sp.Matrix(V1)"
      ],
      "metadata": {
        "colab": {
          "base_uri": "https://localhost:8080/"
        },
        "id": "vpEz40W1PHPG",
        "outputId": "ca9a42dd-9daa-42e2-d159-919332e0b766"
      },
      "execution_count": null,
      "outputs": [
        {
          "output_type": "execute_result",
          "data": {
            "text/plain": [
              "True"
            ]
          },
          "metadata": {},
          "execution_count": 26
        }
      ]
    },
    {
      "cell_type": "markdown",
      "source": [
        "Et la cerise sur le gâteau... la méthode ***.diagonalize()***"
      ],
      "metadata": {
        "id": "66_NdhG7Qqhb"
      }
    },
    {
      "cell_type": "code",
      "source": [
        "M = sp.Matrix([[3, -2,  4, -2],\n",
        "              [5,  3, -3, -2],\n",
        "              [5, -2,  2, -2],\n",
        "              [5, -2, -3,  3]])\n",
        "P, D = M.diagonalize()\n",
        "sp.pprint(D)"
      ],
      "metadata": {
        "id": "2ChB2tStPfR1",
        "colab": {
          "base_uri": "https://localhost:8080/"
        },
        "outputId": "12fe7192-76f6-4f28-8f13-0b541d90f8dc"
      },
      "execution_count": null,
      "outputs": [
        {
          "output_type": "stream",
          "name": "stdout",
          "text": [
            "⎡-2  0  0  0⎤\n",
            "⎢           ⎥\n",
            "⎢0   3  0  0⎥\n",
            "⎢           ⎥\n",
            "⎢0   0  5  0⎥\n",
            "⎢           ⎥\n",
            "⎣0   0  0  5⎦\n"
          ]
        }
      ]
    },
    {
      "cell_type": "code",
      "source": [
        "sp.pprint(P)"
      ],
      "metadata": {
        "colab": {
          "base_uri": "https://localhost:8080/"
        },
        "id": "7hfg37lOQ032",
        "outputId": "58524225-b480-405e-b2fa-b4de20b8e0d5"
      },
      "execution_count": null,
      "outputs": [
        {
          "output_type": "stream",
          "name": "stdout",
          "text": [
            "⎡0  1  1  0 ⎤\n",
            "⎢           ⎥\n",
            "⎢1  1  1  -1⎥\n",
            "⎢           ⎥\n",
            "⎢1  1  1  0 ⎥\n",
            "⎢           ⎥\n",
            "⎣1  1  0  1 ⎦\n"
          ]
        }
      ]
    },
    {
      "cell_type": "code",
      "source": [
        "print(P*D*P**-1 == M)"
      ],
      "metadata": {
        "colab": {
          "base_uri": "https://localhost:8080/"
        },
        "id": "jDfWRFf-RFs4",
        "outputId": "8c1ae0b6-22c2-4dfe-91fd-51c95e4ac782"
      },
      "execution_count": null,
      "outputs": [
        {
          "output_type": "stream",
          "name": "stdout",
          "text": [
            "True\n"
          ]
        }
      ]
    },
    {
      "cell_type": "code",
      "source": [],
      "metadata": {
        "id": "qN3-jeRPRIfj"
      },
      "execution_count": null,
      "outputs": []
    }
  ]
}