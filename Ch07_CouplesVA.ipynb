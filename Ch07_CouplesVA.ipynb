{
  "nbformat": 4,
  "nbformat_minor": 0,
  "metadata": {
    "colab": {
      "name": "Ch07-CouplesVA.ipynb",
      "provenance": [],
      "authorship_tag": "ABX9TyNqPouQ/2yreiqNqRgbCgMF",
      "include_colab_link": true
    },
    "kernelspec": {
      "name": "python3",
      "display_name": "Python 3"
    },
    "language_info": {
      "name": "python"
    }
  },
  "cells": [
    {
      "cell_type": "markdown",
      "metadata": {
        "id": "view-in-github",
        "colab_type": "text"
      },
      "source": [
        "<a href=\"https://colab.research.google.com/github/othoni-hub/ECG2/blob/main/Ch07_CouplesVA.ipynb\" target=\"_parent\"><img src=\"https://colab.research.google.com/assets/colab-badge.svg\" alt=\"Open In Colab\"/></a>"
      ]
    },
    {
      "cell_type": "markdown",
      "source": [
        "# **CPGE-ECG2** \n",
        "<img src=\"https://drive.google.com/uc?id=12Wo3LubGGT4qOvYFAuLP4CyCuwjKNVuk\" width=\"230\" height=\"150\" align = \"right\"/>\n",
        "\n",
        "## **Ch06 - Notebook : Couples de Variables Aléatoires Discrètes**\n",
        "\n",
        "\n",
        "\n",
        "\n",
        "**O.Thöni - Lycée Saint-Charles Sainte Croix - LE MANS**"
      ],
      "metadata": {
        "id": "zxhIYLkPMq39"
      }
    },
    {
      "cell_type": "markdown",
      "source": [
        "Un fabricant fournit des kits d’entretien composés d’un produit détartrant (produit A) et d’un produit dégraissant (produit B). Pour rendre service à ses clients, un détaillant accepte de leur vendre ces produits séparément.\n",
        "\n",
        "On fait les hypothèses suivantes :\n",
        "* Au début de la journée, il ne reste aucune boîte entamée ;\n",
        "* Chaque client qui se présente chez le détaillant n’achète qu’un seul des deux produits ;\n",
        "* Chaque client achète le produit A avec la probabilité $0 < p < 1$ et le produit B avec la probabilité $q = 1−p$ ; \n",
        "* Les choix des clients (produit A ou produit B) sont indépendants.\n",
        "\n",
        "On note $X$ (resp. $Y$), le nombre de produits A (resp. de produits B) vendus dans la journée et on pose $Z = max\\{X, Y\\}$.\n",
        "1. On considère une journée où 4 clients se sont présentés.\n",
        "*  a. Déterminer la loi de $X$, la loi de $Y$ et les espérances de ces variables aléatoires.\n",
        "*   b. Que représente la variable aléatoire $Z$ ? Déterminer la loi de $Z$.\n",
        "\n",
        "Dans la suite du sujet, on suppose que le nombre de clients qui se présentent chez le commerçant durant une journée est une variable aléatoire $N$ qui suit la loi de Poisson de paramètre $\\lambda > 0$.\n",
        "\n",
        "2. Soit $n \\in \\mathbb{N}$. Quelle est la loi conditionnelle de $X$ sachant\n",
        "que l’événement $[N = n]$ est réalisé ?\n",
        "3. Déterminer la loi conjointe du couple $(X,N)$.\n",
        "4. En déduire la loi de $X$. Donner (sans calcul) les valeurs de $E(X)$ et $E(Y)$.\n",
        "5. Démontrer que les variables aléatoires $X$ et $Y$ sont indépendantes.\n",
        "6. En utilisant la relation $N = X + Y$, calculer $Cov(X,N)$.\n",
        "7. Pour $k \\in \\mathbb{N}$ et $x \\in \\mathbb{R}$, on note\n",
        "$S(k,x) = \\sum_{j=0}^{k} \\frac {x^j}{j!}$. Exprimer $P (Z \\leqslant k)$ en fonction de \u0015$\\lambda$, de $S(k, \\lambda . \u0015p)$ et de $S(k, \\lambda .\u0015q)$.\n",
        "8. Dans cette question, on utilise le langage de programmation Python.\n",
        "On suppose que $p = \\frac{1}{2}$, que \u0015 $\\lambda= 10$ et qu’au début de la journée, le détaillant dispose de cinq kits d’entretien exactement, aucun d’eux n’étant entamé.\n",
        "*  a. Proposer une fonction *S(k,x)* qui calcule la valeur de $S(k, x)$ en fonction des données $k$ et $x$.\n",
        "*  b. Écrire des instructions Python permettant de calculer la probabilité pour que le détaillant tombe en rupture de stock au cours de la journée.\n",
        "9. Écrire une fonction *simulation(n)* en langage Python qui retourne un échantillon $T = \\left [ \\left( X_k(\\omega), Y_k(\\omega), Z_k(\\omega) \\right ) \\right ] \\in \\mathfrak{M}_{n,3} \\left (\\mathbb{N} \\right )$ de n réalisations indépendantes de l’expérience.\n",
        "10. Comment utiliser le tableau $T$ pour représenter graphiquement la loi de $X$ ? la loi de $Z$ ? pour estimer graphiquement $Cov(X,N)$ ?"
      ],
      "metadata": {
        "id": "zMcQ-1VfN4xT"
      }
    },
    {
      "cell_type": "markdown",
      "source": [
        "**Calcul de $S(x,k)$** :"
      ],
      "metadata": {
        "id": "JTUo7AYexZgd"
      }
    },
    {
      "cell_type": "code",
      "execution_count": 1,
      "metadata": {
        "id": "PrFZTW9zMqMU"
      },
      "outputs": [],
      "source": [
        "def S(k,x):\n",
        "    s, u = 1, 1         # S(0, x) , u0(x)!\n",
        "    for i in range(k):  # ∀ 0 6 i < k\n",
        "        u = u*x/(i+1)   # ui+1(x)\n",
        "        s = s+u         # S(i + 1, x) = S(i, x) + ui+1(x)\n",
        "    return s            # S(k, x)"
      ]
    },
    {
      "cell_type": "code",
      "source": [
        "S(5,5)\n"
      ],
      "metadata": {
        "colab": {
          "base_uri": "https://localhost:8080/"
        },
        "id": "8iEwen_la91h",
        "outputId": "2fc1a051-0c2b-460f-aa6c-c5eec8f53a27"
      },
      "execution_count": 2,
      "outputs": [
        {
          "output_type": "execute_result",
          "data": {
            "text/plain": [
              "91.41666666666666"
            ]
          },
          "metadata": {},
          "execution_count": 2
        }
      ]
    },
    {
      "cell_type": "markdown",
      "source": [
        "**Calcul de la probabilité de rupture de stock :**"
      ],
      "metadata": {
        "id": "BCRPGbTExlR3"
      }
    },
    {
      "cell_type": "code",
      "source": [
        "from math import exp \n",
        "\n",
        "#Probabilité de rupture\n",
        "PrRupture = 1 - exp(-10)*S(5,5)**2\n",
        "PrRupture"
      ],
      "metadata": {
        "colab": {
          "base_uri": "https://localhost:8080/"
        },
        "id": "BW7r_anmbANU",
        "outputId": "b5fbe74e-0f45-4d76-9d11-351a16854728"
      },
      "execution_count": 3,
      "outputs": [
        {
          "output_type": "execute_result",
          "data": {
            "text/plain": [
              "0.6205924716976241"
            ]
          },
          "metadata": {},
          "execution_count": 3
        }
      ]
    },
    {
      "cell_type": "markdown",
      "source": [
        "**Simulation de n expériences :**"
      ],
      "metadata": {
        "id": "pLtEFYFyxrO6"
      }
    },
    {
      "cell_type": "code",
      "source": [
        "import numpy as np\n",
        "import numpy.random as rd\n",
        "\n",
        "def simulation(n):\n",
        "    p = 1/2\n",
        "    lbd = 10\n",
        "    T = np.zeros((n, 3))\n",
        "    for i in range(n):\n",
        "        N = rd.poisson(lbd)\n",
        "        X = rd.binomial(N, p)\n",
        "        Y = N-X\n",
        "        T[i,0] = X\n",
        "        T[i,1] = Y\n",
        "        T[i,2] = np.max([X, Y])\n",
        "    return T"
      ],
      "metadata": {
        "id": "pPfqZhACbQf9"
      },
      "execution_count": 4,
      "outputs": []
    },
    {
      "cell_type": "code",
      "source": [
        "simulation(4)"
      ],
      "metadata": {
        "colab": {
          "base_uri": "https://localhost:8080/"
        },
        "id": "jXU6PPMNcOY7",
        "outputId": "a6f3bc7e-81c4-4cb6-a45e-8d9a43af452d"
      },
      "execution_count": 5,
      "outputs": [
        {
          "output_type": "execute_result",
          "data": {
            "text/plain": [
              "array([[2., 6., 6.],\n",
              "       [4., 8., 8.],\n",
              "       [5., 8., 8.],\n",
              "       [6., 5., 6.]])"
            ]
          },
          "metadata": {},
          "execution_count": 5
        }
      ]
    },
    {
      "cell_type": "markdown",
      "source": [
        "Variante utilisant l'indépendance de X et Y :"
      ],
      "metadata": {
        "id": "pJ4MZD61cds9"
      }
    },
    {
      "cell_type": "code",
      "source": [
        "def simulation(n):\n",
        "    p, lbd = 1/2, 10\n",
        "    T = np.zeros((n,3))\n",
        "    for i in range(n):\n",
        "        T[i,0] = rd.poisson(lbd*p)\n",
        "        T[i,1] = rd.poisson(lbd*(1-p))\n",
        "        T[i,2] = np.max(T[i,:2])\n",
        "    return T"
      ],
      "metadata": {
        "id": "quehO0gUcQ5O"
      },
      "execution_count": 6,
      "outputs": []
    },
    {
      "cell_type": "code",
      "source": [
        "simulation(4)"
      ],
      "metadata": {
        "colab": {
          "base_uri": "https://localhost:8080/"
        },
        "id": "hkAjY9rYdFKp",
        "outputId": "2ccb56d3-73a6-4fae-d820-244cf4d261d9"
      },
      "execution_count": 7,
      "outputs": [
        {
          "output_type": "execute_result",
          "data": {
            "text/plain": [
              "array([[5., 5., 5.],\n",
              "       [6., 5., 6.],\n",
              "       [4., 2., 4.],\n",
              "       [3., 3., 3.]])"
            ]
          },
          "metadata": {},
          "execution_count": 7
        }
      ]
    },
    {
      "cell_type": "markdown",
      "source": [
        "**Simulation sur un grand nombre d'expériences :**"
      ],
      "metadata": {
        "id": "_obiVvGTxyob"
      }
    },
    {
      "cell_type": "code",
      "source": [
        "T = simulation(10**5)\n",
        "X, Y, Z = T[:,0], T[:,1], T[:,2]\n",
        "N = X+Y"
      ],
      "metadata": {
        "id": "-JagBBlOdIJR"
      },
      "execution_count": 13,
      "outputs": []
    },
    {
      "cell_type": "markdown",
      "source": [
        "**Représentations graphiques :**"
      ],
      "metadata": {
        "id": "ELb5Aw7Mx4P4"
      }
    },
    {
      "cell_type": "markdown",
      "source": [
        "Pour représenter graphiquement les lois de X et de Z,\n",
        "le plus simple est de tracer un histogramme.\n",
        "\n",
        "Le paramètre \"*density = True*\" permet de tracer le polygone des fréquences."
      ],
      "metadata": {
        "id": "Hpff8ejiwMxq"
      }
    },
    {
      "cell_type": "code",
      "source": [
        "import matplotlib.pyplot as plt\n",
        "\n",
        "b = list(range(20))\n",
        "x, t = np.histogram(X, bins=b, density=True)\n",
        "plt.plot(t[:-1], x, marker = 'o', color = 'red', label=\"Loi de X\",linewidth = 0.2)\n",
        "y, t = np.histogram(Y, bins=b, density=True)\n",
        "plt.plot(t[:-1], x, marker = '+', color = 'orange', label=\"Loi de Y\", linewidth = 0.2)\n",
        "z, t = np.histogram(Z, bins=b, density=True)\n",
        "plt.plot(t[:-1], z, marker = 'o', color = 'blue', label=\"Loi de Z\", linewidth = 0.2)\n",
        "plt.ylim(0, 0.25)\n",
        "plt.legend()"
      ],
      "metadata": {
        "colab": {
          "base_uri": "https://localhost:8080/",
          "height": 286
        },
        "id": "zTzNA182dN8W",
        "outputId": "cf3196e9-0d92-4b38-c00a-d0cae5b240e6"
      },
      "execution_count": 58,
      "outputs": [
        {
          "output_type": "execute_result",
          "data": {
            "text/plain": [
              "<matplotlib.legend.Legend at 0x7f3a1ff20a10>"
            ]
          },
          "metadata": {},
          "execution_count": 58
        },
        {
          "output_type": "display_data",
          "data": {
            "text/plain": [
              "<Figure size 432x288 with 1 Axes>"
            ],
            "image/png": "[encoded data removed]"
          },
          "metadata": {
            "needs_background": "light"
          }
        }
      ]
    },
    {
      "cell_type": "markdown",
      "source": [
        "Pour estimer la corrélation des variables $X$ et $N$, le plus simple est de tracer le nuage de points $(X_k,N_k)$ pour $ 0\\leqslant n$."
      ],
      "metadata": {
        "id": "64w_SWamwpN_"
      }
    },
    {
      "cell_type": "code",
      "source": [
        "plt.scatter(X, N, marker = '.', alpha = 0.01) # Nuage de point s\n",
        "plt.ylim(0, 30)\n",
        "plt.title(\"Nuage de points $(X_k,N_k)$\", size=12)"
      ],
      "metadata": {
        "colab": {
          "base_uri": "https://localhost:8080/",
          "height": 300
        },
        "id": "oI269xR1dcHA",
        "outputId": "41021d2a-0a58-40ec-ab9d-86858ce4da4b"
      },
      "execution_count": 42,
      "outputs": [
        {
          "output_type": "execute_result",
          "data": {
            "text/plain": [
              "Text(0.5, 1.0, 'Nuage de points $(X_k,N_k)$')"
            ]
          },
          "metadata": {},
          "execution_count": 42
        },
        {
          "output_type": "display_data",
          "data": {
            "text/plain": [
              "<Figure size 432x288 with 1 Axes>"
            ],
            "image/png": "[encoded data removed]"
          },
          "metadata": {
            "needs_background": "light"
          }
        }
      ]
    },
    {
      "cell_type": "markdown",
      "source": [
        "On voit bien que $N$ a tendance à être une fonction croissante de $X$, ce qui justifie d’avoir trouvé une covariance strictement positive."
      ],
      "metadata": {
        "id": "LMm5gOa9xO3x"
      }
    },
    {
      "cell_type": "markdown",
      "source": [
        "Même avec un réglage de transparence il n'est pas aisé d'accentuer les points de plus haute fréquence.\n",
        "\n",
        "Voici un autre graphique. Attention : l'origine est en haut à gauche, l'axe des abscisse est vertical dirigé vers le bas."
      ],
      "metadata": {
        "id": "H_bZRbDCqEVf"
      }
    },
    {
      "cell_type": "code",
      "source": [
        "Xmax = int(np.max(X))\n",
        "Nmax = int(np.max(N))\n",
        "F = np.array(np.zeros((Xmax+1, Nmax+1)))\n",
        "# On compte le nombre d' occurrences de chaque point du nuage\n",
        "for x,n in zip(X,N) :\n",
        "    F[int(x), int(n)] += 1\n",
        "plt.imshow(F, cmap='OrRd')\n",
        "plt.xlabel(\"N\")\n",
        "plt.ylabel(\"X\")"
      ],
      "metadata": {
        "colab": {
          "base_uri": "https://localhost:8080/",
          "height": 280
        },
        "id": "WkTUUY0dmWGN",
        "outputId": "766152ce-40c2-4b15-93ad-a40e2bb70629"
      },
      "execution_count": 53,
      "outputs": [
        {
          "output_type": "execute_result",
          "data": {
            "text/plain": [
              "Text(0, 0.5, 'X')"
            ]
          },
          "metadata": {},
          "execution_count": 53
        },
        {
          "output_type": "display_data",
          "data": {
            "text/plain": [
              "<Figure size 432x288 with 1 Axes>"
            ],
            "image/png": "[encoded data removed]"
          },
          "metadata": {
            "needs_background": "light"
          }
        }
      ]
    },
    {
      "cell_type": "code",
      "source": [
        ""
      ],
      "metadata": {
        "id": "rpvDvuMqqqBJ"
      },
      "execution_count": null,
      "outputs": []
    }
  ]
}