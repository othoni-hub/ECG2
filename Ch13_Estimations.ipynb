{
  "nbformat": 4,
  "nbformat_minor": 0,
  "metadata": {
    "colab": {
      "name": "Ch13-Estimations.ipynb",
      "provenance": [],
      "collapsed_sections": [],
      "authorship_tag": "ABX9TyNEcXlutj9jT/ig8Vz6xaT6",
      "include_colab_link": true
    },
    "kernelspec": {
      "name": "python3",
      "display_name": "Python 3"
    },
    "language_info": {
      "name": "python"
    }
  },
  "cells": [
    {
      "cell_type": "markdown",
      "metadata": {
        "id": "view-in-github",
        "colab_type": "text"
      },
      "source": [
        "<a href=\"https://colab.research.google.com/github/othoni-hub/ECG2/blob/main/Ch13_Estimations.ipynb\" target=\"_parent\"><img src=\"https://colab.research.google.com/assets/colab-badge.svg\" alt=\"Open In Colab\"/></a>"
      ]
    },
    {
      "cell_type": "markdown",
      "metadata": {
        "id": "9gRjJPolrmT_"
      },
      "source": [
        "# **CPGE-ECG2** \n"
      ]
    },
    {
      "cell_type": "markdown",
      "metadata": {
        "id": "Gprox7oVPE7W"
      },
      "source": [
        "\n",
        "\n",
        "## **Ch13 - Notebook : Estimations**\n",
        "\n",
        "<img src=\"https://drive.google.com/uc?id=12Wo3LubGGT4qOvYFAuLP4CyCuwjKNVuk\" width=\"230\" height=\"150\" align = \"right\"/>\n",
        "\n",
        "\n",
        "\n",
        "\n",
        "**O.Thöni - Lycée Saint-Charles Sainte Croix - LE MANS**"
      ]
    },
    {
      "cell_type": "code",
      "source": [
        "import numpy as np\n",
        "import numpy.random as rd\n",
        "import matplotlib.pyplot as plt\n",
        "from math import log, exp, pi, sqrt, factorial"
      ],
      "metadata": {
        "id": "wf3I6etQJLnG"
      },
      "execution_count": null,
      "outputs": []
    },
    {
      "cell_type": "markdown",
      "source": [
        "## **1. Comparaison de deux estimateurs du paramètre $\\lambda$ d'une loi exponentielle**\n",
        "\n",
        "On sait que si $X$ suit une loi exponentielle de paramètre $\\lambda$, \n",
        "\n",
        "on a $E(X) = \\frac{1}{\\lambda}$ et $ V(X) = \\frac{1}{\\lambda^2}$\n",
        "\n",
        "Ainsi, si on effectue un échantillon de valeurs selon une loi exponentielle de paramètre $\\lambda$, la moyenne et la variance de l'échantillon seront deux estimateurs (c'est-à-dire des fonctions) de  $\\lambda$.\n",
        "\n",
        "Pour retrouver une approximation de la valeur de $\\lambda$ à partir des résultats des échantillons, il faudra inverser le 1<sup>er</sup> et inverser la racine du 2<sup>nd</sup>.\n",
        "\n",
        "\n",
        "\n"
      ],
      "metadata": {
        "id": "BhMm5IEuuoyc"
      }
    },
    {
      "cell_type": "markdown",
      "source": [
        "* **Rappel : un procédé de simulation d'une loi exponentielle à connaître**\n",
        "\n",
        "Si U suit une loi $U_{[0 ; 1]}$, alors $X = -\\frac{1}{\\lambda} log(1 - U)$ suit une loi $E(\\lambda)$. (Procédé d'inversion de la fonction de répartition).\n"
      ],
      "metadata": {
        "id": "3zvjwNJIuyLb"
      }
    },
    {
      "cell_type": "markdown",
      "source": [
        "* **exemple : $n = 1000$ simulations d'une loi exponentielle de paramètre $\\lambda = 3$**"
      ],
      "metadata": {
        "id": "eVtRxDCTa7IJ"
      }
    },
    {
      "cell_type": "code",
      "source": [
        "n = 1000\n",
        "lbda = 3\n",
        "\n",
        "X = [-1/lbda * log( 1 - rd.random()) for _ in range(n)]   # Simulation de la loi exponentielle par inversion de sa fonction de répartition\n",
        "\n",
        "X_Omega = np.linspace(0,2*lbda, 31)     # L'univers étant infini, on le limite à 2 fois l'espérance, ce qui est grandement suffisant\n",
        "                                        # compte tenu de la décroissance rapide de la fonction de densité.\n",
        "\n",
        "# histogramme\n",
        "plt.hist(X, 30, color = 'red', alpha = 0.5, density ='True', label = \"Histogramme simulation\")\n",
        "\n",
        "# densité de la loi exponentielle\n",
        "Y = [lbda * exp(-lbda * x) for x in X_Omega ]\n",
        "plt.plot(X_Omega,Y, color = 'blue', label = \"Densité de E(\"+str(lbda)+\")\")\n",
        "\n",
        "plt.legend()\n",
        "plt.title(\"Simulation de \"+str(n)+\" tirages selon E(\"+str(lbda)+\")\")\n",
        "plt.show()"
      ],
      "metadata": {
        "colab": {
          "base_uri": "https://localhost:8080/",
          "height": 281
        },
        "id": "5bor19SHZ0AN",
        "outputId": "e6f5c083-e293-47cc-9772-68450249f4f8"
      },
      "execution_count": null,
      "outputs": [
        {
          "output_type": "display_data",
          "data": {
            "text/plain": [
              "<Figure size 432x288 with 1 Axes>"
            ],
            "image/png": "[encoded data removed]"
          },
          "metadata": {
            "needs_background": "light"
          }
        }
      ]
    },
    {
      "cell_type": "markdown",
      "source": [
        "* **N simulations de taille n selon la loi exponentielle, moyennes et variances des échantillons**"
      ],
      "metadata": {
        "id": "rx1CakbvMP2L"
      }
    },
    {
      "cell_type": "code",
      "source": [
        "lbda = 3\n",
        "N = 25000\n",
        "n = 50\n",
        "\n",
        "moyennes = []\n",
        "variances = []\n",
        "\n",
        "for k in range(N):\n",
        "    \n",
        "    X = [-1/lbda * log( 1 - rd.random()) for _ in range(n)]   # Simulation de la loi exponentielle par inversion de sa fonction de répartition\n",
        "\n",
        "    Y = np.mean(X)                                  # Estimation de Lambda par la moyenne de l'échantillon\n",
        "    moyennes.append(1/Y)                            # stockage dans une liste du lambda estimé (1/E(X))\n",
        "\n",
        "    Z = np.var(X)                                   # Estimation de lambda par la variance de l'échantillon\n",
        "    variances.append(1/sqrt(Z))                     # stockage dans une liste du lambda estimé (1/sqrt(E(X)))\n",
        " \n"
      ],
      "metadata": {
        "id": "caof_JGEuvWT"
      },
      "execution_count": null,
      "outputs": []
    },
    {
      "cell_type": "markdown",
      "source": [
        "* **Représentations graphiques (histogrammes) des espérances et variances obtenues dans les N échantillons**"
      ],
      "metadata": {
        "id": "eWiH0gRPMgS_"
      }
    },
    {
      "cell_type": "code",
      "source": [
        "fig = plt.figure(figsize =(14,5))\n",
        "print(\"Estimations du paramètre d'une loi exponentielle\")\n",
        "\n",
        "bins=np.linspace(0,max(max(moyennes),max(variances)), 85)   # classes pour l'histogramme : même échelle dans les deux sous-fenêtres\n",
        "\n",
        "plt.subplot(1,2,1)                                          # positionnement dans la bonne sous-fenêtre\n",
        "# Histogramme des moyennes de l'échantillon\n",
        "plt.hist(moyennes,bins=bins, histtype='bar', color='red', rwidth=1, edgecolor = 'black', linewidth = 0.2, density = True)\n",
        "plt.title(\"Par les moyennes d'un grand nombre d'échantillons\")\n",
        "plt.ylim(0,1)\n",
        "\n",
        "plt.subplot(1,2,2)                                          # positionnement dans la bonne sous-fenêtre\n",
        "# Histogramme des variances de l'échantillon\n",
        "plt.hist(variances,bins=bins, histtype='bar', color='blue', rwidth=1, edgecolor = 'black', linewidth = 0.2, density = True)\n",
        "plt.title(\"Par les variances d'un grand nombre d'échantillons\")\n",
        "plt.ylim(0,1)\n",
        "\n",
        "plt.show()"
      ],
      "metadata": {
        "colab": {
          "base_uri": "https://localhost:8080/",
          "height": 353
        },
        "id": "63b_hNY1x2Qa",
        "outputId": "6be5d9e0-0615-46ce-9b30-032499b77bb1"
      },
      "execution_count": null,
      "outputs": [
        {
          "output_type": "stream",
          "name": "stdout",
          "text": [
            "Estimations du paramètre d'une loi exponentielle\n"
          ]
        },
        {
          "output_type": "display_data",
          "data": {
            "text/plain": [
              "<Figure size 1008x360 with 2 Axes>"
            ],
            "image/png": "[encoded data removed]"
          },
          "metadata": {
            "needs_background": "light"
          }
        }
      ]
    },
    {
      "cell_type": "markdown",
      "source": [
        "On observe que les deux estimateurs donnent des résultats conformes aux attendus, avecc des répartitions **normales** (Gaussiennes) autour du paramètre estimé.\n",
        "\n",
        "Le 1<sup>er</sup> est bien centré sur la valeur de $\\lambda$ (**\"sans biais\"**), et peu étendu (**\"risque quadratique** assez faible).\n",
        "\n",
        "Le 2<sup>nd</sup> semble légèrement biaisé, et plus étendu (**\"risque quadratique** plus élevé).\n",
        "\n",
        "Le 1<sup>er</sup> estimateur, obtenu par la moyenne des échantillon, est donc meilleur que l'autre.\n"
      ],
      "metadata": {
        "id": "mZ9Kuti1Mp-k"
      }
    },
    {
      "cell_type": "code",
      "source": [
        "print('Paramètre estimé : lambda = ', lbda)\n",
        "print('---')\n",
        "print('Moyenne des estimations de lambda obtenues par les moyennes des échantillons : ' + str(np.mean(moyennes)))\n",
        "print('Variance des estimations de lambda obtenues par les moyennes des échantillons : ' + str(np.var(moyennes)))\n",
        "print('---')\n",
        "\n",
        "print('Moyenne des estimations de lambda obtenues par les variances des échantillons : ' + str(np.mean(variances)))\n",
        "print('Variance des estimations de lambda obtenues par les variances des échantillons : ' + str(np.var(variances)))"
      ],
      "metadata": {
        "colab": {
          "base_uri": "https://localhost:8080/"
        },
        "id": "FVOTK-AbzZNq",
        "outputId": "af1efc73-a99a-403f-cb13-6b555eb1fb4f"
      },
      "execution_count": null,
      "outputs": [
        {
          "output_type": "stream",
          "name": "stdout",
          "text": [
            "Paramètre estimé : lambda =  3\n",
            "---\n",
            "Moyenne des estimations de lambda obtenues par les moyennes des échantillons : 3.05809453441616\n",
            "Variance des estimations de lambda obtenues par les moyennes des échantillons : 0.1959911609892316\n",
            "---\n",
            "Moyenne des estimations de lambda obtenues par les variances des échantillons : 3.2003917432014806\n",
            "Variance des estimations de lambda obtenues par les variances des échantillons : 0.385803169300538\n"
          ]
        }
      ]
    },
    {
      "cell_type": "markdown",
      "source": [
        "Lorsque l'on multiplie le 2<sup>nd</sup> estimateur par $\\left( \\frac{n-1}{n} \\right )^2$, il semble qu'on le débiaise :\n",
        "\n",
        "\n"
      ],
      "metadata": {
        "id": "Xab_nFkeOFir"
      }
    },
    {
      "cell_type": "code",
      "source": [
        "((n-1)/n)**2 * np.mean(variances)"
      ],
      "metadata": {
        "colab": {
          "base_uri": "https://localhost:8080/"
        },
        "id": "r9HoUpGI8oPp",
        "outputId": "716ad686-db42-4c25-f598-03aa114b72d1"
      },
      "execution_count": null,
      "outputs": [
        {
          "output_type": "execute_result",
          "data": {
            "text/plain": [
              "3.0736562301707018"
            ]
          },
          "metadata": {},
          "execution_count": 5
        }
      ]
    },
    {
      "cell_type": "markdown",
      "source": [
        "* **convergence de ces deux estimateurs :**\n",
        "\n",
        "On fait augmenter le n...\n"
      ],
      "metadata": {
        "id": "REnjocr2ObG_"
      }
    },
    {
      "cell_type": "code",
      "source": [
        "# ! calcul long (1'30) !\n",
        "\n",
        "liste_n = [25, 250 , 2500]\n",
        "bins=np.linspace(0,7, 85)   # classes pour l'histogramme : même échelle dans les deux sous-fenêtres\n",
        "\n",
        "fig = plt.figure(figsize =(14,10))\n",
        "for j in range(len(liste_n)) :\n",
        "    moyennes = []\n",
        "    variances = []\n",
        "\n",
        "    for k in range(N):\n",
        "        \n",
        "        X = [-1/lbda * log( 1 - rd.random()) for _ in range(liste_n[j])]   # Simulation de la loi exponentielle par inversion de sa fonction de répartition\n",
        "\n",
        "        Y = np.mean(X)                                  # Estimation de Lambda par la moyenne de l'échantillon\n",
        "        moyennes.append(1/Y)                            # stockage dans une liste du lambda estimé (1/E(X))\n",
        "\n",
        "        Z = np.var(X)                                   # Estimation de lambda par la variance de l'échantillon\n",
        "        variances.append(1/sqrt(Z))                     # stockage dans une liste du lambda estimé (1/sqrt(E(X)))\n",
        "\n",
        "    plt.subplot(3,2,j*2 + 1 )                                  # positionnement dans la bonne sous-fenêtre\n",
        "    # Histogramme des moyennes de l'échantillon\n",
        "    plt.hist(moyennes,bins=bins, histtype='bar', color='red', rwidth=1, edgecolor = 'black', linewidth = 0.2, density = True)\n",
        "    plt.title(\"par les moyennes, n = \"+str(liste_n[j]))\n",
        "    plt.ylim(0,2)\n",
        "\n",
        "    plt.subplot(3,2,j*2 + 2)                                  # positionnement dans la bonne sous-fenêtre\n",
        "    # Histogramme des variances de l'échantillon\n",
        "    plt.hist(variances,bins=bins, histtype='bar', color='blue', rwidth=1, edgecolor = 'black', linewidth = 0.2, density = True)\n",
        "    plt.title(\"par les variances, n = \"+str(liste_n[j]))\n",
        "    plt.ylim(0,2)\n",
        "\n",
        "plt.show()"
      ],
      "metadata": {
        "id": "hA7-9jJp9DDu",
        "colab": {
          "base_uri": "https://localhost:8080/",
          "height": 607
        },
        "outputId": "0ee2103e-9e60-4356-adc1-98cfc9a85b0e"
      },
      "execution_count": null,
      "outputs": [
        {
          "output_type": "display_data",
          "data": {
            "text/plain": [
              "<Figure size 1008x720 with 6 Axes>"
            ],
            "image/png": "[encoded data removed]"
          },
          "metadata": {
            "needs_background": "light"
          }
        }
      ]
    },
    {
      "cell_type": "markdown",
      "source": [
        "On constate clairement la convergence des deux estimateurs : plus n augmente, moins les résultats sont dispersés.\n",
        "\n",
        "On a convergence vers la loi certaine égale à $\\lambda$ (convergence en probabilités)."
      ],
      "metadata": {
        "id": "LirfQ0z0T6wV"
      }
    },
    {
      "cell_type": "markdown",
      "source": [
        "# **Estimation par intervalle de confiance  génération d'intervalles**\n",
        "\n",
        "\n",
        "Nous allons ici générer 160 expériences consistant en 100 tirages d'une loi de Bernoulli de paramètre $p$ = 0,45 (ce qui revien à un tirage binomial de paramètres $n=160$ et $p = 0.45$.\n",
        "\n",
        "\n",
        "$n = 160 > 30$ \n",
        "\n",
        "$ n . p = 160 \\times 0.45 = 72 > 15$\n",
        "\n",
        "$n . p .q = 160 \\times 0.45 \\times 0.55 = 39.6 > 5$ ... donc on sait que le comportement des tirages aléatoires va suivre une loi normale, d'espérance $\\mu = 72$ et de variance $\\sigma^2 = 39.6$.\n",
        "\n",
        " \n",
        "On connaît un intervalle de confiance au niveau de confiance de $(\\alpha)$ : $\\left [m  -  \\frac{\\Phi^{-1 }(2 \\alpha - 1 )}{2 \\sqrt{n}} ;  m  +  \\frac{\\Phi^{-1 }(2 \\alpha - 1)}{2 \\sqrt{n}} \\right ]$ où m est le centre de l'intervalle aléatoire.\n",
        "\n",
        "Si on prend $\\alpha = 5\\%$ (niveau de risque), le niveau de confiance est donc de $95\\%$.Or $\\Phi^{-1} (0.975) \\approx 1.96$ et $\\frac{1.96}{2} \\approx 1$, \n",
        "\n",
        "On pourra alors observer si la moyenne attendue de 0,45 figure dans l'intervalle de confiance simplifié des valeurs tirées : \n",
        "\n",
        "$\\left [ m - \\frac{1}{\\sqrt {n}} ;  m + \\frac{1}{\\sqrt {n}} \\right ] $ (un tout petit peu plus étroit que l'intervalle exact, donc on devrait perdre un peu du niveau de confiance...).\n",
        "\n"
      ],
      "metadata": {
        "id": "9fMCoSRIm_NR"
      }
    },
    {
      "cell_type": "code",
      "source": [
        "import numpy as np\n",
        "import numpy.random as rd\n",
        "import matplotlib.pyplot as plt\n",
        "from math import abs, sqrt"
      ],
      "metadata": {
        "id": "murti7dY53RR"
      },
      "execution_count": null,
      "outputs": []
    },
    {
      "cell_type": "code",
      "source": [
        "N = 160     # nombe d'expériences\n",
        "p = 0.45    # probabilité de succès Bernoulli\n",
        "n = 100     # nombre de répétitions par expérience\n",
        "\n",
        "U = 1* (rd.rand(N,n) < p)\n",
        "\n",
        "B = [np.mean(U[i]) for i in range(len(U))] # On fait la moyenne pour chaque ligne\n"
      ],
      "metadata": {
        "id": "BPQ10srY6-7r"
      },
      "execution_count": null,
      "outputs": []
    },
    {
      "cell_type": "code",
      "source": [
        "# tracé des intervalles obtenus\n",
        "nn = 0\n",
        "for i in range(N) :\n",
        "    if abs(B[i]-p) <= 1/sqrt(n) :\n",
        "        plt.plot([i, i], [B[i]-1/sqrt(n) , B[i]+1/sqrt(n)], color = \"springgreen\")   # intervalle conforme, on trace le segment intervalle de confiance en vert\n",
        "    else :\n",
        "        plt.plot([i, i], [B[i]-1/sqrt(n) , B[i]+1/sqrt(n)],  color = \"red\")    # intervalle non conforme, tracé en rouge\n",
        "        nn = nn + 1     # comptage des intervalles non conformes\n",
        "\n",
        "plt.plot([0,  N+1], [p,  p], color = \"black\")                                  # tracé de la moyenne attendue\n",
        "\n",
        "plt.xlim = (0, min(B)-1/sqrt(n)-0.01)\n",
        "plt.ylim = (N, max(B)+1/sqrt(n)+0.01)\n",
        "\n",
        "print(\"Proportion d'intervalles non conformes : \" + str(nn/N*100)+\"%.\")\n",
        "plt.show()\n"
      ],
      "metadata": {
        "id": "gmFpEDDNlcsG",
        "colab": {
          "base_uri": "https://localhost:8080/",
          "height": 282
        },
        "outputId": "edc7d3cf-5d68-41ee-ed1e-4094859bd7df"
      },
      "execution_count": null,
      "outputs": [
        {
          "output_type": "stream",
          "name": "stdout",
          "text": [
            "Proportion d'intervalles non conformes : 4.375%.\n"
          ]
        },
        {
          "output_type": "display_data",
          "data": {
            "text/plain": [
              "<Figure size 432x288 with 1 Axes>"
            ],
            "image/png": "[encoded data removed]"
          },
          "metadata": {
            "needs_background": "light"
          }
        }
      ]
    },
    {
      "cell_type": "markdown",
      "source": [
        "**Commentaires  :**\n",
        "\n",
        "Ici, sur 160 tirages, 7 environ donnent un intervalle de confiance erroné. Le niveau de confiance étant de 95% (niveau de risque de 5%), 5% de 160 donne 8 : on s'attend à ce qu'environ 8 expériences amènent à déclarer un intervalle de confiance de l'espérance non conforme. \n",
        "\n",
        "Il arrive bien sûr que l'on dépasse les 5% attendus, mais en moyenne, grâce au Théorème Central Limite, les échantillons se répartissent de manière \"normale\"."
      ],
      "metadata": {
        "id": "ustW3RkG-Inv"
      }
    },
    {
      "cell_type": "markdown",
      "source": [
        "# **Méthode de Monte Carlo**\n",
        "\n",
        "Les méthodes de Monte-Carlo consisye en l'emploi de méthodes **\"*stochastiques*\"**, c'est-à-dire faisant usage de procédés aléatoires pour **estimer** une grandeur **\"*déterministe*\"**, c'est-à-dire qui n'en dépend pas du tout.\n",
        "\n",
        "C'est la Loi des Grands Nombres en action (Théorème Limite Central ), assortie d'une estimation de la qualité de la convergence : le TCL amène non seuleent une garantie de convergence, mais donne une majoration de la variabilité du résultat."
      ],
      "metadata": {
        "id": "l5evCE08xrEO"
      }
    },
    {
      "cell_type": "markdown",
      "source": [
        "## **Exemple**\n",
        "\n",
        "Soit à calculer l'intégrale \n",
        "$$I = \\int_0^1 \\left(ln(t) \\right )^2 dt$$\n",
        "\n",
        "N'importe quel individu normalement constitué se dit « Deux petites Intégrations Par Parties et le tour est joué ! » ... Essayez pour voir... avec quelques précautions quand-même puisqu'il s'agit d'une intégrale impropre.\n",
        "\n",
        "\n",
        "Le spécialiste des méthodes stochastiques, quant à lui, se dit « Cette intégrale est la moyenne de la fonction intégrée entre 0 et 1 !. \n",
        "\n",
        "\"Moyenne\" ? \"entre 0 et 1\" ? Il suffit de faire un certain nombre de tirages aléatoires entre 0 et 1, d'en prendre la logarithme, d'élever au carré, et de faire la moyenne des résultats obtenus, et on aura une approximation de $I$...»"
      ],
      "metadata": {
        "id": "CLfR51GvzAYx"
      }
    },
    {
      "cell_type": "code",
      "source": [
        "import numpy as np\n",
        "import numpy.random as rd\n",
        "import matplotlib.pyplot as plt\n",
        "from math import log"
      ],
      "metadata": {
        "id": "CJDpoTkX0sBc"
      },
      "execution_count": null,
      "outputs": []
    },
    {
      "cell_type": "code",
      "source": [
        "xx = np.linspace(0.01,1,100)\n",
        "yy = [(np.log(x))**2 for x in xx]\n",
        "plt.plot(xx,yy, color = 'red', linewidth = 0.5)\n",
        "plt.show()"
      ],
      "metadata": {
        "colab": {
          "base_uri": "https://localhost:8080/",
          "height": 265
        },
        "id": "sQorKCz47eSj",
        "outputId": "c5bcfd2c-a3b4-4d1a-d4b8-cb1de62abce0"
      },
      "execution_count": null,
      "outputs": [
        {
          "output_type": "display_data",
          "data": {
            "text/plain": [
              "<Figure size 432x288 with 1 Axes>"
            ],
            "image/png": "[encoded data removed]"
          },
          "metadata": {
            "needs_background": "light"
          }
        }
      ]
    },
    {
      "cell_type": "code",
      "source": [
        "I = np.mean([log(rd.random())**2 for _ in range(10000)])\n",
        "I"
      ],
      "metadata": {
        "id": "c-Is5hL48mk4",
        "colab": {
          "base_uri": "https://localhost:8080/"
        },
        "outputId": "87268b5e-4849-40df-dc59-7f8b4613432e"
      },
      "execution_count": null,
      "outputs": [
        {
          "output_type": "execute_result",
          "data": {
            "text/plain": [
              "1.9832879183265633"
            ]
          },
          "metadata": {},
          "execution_count": 8
        }
      ]
    },
    {
      "cell_type": "markdown",
      "source": [
        "Cette unique ligne de calcul (**à décortiquer**...), éxécutée plusieurs fois, avec un échantillon de 10000 tirages aléatoires laisse à penser que $I$ vaut à peu près 2, avec une précision de l'ordre du 100<sup>ème</sup> (remarque : $\\frac{1}{100} = \\frac{1}{\\sqrt {10000}}$)."
      ],
      "metadata": {
        "id": "WvDfqHhz2gDu"
      }
    },
    {
      "cell_type": "code",
      "source": [
        ""
      ],
      "metadata": {
        "id": "ev0lU5Uc22i7"
      },
      "execution_count": null,
      "outputs": []
    },
    {
      "cell_type": "markdown",
      "source": [
        "* **Parenthèse** : \n",
        "\n",
        "le module *SymPy* autorise le calcul symbolique, dont le calcul des intégrales impropres, il est remarquable, mais que de code à taper pour calculer $I$ !"
      ],
      "metadata": {
        "id": "DhROJrJ76wAf"
      }
    },
    {
      "cell_type": "code",
      "source": [
        "import sympy as sp\n",
        "from IPython.display import *\n",
        "sp.init_printing(use_latex=True)\n",
        "t, I, f, epsilon = sp.symbols('t, I, f, epsilon') # Bornage inférieur, intégrale impropre\n",
        "\n",
        "f = (sp.log(t))**2\n",
        "     \n",
        "I = sp.limit(sp.integrate(f,(t,epsilon,1)), epsilon, 0) \n",
        "display(I)"
      ],
      "metadata": {
        "colab": {
          "base_uri": "https://localhost:8080/",
          "height": 37
        },
        "id": "aSDI72kl1sw-",
        "outputId": "9a8ac42a-0c39-4ca5-cb7d-250668fb642f"
      },
      "execution_count": null,
      "outputs": [
        {
          "output_type": "display_data",
          "data": {
            "text/plain": [
              "2"
            ],
            "image/png": "[encoded data removed]",
            "text/latex": "$\\displaystyle 2$"
          },
          "metadata": {}
        }
      ]
    },
    {
      "cell_type": "markdown",
      "source": [
        "... intégrale impropre sans souci pour *SymPy*"
      ],
      "metadata": {
        "id": "fsQ-o3JA2VVM"
      }
    },
    {
      "cell_type": "code",
      "source": [
        "I = sp.integrate(f,(t,0,1))\n",
        "I"
      ],
      "metadata": {
        "colab": {
          "base_uri": "https://localhost:8080/",
          "height": 37
        },
        "id": "1_waUJDh4pyc",
        "outputId": "5e479fe6-d1d5-498d-b4ce-351e1013c704"
      },
      "execution_count": null,
      "outputs": [
        {
          "output_type": "execute_result",
          "data": {
            "text/plain": [
              "2"
            ],
            "image/png": "[encoded data removed]",
            "text/latex": "$\\displaystyle 2$"
          },
          "metadata": {},
          "execution_count": 4
        }
      ]
    },
    {
      "cell_type": "markdown",
      "source": [
        "**Récapitulatif de la méthode**\n",
        "\n",
        "Ainsi, les méthodes de Monte Carlo reviennent donc toujours à remplacer le calcul fastidieux de l'espérance de la composée d'une certaine fonction $g$ et d'une certaine variable aléatoire $Y$, $E \\left ( g(Y) \\right)$, par le calcul de la **moyenne** des valeurs prises par la simulation d'un échantillon : \n",
        "\n",
        "$$\\overline{ g_N} = \\frac{1}{N} \\sum_{k=1}^N g \\left ( Y_k \\right )$$ où les $\\left ( Y_k \\right )_{k \\in [[1,N]]}$ sont N variables aléatoires, **i**ndépendantes et **i**dentiquement **d**istribuées (***iid***), suivant la même loi que $Y$ (l'échantillon).\n",
        "\n",
        "**Garantie d'approximation et qualité de convergence**\n",
        "\n",
        "Si l'on pose $\\sigma_g = \\sqrt {V \\left ( g(Y) \\right )}$, écart-type de $Y$, on a d'après le **Théorème Limite Central** :\n",
        "\n",
        "$\\displaystyle \\lim_{ N \\to +\\infty} P \\left ( \\left [ \\left | \\overline {g_N} - E \\left ( g(Y)\\right ) \\right | \\leqslant 1.96 \\frac {\\sigma^2_g}{\\sqrt N} \\right ] \\right ) = 95\\%$ (*)\n",
        "\n",
        "On constate que la précision est garantie en $\\pm \\frac {\\sigma^2_g}{\\sqrt N}$, quantité appelée **\"erreur standard\"** par les statisticiens.\n",
        "\n",
        "Le petit souci est que, dans la plupart des cas, l'écart-type de $g(Y)$ n'est pas connu. On le remplace alors dans le calcul par l'écart-t-ype empirique constaté dans l'échantillon, valeur estimée : on pose donc\n",
        "$$\\widehat {\\sigma_g }=\\sqrt {\\frac{1}{N-1} \\sum_{k=1}^N \\ \\left ( Y_k  - \\overline {g(Y)}\\right ) ^2 } $$ (estimateur sans biais de l'écart-type de l'échantillon, donc calculé sur les données simulées, qui vient remplacer l'écart-type théorique dans la relation (*).\n",
        "\n",
        "\n",
        "\n",
        "\n"
      ],
      "metadata": {
        "id": "OotYZk5A28Wo"
      }
    },
    {
      "cell_type": "markdown",
      "source": [
        "## **Application : calcul d'une valeur approchée de $\\pi$ par 3 estimateurs différents :**\n",
        "\n",
        "Chacune des intégrales suivantes induit un estimateur de $\\pi$ :\n",
        "(sauriez-vous expliquer la 2<sup>ème</sup> ?)\n",
        "\n",
        "\n",
        "$$1°) \\pi = \\int_0^1 f(x) dx, ~avec~ f(x) = \\frac{2}{\\sqrt {1-x^2}}$$\n",
        "$$2°) \\pi = 4 . \\int_0^1 g(x) dx, ~avec~g(x) = \\sqrt {1-x^2}$$\n",
        "(Dans cette 2<sup>ème</sup> formule, on reconnaît l'équation du quart de cercle.)\n",
        "\n",
        "3°) ou grâce à une méthode de Monte-Carlo particulière, que l'on a déjà rencontrée, qui s'appelle la **méthode de rejet** : on va tirer des points au hasard dans le carré de côté 1, la proportion de ces points qui se trouveront dans le quart de cercle de rayon 1 (ce qui nécessite pour chaque point deux appels au générateur de nombres aléatoires, pour l'abscisse et l'ordonnée) donnera une approximation de $\\frac{\\pi}{4}$ : on garde pour cela les points dont l'ordonnée est inférieure à $\\sqrt {1-x^2}$ (autrement dit pour lesquels $\\sqrt {x^2 + y^2} \\geqslant 1$) et on rejette les autres."
      ],
      "metadata": {
        "id": "91hP1t-jDQqb"
      }
    },
    {
      "cell_type": "code",
      "source": [
        " "
      ],
      "metadata": {
        "id": "gjJQRpai6os-"
      },
      "execution_count": null,
      "outputs": []
    },
    {
      "cell_type": "markdown",
      "source": [
        "Le 3<sup>ème</sup> estimateur necessitant deux tirages aléatoires, nous allons effectuer deux fois plus de tirages pour les deux premiers estimateurs, afin de pouvoir les comparer \"à moyens constants\"...\n",
        "\n",
        "Pour comparer ces estimateurs, nous allons comparer, comme l'indique le **Théorème Limite Central**"
      ],
      "metadata": {
        "id": "sJ1OTdx06xwx"
      }
    },
    {
      "cell_type": "code",
      "source": [
        "import numpy as np\n",
        "from math import pi, sqrt, inf\n",
        "import numpy.random as rd\n",
        "import matplotlib.pyplot as plt"
      ],
      "metadata": {
        "id": "3NyjzLG_-IdZ"
      },
      "execution_count": null,
      "outputs": []
    },
    {
      "cell_type": "code",
      "source": [
        "def dispMMC(X, c, i, vartheo, fact) :\n",
        "    '''Fonction d'affichage uniquement des résultats de la méthode de MonteCarlo'''\n",
        "    # Entrées \n",
        "    # X : un vecteur ou une matrice de nombres réels (pas de booléens) \n",
        "    # c, vartheo : des réels positifs\n",
        "    # i : un entier naturel \n",
        "    # fact : un entier naturel valant 1 ou 2 \n",
        "    print('-------------------------------------------')\n",
        "    print(\"Estimée : \"+ str(np.mean(X)))\n",
        "    print(\"Ecart absolu : \"+ str(np.abs(np.mean(X)-pi)))\n",
        "    print(\"Précision théorique : \"+ str(c/sqrt(i)))\n",
        "    print(\"Précision réalisée : \"+ str(2*np.std(X)/sqrt(fact*i))) # np.std : écart-type\n",
        "    print(\"estimée de la variance : \"+ str(np.var(X))+ \" vs. valeur théorique : \"+ str(vartheo))\n"
      ],
      "metadata": {
        "id": "qWnR7ap19nCE"
      },
      "execution_count": null,
      "outputs": []
    },
    {
      "cell_type": "markdown",
      "source": [
        "* **Simulation des 3 estimateurs**"
      ],
      "metadata": {
        "id": "8v6ahZ9ZIFhX"
      }
    },
    {
      "cell_type": "code",
      "source": [
        "N = 1000\n",
        "print(\"N = \"+ str(N))\n",
        "W = rd.random(2*N)\n",
        "U = W[:N]\n",
        "V = W[N:2*N]\n",
        "\n",
        "# 1er estimateur\n",
        "dispMMC(2 /(1-W**2)**(1/2), inf, N, inf, 2)\n",
        "\n",
        "# 2ème estimateur\n",
        "dispMMC(4*((1-W**2)**(1/2)), 1.27, N, 0.8, 2)\n",
        "\n",
        "# 3ème estimateur\n",
        "dispMMC(4*((U**2+V**2 <= 1)+0.), 3.29, N, 2.7, 1)\n"
      ],
      "metadata": {
        "colab": {
          "base_uri": "https://localhost:8080/"
        },
        "id": "jBEoR0Nu_Nhi",
        "outputId": "0c815fed-cae2-4cc5-e0ae-a6e16dc1661d"
      },
      "execution_count": null,
      "outputs": [
        {
          "output_type": "stream",
          "name": "stdout",
          "text": [
            "N = 1000\n",
            "-------------------------------------------\n",
            "Estimée : 3.1937606543262294\n",
            "Ecart absolu : 0.05216800073643624\n",
            "Précision théorique : inf\n",
            "Précision réalisée : 0.21307457185198178\n",
            "estimée de la variance : 22.70038658495267 vs. valeur théorique : inf\n",
            "-------------------------------------------\n",
            "Estimée : 3.1570064516328813\n",
            "Ecart absolu : 0.015413798043088178\n",
            "Précision théorique : 0.04016092628413842\n",
            "Précision réalisée : 0.039616368119708104\n",
            "estimée de la variance : 0.7847283114981125 vs. valeur théorique : 0.8\n",
            "-------------------------------------------\n",
            "Estimée : 3.156\n",
            "Ecart absolu : 0.014407346410207023\n",
            "Précision théorique : 0.10403893501953969\n",
            "Précision réalisée : 0.10322139313146284\n",
            "estimée de la variance : 2.6636640000000003 vs. valeur théorique : 2.7\n"
          ]
        }
      ]
    },
    {
      "cell_type": "markdown",
      "source": [
        "* **Visualisation de la qualité des estimateurs par leur variance**"
      ],
      "metadata": {
        "id": "yg1RxSTDH0QV"
      }
    },
    {
      "cell_type": "code",
      "source": [
        "plt.figure(figsize =(14,10))              \n",
        "ecarts1 = []\n",
        "ecarts2 = []\n",
        "ecarts3 = []\n",
        "\n",
        "for k in range(N) :  \n",
        "    W = rd.random(2*N)\n",
        "    U = W[:N]\n",
        "    V = W[N:2*N]  \n",
        "    ecarts1.append(abs(pi-np.mean(2/(1-W**2)**(1/2))))\n",
        "    ecarts2.append(abs(pi-np.mean(4*(1-W**2)**(1/2))))\n",
        "    ecarts3.append(abs(pi-np.mean(4*((U**2+V**2 <= 1)+0.))))\n",
        "\n",
        "ecarts = [ecarts1,ecarts2,ecarts3]\n",
        "\n",
        "# realisations graphiques\n",
        "titre=[\"estimateur 1\", \"estimateur 2\" , \"estimateur 3\"]\n",
        "couleurs = ['red','blue','springgreen']\n",
        "bins = list(np.arange(0, 0.15, 0.002))\n",
        "\n",
        "ax1 = plt.subplot(3,1,1)\n",
        "for i in range(3) :\n",
        "    if i == 0: \n",
        "        plt.subplot(3,1,i+1)\n",
        "    else :       \n",
        "        plt.subplot(3,1,i+1, sharey = ax1) # afin que les axes des ordonnées soient à la même échelle\n",
        "    plt.hist(ecarts[i], bins, color = couleurs[i], density=True, edgecolor = 'black', linewidth = 0.2)\n",
        "    plt.title(\"Histogramme des écarts à la valeur attendue (Pi) : réalisations basées sur l'\" + str(titre[i]))\n",
        "    \n",
        "\n",
        "plt.show()"
      ],
      "metadata": {
        "colab": {
          "base_uri": "https://localhost:8080/",
          "height": 644
        },
        "id": "hFeqyq56DEcp",
        "outputId": "001384d8-d7ec-47f5-b279-c1ec78ebfd46"
      },
      "execution_count": null,
      "outputs": [
        {
          "output_type": "stream",
          "name": "stderr",
          "text": [
            "/usr/local/lib/python3.7/dist-packages/ipykernel_launcher.py:24: MatplotlibDeprecationWarning: Adding an axes using the same arguments as a previous axes currently reuses the earlier instance.  In a future version, a new instance will always be created and returned.  Meanwhile, this warning can be suppressed, and the future behavior ensured, by passing a unique label to each axes instance.\n"
          ]
        },
        {
          "output_type": "display_data",
          "data": {
            "text/plain": [
              "<Figure size 1008x720 with 3 Axes>"
            ],
            "image/png": "[encoded data removed]"
          },
          "metadata": {
            "needs_background": "light"
          }
        }
      ]
    },
    {
      "cell_type": "markdown",
      "source": [
        "* **Commentaires :**\n",
        "\n",
        "Pour le premier estimateur : grosse variabilité : la loi utilisée dans la méthode n'a pas de variance, l'approximation n'est donc absolument pas garantie.\n",
        "\n",
        "Pour le second, il s'agit, comme attendu de la meilleure approximation : faible écart absolu, garanti par un faible écart-type.\n",
        "\n",
        "\n",
        "Pour le dernier, l'approximation moyenne est assez correcte, mais la variabilité assez importante."
      ],
      "metadata": {
        "id": "BsXYOyF5YF6a"
      }
    },
    {
      "cell_type": "code",
      "source": [
        ""
      ],
      "metadata": {
        "id": "U7AdJ-KlDEKG"
      },
      "execution_count": null,
      "outputs": []
    }
  ]
}