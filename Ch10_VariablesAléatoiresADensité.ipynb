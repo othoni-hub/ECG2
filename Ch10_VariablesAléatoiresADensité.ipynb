{
  "nbformat": 4,
  "nbformat_minor": 0,
  "metadata": {
    "colab": {
      "provenance": [],
      "authorship_tag": "ABX9TyPOtSRzTAuVVS/xvPH1xaU+",
      "include_colab_link": true
    },
    "kernelspec": {
      "name": "python3",
      "display_name": "Python 3"
    },
    "language_info": {
      "name": "python"
    },
    "widgets": {
      "application/vnd.jupyter.widget-state+json": {
        "8cd25f1dfef345e3a187c16773b632fc": {
          "model_module": "@jupyter-widgets/controls",
          "model_name": "VBoxModel",
          "model_module_version": "1.5.0",
          "state": {
            "_dom_classes": [
              "widget-interact"
            ],
            "_model_module": "@jupyter-widgets/controls",
            "_model_module_version": "1.5.0",
            "_model_name": "VBoxModel",
            "_view_count": null,
            "_view_module": "@jupyter-widgets/controls",
            "_view_module_version": "1.5.0",
            "_view_name": "VBoxView",
            "box_style": "",
            "children": [
              "IPY_MODEL_22580098b68a45c29e0d628954439a85",
              "IPY_MODEL_0e720dbe206647639592c15b0956ee52",
              "IPY_MODEL_19d39114d4214fbc91d9be17d93ae1f3"
            ],
            "layout": "IPY_MODEL_f6a6c3382fbb4dc884f9520b56d986bd"
          }
        },
        "22580098b68a45c29e0d628954439a85": {
          "model_module": "@jupyter-widgets/controls",
          "model_name": "FloatSliderModel",
          "model_module_version": "1.5.0",
          "state": {
            "_dom_classes": [],
            "_model_module": "@jupyter-widgets/controls",
            "_model_module_version": "1.5.0",
            "_model_name": "FloatSliderModel",
            "_view_count": null,
            "_view_module": "@jupyter-widgets/controls",
            "_view_module_version": "1.5.0",
            "_view_name": "FloatSliderView",
            "continuous_update": true,
            "description": "mu",
            "description_tooltip": null,
            "disabled": false,
            "layout": "IPY_MODEL_dfa2aa9a77cf4aa19c9491241164a5ae",
            "max": 4,
            "min": -4,
            "orientation": "horizontal",
            "readout": true,
            "readout_format": ".2f",
            "step": 0.1,
            "style": "IPY_MODEL_81ba83cf056b4e0691a597d63a0ad216",
            "value": 0
          }
        },
        "0e720dbe206647639592c15b0956ee52": {
          "model_module": "@jupyter-widgets/controls",
          "model_name": "FloatSliderModel",
          "model_module_version": "1.5.0",
          "state": {
            "_dom_classes": [],
            "_model_module": "@jupyter-widgets/controls",
            "_model_module_version": "1.5.0",
            "_model_name": "FloatSliderModel",
            "_view_count": null,
            "_view_module": "@jupyter-widgets/controls",
            "_view_module_version": "1.5.0",
            "_view_name": "FloatSliderView",
            "continuous_update": true,
            "description": "sigma2",
            "description_tooltip": null,
            "disabled": false,
            "layout": "IPY_MODEL_077797a9d61f46f0b23cc23a45977050",
            "max": 16,
            "min": 0.1,
            "orientation": "horizontal",
            "readout": true,
            "readout_format": ".2f",
            "step": 0.1,
            "style": "IPY_MODEL_cde5bd1001f34da8a7f496ca2cdceeea",
            "value": 4.2
          }
        },
        "19d39114d4214fbc91d9be17d93ae1f3": {
          "model_module": "@jupyter-widgets/output",
          "model_name": "OutputModel",
          "model_module_version": "1.0.0",
          "state": {
            "_dom_classes": [],
            "_model_module": "@jupyter-widgets/output",
            "_model_module_version": "1.0.0",
            "_model_name": "OutputModel",
            "_view_count": null,
            "_view_module": "@jupyter-widgets/output",
            "_view_module_version": "1.0.0",
            "_view_name": "OutputView",
            "layout": "IPY_MODEL_f3f723edc75a4e3c915728732ce86a4d",
            "msg_id": "",
            "outputs": [
              {
                "output_type": "display_data",
                "data": {
                  "text/plain": "<Figure size 432x288 with 1 Axes>",
                  "image/png": "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\n"
                },
                "metadata": {
                  "needs_background": "light"
                }
              }
            ]
          }
        },
        "f6a6c3382fbb4dc884f9520b56d986bd": {
          "model_module": "@jupyter-widgets/base",
          "model_name": "LayoutModel",
          "model_module_version": "1.2.0",
          "state": {
            "_model_module": "@jupyter-widgets/base",
            "_model_module_version": "1.2.0",
            "_model_name": "LayoutModel",
            "_view_count": null,
            "_view_module": "@jupyter-widgets/base",
            "_view_module_version": "1.2.0",
            "_view_name": "LayoutView",
            "align_content": null,
            "align_items": null,
            "align_self": null,
            "border": null,
            "bottom": null,
            "display": null,
            "flex": null,
            "flex_flow": null,
            "grid_area": null,
            "grid_auto_columns": null,
            "grid_auto_flow": null,
            "grid_auto_rows": null,
            "grid_column": null,
            "grid_gap": null,
            "grid_row": null,
            "grid_template_areas": null,
            "grid_template_columns": null,
            "grid_template_rows": null,
            "height": null,
            "justify_content": null,
            "justify_items": null,
            "left": null,
            "margin": null,
            "max_height": null,
            "max_width": null,
            "min_height": null,
            "min_width": null,
            "object_fit": null,
            "object_position": null,
            "order": null,
            "overflow": null,
            "overflow_x": null,
            "overflow_y": null,
            "padding": null,
            "right": null,
            "top": null,
            "visibility": null,
            "width": null
          }
        },
        "dfa2aa9a77cf4aa19c9491241164a5ae": {
          "model_module": "@jupyter-widgets/base",
          "model_name": "LayoutModel",
          "model_module_version": "1.2.0",
          "state": {
            "_model_module": "@jupyter-widgets/base",
            "_model_module_version": "1.2.0",
            "_model_name": "LayoutModel",
            "_view_count": null,
            "_view_module": "@jupyter-widgets/base",
            "_view_module_version": "1.2.0",
            "_view_name": "LayoutView",
            "align_content": null,
            "align_items": null,
            "align_self": null,
            "border": null,
            "bottom": null,
            "display": null,
            "flex": null,
            "flex_flow": null,
            "grid_area": null,
            "grid_auto_columns": null,
            "grid_auto_flow": null,
            "grid_auto_rows": null,
            "grid_column": null,
            "grid_gap": null,
            "grid_row": null,
            "grid_template_areas": null,
            "grid_template_columns": null,
            "grid_template_rows": null,
            "height": null,
            "justify_content": null,
            "justify_items": null,
            "left": null,
            "margin": null,
            "max_height": null,
            "max_width": null,
            "min_height": null,
            "min_width": null,
            "object_fit": null,
            "object_position": null,
            "order": null,
            "overflow": null,
            "overflow_x": null,
            "overflow_y": null,
            "padding": null,
            "right": null,
            "top": null,
            "visibility": null,
            "width": null
          }
        },
        "81ba83cf056b4e0691a597d63a0ad216": {
          "model_module": "@jupyter-widgets/controls",
          "model_name": "SliderStyleModel",
          "model_module_version": "1.5.0",
          "state": {
            "_model_module": "@jupyter-widgets/controls",
            "_model_module_version": "1.5.0",
            "_model_name": "SliderStyleModel",
            "_view_count": null,
            "_view_module": "@jupyter-widgets/base",
            "_view_module_version": "1.2.0",
            "_view_name": "StyleView",
            "description_width": "",
            "handle_color": null
          }
        },
        "077797a9d61f46f0b23cc23a45977050": {
          "model_module": "@jupyter-widgets/base",
          "model_name": "LayoutModel",
          "model_module_version": "1.2.0",
          "state": {
            "_model_module": "@jupyter-widgets/base",
            "_model_module_version": "1.2.0",
            "_model_name": "LayoutModel",
            "_view_count": null,
            "_view_module": "@jupyter-widgets/base",
            "_view_module_version": "1.2.0",
            "_view_name": "LayoutView",
            "align_content": null,
            "align_items": null,
            "align_self": null,
            "border": null,
            "bottom": null,
            "display": null,
            "flex": null,
            "flex_flow": null,
            "grid_area": null,
            "grid_auto_columns": null,
            "grid_auto_flow": null,
            "grid_auto_rows": null,
            "grid_column": null,
            "grid_gap": null,
            "grid_row": null,
            "grid_template_areas": null,
            "grid_template_columns": null,
            "grid_template_rows": null,
            "height": null,
            "justify_content": null,
            "justify_items": null,
            "left": null,
            "margin": null,
            "max_height": null,
            "max_width": null,
            "min_height": null,
            "min_width": null,
            "object_fit": null,
            "object_position": null,
            "order": null,
            "overflow": null,
            "overflow_x": null,
            "overflow_y": null,
            "padding": null,
            "right": null,
            "top": null,
            "visibility": null,
            "width": null
          }
        },
        "cde5bd1001f34da8a7f496ca2cdceeea": {
          "model_module": "@jupyter-widgets/controls",
          "model_name": "SliderStyleModel",
          "model_module_version": "1.5.0",
          "state": {
            "_model_module": "@jupyter-widgets/controls",
            "_model_module_version": "1.5.0",
            "_model_name": "SliderStyleModel",
            "_view_count": null,
            "_view_module": "@jupyter-widgets/base",
            "_view_module_version": "1.2.0",
            "_view_name": "StyleView",
            "description_width": "",
            "handle_color": null
          }
        },
        "f3f723edc75a4e3c915728732ce86a4d": {
          "model_module": "@jupyter-widgets/base",
          "model_name": "LayoutModel",
          "model_module_version": "1.2.0",
          "state": {
            "_model_module": "@jupyter-widgets/base",
            "_model_module_version": "1.2.0",
            "_model_name": "LayoutModel",
            "_view_count": null,
            "_view_module": "@jupyter-widgets/base",
            "_view_module_version": "1.2.0",
            "_view_name": "LayoutView",
            "align_content": null,
            "align_items": null,
            "align_self": null,
            "border": null,
            "bottom": null,
            "display": null,
            "flex": null,
            "flex_flow": null,
            "grid_area": null,
            "grid_auto_columns": null,
            "grid_auto_flow": null,
            "grid_auto_rows": null,
            "grid_column": null,
            "grid_gap": null,
            "grid_row": null,
            "grid_template_areas": null,
            "grid_template_columns": null,
            "grid_template_rows": null,
            "height": null,
            "justify_content": null,
            "justify_items": null,
            "left": null,
            "margin": null,
            "max_height": null,
            "max_width": null,
            "min_height": null,
            "min_width": null,
            "object_fit": null,
            "object_position": null,
            "order": null,
            "overflow": null,
            "overflow_x": null,
            "overflow_y": null,
            "padding": null,
            "right": null,
            "top": null,
            "visibility": null,
            "width": null
          }
        }
      }
    }
  },
  "cells": [
    {
      "cell_type": "markdown",
      "metadata": {
        "id": "view-in-github",
        "colab_type": "text"
      },
      "source": [
        "<a href=\"https://colab.research.google.com/github/othoni-hub/ECG2/blob/main/Ch10_VariablesAl%C3%A9atoiresADensit%C3%A9.ipynb\" target=\"_parent\"><img src=\"https://colab.research.google.com/assets/colab-badge.svg\" alt=\"Open In Colab\"/></a>"
      ]
    },
    {
      "cell_type": "markdown",
      "metadata": {
        "id": "9gRjJPolrmT_"
      },
      "source": [
        "# **CPGE-ECG2** \n"
      ]
    },
    {
      "cell_type": "markdown",
      "metadata": {
        "id": "Gprox7oVPE7W"
      },
      "source": [
        "\n",
        "\n",
        "## **Ch4 - Notebook : Variables Aléatoires à Densité**\n",
        "\n",
        "<img src=\"https://drive.google.com/uc?id=12Wo3LubGGT4qOvYFAuLP4CyCuwjKNVuk\" width=\"230\" height=\"150\" align = \"right\"/>\n",
        "\n",
        "\n",
        "\n",
        "\n",
        "**O.Thöni - Lycée Saint-Charles Sainte Croix - LE MANS**"
      ]
    },
    {
      "cell_type": "code",
      "metadata": {
        "id": "st8sn24fTFAP"
      },
      "source": [
        "import numpy as np\n",
        "import numpy.random as rd\n",
        "import matplotlib.pyplot as plt\n",
        "from math import log, exp, pi, sqrt\n"
      ],
      "execution_count": null,
      "outputs": []
    },
    {
      "cell_type": "code",
      "source": [
        "def centrax() :\n",
        "    '''Fonction cosmétique d'ajustement des axes graphiques'''\n",
        "    ax = plt.gca() # récupération du paramétrage des axes\n",
        "\n",
        "    ax.spines['left'].set_position('zero') # positionnement de l'axe des ordonnées à x = 0\n",
        "    ax.spines['right'].set_color('none')\n",
        "    ax.spines['bottom'].set_position('zero') # positionnement de l'axe des abscisses à y = 0\n",
        "    ax.spines['top'].set_color('none')\n",
        "\n",
        "    plt.legend()"
      ],
      "metadata": {
        "id": "-x0CX88jPLE5"
      },
      "execution_count": null,
      "outputs": []
    },
    {
      "cell_type": "markdown",
      "source": [
        "## **1. Loi uniforme continue**\n",
        "\n",
        "### **1.1 Loi uniforme sur $[0 ; 1]$**\n",
        "\n",
        "En informatique, la simulation de l'aléatoire n'est pas... le fruit du hasard !\n",
        "\n",
        "Pour preuve, si l'on lance le générateur de nombres aléatoires par la semence d'une \"graine\", les différents appels au générateur retourneront la même série de nombres, sur tout ordinateur où la graine serait initialisée de la même façon : parions une piécette (½ ₿) si vous voulez que le premier appel au générateur ci-dessous, après l'avoir initialisé à l'état 42, renverra pour tous la valeur : 0.3745401188473625\n"
      ],
      "metadata": {
        "id": "egHX2TNYM6R8"
      }
    },
    {
      "cell_type": "code",
      "source": [
        "rd.seed(42)\n",
        "rd.random()"
      ],
      "metadata": {
        "colab": {
          "base_uri": "https://localhost:8080/"
        },
        "id": "Wq1efXJAN0-9",
        "outputId": "509f78cb-24a7-4cad-a70c-2708a79597fc"
      },
      "execution_count": null,
      "outputs": [
        {
          "output_type": "execute_result",
          "data": {
            "text/plain": [
              "0.3745401188473625"
            ]
          },
          "metadata": {},
          "execution_count": 3
        }
      ]
    },
    {
      "cell_type": "markdown",
      "source": [
        "Ce qui importe, c'est que, sur un grand nombre de générations de nombres aléatoires, la répartition soit uniforme dans l'intervalle $[0 ; 1]$.\n",
        "\n",
        "Vérifions cela..."
      ],
      "metadata": {
        "id": "Xi4EsAOzPGVp"
      }
    },
    {
      "cell_type": "code",
      "source": [
        "def echantillon_uniforme(N):\n",
        "    return rd.random(N)\n",
        "\n",
        "\n",
        "echantillon_uniforme(10)"
      ],
      "metadata": {
        "colab": {
          "base_uri": "https://localhost:8080/"
        },
        "id": "8zk0W2AAPF20",
        "outputId": "cbc955e0-f9b5-4bad-de80-ec30741ac337"
      },
      "execution_count": null,
      "outputs": [
        {
          "output_type": "execute_result",
          "data": {
            "text/plain": [
              "array([0.95071431, 0.73199394, 0.59865848, 0.15601864, 0.15599452,\n",
              "       0.05808361, 0.86617615, 0.60111501, 0.70807258, 0.02058449])"
            ]
          },
          "metadata": {},
          "execution_count": 4
        }
      ]
    },
    {
      "cell_type": "code",
      "source": [
        "def histogramme(echantillon) :\n",
        "    # Histogramme\n",
        "    plt.hist(echantillon, 20, color = 'red', alpha = 0.5, label = 'histogramme', density ='True', edgecolor = 'black', linewidth = 0.2)\n",
        "\n",
        "    plt.xlabel('Valeur aléatoire')\n",
        "    plt.ylabel(\"Densité d'apparition\")\n",
        "    plt.title('Histogramme')\n",
        "\n",
        "N = 1000000\n",
        "echantillon = echantillon_uniforme(N)\n",
        "histogramme(echantillon)"
      ],
      "metadata": {
        "colab": {
          "base_uri": "https://localhost:8080/",
          "height": 295
        },
        "id": "kahLOKpKQL19",
        "outputId": "07b75f2f-677c-482d-bd82-e3e78c8c4d7b"
      },
      "execution_count": null,
      "outputs": [
        {
          "output_type": "display_data",
          "data": {
            "text/plain": [
              "<Figure size 432x288 with 1 Axes>"
            ],
            "image/png": "[encoded data removed]"
          },
          "metadata": {
            "needs_background": "light"
          }
        }
      ]
    },
    {
      "cell_type": "markdown",
      "source": [
        "### **1.2 Loi uniforme sur $[a ; b]$**\n",
        "\n",
        "La loi uniforme continue sur un intervalle $[a ; b]$ s'obtient par simple transfert affine de la loi uniforme continue sur [ 0; 1] :\n",
        "\n",
        "$\\mathbf{U \\hookrightarrow \\textit{U}_{[0 ; 1]} \\Leftrightarrow Y = a + (b-a)U \\hookrightarrow \\mathit{U}_{[a ; b]}}$"
      ],
      "metadata": {
        "id": "vFuvAsokjOcJ"
      }
    },
    {
      "cell_type": "code",
      "source": [
        "def echantillon_uniforme(N, a=0, b=1):\n",
        "    '''Génère un vecteur aléatoire de N valeurs entre a (par défaut 0) et b (par défaut 1)'''\n",
        "    return a + (b-a)*rd.random(N)\n",
        "\n",
        "\n",
        "echantillon_uniforme(10, -2 , 5)"
      ],
      "metadata": {
        "colab": {
          "base_uri": "https://localhost:8080/"
        },
        "id": "NG6cEqX_lIBV",
        "outputId": "c0d1d76c-4ce4-45d0-b3d1-93435ba9b616"
      },
      "execution_count": null,
      "outputs": [
        {
          "output_type": "execute_result",
          "data": {
            "text/plain": [
              "array([ 0.43187232,  3.60120646, -1.47272117,  1.62530326,  4.17019367,\n",
              "        3.90520493,  0.5987745 , -0.3980584 ,  4.07505433, -0.13169445])"
            ]
          },
          "metadata": {},
          "execution_count": 6
        }
      ]
    },
    {
      "cell_type": "code",
      "source": [
        "N = 1000\n",
        "a = -2\n",
        "b = 5\n",
        "\n",
        "# échantillon\n",
        "print('Échantillon de',N, 'tirages selon la loi U(['+str(a)+' ; '+str(b)+'])')\n",
        "echantillon = echantillon_uniforme(N, a , b)\n",
        "\n",
        "S = sum(echantillon)\n",
        "\n",
        "#print(echantillon)\n",
        "print(\"Moyenne de l'échantillon :\",S/N)\n",
        "print('Espérance théorique :',(a+b)/2)\n",
        "\n",
        "print(\"Variance de l'échantillon :\",np.var(echantillon))\n",
        "print('Variance théorique :',(b-a)**2/12)"
      ],
      "metadata": {
        "colab": {
          "base_uri": "https://localhost:8080/"
        },
        "id": "FoSBW0iNl_eS",
        "outputId": "7842b892-a128-4e30-c265-ef4180a83213"
      },
      "execution_count": null,
      "outputs": [
        {
          "output_type": "stream",
          "name": "stdout",
          "text": [
            "Échantillon de 1000 tirages selon la loi U([-2 ; 5])\n",
            "Moyenne de l'échantillon : 1.5936929332777927\n",
            "Espérance théorique : 1.5\n",
            "Variance de l'échantillon : 4.139402007318107\n",
            "Variance théorique : 4.083333333333333\n"
          ]
        }
      ]
    },
    {
      "cell_type": "code",
      "source": [
        "N = 100000\n",
        "echantillon = echantillon_uniforme(N, a , b)\n",
        "histogramme(echantillon)"
      ],
      "metadata": {
        "colab": {
          "base_uri": "https://localhost:8080/",
          "height": 295
        },
        "id": "k_-_y0jQoGJK",
        "outputId": "2a3c221a-6679-4152-96ca-d8a2d21a1135"
      },
      "execution_count": null,
      "outputs": [
        {
          "output_type": "display_data",
          "data": {
            "text/plain": [
              "<Figure size 432x288 with 1 Axes>"
            ],
            "image/png": "[encoded data removed]"
          },
          "metadata": {
            "needs_background": "light"
          }
        }
      ]
    },
    {
      "cell_type": "code",
      "source": [],
      "metadata": {
        "id": "r4FZbLgQoYWd"
      },
      "execution_count": null,
      "outputs": []
    },
    {
      "cell_type": "markdown",
      "source": [
        "* **Densité, fonction de répartition, inverse de la fonction de répartition**"
      ],
      "metadata": {
        "id": "4w9yyqD9oYqX"
      }
    },
    {
      "cell_type": "code",
      "metadata": {
        "id": "2rSufxMfoYqY"
      },
      "source": [
        "# densité\n",
        "def densite(xx):\n",
        "    y = [1/(b-a)*(a <= x < b) for x in xx] # valeurs de la densité\n",
        "    return y\n",
        "\n",
        "# Fonction de répartition\n",
        "def fonction_repartition(xx):\n",
        "    r = [(x-a)/(b-a)*( a <= x < b) + 1*(x >= b) for x in xx] # valeurs de la fonction de répartition\n",
        "    return r\n"
      ],
      "execution_count": null,
      "outputs": []
    },
    {
      "cell_type": "code",
      "source": [
        "def densite_fonction2repartition() :\n",
        "    # représentation graphique de la densité et de la fonction de répartition\n",
        "    xx = np.arange(a-2, b+2, 0.01)\n",
        "    y = densite(xx)\n",
        "    r = fonction_repartition(xx)\n",
        "\n",
        "    plt.plot(xx,y, 'b', linewidth = 1, label = 'densite') # Pour N grand, l'histogramme colle de mieux en mieux à la densité\n",
        "    #plt.plot(xx,r, 'g', linewidth = 1, label = 'fonction de répartition')\n",
        "    centrax()\n",
        "\n",
        "histogramme(echantillon)\n",
        "densite_fonction2repartition()\n",
        "plt.show()"
      ],
      "metadata": {
        "colab": {
          "base_uri": "https://localhost:8080/",
          "height": 295
        },
        "id": "KERM8rXoo5lC",
        "outputId": "3098d23f-ab33-447b-a547-de0dd084bcfc"
      },
      "execution_count": null,
      "outputs": [
        {
          "output_type": "display_data",
          "data": {
            "text/plain": [
              "<Figure size 432x288 with 1 Axes>"
            ],
            "image/png": "[encoded data removed]"
          },
          "metadata": {
            "needs_background": "light"
          }
        }
      ]
    },
    {
      "cell_type": "markdown",
      "metadata": {
        "id": "TliyUNteTFBt"
      },
      "source": [
        "## **2. Loi exponentielle**\n",
        "\n",
        "Si $U$ suit une loi uniforme sur $[0;1]$ alors $X = \\frac{-1}{\\lambda} \\ln (1 - U)$ suit une loi exponentielle de paramètre $\\lambda$. (**cf démonstration en cours, à connaître !!!**)\n",
        "\n",
        "Ceci permet d'effectuer des tirages aléatoires d'une variable aléatoire $X$ suivant une loi $E(\\lambda$)."
      ]
    },
    {
      "cell_type": "code",
      "metadata": {
        "id": "QcK6s9rpTFBu"
      },
      "source": [
        "def exponentielle(lmbda):\n",
        "    return (-1/lmbda)*log(1-rd.random())\n",
        "\n",
        "def echantillon_exponentielle(N,lmbda):\n",
        "    echt = []\n",
        "    for k in range(N):\n",
        "        ex = exponentielle(lmbda)\n",
        "        echt = echt + [ex]\n",
        "    return echt"
      ],
      "execution_count": null,
      "outputs": []
    },
    {
      "cell_type": "code",
      "metadata": {
        "id": "rwDjHYD9TFBx",
        "colab": {
          "base_uri": "https://localhost:8080/"
        },
        "outputId": "08644605-1f0a-42bc-a7fe-5c3e5c79d327"
      },
      "source": [
        "N = 1000\n",
        "lmbda = 2\n",
        "\n",
        "# échantillon\n",
        "print('Échantillon de',N, 'tirages selon la loi E(',lmbda,')')\n",
        "echantillon = [0]*N\n",
        "\n",
        "echantillon[:] = echantillon_exponentielle(N,lmbda)\n",
        "S = sum(echantillon)\n",
        "\n",
        "#print(echantillon)\n",
        "print(\"Moyenne de l'échantillon :\",S/N)\n",
        "print('Espérance théorique :',1/lmbda)\n",
        "\n",
        "print(\"Variance de l'échantillon :\",np.var(echantillon))\n",
        "print('Variance théorique :',1/lmbda**2)"
      ],
      "execution_count": null,
      "outputs": [
        {
          "output_type": "stream",
          "name": "stdout",
          "text": [
            "Échantillon de 1000 tirages selon la loi E( 2 )\n",
            "Moyenne de l'échantillon : 0.4963717210036228\n",
            "Espérance théorique : 0.5\n",
            "Variance de l'échantillon : 0.215956461790277\n",
            "Variance théorique : 0.25\n"
          ]
        }
      ]
    },
    {
      "cell_type": "markdown",
      "source": [
        "* **Densité, fonction de répartition, inverse de la fonction de répartition**"
      ],
      "metadata": {
        "id": "yjsPoEaA6gIr"
      }
    },
    {
      "cell_type": "code",
      "metadata": {
        "id": "2ivollubTFB2"
      },
      "source": [
        "# densité\n",
        "def densite(xx):\n",
        "    y = [lmbda * exp(-lmbda*x) for x in xx] # valeurs de la densité\n",
        "    return y\n",
        "\n",
        "# Fonction de répartition\n",
        "def fonction_repartition(xx):\n",
        "    r = [1 - exp(-lmbda*x) for x in xx] # valeurs de la fonction de répartition\n",
        "    return r\n",
        "\n",
        "# Réciproque de la fonction de répartition\n",
        "def inverse_repartition(y):\n",
        "    x = -1/lmbda*log(1-y)\n",
        "    return x\n",
        "\n"
      ],
      "execution_count": null,
      "outputs": []
    },
    {
      "cell_type": "markdown",
      "metadata": {
        "id": "ZqOsLlIATFB1"
      },
      "source": [
        "* **Représentation graphique : Histogramme**\n",
        "\n",
        "Pour les variables à densité, le traitement graphique (histogramme) est plus aisé que pour les variables discrètes, puisque Python dispose de la fonction *hist* qui se charge de répartir les données en classes et des les représenter graphiquement."
      ]
    },
    {
      "cell_type": "code",
      "source": [
        "def histogramme(echantillon) :\n",
        "    # Histogramme\n",
        "    plt.hist(echantillon, 20, color = 'red', alpha = 0.5, label = 'histogramme', density ='True', edgecolor = 'black', linewidth = 0.2)\n",
        "\n",
        "    plt.xlabel('Valeur aléatoire')\n",
        "    plt.ylabel(\"Densité d'apparition\")\n",
        "    plt.title('Histogramme')\n",
        "\n",
        "    centrax()\n",
        "\n",
        "def densite_fonction2repartition() :\n",
        "    # représentation graphique de la densité et de la fonction de répartition\n",
        "    xx = [k*0.01 for k in range(int(6/lmbda)*100+1)]\n",
        "    y = densite(xx)\n",
        "    r = fonction_repartition(xx)\n",
        "\n",
        "    plt.plot(xx,y, 'b', linewidth = 1, label = 'densite') # Pour N grand, l'histogramme colle de mieux en mieux à la densité\n",
        "    plt.plot(xx,r, 'g', linewidth = 1, label = 'fonction de répartition')\n",
        "    centrax()\n",
        "\n",
        "histogramme(echantillon)\n",
        "densite_fonction2repartition()\n",
        "plt.show()"
      ],
      "metadata": {
        "colab": {
          "base_uri": "https://localhost:8080/",
          "height": 295
        },
        "id": "tCBXLZvl7NV4",
        "outputId": "aff43ff8-c610-4652-c064-94e94d24d1d8"
      },
      "execution_count": null,
      "outputs": [
        {
          "output_type": "display_data",
          "data": {
            "text/plain": [
              "<Figure size 432x288 with 1 Axes>"
            ],
            "image/png": "[encoded data removed]"
          },
          "metadata": {
            "needs_background": "light"
          }
        }
      ]
    },
    {
      "cell_type": "markdown",
      "source": [
        "* **Simulation par inversion de la fonction de répartition**\n",
        "\n",
        "Une bille lancée au hasard, horizontalement entre 0 et 1 vient frapper la courbe de la fonction de répartiton et tombe verticalement. \n",
        "\n",
        "L'histogramme obtenu après un grand nombre de lancers redessine la densité, d'où son nom..."
      ],
      "metadata": {
        "id": "GuCKQOZV9COx"
      }
    },
    {
      "cell_type": "code",
      "source": [
        "def graphique_inversion():\n",
        "    # illustration de l'inversion de la fonction de répartition\n",
        "    # Une bille lancée au hasard, horizontalement entre 0 et 1 vient frapper la courbe de la fonction de répartiton\n",
        "    # et tombe verticalement. L'histogramme obtenu après un grand nombre de lancers redessine la densité, d'où son nom...\n",
        "    U = []\n",
        "    for k in range(50):\n",
        "        U = rd.random()\n",
        "        x = inverse_repartition(U)\n",
        "        plt.plot([0,x],[U,U],'k', linewidth = 0.2 , label = '', color = 'green')\n",
        "        plt.plot([x,x],[U,0],'k', linewidth = 0.2 , label = '', color = 'green')\n",
        "\n",
        "    #plt.legend()\n",
        "    centrax()\n",
        "    \n",
        "histogramme(echantillon)\n",
        "densite_fonction2repartition()\n",
        "graphique_inversion()\n",
        "plt.show()"
      ],
      "metadata": {
        "colab": {
          "base_uri": "https://localhost:8080/",
          "height": 295
        },
        "id": "1b4Iiywl7ZVN",
        "outputId": "d83eb290-7f4d-481e-f4aa-150bd68a4828"
      },
      "execution_count": null,
      "outputs": [
        {
          "output_type": "display_data",
          "data": {
            "text/plain": [
              "<Figure size 432x288 with 1 Axes>"
            ],
            "image/png": "[encoded data removed]"
          },
          "metadata": {
            "needs_background": "light"
          }
        }
      ]
    },
    {
      "cell_type": "markdown",
      "source": [
        "## **3. Loi normale**\n",
        "\n",
        "Ce paragraphe utilise le module de statistiques de la bibliothèque de calcul scientifique *SciPy*.\n",
        "\n",
        "Rien n'est ici exigible, mais c'est pourtant ô combien utile !"
      ],
      "metadata": {
        "id": "BtOGiqoa9uYx"
      }
    },
    {
      "cell_type": "code",
      "source": [
        "import scipy.stats as stats"
      ],
      "metadata": {
        "id": "2zyZMKgiARvX"
      },
      "execution_count": null,
      "outputs": []
    },
    {
      "cell_type": "markdown",
      "source": [
        "### **3.1. Loi normale centrée réduite**\n",
        "\n"
      ],
      "metadata": {
        "id": "cBc1AyxEAf9j"
      }
    },
    {
      "cell_type": "markdown",
      "source": [
        "* **Calcul pour un $x$ donné, de $\\Phi (x) = P \\left( \\left[ X \\leqslant x \\right] \\right )$**\n",
        "\n",
        "***cdf*** comme *Cumulative Distribution Fonction* --> **Fonction de répartition**\n",
        "\n",
        "        stats.norm.cdf(x , loc = 0, scale = 1)\n",
        "        # \"loc\" désigne l'espérance, \"scale : l'écart-type\n",
        "\n"
      ],
      "metadata": {
        "id": "_-hCNjZW_CKZ"
      }
    },
    {
      "cell_type": "markdown",
      "source": [
        "<img src=\"https://encrypted-tbn0.gstatic.com/images?q=tbn:ANd9GcSOMmG4V8AR6EB-e8XA7h4hmjUi8SH4_dEEylCbz6ACKLu3G3rI3p5cgvrWs80c1KP8mNc&usqp=CAU\" width=\"330\" height=\"150\" align = \"center\"/>\n",
        "\n",
        "\n"
      ],
      "metadata": {
        "id": "8SkP5JdwB5Im"
      }
    },
    {
      "cell_type": "code",
      "source": [
        "x = 1.6\n",
        "phi_x = stats.norm.cdf(x , loc = 0, scale = 1)\n",
        "# \"loc\" désigne l'espérance, \"scale : l'écart-type\n",
        "\n",
        "print(\"Pour x = \", x, \", phi(\",x,\") = \", phi_x)"
      ],
      "metadata": {
        "id": "bFvSmxgt8xbF",
        "colab": {
          "base_uri": "https://localhost:8080/"
        },
        "outputId": "10a6677c-563d-4c06-c495-5d6214b20413"
      },
      "execution_count": null,
      "outputs": [
        {
          "output_type": "stream",
          "name": "stdout",
          "text": [
            "Pour x =  1.6 , phi( 1.6 ) =  0.945200708300442\n"
          ]
        }
      ]
    },
    {
      "cell_type": "markdown",
      "source": [
        "\n",
        "<img src=\"https://drive.google.com/uc?id=1P-S2qhy81Q_P-yLRYiT4tWw9pAd0HFPJ\" width=\"400\" height=\"340\" align = \"center\"/>\n"
      ],
      "metadata": {
        "id": "cC2hP8b6E4SF"
      }
    },
    {
      "cell_type": "markdown",
      "source": [
        "Page GeoGebra pour jouer avec : https://www.geogebra.org/m/dquhtw9k"
      ],
      "metadata": {
        "id": "WsrJc1djKgfB"
      }
    },
    {
      "cell_type": "markdown",
      "source": [
        "* **Calcul pour un $u$ donné du quantile $x$ tel que $\\Phi(x) = u$**\n",
        "\n",
        "***ppf*** comme *Percent Point Fonction* --> **percentiles** : valeur x pour laquelle $u \\times 100$% de la population donne une valeur de la variable aléatoire inférieure à x (réciproque de *cdf*)\n",
        "\n",
        "        stats.norm.ppf( u , loc =0, scale = 1)\n",
        "        # \"loc\" désigne l'espérance, \"scale : l'écart-type"
      ],
      "metadata": {
        "id": "5Qh7ahJIFz-Z"
      }
    },
    {
      "cell_type": "code",
      "source": [
        "u = 0.95\n",
        "quantile_u = stats.norm .ppf(u , loc = 0, scale = 1)\n",
        "# \"loc\" désigne l'espérance, \"scale : l'écart-type\n",
        "\n",
        "print(\"Pour u = \", u, \", quantile(\",u,\") = \", quantile_u, \" : \", u*100,\"% de la population prennent une valeur inférieure à \", quantile_u)"
      ],
      "metadata": {
        "colab": {
          "base_uri": "https://localhost:8080/"
        },
        "id": "3taLK15KBgFK",
        "outputId": "4db4e78f-629d-4cec-c105-938a7db27d5e"
      },
      "execution_count": null,
      "outputs": [
        {
          "output_type": "stream",
          "name": "stdout",
          "text": [
            "Pour u =  0.95 , quantile( 0.95 ) =  1.6448536269514722  :  95.0 % de la population prennent une valeur inférieure à  1.6448536269514722\n"
          ]
        }
      ]
    },
    {
      "cell_type": "code",
      "source": [
        "stats.norm.ppf( 0.25 , loc = 0, scale = 1)"
      ],
      "metadata": {
        "colab": {
          "base_uri": "https://localhost:8080/"
        },
        "id": "amusHF_xOc5_",
        "outputId": "66c586a1-8f6b-4f58-f0d0-60a3dce5fdab"
      },
      "execution_count": null,
      "outputs": [
        {
          "output_type": "execute_result",
          "data": {
            "text/plain": [
              "-0.6744897501960817"
            ]
          },
          "metadata": {},
          "execution_count": 19
        }
      ]
    },
    {
      "cell_type": "markdown",
      "source": [
        "* **Densité, fonction de répartition, inverse de la fonction de répartition**"
      ],
      "metadata": {
        "id": "2GCCiFp6LNo9"
      }
    },
    {
      "cell_type": "code",
      "metadata": {
        "id": "TfcaBr10LNo-"
      },
      "source": [
        "# densité\n",
        "def densite(xx, mu = 0, sigma2 = 1):\n",
        "    sigma = sqrt(sigma2)\n",
        "    y = [1/sqrt(sigma2 * 2 * pi) * exp(-1/2 * ((x-mu)/sigma)**2) for x in xx] # valeurs de la densité\n",
        "    return y\n",
        "\n",
        "# Fonction de répartition\n",
        "def fonction_repartition(xx, mu = 0, sigma2 = 1):\n",
        "    sigma = sqrt(sigma2)\n",
        "    r = [stats.norm.cdf(x , loc = mu,  scale = sigma) for x in xx] # valeurs de la fonction de répartition\n",
        "    return r\n",
        "\n",
        "# Réciproque de la fonction de répartition\n",
        "def inverse_repartition(y, mu = 0, sigma2 = 1):\n",
        "    sigma = sqrt(sigma2)\n",
        "    x = stats.norm.ppf( y , loc = mu, scale = sigma)\n",
        "    return x\n",
        "\n"
      ],
      "execution_count": null,
      "outputs": []
    },
    {
      "cell_type": "code",
      "source": [
        "def densite_fonction2repartition(mu, sigma2) :\n",
        "    # représentation graphique de la densité et de la fonction de répartition\n",
        "    sigma = sqrt(sigma2)\n",
        "    xx = np.arange(mu - 3*sigma, mu + 3*sigma, 0.01)\n",
        "    y = densite(xx, mu, sigma2)\n",
        "    r = fonction_repartition(xx, mu, sigma2)\n",
        "\n",
        "    plt.plot(xx,y, 'b', linewidth = 1, label = 'densite') # Pour N grand, l'histogramme colle de mieux en mieux à la densité\n",
        "    plt.plot(xx,r, 'g', linewidth = 1, label = 'fonction de répartition')\n",
        "    centrax()\n",
        "\n",
        "mu = 0\n",
        "sigma2 = 1\n",
        "densite_fonction2repartition(mu, sigma2)\n",
        "plt.title(\"Loi normale N(\" +str(mu)+ \" ; \"+ str(sigma2)+ \")\")\n",
        "plt.show()"
      ],
      "metadata": {
        "colab": {
          "base_uri": "https://localhost:8080/",
          "height": 272
        },
        "id": "8b1OLf1LMKOY",
        "outputId": "87ca5222-6726-44bd-ca52-32b9261c4ca6"
      },
      "execution_count": null,
      "outputs": [
        {
          "output_type": "display_data",
          "data": {
            "text/plain": [
              "<Figure size 432x288 with 1 Axes>"
            ],
            "image/png": "[encoded data removed]"
          },
          "metadata": {
            "needs_background": "light"
          }
        }
      ]
    },
    {
      "cell_type": "markdown",
      "source": [
        "* **Graphique intéractif**"
      ],
      "metadata": {
        "id": "1xXdcWBBfNJT"
      }
    },
    {
      "cell_type": "code",
      "source": [
        "from ipywidgets import interact\n",
        "from IPython.display import display\n",
        "\n",
        "import matplotlib.pyplot as plt\n",
        "import numpy as np\n",
        "%matplotlib inline"
      ],
      "metadata": {
        "id": "5c-nwCzzeWpw"
      },
      "execution_count": null,
      "outputs": []
    },
    {
      "cell_type": "markdown",
      "source": [
        "Intéragir sur les curseurs "
      ],
      "metadata": {
        "id": "3vzL_0x2p9Pj"
      }
    },
    {
      "cell_type": "code",
      "source": [
        "\n",
        "def graph_interactif( mu=0,sigma2=1):\n",
        "    densite_fonction2repartition(mu, sigma2)\n",
        "    plt.title(\"Loi normale N(\" +str(mu)+ \" ; \"+ str(sigma2)+ \")\")\n",
        "\n",
        "interact(graph_interactif, mu = (-4, 4, 0.1), sigma2 = (0.1, 16,0.1))\n",
        "plt.show()"
      ],
      "metadata": {
        "colab": {
          "base_uri": "https://localhost:8080/",
          "height": 336,
          "referenced_widgets": [
            "8cd25f1dfef345e3a187c16773b632fc",
            "22580098b68a45c29e0d628954439a85",
            "0e720dbe206647639592c15b0956ee52",
            "19d39114d4214fbc91d9be17d93ae1f3",
            "f6a6c3382fbb4dc884f9520b56d986bd",
            "dfa2aa9a77cf4aa19c9491241164a5ae",
            "81ba83cf056b4e0691a597d63a0ad216",
            "077797a9d61f46f0b23cc23a45977050",
            "cde5bd1001f34da8a7f496ca2cdceeea",
            "f3f723edc75a4e3c915728732ce86a4d"
          ]
        },
        "id": "53od6g6ZebxV",
        "outputId": "e1fa1034-2147-4cdd-f3ca-68d6b9f24071"
      },
      "execution_count": null,
      "outputs": [
        {
          "output_type": "display_data",
          "data": {
            "text/plain": [
              "interactive(children=(FloatSlider(value=0.0, description='mu', max=4.0, min=-4.0), FloatSlider(value=1.0, desc…"
            ],
            "application/vnd.jupyter.widget-view+json": {
              "version_major": 2,
              "version_minor": 0,
              "model_id": "8cd25f1dfef345e3a187c16773b632fc"
            }
          },
          "metadata": {}
        }
      ]
    },
    {
      "cell_type": "markdown",
      "source": [
        "* **Simulation par la fonction *normal( )* du module *NumPy.random***\n",
        "\n"
      ],
      "metadata": {
        "id": "cB8YGkDTSqSH"
      }
    },
    {
      "cell_type": "code",
      "source": [
        "mu = 0\n",
        "sigma2 = 1\n",
        "\n",
        "sigma = sqrt(sigma2)\n",
        "\n",
        "N = 10000 # taille de l'échantillon de simulation\n",
        "echantillon = rd.normal(mu, sigma, N)  # simulation de N valeurs aléatoires selon la loi normale N(mu, sigma2)\n",
        "histogramme(echantillon)\n",
        "\n",
        "densite_fonction2repartition(mu, sigma2)\n",
        "\n",
        "plt.show()"
      ],
      "metadata": {
        "colab": {
          "base_uri": "https://localhost:8080/",
          "height": 295
        },
        "id": "5YAukv03S77Q",
        "outputId": "dc37068d-ca92-421e-f00e-cff8c46dcd6c"
      },
      "execution_count": null,
      "outputs": [
        {
          "output_type": "display_data",
          "data": {
            "text/plain": [
              "<Figure size 432x288 with 1 Axes>"
            ],
            "image/png": "[encoded data removed]"
          },
          "metadata": {
            "needs_background": "light"
          }
        }
      ]
    },
    {
      "cell_type": "markdown",
      "source": [
        "* **Simulation par inversion de la fonction de répartition**\n",
        "\n",
        "Une bille lancée au hasard, horizontalement entre 0 et 1 vient frapper la courbe de la fonction de répartiton et tombe verticalement. \n",
        "\n",
        "L'histogramme obtenu après un grand nombre de lancers redessine la densité, d'où son nom..."
      ],
      "metadata": {
        "id": "C3Ypl9sZORV5"
      }
    },
    {
      "cell_type": "code",
      "source": [
        "def graphique_inversion(mu, sigma2):\n",
        "    # illustration de l'inversion de la fonction de répartition\n",
        "    # Une bille lancée au hasard, horizontalement entre 0 et 1 vient frapper la courbe de la fonction de répartiton\n",
        "    # et tombe verticalement. L'histogramme obtenu après un grand nombre de lancers redessine la densité, d'où son nom...\n",
        "    U = []\n",
        "    for k in range(50):\n",
        "        U = rd.random()\n",
        "        x = inverse_repartition(U, mu, sigma2)\n",
        "        plt.plot([0,x],[U,U],'k', linewidth = 0.2 , label = '', color = 'black')\n",
        "        plt.plot([x,x],[U,0],'k', linewidth = 0.2 , label = '', color = 'black')\n",
        "\n",
        "    #plt.legend()\n",
        "    centrax()\n",
        "\n",
        "mu = 0\n",
        "sigma2 = 1\n",
        "\n",
        "sigma = sqrt(sigma2)\n",
        "\n",
        "N = 5000 # taille de l'échantillon de simulation\n",
        "echantillon = rd.normal(mu, sigma, N)  # simulation de N valeurs aléatoires selon la loi normale N(mu, sigma2)\n",
        "\n",
        "plt.figure(figsize = (12,8))\n",
        "\n",
        "histogramme(echantillon)\n",
        "\n",
        "densite_fonction2repartition(mu, sigma2)\n",
        "graphique_inversion(mu, sigma2)\n",
        "plt.show()"
      ],
      "metadata": {
        "colab": {
          "base_uri": "https://localhost:8080/",
          "height": 513
        },
        "outputId": "43b01ce9-6636-4aa8-9c10-91b5fdd20b19",
        "id": "_qt_iFiiORV9"
      },
      "execution_count": null,
      "outputs": [
        {
          "output_type": "display_data",
          "data": {
            "text/plain": [
              "<Figure size 864x576 with 1 Axes>"
            ],
            "image/png": "[encoded data removed]"
          },
          "metadata": {
            "needs_background": "light"
          }
        }
      ]
    },
    {
      "cell_type": "markdown",
      "source": [
        "## **TP à réaliser maintenant**\n",
        "Soit $a$ un réel positif.\n",
        "On considère une variable aléatoire X, dont la densité f est donnée par : \n",
        "\n",
        "$$f(t) = \\left\\{\\begin{matrix} 0 \\: , si \\: t<0 \\\\ \\frac{3t^2}{a^3}, si \\: 0\\leqslant t \\leqslant a \\\\ 0\\: , \\: si \\: t > a \\end{matrix}\\right.$$\n",
        "\n",
        "1. Calculer la fonction de répartition $F_X$ de $X$.\n",
        "2. Calculer, si possible, espérance et variance de X.\n",
        "3. Tracer sur un même graphique $f$ et $F_X$.\n",
        "4. Démontrer que $F_X$ est bijective de $[0,a]$ vers $[0,1]$ et calculer $F_X^{-1}$.\n",
        "5. Réaliser une simulation Python de $N$ tirages aléatoires selon la variable X, en utilisant le procédé d'inversion de la fonction de répartition.\n",
        "6. Réaliser l'histogramme de la simulation, l'intervalle $[0,a]$ partagé en $d$ subdivisions. \n",
        "7. Qu'observe-t-on ? Que se passe-t-il si on augmente la taille N de l'échantillon ?\n",
        "8. Calculer la moyenne de l'échantillon et comparer avec l'espérance théorique.\n",
        "9. Calculer la variance (stastistique) de l'échantillon et comparer avec la variance théorique. \n",
        "\n",
        "\n",
        "\n",
        "\n"
      ],
      "metadata": {
        "id": "A3f1WnE5un_E"
      }
    },
    {
      "cell_type": "code",
      "source": [],
      "metadata": {
        "id": "lBhCOeyaSF3j"
      },
      "execution_count": null,
      "outputs": []
    }
  ]
}